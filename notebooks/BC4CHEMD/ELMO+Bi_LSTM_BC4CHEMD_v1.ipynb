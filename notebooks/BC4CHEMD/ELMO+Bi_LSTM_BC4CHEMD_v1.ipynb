{
  "nbformat": 4,
  "nbformat_minor": 0,
  "metadata": {
    "colab": {
      "name": "ELMO+Bi-LSTM BC4CHEMD.ipynb",
      "provenance": [],
      "collapsed_sections": [],
      "toc_visible": true
    },
    "kernelspec": {
      "display_name": "Python 3",
      "name": "python3"
    },
    "accelerator": "GPU"
  },
  "cells": [
    {
      "cell_type": "code",
      "metadata": {
        "id": "9y5ZEboAmBt0",
        "colab": {
          "base_uri": "https://localhost:8080/"
        },
        "outputId": "4ee463e2-f7b9-40ea-f086-082be3101142"
      },
      "source": [
        "from google.colab import drive\n",
        "drive.mount(\"/content/drive\")"
      ],
      "execution_count": null,
      "outputs": [
        {
          "output_type": "stream",
          "text": [
            "Mounted at /content/drive\n"
          ],
          "name": "stdout"
        }
      ]
    },
    {
      "cell_type": "code",
      "metadata": {
        "id": "mJcWWSTLEvYT",
        "colab": {
          "base_uri": "https://localhost:8080/"
        },
        "outputId": "d19aa6ba-ee26-4ad0-aa1e-d14a5772acec"
      },
      "source": [
        "# The token can be used to access the repository\n",
        "!git clone https://github.com/cariello1/BIO-NER-.git"
      ],
      "execution_count": null,
      "outputs": [
        {
          "output_type": "stream",
          "text": [
            "Cloning into 'BIO-NER-'...\n",
            "remote: Enumerating objects: 60, done.\u001b[K\n",
            "remote: Counting objects: 100% (60/60), done.\u001b[K\n",
            "remote: Compressing objects: 100% (60/60), done.\u001b[K\n",
            "remote: Total 425 (delta 34), reused 0 (delta 0), pack-reused 365\u001b[K\n",
            "Receiving objects: 100% (425/425), 12.01 MiB | 25.19 MiB/s, done.\n",
            "Resolving deltas: 100% (220/220), done.\n"
          ],
          "name": "stdout"
        }
      ]
    },
    {
      "cell_type": "code",
      "metadata": {
        "id": "MgedjMfmavYn",
        "colab": {
          "base_uri": "https://localhost:8080/"
        },
        "outputId": "4de70a02-db54-4d38-ee21-001c73ca8f79"
      },
      "source": [
        "!pip install git+https://www.github.com/keras-team/keras-contrib.git"
      ],
      "execution_count": null,
      "outputs": [
        {
          "output_type": "stream",
          "text": [
            "Collecting git+https://www.github.com/keras-team/keras-contrib.git\n",
            "  Cloning https://www.github.com/keras-team/keras-contrib.git to /tmp/pip-req-build-l87z8ava\n",
            "  Running command git clone -q https://www.github.com/keras-team/keras-contrib.git /tmp/pip-req-build-l87z8ava\n",
            "Requirement already satisfied: keras in /usr/local/lib/python3.7/dist-packages (from keras-contrib==2.0.8) (2.4.3)\n",
            "Requirement already satisfied: scipy>=0.14 in /usr/local/lib/python3.7/dist-packages (from keras->keras-contrib==2.0.8) (1.4.1)\n",
            "Requirement already satisfied: numpy>=1.9.1 in /usr/local/lib/python3.7/dist-packages (from keras->keras-contrib==2.0.8) (1.19.5)\n",
            "Requirement already satisfied: h5py in /usr/local/lib/python3.7/dist-packages (from keras->keras-contrib==2.0.8) (2.10.0)\n",
            "Requirement already satisfied: pyyaml in /usr/local/lib/python3.7/dist-packages (from keras->keras-contrib==2.0.8) (3.13)\n",
            "Requirement already satisfied: six in /usr/local/lib/python3.7/dist-packages (from h5py->keras->keras-contrib==2.0.8) (1.15.0)\n",
            "Building wheels for collected packages: keras-contrib\n",
            "  Building wheel for keras-contrib (setup.py) ... \u001b[?25l\u001b[?25hdone\n",
            "  Created wheel for keras-contrib: filename=keras_contrib-2.0.8-cp37-none-any.whl size=101065 sha256=1860ef00c776712af0648916eeb8c32d44d2e18992316e7d0866968369b9a9f3\n",
            "  Stored in directory: /tmp/pip-ephem-wheel-cache-t8pyand5/wheels/11/27/c8/4ed56de7b55f4f61244e2dc6ef3cdbaff2692527a2ce6502ba\n",
            "Successfully built keras-contrib\n",
            "Installing collected packages: keras-contrib\n",
            "Successfully installed keras-contrib-2.0.8\n"
          ],
          "name": "stdout"
        }
      ]
    },
    {
      "cell_type": "code",
      "metadata": {
        "id": "AZEYS7Nhb-oB",
        "colab": {
          "base_uri": "https://localhost:8080/"
        },
        "outputId": "119f0880-c263-4cc3-d49c-3696fa735d62"
      },
      "source": [
        "!pip install keras==2.2.4"
      ],
      "execution_count": null,
      "outputs": [
        {
          "output_type": "stream",
          "text": [
            "Collecting keras==2.2.4\n",
            "\u001b[?25l  Downloading https://files.pythonhosted.org/packages/5e/10/aa32dad071ce52b5502266b5c659451cfd6ffcbf14e6c8c4f16c0ff5aaab/Keras-2.2.4-py2.py3-none-any.whl (312kB)\n",
            "\r\u001b[K     |█                               | 10kB 22.1MB/s eta 0:00:01\r\u001b[K     |██                              | 20kB 27.1MB/s eta 0:00:01\r\u001b[K     |███▏                            | 30kB 22.7MB/s eta 0:00:01\r\u001b[K     |████▏                           | 40kB 25.8MB/s eta 0:00:01\r\u001b[K     |█████▎                          | 51kB 24.8MB/s eta 0:00:01\r\u001b[K     |██████▎                         | 61kB 27.1MB/s eta 0:00:01\r\u001b[K     |███████▍                        | 71kB 18.2MB/s eta 0:00:01\r\u001b[K     |████████▍                       | 81kB 18.9MB/s eta 0:00:01\r\u001b[K     |█████████▍                      | 92kB 17.8MB/s eta 0:00:01\r\u001b[K     |██████████▌                     | 102kB 17.9MB/s eta 0:00:01\r\u001b[K     |███████████▌                    | 112kB 17.9MB/s eta 0:00:01\r\u001b[K     |████████████▋                   | 122kB 17.9MB/s eta 0:00:01\r\u001b[K     |█████████████▋                  | 133kB 17.9MB/s eta 0:00:01\r\u001b[K     |██████████████▊                 | 143kB 17.9MB/s eta 0:00:01\r\u001b[K     |███████████████▊                | 153kB 17.9MB/s eta 0:00:01\r\u001b[K     |████████████████▊               | 163kB 17.9MB/s eta 0:00:01\r\u001b[K     |█████████████████▉              | 174kB 17.9MB/s eta 0:00:01\r\u001b[K     |██████████████████▉             | 184kB 17.9MB/s eta 0:00:01\r\u001b[K     |████████████████████            | 194kB 17.9MB/s eta 0:00:01\r\u001b[K     |█████████████████████           | 204kB 17.9MB/s eta 0:00:01\r\u001b[K     |██████████████████████          | 215kB 17.9MB/s eta 0:00:01\r\u001b[K     |███████████████████████         | 225kB 17.9MB/s eta 0:00:01\r\u001b[K     |████████████████████████▏       | 235kB 17.9MB/s eta 0:00:01\r\u001b[K     |█████████████████████████▏      | 245kB 17.9MB/s eta 0:00:01\r\u001b[K     |██████████████████████████▏     | 256kB 17.9MB/s eta 0:00:01\r\u001b[K     |███████████████████████████▎    | 266kB 17.9MB/s eta 0:00:01\r\u001b[K     |████████████████████████████▎   | 276kB 17.9MB/s eta 0:00:01\r\u001b[K     |█████████████████████████████▍  | 286kB 17.9MB/s eta 0:00:01\r\u001b[K     |██████████████████████████████▍ | 296kB 17.9MB/s eta 0:00:01\r\u001b[K     |███████████████████████████████▌| 307kB 17.9MB/s eta 0:00:01\r\u001b[K     |████████████████████████████████| 317kB 17.9MB/s \n",
            "\u001b[?25hRequirement already satisfied: pyyaml in /usr/local/lib/python3.7/dist-packages (from keras==2.2.4) (3.13)\n",
            "Collecting keras-applications>=1.0.6\n",
            "\u001b[?25l  Downloading https://files.pythonhosted.org/packages/71/e3/19762fdfc62877ae9102edf6342d71b28fbfd9dea3d2f96a882ce099b03f/Keras_Applications-1.0.8-py3-none-any.whl (50kB)\n",
            "\u001b[K     |████████████████████████████████| 51kB 7.2MB/s \n",
            "\u001b[?25hRequirement already satisfied: h5py in /usr/local/lib/python3.7/dist-packages (from keras==2.2.4) (2.10.0)\n",
            "Requirement already satisfied: numpy>=1.9.1 in /usr/local/lib/python3.7/dist-packages (from keras==2.2.4) (1.19.5)\n",
            "Requirement already satisfied: keras-preprocessing>=1.0.5 in /usr/local/lib/python3.7/dist-packages (from keras==2.2.4) (1.1.2)\n",
            "Requirement already satisfied: six>=1.9.0 in /usr/local/lib/python3.7/dist-packages (from keras==2.2.4) (1.15.0)\n",
            "Requirement already satisfied: scipy>=0.14 in /usr/local/lib/python3.7/dist-packages (from keras==2.2.4) (1.4.1)\n",
            "Installing collected packages: keras-applications, keras\n",
            "  Found existing installation: Keras 2.4.3\n",
            "    Uninstalling Keras-2.4.3:\n",
            "      Successfully uninstalled Keras-2.4.3\n",
            "Successfully installed keras-2.2.4 keras-applications-1.0.8\n"
          ],
          "name": "stdout"
        }
      ]
    },
    {
      "cell_type": "code",
      "metadata": {
        "id": "ADTC_021I8oR",
        "colab": {
          "base_uri": "https://localhost:8080/"
        },
        "outputId": "4cf6a53d-cb3e-4159-94bb-0df6f7dde178"
      },
      "source": [
        "%cd /content/BIO-NER-"
      ],
      "execution_count": null,
      "outputs": [
        {
          "output_type": "stream",
          "text": [
            "/content/BIO-NER-\n"
          ],
          "name": "stdout"
        }
      ]
    },
    {
      "cell_type": "code",
      "metadata": {
        "id": "yWaikNj377rq"
      },
      "source": [
        "%%capture\n",
        "!pip install tensorflow==1.15"
      ],
      "execution_count": null,
      "outputs": []
    },
    {
      "cell_type": "code",
      "metadata": {
        "id": "gtXY6v2ycKQV",
        "colab": {
          "base_uri": "https://localhost:8080/"
        },
        "outputId": "a0ce9fdd-9665-495c-c0a5-9ef5f8f316e2"
      },
      "source": [
        "import keras"
      ],
      "execution_count": null,
      "outputs": [
        {
          "output_type": "stream",
          "text": [
            "Using TensorFlow backend.\n"
          ],
          "name": "stderr"
        }
      ]
    },
    {
      "cell_type": "code",
      "metadata": {
        "id": "R_MwzG-2jwxk"
      },
      "source": [
        "import tensorflow as tf"
      ],
      "execution_count": null,
      "outputs": []
    },
    {
      "cell_type": "code",
      "metadata": {
        "id": "qLq1ZiKcHWAt",
        "colab": {
          "base_uri": "https://localhost:8080/"
        },
        "outputId": "8ffe8dff-b185-450f-a6fe-bbb2630f80cd"
      },
      "source": [
        "%tensorflow_version 1.x"
      ],
      "execution_count": null,
      "outputs": [
        {
          "output_type": "stream",
          "text": [
            "TensorFlow is already loaded. Please restart the runtime to change versions.\n"
          ],
          "name": "stdout"
        }
      ]
    },
    {
      "cell_type": "code",
      "metadata": {
        "id": "oD4aSKaTdlTQ",
        "colab": {
          "base_uri": "https://localhost:8080/",
          "height": 35
        },
        "outputId": "e28634e2-037b-4fc0-cfa0-43e7b32e52a5"
      },
      "source": [
        "tf.__version__"
      ],
      "execution_count": null,
      "outputs": [
        {
          "output_type": "execute_result",
          "data": {
            "application/vnd.google.colaboratory.intrinsic+json": {
              "type": "string"
            },
            "text/plain": [
              "'1.15.0'"
            ]
          },
          "metadata": {
            "tags": []
          },
          "execution_count": 10
        }
      ]
    },
    {
      "cell_type": "code",
      "metadata": {
        "id": "hFYLxUMAdn0m"
      },
      "source": [
        "%%capture\n",
        "# CRF layer for tensorflow 2 supportig keras masking\n",
        "#!pip install tf2crf==0.1.29"
      ],
      "execution_count": null,
      "outputs": []
    },
    {
      "cell_type": "code",
      "metadata": {
        "id": "U2sv8p6fIjkb"
      },
      "source": [
        "import re\n",
        "\n",
        "def read_data(inpFile):\n",
        "  \"\"\"Reads a BIO data. Every sentence in the file is separated with an empty line.\"\"\"\n",
        "  inpFilept = open(inpFile)\n",
        "  tag_sent = []\n",
        "  docs = []\n",
        "  for line in inpFilept:\n",
        "    contents = re.split(\"\\t|\\n\", line)\n",
        "    if (contents[0] != \"\"):\n",
        "      w = contents[0]\n",
        "      l = contents[1]\n",
        "      tag_sent.append((w,l))\n",
        "    else:\n",
        "      docs.append(tag_sent)\n",
        "      tag_sent = []\n",
        "  print(\"Total number of sentences: {} \".format(len(docs)))\n",
        "  return docs"
      ],
      "execution_count": null,
      "outputs": []
    },
    {
      "cell_type": "markdown",
      "metadata": {
        "id": "bec-uDBVmKfv"
      },
      "source": [
        "# PREPROCESSING"
      ]
    },
    {
      "cell_type": "code",
      "metadata": {
        "id": "RU7s0Jt5mUe9"
      },
      "source": [
        "import numpy as np\n",
        "import codecs\n",
        "import seaborn as sns\n",
        "sns.set_style(\"whitegrid\")\n",
        "from matplotlib import pyplot as plt\n",
        "from tqdm import tqdm"
      ],
      "execution_count": null,
      "outputs": []
    },
    {
      "cell_type": "code",
      "metadata": {
        "id": "v8mEjQ4GCD8R"
      },
      "source": [
        "# For reproducibility\n",
        "seed = 563\n",
        "#tf.random.set_seed(seed)"
      ],
      "execution_count": null,
      "outputs": []
    },
    {
      "cell_type": "code",
      "metadata": {
        "id": "sD0EvY5wPu2s"
      },
      "source": [
        "# Original data in IOB format\n",
        "file1_train = \"/content/drive/MyDrive/BIO-NER-project/BC4CHEMD-IOB/BC4CHEMD/train.tsv\"\n",
        "file2_test = \"/content/drive/MyDrive/BIO-NER-project/BC4CHEMD-IOB/BC4CHEMD/test.tsv\"\n",
        "file3_dev = \"/content/drive/MyDrive/BIO-NER-project/BC4CHEMD-IOB/BC4CHEMD/devel.tsv\""
      ],
      "execution_count": null,
      "outputs": []
    },
    {
      "cell_type": "code",
      "metadata": {
        "id": "SsFajR5BmbV6",
        "colab": {
          "base_uri": "https://localhost:8080/"
        },
        "outputId": "fc195d1c-a2a3-4cd2-ba1b-6f9830e544fb"
      },
      "source": [
        "input_train = read_data(file1_train)\n",
        "input_test = read_data(file2_test)\n",
        "input_dev = read_data(file3_dev)"
      ],
      "execution_count": null,
      "outputs": [
        {
          "output_type": "stream",
          "text": [
            "Total number of sentences: 30682 \n",
            "Total number of sentences: 26364 \n",
            "Total number of sentences: 30639 \n"
          ],
          "name": "stdout"
        }
      ]
    },
    {
      "cell_type": "code",
      "metadata": {
        "id": "CJ4objI4mo3v",
        "colab": {
          "base_uri": "https://localhost:8080/"
        },
        "outputId": "36dc2eb4-ea94-4ce9-f87f-b735544c0c82"
      },
      "source": [
        "# First sentence of dataset with both words and labels\n",
        "print('This is what a sentence looks like:{}'.format(input_train[0]))"
      ],
      "execution_count": null,
      "outputs": [
        {
          "output_type": "stream",
          "text": [
            "This is what a sentence looks like:[('DPP6', 'O'), ('as', 'O'), ('a', 'O'), ('candidate', 'O'), ('gene', 'O'), ('for', 'O'), ('neuroleptic', 'O'), ('-', 'O'), ('induced', 'O'), ('tardive', 'O'), ('dyskinesia', 'O'), ('.', 'O')]\n"
          ],
          "name": "stdout"
        }
      ]
    },
    {
      "cell_type": "code",
      "metadata": {
        "id": "On9xLc2RJn4Z"
      },
      "source": [
        "import re\n",
        "import numpy as np\n",
        "from tqdm import tqdm\n",
        "from tensorflow.keras.preprocessing.sequence import pad_sequences\n",
        "from tensorflow.keras.utils import to_categorical"
      ],
      "execution_count": null,
      "outputs": []
    },
    {
      "cell_type": "code",
      "metadata": {
        "id": "NG59bgB8JN-o"
      },
      "source": [
        "class PreprocessingDocs(object): #passo come input un oggetto\n",
        "  \"\"\"Superclass for preprocessing.\"\"\"\n",
        "  def __init__(self, data): #definisco che tipo di oggetto\n",
        "    self.data = data #list of sentences that are list of words in the tuple format (word, BIO label)\n",
        "    self.sentences = [[w[0] for w in s] for s in data]\n",
        "    self.tokens = [w for s in self.sentences for w in s]\n",
        "    self.sent_labels = [[w[1] for w in s] for s in data]\n",
        "    self.tagset = list(set([l for s in self.sent_labels for l in s]))\n",
        "    self.vocabulary = set(self.tokens)\n",
        "    sentences_len = [len(s) for s in self.sentences]\n",
        "    self.max_seq_len = max(sentences_len)\n",
        "    self.avg_seq_len = np.array(sentences_len).mean()\n",
        "    self.std_seq_len = np.std(sentences_len)\n",
        "\n",
        "\"\"\"###Neural networks###\"\"\"\n",
        "\n",
        "class PreprocessingDocsNN(PreprocessingDocs): #passo come input un oggetto\n",
        "  \"\"\"Class utility to preprocess text for neural networks training.\"\"\"\n",
        "  def __init__(self, data): #definisco che tipo di oggetto\n",
        "    super().__init__(data)\n",
        "\n",
        "  def from_word_2_idx(self): \n",
        "    \"\"\"From a vocabulary set to a dict that map every word to an integer and viceversa.\"\"\"\n",
        "    vocab = self.vocabulary\n",
        "    word2idx = {w: i + 2 for i, w in enumerate(vocab)}\n",
        "    word2idx[\"UNK\"] = 1 # Unknown words\n",
        "    word2idx[\"PAD\"] = 0 # Padding\n",
        "    idx2word = {i: w for w, i in word2idx.items()}\n",
        "    return word2idx, idx2word\n",
        "\n",
        "  def from_labels_2_idx(self):\n",
        "    \"\"\"From a tagset to a dict that map every word to an integer and viceversa.\"\"\"\n",
        "    tagset = self.tagset\n",
        "    tag2idx = {t: i + 1 for i, t in enumerate(tagset)}\n",
        "    tag2idx[\"PAD\"] = 0 #pad value for padding input length\n",
        "    idx2tag = {i: w for w, i in tag2idx.items()}\n",
        "    return tag2idx, idx2tag\n",
        "    \n",
        "  def pad_list_of_sents(self, max_seq_len = None):\n",
        "    \"\"\"This function returns a padded list of sentences (words) with len fixed to the max sentence length.\n",
        "     \n",
        "     Parameters\n",
        "      ----------\n",
        "    max_seq_len : int (optional)\n",
        "        None to pad sentences with the value of the most length sent in the list.\n",
        "        Integer to set a different value. \"\"\"\n",
        "    \n",
        "    list_of_sents = self.sentences\n",
        "    value = \"PAD\"\n",
        "    if max_seq_len == None:\n",
        "      padded_list_of_sents = pad_sequences(maxlen=self.max_seq_len, sequences=list_of_sents, padding=\"post\", value=value, dtype=object, truncating = \"post\")\n",
        "    else:\n",
        "      padded_list_of_sents = pad_sequences(maxlen=max_seq_len, sequences=list_of_sents, padding=\"post\", value=value, dtype=object, truncating = \"post\")\n",
        "    return padded_list_of_sents\n",
        "\n",
        "  def padded_and_encoded_labels(self, tag2idx, max_seq_len = None):\n",
        "    \"\"\"This function returns a padded list of sentences (labels) and \n",
        "    encode using one-hot encoding for the integer representation.\n",
        "    \n",
        "    Parameters\n",
        "      ----------\n",
        "    tag2idx : dict\n",
        "        Mapping of labels to integers.\n",
        "    max_seq_len : int (optional)\n",
        "        None to pad sentences with the value of the most length sent in the list.\n",
        "        Integer to set a different value.\"\"\"\n",
        "\n",
        "    list_of_sents_tags = self.sent_labels\n",
        "    mapped_sents_tags = [[tag2idx[w] for w in s] for s in list_of_sents_tags]\n",
        "    n_classes = len(tag2idx)\n",
        "    if max_seq_len == None:\n",
        "      padded_list_of_sents_tags = pad_sequences(maxlen=self.max_seq_len, sequences=mapped_sents_tags, padding=\"post\", value=tag2idx[\"PAD\"], truncating = \"post\")\n",
        "    else:\n",
        "      padded_list_of_sents_tags = pad_sequences(maxlen=max_seq_len, sequences=mapped_sents_tags, padding=\"post\", value=tag2idx[\"PAD\"], truncating = \"post\")\n",
        "    y = [to_categorical(i, num_classes=n_classes) for i in padded_list_of_sents_tags] #np.argmax(true, axis = -1 to reverse encoding.\n",
        "    return y"
      ],
      "execution_count": null,
      "outputs": []
    },
    {
      "cell_type": "code",
      "metadata": {
        "id": "ZJbZdjc5KY6E"
      },
      "source": [
        "docs_train = PreprocessingDocsNN(input_train)\n",
        "docs_test = PreprocessingDocsNN(input_test)\n",
        "docs_dev = PreprocessingDocsNN(input_dev)"
      ],
      "execution_count": null,
      "outputs": []
    },
    {
      "cell_type": "code",
      "metadata": {
        "id": "MP-tJG-5o3eb",
        "colab": {
          "base_uri": "https://localhost:8080/"
        },
        "outputId": "a8791cb0-6176-41fa-fea1-9f85bb11f496"
      },
      "source": [
        "print(\"\\033[1m\"+\"Statistics for the train set:\"+'\\033[0m')\n",
        "print(\"Number of sentences: {}\".format(len(docs_train.sentences)))\n",
        "print(\"Number of tokens: {}\".format(len(docs_train.tokens)))\n",
        "print(\"Size of vocabulary: {}\".format(len(docs_train.vocabulary)))\n",
        "print('Tagset:', ' '.join(docs_train.tagset))\n",
        "print(\"Number of Tags {}\".format(len(docs_train.tagset)))"
      ],
      "execution_count": null,
      "outputs": [
        {
          "output_type": "stream",
          "text": [
            "\u001b[1mStatistics for the train set:\u001b[0m\n",
            "Number of sentences: 30682\n",
            "Number of tokens: 891948\n",
            "Size of vocabulary: 40528\n",
            "Tagset: O B-Chemical I-Chemical\n",
            "Number of Tags 3\n"
          ],
          "name": "stdout"
        }
      ]
    },
    {
      "cell_type": "markdown",
      "metadata": {
        "id": "gceSg2ZovKo9"
      },
      "source": [
        "# DATA VISUALIZATION"
      ]
    },
    {
      "cell_type": "code",
      "metadata": {
        "id": "-EIJbHjyvfJN"
      },
      "source": [
        "sentences_len = np.array([len(s) for s in docs_train.sentences]) #list with len for each sents"
      ],
      "execution_count": null,
      "outputs": []
    },
    {
      "cell_type": "code",
      "metadata": {
        "id": "5ZUm_XmDwBNX"
      },
      "source": [
        "#max_seq_len = np.round(sentences_len.mean()+sentences_len.std()).astype(int) #timesteps"
      ],
      "execution_count": null,
      "outputs": []
    },
    {
      "cell_type": "code",
      "metadata": {
        "id": "yIVWLLGNKMM8"
      },
      "source": [
        "sen_mean = np.round(sentences_len.mean()).astype(int) "
      ],
      "execution_count": null,
      "outputs": []
    },
    {
      "cell_type": "code",
      "metadata": {
        "id": "D3olNSIUKX55"
      },
      "source": [
        "max_seq_len = 50 #timesteps"
      ],
      "execution_count": null,
      "outputs": []
    },
    {
      "cell_type": "code",
      "metadata": {
        "id": "jEjrX0jsvMmD",
        "colab": {
          "base_uri": "https://localhost:8080/",
          "height": 336
        },
        "outputId": "f0143862-6717-40d5-8fb7-20c041c53e5b"
      },
      "source": [
        "sns.distplot(sentences_len, hist=True, kde=True, color=\"b\", label=\"sentences length\")\n",
        "plt.axvline(x=max_seq_len, color=\"k\", linestyle=\"--\", label=\"max len\")\n",
        "plt.title(\"Token per sentence\")\n",
        "plt.legend()\n",
        "plt.show()"
      ],
      "execution_count": null,
      "outputs": [
        {
          "output_type": "stream",
          "text": [
            "/usr/local/lib/python3.7/dist-packages/seaborn/distributions.py:2557: FutureWarning: `distplot` is a deprecated function and will be removed in a future version. Please adapt your code to use either `displot` (a figure-level function with similar flexibility) or `histplot` (an axes-level function for histograms).\n",
            "  warnings.warn(msg, FutureWarning)\n"
          ],
          "name": "stderr"
        },
        {
          "output_type": "display_data",
          "data": {
            "image/png": "[encoded data removed]",
            "text/plain": [
              "<Figure size 432x288 with 1 Axes>"
            ]
          },
          "metadata": {
            "tags": []
          }
        }
      ]
    },
    {
      "cell_type": "code",
      "metadata": {
        "colab": {
          "base_uri": "https://localhost:8080/"
        },
        "id": "1bGgCTSzKCUU",
        "outputId": "7b575c18-cfaa-41ba-edc6-115eb131a6ed"
      },
      "source": [
        "sent_less_than_msl = [s for s in docs_train.sentences if len(s) <= 50]\n",
        "perc_sent = round(len(sent_less_than_msl) / len(docs_train.sentences) * 100)\n",
        "print(\"The\", perc_sent,\"%\", \"of sentences has less or equal than 50 tokens.\")"
      ],
      "execution_count": null,
      "outputs": [
        {
          "output_type": "stream",
          "text": [
            "The 92 % of sentences has less or equal than 50 tokens.\n"
          ],
          "name": "stdout"
        }
      ]
    },
    {
      "cell_type": "markdown",
      "metadata": {
        "id": "JUhlxP1Nlgv6"
      },
      "source": [
        "# ELMO EMBEDDINGS FROM LM\n"
      ]
    },
    {
      "cell_type": "code",
      "metadata": {
        "id": "6hGIn54klmVh"
      },
      "source": [
        "%%capture\n",
        "# TensorFlow Hub is a repository of trained machine learning models\n",
        "!pip install --upgrade tensorflow_hub\n",
        "import tensorflow_hub as hub "
      ],
      "execution_count": null,
      "outputs": []
    },
    {
      "cell_type": "code",
      "metadata": {
        "id": "e9-bjNos82V1"
      },
      "source": [
        "#from tensorflow.keras import backend as K"
      ],
      "execution_count": null,
      "outputs": []
    },
    {
      "cell_type": "code",
      "metadata": {
        "id": "iKTdyWkMRN0X"
      },
      "source": [
        "#sess = tf.compat.v1.Session()\n",
        "#sess.run(tf.global_variables_initializer())\n",
        "#sess.run(tf.tables_initializer())"
      ],
      "execution_count": null,
      "outputs": []
    },
    {
      "cell_type": "code",
      "metadata": {
        "id": "4N1-0yJbX_u0"
      },
      "source": [
        "\n",
        "# Embeddings from a language model trained on the 1 Billion Word Benchmark.\n",
        "#elmo_model = hub.KerasLayer(\"https://tfhub.dev/google/elmo/3\", trainable=True, signature=\"tokens\")"
      ],
      "execution_count": null,
      "outputs": []
    },
    {
      "cell_type": "markdown",
      "metadata": {
        "id": "jX5DH8twaEsx"
      },
      "source": [
        "ElmoEmbeddingLayer class by https://github.com/strongio/keras-elmo"
      ]
    },
    {
      "cell_type": "code",
      "metadata": {
        "id": "fI_OXM13te-H"
      },
      "source": [
        "#try to install keras=2.2.4 to support masking"
      ],
      "execution_count": null,
      "outputs": []
    },
    {
      "cell_type": "code",
      "metadata": {
        "id": "9LTl_ArhUqmz",
        "colab": {
          "base_uri": "https://localhost:8080/",
          "height": 174
        },
        "outputId": "792fc3bd-6854-4ae0-9cd1-05ff65ac2fde"
      },
      "source": [
        "# Create a custom layer that allows us to update weights (lambda layers do not have trainable parameters!)\n",
        "\"\"\"from keras.layers import Layer\"\n",
        "class ElmoEmbeddingLayer(Layer):\n",
        "  def __init__(self, **kwargs):\n",
        "    self.dimensions = 1024\n",
        "    self.trainable = True\n",
        "    super(ElmoEmbeddingLayer, self).__init__(**kwargs)\n",
        "\n",
        "  def build(self, input_shape):\n",
        "    self.elmo = hub.Module('https://tfhub.dev/google/elmo/2', trainable=self.trainable,\n",
        "                           name=\"{}_module\".format(self.name))\n",
        "\n",
        "    self._trainable_weights += tf.compat.v1.trainable_variables(scope=\"^elmo_module/.*\")\n",
        "    super(ElmoEmbeddingLayer, self).build(input_shape)\n",
        "\n",
        "  def call(self, x, mask=None):\n",
        "    result = self.elmo(inputs={\"tokens\": tf.squeeze(tf.cast(x, tf.string)),\n",
        "                              \"sequence_len\": tf.constant([max_seq_len]*batch_size)\n",
        "                              },\n",
        "                      signature=\"tokens\",\n",
        "                      as_dict=True)[\"elmo\"]\n",
        "    print(result)\n",
        "    return result\n",
        "\n",
        "# Check this: https://www.tensorflow.org/guide/keras/masking_and_padding\n",
        "  def compute_mask(self, inputs, mask=None):\n",
        "    return tf.math.not_equal(inputs, 'PAD')\n",
        "\n",
        "  #def compute_mask(self, inputs, mask=None):\n",
        "   # return tf.not_equal(inputs, \"PAD\")\n",
        "\n",
        "  def compute_output_shape(self, input_shape):\n",
        "    return input_shape[0], max_seq_len, self.dimensions\"\"\""
      ],
      "execution_count": null,
      "outputs": [
        {
          "output_type": "execute_result",
          "data": {
            "application/vnd.google.colaboratory.intrinsic+json": {
              "type": "string"
            },
            "text/plain": [
              "'from keras.layers import Layer\"\\nclass ElmoEmbeddingLayer(Layer):\\n  def __init__(self, **kwargs):\\n    self.dimensions = 1024\\n    self.trainable = True\\n    super(ElmoEmbeddingLayer, self).__init__(**kwargs)\\n\\n  def build(self, input_shape):\\n    self.elmo = hub.Module(\\'https://tfhub.dev/google/elmo/2\\', trainable=self.trainable,\\n                           name=\"{}_module\".format(self.name))\\n\\n    self._trainable_weights += tf.compat.v1.trainable_variables(scope=\"^elmo_module/.*\")\\n    super(ElmoEmbeddingLayer, self).build(input_shape)\\n\\n  def call(self, x, mask=None):\\n    result = self.elmo(inputs={\"tokens\": tf.squeeze(tf.cast(x, tf.string)),\\n                              \"sequence_len\": tf.constant([max_seq_len]*batch_size)\\n                              },\\n                      signature=\"tokens\",\\n                      as_dict=True)[\"elmo\"]\\n    print(result)\\n    return result\\n\\n# Check this: https://www.tensorflow.org/guide/keras/masking_and_padding\\n  def compute_mask(self, inputs, mask=None):\\n    return tf.math.not_equal(inputs, \\'PAD\\')\\n\\n  #def compute_mask(self, inputs, mask=None):\\n   # return tf.not_equal(inputs, \"PAD\")\\n\\n  def compute_output_shape(self, input_shape):\\n    return input_shape[0], max_seq_len, self.dimensions'"
            ]
          },
          "metadata": {
            "tags": []
          },
          "execution_count": 33
        }
      ]
    },
    {
      "cell_type": "code",
      "metadata": {
        "id": "qMZ7O-XDhnUU"
      },
      "source": [
        "from keras.layers import Layer\n",
        "class ElmoEmbeddingLayer(Layer):\n",
        "    def __init__(self, **kwargs):\n",
        "      self.dimensions = 1024\n",
        "      self.trainable=True\n",
        "      super(ElmoEmbeddingLayer, self).__init__(**kwargs)\n",
        "\n",
        "    def build(self, input_shape):\n",
        "      self.elmo = hub.Module('https://tfhub.dev/google/elmo/2', trainable=self.trainable,\n",
        "                               name=\"{}_module\".format(self.name))\n",
        "\n",
        "      self.trainable_weights += K.tf.trainable_variables(scope=\"^{}_module/.*\".format(self.name))\n",
        "      super(ElmoEmbeddingLayer, self).build(input_shape)\n",
        "\n",
        "    def call(self, x, mask=None):\n",
        "      result = self.elmo(inputs={\"tokens\": tf.squeeze(tf.cast(x, tf.string)),\n",
        "                              \"sequence_len\": tf.constant([max_seq_len]*batch_size)\n",
        "                              },\n",
        "                      signature=\"tokens\",\n",
        "                      as_dict=True)[\"elmo\"]\n",
        "    \n",
        "      return result\n",
        "\n",
        "    def compute_output_shape(self, input_shape):\n",
        "      return (input_shape[0], max_seq_len, self.dimensions)"
      ],
      "execution_count": null,
      "outputs": []
    },
    {
      "cell_type": "code",
      "metadata": {
        "id": "A8Qewaiv4y0m"
      },
      "source": [
        "from keras import backend as K"
      ],
      "execution_count": null,
      "outputs": []
    },
    {
      "cell_type": "code",
      "metadata": {
        "id": "CqoAChBdmNRp",
        "colab": {
          "base_uri": "https://localhost:8080/",
          "height": 174
        },
        "outputId": "7a799eb6-b549-44e5-9bb6-5555779c87e9"
      },
      "source": [
        "\"\"\"from keras.engine import Layer\"\"\"\n",
        "\"\"\"class ElmoEmbeddingLayer(Layer):\n",
        "    def __init__(self, **kwargs):\n",
        "      self.dimensions = 1024\n",
        "      self.trainable = True\n",
        "      super(ElmoEmbeddingLayer, self).__init__(**kwargs)\n",
        "\n",
        "    def build(self, input_shape):\n",
        "      self.elmo = hub.KerasLayer(\"https://tfhub.dev/google/elmo/3\", signature=\"tokens\", name=\"{}_module\".format(self.name))\n",
        "      self._trainable_weights += tf.compat.v1.trainable_variables(scope=\"^{}_module/.*\".format(self.name))\n",
        "      super(ElmoEmbeddingLayer, self).build(input_shape)\n",
        "\n",
        "    def call(self, x, mask=None):\n",
        "      result = self.elmo(inputs={\"tokens\": tf.squeeze(tf.cast(x, tf.string)),\n",
        "                              \"sequence_len\": tf.constant( [max_seq_len]*batch_size)\n",
        "                              })\n",
        "      return result\n",
        "\n",
        "    def compute_mask(self, inputs, mask=None):\n",
        "      return K.not_equal(inputs, '')\n",
        "\n",
        "    def compute_output_shape(self, input_shape):\n",
        "      return (input_shape[0], max_seq_len, self.dimensions)\"\"\""
      ],
      "execution_count": null,
      "outputs": [
        {
          "output_type": "execute_result",
          "data": {
            "application/vnd.google.colaboratory.intrinsic+json": {
              "type": "string"
            },
            "text/plain": [
              "'class ElmoEmbeddingLayer(Layer):\\n    def __init__(self, **kwargs):\\n      self.dimensions = 1024\\n      self.trainable = True\\n      super(ElmoEmbeddingLayer, self).__init__(**kwargs)\\n\\n    def build(self, input_shape):\\n      self.elmo = hub.KerasLayer(\"https://tfhub.dev/google/elmo/3\", signature=\"tokens\", name=\"{}_module\".format(self.name))\\n      self._trainable_weights += tf.compat.v1.trainable_variables(scope=\"^{}_module/.*\".format(self.name))\\n      super(ElmoEmbeddingLayer, self).build(input_shape)\\n\\n    def call(self, x, mask=None):\\n      result = self.elmo(inputs={\"tokens\": tf.squeeze(tf.cast(x, tf.string)),\\n                              \"sequence_len\": tf.constant( [max_seq_len]*batch_size)\\n                              })\\n      return result\\n\\n    def compute_mask(self, inputs, mask=None):\\n      return K.not_equal(inputs, \\'\\')\\n\\n    def compute_output_shape(self, input_shape):\\n      return (input_shape[0], max_seq_len, self.dimensions)'"
            ]
          },
          "metadata": {
            "tags": []
          },
          "execution_count": 36
        }
      ]
    },
    {
      "cell_type": "markdown",
      "metadata": {
        "id": "pHles4iZlgfV"
      },
      "source": [
        "The output is a 3 dimensional tensor of shape (training samples, maximum length, length of the ELMo vector)."
      ]
    },
    {
      "cell_type": "markdown",
      "metadata": {
        "id": "L2eo4ZaTdHP1"
      },
      "source": [
        "From StackOverFlow:\n",
        "*Logging message comes up due to the way how hub.Module calls tf.train.import_meta_graph but handles restoring variables by itself.*"
      ]
    },
    {
      "cell_type": "markdown",
      "metadata": {
        "id": "_8EMjz6eWi19"
      },
      "source": [
        "# PREPROCESSING FOR TRAINING\n",
        "\n",
        "Before feeding the data to the model we need to further preprocess the text. In order to feed the data to the Bi-LSTM model, we need to ensure that all text should be of the same length. The method sequence pad_sequences() and variable max_seq_len are used for this purpose. The text which are shorter than fixed max_seq_len value are padded to get them to the same length, whereas text which are longer than max_seq_len are truncated. Then, we use the TextVectorization layer from tf as text encoder. This allows to transforms a sequences of strings into a list of token indices. Every token in a sequence is mapped to a corresponding integer ID. This saves a lot of memory.\n",
        "\n",
        "\n",
        "We're gonna create two different Input, one for ELMoEmbeddingLayer (string) and the other one for the tf Embedding layer (integer)."
      ]
    },
    {
      "cell_type": "code",
      "metadata": {
        "id": "0Xw99_xOWi2G"
      },
      "source": [
        "# Padding sentences to the max_seq_len\n",
        "\n",
        "X_train_padded = docs_train.pad_list_of_sents(max_seq_len)\n",
        "X_test_padded =  docs_test.pad_list_of_sents(max_seq_len)\n",
        "X_dev_padded =  docs_dev.pad_list_of_sents(max_seq_len)"
      ],
      "execution_count": null,
      "outputs": []
    },
    {
      "cell_type": "code",
      "metadata": {
        "id": "ryxL5dQAWi2H",
        "colab": {
          "base_uri": "https://localhost:8080/"
        },
        "outputId": "dffc3f38-9b79-4f36-992d-6d3cf8332d61"
      },
      "source": [
        "X_train_padded[0]"
      ],
      "execution_count": null,
      "outputs": [
        {
          "output_type": "execute_result",
          "data": {
            "text/plain": [
              "array(['DPP6', 'as', 'a', 'candidate', 'gene', 'for', 'neuroleptic', '-',\n",
              "       'induced', 'tardive', 'dyskinesia', '.', 'PAD', 'PAD', 'PAD',\n",
              "       'PAD', 'PAD', 'PAD', 'PAD', 'PAD', 'PAD', 'PAD', 'PAD', 'PAD',\n",
              "       'PAD', 'PAD', 'PAD', 'PAD', 'PAD', 'PAD', 'PAD', 'PAD', 'PAD',\n",
              "       'PAD', 'PAD', 'PAD', 'PAD', 'PAD', 'PAD', 'PAD', 'PAD', 'PAD',\n",
              "       'PAD', 'PAD', 'PAD', 'PAD', 'PAD', 'PAD', 'PAD', 'PAD'],\n",
              "      dtype=object)"
            ]
          },
          "metadata": {
            "tags": []
          },
          "execution_count": 38
        }
      ]
    },
    {
      "cell_type": "code",
      "metadata": {
        "id": "3H-2pyRuWi2H"
      },
      "source": [
        "# Vocabulary Key:Tag -> Value:ID_tag & Vocabulary Key:ID_tag -> Value:Tag\n",
        "tag2idx, idx2tag = docs_train.from_labels_2_idx()"
      ],
      "execution_count": null,
      "outputs": []
    },
    {
      "cell_type": "code",
      "metadata": {
        "id": "DtPcQvzYWi2I"
      },
      "source": [
        "# Padding and encoding the target variable\n",
        "y_train = docs_train.padded_and_encoded_labels(tag2idx, max_seq_len)\n",
        "y_test = docs_test.padded_and_encoded_labels(tag2idx, max_seq_len)\n",
        "y_dev = docs_dev.padded_and_encoded_labels(tag2idx, max_seq_len)"
      ],
      "execution_count": null,
      "outputs": []
    },
    {
      "cell_type": "code",
      "metadata": {
        "id": "hwMILiGhEXZR"
      },
      "source": [
        "# Decoding one-hot vectors\n",
        "y_train = np.argmax(y_train, axis = -1)\n",
        "y_test = np.argmax(y_test, axis = -1)\n",
        "y_dev = np.argmax(y_dev, axis = -1)"
      ],
      "execution_count": null,
      "outputs": []
    },
    {
      "cell_type": "code",
      "metadata": {
        "id": "tuAY0IcYqGTk"
      },
      "source": [
        "word2idx, idx2word = docs_train.from_word_2_idx() "
      ],
      "execution_count": null,
      "outputs": []
    },
    {
      "cell_type": "code",
      "metadata": {
        "id": "NpRyGDvWME3q",
        "colab": {
          "base_uri": "https://localhost:8080/"
        },
        "outputId": "f5b76ef8-4361-4630-c0bc-c824426390b0"
      },
      "source": [
        "word2idx[\"PAD\"]"
      ],
      "execution_count": null,
      "outputs": [
        {
          "output_type": "execute_result",
          "data": {
            "text/plain": [
              "0"
            ]
          },
          "metadata": {
            "tags": []
          },
          "execution_count": 43
        }
      ]
    },
    {
      "cell_type": "code",
      "metadata": {
        "id": "oaiLP0GPqGXO"
      },
      "source": [
        "# Extract the vocabulary\n",
        "voc = idx2word.values()"
      ],
      "execution_count": null,
      "outputs": []
    },
    {
      "cell_type": "code",
      "metadata": {
        "id": "-HxIjTx0qVwL",
        "colab": {
          "base_uri": "https://localhost:8080/"
        },
        "outputId": "fd8cc21c-7180-4f2f-9152-965e55949e09"
      },
      "source": [
        "print(\"The word 'cell' is identified by the index: {}\".format(word2idx[\"cell\"]))\n",
        "print(\"The labels 'B-Chemical' is identified by the index: {}\".format(tag2idx[\"B-Chemical\"]))"
      ],
      "execution_count": null,
      "outputs": [
        {
          "output_type": "stream",
          "text": [
            "The word 'cell' is identified by the index: 36754\n",
            "The labels 'B-Chemical' is identified by the index: 2\n"
          ],
          "name": "stdout"
        }
      ]
    },
    {
      "cell_type": "code",
      "metadata": {
        "id": "T2sbNN_iXMWY"
      },
      "source": [
        "X_train_elmo = X_train_padded"
      ],
      "execution_count": null,
      "outputs": []
    },
    {
      "cell_type": "code",
      "metadata": {
        "id": "yapoZCLVPQSX"
      },
      "source": [
        "X_train = [[word2idx[w] for w in s] for s in X_train_padded]"
      ],
      "execution_count": null,
      "outputs": []
    },
    {
      "cell_type": "code",
      "metadata": {
        "id": "whjolD8LQMnG"
      },
      "source": [
        "voc = list(idx2word.values())"
      ],
      "execution_count": null,
      "outputs": []
    },
    {
      "cell_type": "code",
      "metadata": {
        "id": "tlVmC3_0hjup"
      },
      "source": [
        "voc_test = set(docs_test.tokens)"
      ],
      "execution_count": null,
      "outputs": []
    },
    {
      "cell_type": "code",
      "metadata": {
        "id": "PTKrq9LGJlvC"
      },
      "source": [
        "voc_dev = set(docs_dev.tokens)"
      ],
      "execution_count": null,
      "outputs": []
    },
    {
      "cell_type": "code",
      "metadata": {
        "id": "s0DcoA3thuQI"
      },
      "source": [
        "not_in_voc = [w for w in voc_test if w not in voc]"
      ],
      "execution_count": null,
      "outputs": []
    },
    {
      "cell_type": "code",
      "metadata": {
        "id": "DmPr6VYpJgMG"
      },
      "source": [
        "not_in_voc_dev = [w for w in voc_dev if w not in voc]"
      ],
      "execution_count": null,
      "outputs": []
    },
    {
      "cell_type": "code",
      "metadata": {
        "id": "pM209Cbah4Cp",
        "colab": {
          "base_uri": "https://localhost:8080/"
        },
        "outputId": "9a9c4270-2d54-4a79-8cc1-febdd1836e96"
      },
      "source": [
        "# Words in test that are not in vocabulary\n",
        "len(not_in_voc)"
      ],
      "execution_count": null,
      "outputs": [
        {
          "output_type": "execute_result",
          "data": {
            "text/plain": [
              "16276"
            ]
          },
          "metadata": {
            "tags": []
          },
          "execution_count": 53
        }
      ]
    },
    {
      "cell_type": "code",
      "metadata": {
        "id": "5khd2PxCQFm8"
      },
      "source": [
        "new_X_test = []\n",
        "for s in X_test_padded:\n",
        "  temp = []\n",
        "  for w in s:\n",
        "    if w in not_in_voc:\n",
        "      w1 = w.replace(w, \"UNK\")\n",
        "    else: \n",
        "      w1 = w\n",
        "    temp.append(w1)\n",
        "  new_X_test.append(temp)"
      ],
      "execution_count": null,
      "outputs": []
    },
    {
      "cell_type": "code",
      "metadata": {
        "id": "RP_Z5Ymx2nlk"
      },
      "source": [
        "new_X_dev = []\n",
        "for s in X_dev_padded:\n",
        "  temp = []\n",
        "  for w in s:\n",
        "    if w in not_in_voc_dev:\n",
        "      w1 = w.replace(w, \"UNK\")\n",
        "    else: \n",
        "      w1 = w\n",
        "    temp.append(w1)\n",
        "  new_X_dev.append(temp)"
      ],
      "execution_count": null,
      "outputs": []
    },
    {
      "cell_type": "code",
      "metadata": {
        "id": "UNskphTYPcbc"
      },
      "source": [
        "new_X_test1 = [[word2idx[w] for w in s] for s in new_X_test] # For standard Emb"
      ],
      "execution_count": null,
      "outputs": []
    },
    {
      "cell_type": "code",
      "metadata": {
        "id": "Sl498th3JWm1"
      },
      "source": [
        "new_X_dev1 = [[word2idx[w] for w in s] for s in new_X_dev] # FOr standard Emb"
      ],
      "execution_count": null,
      "outputs": []
    },
    {
      "cell_type": "code",
      "metadata": {
        "id": "kWMEY5GWmb6E"
      },
      "source": [
        "X_test_elmo = new_X_test\n",
        "X_dev_elmo = new_X_dev"
      ],
      "execution_count": null,
      "outputs": []
    },
    {
      "cell_type": "code",
      "metadata": {
        "id": "HVlz20ugXT8H"
      },
      "source": [
        "batch_size = 32\n",
        "epochs = 10"
      ],
      "execution_count": null,
      "outputs": []
    },
    {
      "cell_type": "code",
      "metadata": {
        "id": "waxWOxz28cJ2"
      },
      "source": [
        "# Since we have 32 as the batch size, feeding the network must be in chunks that are all multiples of 32:\n",
        "X_train = X_train[:958 * batch_size]\n",
        "X_val = new_X_dev1[:957 * batch_size]\n",
        "X_train_elmo = X_train_elmo[:958 * batch_size]\n",
        "X_val_elmo = X_dev_elmo[:957 * batch_size]\n",
        "y_train = y_train[:958 * batch_size]\n",
        "y_val = y_dev[:957 * batch_size]"
      ],
      "execution_count": null,
      "outputs": []
    },
    {
      "cell_type": "markdown",
      "metadata": {
        "id": "zfYiBseHa5cz"
      },
      "source": [
        "# IMPLEMENTING MODEL ARCHITECTURE"
      ]
    },
    {
      "cell_type": "markdown",
      "metadata": {
        "id": "37Q9bVojOrU_"
      },
      "source": [
        "Model Architecture "
      ]
    },
    {
      "cell_type": "code",
      "metadata": {
        "id": "cVH5C7iVL3Tm"
      },
      "source": [
        "from keras.optimizers import SGD, Adam, RMSprop\n",
        "from keras.models import Model\n",
        "from keras.layers import LSTM, Embedding, Dense, TimeDistributed, concatenate, Dropout, Bidirectional, Input\n",
        "from keras.layers import add\n",
        "from keras_contrib.layers import CRF\n",
        "from keras_contrib.losses import crf_loss\n",
        "from keras_contrib.metrics import crf_viterbi_accuracy\n",
        "\n",
        "#from tf2crf import CRF, ModelWithCRFLoss\n",
        "\n",
        "def build_model(opt=None):\n",
        "  elmo_input = keras.Input(shape=(max_seq_len,), dtype=tf.string) # for Elmo\n",
        "  emb_input = keras.Input(shape=(max_seq_len,), dtype='int32')\n",
        "\n",
        "  # Output Layers\n",
        "  emb_output_layer = Embedding(input_dim=len(word2idx)+1, output_dim=300, mask_zero=True)(emb_input)\n",
        "  elmo_output_layer = ElmoEmbeddingLayer()(elmo_input)\n",
        "  #embedding_elmo = Lambda(ElmoEmbedding, output_shape=(batch_size,1024))(elmo_input)\n",
        "  #spd = SpatialDropout1D(0.3)(x) \n",
        "  #embedding_elmo = tf.keras.layers.Lambda(ElmoEmbedding, output_shape=(max_seq_len,1024))(elmo_input)\n",
        "  x = concatenate([emb_output_layer, elmo_output_layer])\n",
        "  x = Dropout(0.5)(x)\n",
        "  model = Bidirectional(LSTM(units=256, return_sequences=True, recurrent_dropout=0.3, dropout=0.3))(x)\n",
        "  model = Bidirectional(LSTM(units=125, return_sequences=True, recurrent_dropout=0.3, dropout=0.3))(model)\n",
        "  model = Dense(65, activation=\"relu\")(model)\n",
        "  crf = CRF(len(tag2idx), sparse_target = True)  # CRF layer, n_tags+1(PAD)\n",
        "  out = crf(model)\n",
        "\n",
        "  model = Model([elmo_input, emb_input], out)\n",
        "\n",
        "  if opt:\n",
        "    opt = opt\n",
        "  else:\n",
        "    opt = Adam()\n",
        " \n",
        "  model.compile(optimizer=opt, loss=crf_loss, metrics=[crf_viterbi_accuracy])\n",
        "  print(model.summary())\n",
        "  return model"
      ],
      "execution_count": null,
      "outputs": []
    },
    {
      "cell_type": "code",
      "metadata": {
        "id": "PtzqQCHO5g8O"
      },
      "source": [
        "from tensorflow.keras.callbacks import EarlyStopping\n",
        "early_stopping = EarlyStopping(monitor=\"val_loss\", patience=2)"
      ],
      "execution_count": null,
      "outputs": []
    },
    {
      "cell_type": "code",
      "metadata": {
        "id": "ObKY8zGarxzv"
      },
      "source": [
        "def ignoring_padding(y_pred,y_test):\n",
        "  \"\"\"This function allows to compare predicted labels with true labels discarding padding\"\"\"\n",
        "  y_pred = np.argmax(y_pred, -1)\n",
        "  real_pred = []\n",
        "  y_test_nozeroes = [[l for l in s if l != 0] for s in y_test] # Delete padding label in the original sentences\n",
        "  for s, s1 in zip(y_pred, y_test_nozeroes):\n",
        "    s = s.tolist() \n",
        "    real_s =  s[:len(s1)] # Delete padding from the predicted sentences\n",
        "    real_pred.append(real_s)\n",
        "  pred_tag = [[idx2tag[i] for i in row] for row in real_pred]\n",
        "  y_test_tag = [[idx2tag[i] for i in row] for row in y_test_nozeroes]\n",
        "  return pred_tag, y_test_tag"
      ],
      "execution_count": null,
      "outputs": []
    },
    {
      "cell_type": "code",
      "metadata": {
        "id": "_jvrDIFMHN2i"
      },
      "source": [
        "%%capture\n",
        "!pip3 install seqeval"
      ],
      "execution_count": null,
      "outputs": []
    },
    {
      "cell_type": "code",
      "metadata": {
        "id": "-4WH81O-r7qW"
      },
      "source": [
        "from keras.callbacks import Callback\n",
        "from seqeval.metrics import f1_score\n",
        "\n",
        "class Metrics(Callback):\n",
        "    \"\"\"Custom F1 metric to look after the performance on the validation set during the training\"\"\"\n",
        "    def __init__(self, validation):   \n",
        "        super(Metrics, self).__init__()\n",
        "        self.validation = validation    \n",
        "            \n",
        "        print('validation shape', len(self.validation[0][0]))\n",
        "        \n",
        "    def on_train_begin(self, logs={}):        \n",
        "        self.val_f1s = []\n",
        "     \n",
        "    def on_epoch_begin(self, epoch, logs={}):\n",
        "        val_targ = self.validation[1]\n",
        "        val_targ1 = val_targ.reshape((val_targ.shape[0], val_targ.shape[1]))\n",
        "        val_predict = self.model.predict(self.validation[0])\n",
        "        y_true, y_hat = ignoring_padding(val_predict, val_targ1)\n",
        "        val_f1 = f1_score(y_true, y_hat)\n",
        "        \n",
        "        \n",
        "        self.val_f1s.append(round(val_f1, 6))\n",
        "        \n",
        " \n",
        "        print(f' — val_f1: {val_f1} ')"
      ],
      "execution_count": null,
      "outputs": []
    },
    {
      "cell_type": "code",
      "metadata": {
        "id": "w-2gki40jBPi"
      },
      "source": [
        "y_train = y_train.reshape(y_train.shape[0], y_train.shape[1], 1)\n",
        "y_val = y_val.reshape((y_val.shape[0], y_val.shape[1], 1))"
      ],
      "execution_count": null,
      "outputs": []
    },
    {
      "cell_type": "code",
      "metadata": {
        "id": "qxL3Pdkbr-y8"
      },
      "source": [
        "# Customised callbacks\n",
        "mycallbacks = [early_stopping]"
      ],
      "execution_count": null,
      "outputs": []
    },
    {
      "cell_type": "code",
      "metadata": {
        "id": "fOJ8xeYNnBRB"
      },
      "source": [
        "# Stop WARNINGS output\n",
        "tf.compat.v1.logging.set_verbosity(tf.compat.v1.logging.ERROR)"
      ],
      "execution_count": null,
      "outputs": []
    },
    {
      "cell_type": "markdown",
      "metadata": {
        "id": "qPgh_OtvSmZy"
      },
      "source": [
        "# TRAINING"
      ]
    },
    {
      "cell_type": "code",
      "metadata": {
        "id": "2jIVZiTUIAmp"
      },
      "source": [
        "dir_output = \"/content/drive/MyDrive/BIO-NER-project/ELMO-bi-lstm-crf-BC4CHEMD.h5\""
      ],
      "execution_count": null,
      "outputs": []
    },
    {
      "cell_type": "code",
      "metadata": {
        "id": "H0hc_xAa3PwU",
        "colab": {
          "base_uri": "https://localhost:8080/"
        },
        "outputId": "0fc9d5f2-6e0e-4462-b48f-d8e1ce7a7140"
      },
      "source": [
        "model = build_model(RMSprop())"
      ],
      "execution_count": null,
      "outputs": [
        {
          "output_type": "stream",
          "text": [
            "__________________________________________________________________________________________________\n",
            "Layer (type)                    Output Shape         Param #     Connected to                     \n",
            "==================================================================================================\n",
            "input_4 (InputLayer)            (None, 50)           0                                            \n",
            "__________________________________________________________________________________________________\n",
            "input_3 (InputLayer)            (None, 50)           0                                            \n",
            "__________________________________________________________________________________________________\n",
            "embedding_2 (Embedding)         (None, 50, 300)      12159000    input_4[0][0]                    \n",
            "__________________________________________________________________________________________________\n",
            "elmo_embedding_layer_2 (ElmoEmb (None, 50, 1024)     4           input_3[0][0]                    \n",
            "__________________________________________________________________________________________________\n",
            "concatenate_2 (Concatenate)     (None, 50, 1324)     0           embedding_2[0][0]                \n",
            "                                                                 elmo_embedding_layer_2[0][0]     \n",
            "__________________________________________________________________________________________________\n",
            "dropout_2 (Dropout)             (None, 50, 1324)     0           concatenate_2[0][0]              \n",
            "__________________________________________________________________________________________________\n",
            "bidirectional_2 (Bidirectional) (None, 50, 512)      3237888     dropout_2[0][0]                  \n",
            "__________________________________________________________________________________________________\n",
            "bidirectional_3 (Bidirectional) (None, 50, 250)      638000      bidirectional_2[0][0]            \n",
            "__________________________________________________________________________________________________\n",
            "dense_1 (Dense)                 (None, 50, 65)       16315       bidirectional_3[0][0]            \n",
            "__________________________________________________________________________________________________\n",
            "crf_1 (CRF)                     (None, 50, 4)        288         dense_1[0][0]                    \n",
            "==================================================================================================\n",
            "Total params: 16,051,495\n",
            "Trainable params: 16,051,495\n",
            "Non-trainable params: 0\n",
            "__________________________________________________________________________________________________\n",
            "None\n"
          ],
          "name": "stdout"
        }
      ]
    },
    {
      "cell_type": "code",
      "metadata": {
        "id": "-JpqvjgHSmZ3",
        "colab": {
          "base_uri": "https://localhost:8080/"
        },
        "outputId": "71cfc66c-ea90-4bec-86b7-abfd119aea40"
      },
      "source": [
        "%%time\n",
        "# Fit network - F1-score is measured on the validation data\n",
        "history = model.fit([X_train_elmo, np.array(X_train)],y_train, epochs=epochs, batch_size=batch_size, verbose=1, validation_data=([X_val_elmo, np.array(X_val)], y_val), callbacks = mycallbacks)"
      ],
      "execution_count": null,
      "outputs": [
        {
          "output_type": "stream",
          "text": [
            "Train on 30656 samples, validate on 30624 samples\n",
            "Epoch 1/10\n",
            "30656/30656 [==============================] - 906s 30ms/step - loss: 1.8356 - crf_viterbi_accuracy: 0.9686 - val_loss: 1.8233 - val_crf_viterbi_accuracy: 0.9767\n",
            "Epoch 2/10\n",
            "30656/30656 [==============================] - 891s 29ms/step - loss: 1.7919 - crf_viterbi_accuracy: 0.9876 - val_loss: 1.8204 - val_crf_viterbi_accuracy: 0.9791\n",
            "Epoch 3/10\n",
            "30656/30656 [==============================] - 890s 29ms/step - loss: 1.7835 - crf_viterbi_accuracy: 0.9916 - val_loss: 1.8270 - val_crf_viterbi_accuracy: 0.9819\n",
            "Epoch 4/10\n",
            "30656/30656 [==============================] - 896s 29ms/step - loss: 1.7801 - crf_viterbi_accuracy: 0.9934 - val_loss: 1.8194 - val_crf_viterbi_accuracy: 0.9795\n",
            "Epoch 5/10\n",
            "30656/30656 [==============================] - 900s 29ms/step - loss: 1.7780 - crf_viterbi_accuracy: 0.9944 - val_loss: 1.8207 - val_crf_viterbi_accuracy: 0.9801\n",
            "Epoch 6/10\n",
            "30656/30656 [==============================] - 900s 29ms/step - loss: 1.7767 - crf_viterbi_accuracy: 0.9954 - val_loss: 1.8300 - val_crf_viterbi_accuracy: 0.9790\n",
            "CPU times: user 2h 4min 30s, sys: 12min 36s, total: 2h 17min 6s\n",
            "Wall time: 1h 29min 45s\n"
          ],
          "name": "stdout"
        }
      ]
    },
    {
      "cell_type": "code",
      "metadata": {
        "id": "8s0FgEuUsKtq"
      },
      "source": [
        "#model.summary()"
      ],
      "execution_count": null,
      "outputs": []
    },
    {
      "cell_type": "code",
      "metadata": {
        "id": "Xhh5vuweIFpv"
      },
      "source": [
        "model.save_weights(dir_output)"
      ],
      "execution_count": null,
      "outputs": []
    },
    {
      "cell_type": "markdown",
      "metadata": {
        "id": "rkHgwBp5sLix"
      },
      "source": [
        "Output = viterbi_sequence, inputs(the output of the previous layer), sequence_lengths (mask), self.transitions (crf transmission parameters)"
      ]
    },
    {
      "cell_type": "markdown",
      "metadata": {
        "id": "r3MW7xse7hJs"
      },
      "source": [
        "# LEARNING CURVES"
      ]
    },
    {
      "cell_type": "code",
      "metadata": {
        "id": "vMEPQvHlku3K"
      },
      "source": [
        "#history.history"
      ],
      "execution_count": null,
      "outputs": []
    },
    {
      "cell_type": "code",
      "metadata": {
        "id": "WRgNc7bHb9lS"
      },
      "source": [
        "epochs = len(history.epoch)"
      ],
      "execution_count": null,
      "outputs": []
    },
    {
      "cell_type": "code",
      "metadata": {
        "id": "HOVDfCfNkbO3",
        "colab": {
          "base_uri": "https://localhost:8080/",
          "height": 295
        },
        "outputId": "584a25e7-315e-44ae-8639-3e08f6241255"
      },
      "source": [
        "loss_train = history.history[\"loss\"]\n",
        "loss_val = history.history['val_loss']\n",
        "epochs = range(1,epochs+1)\n",
        "plt.plot(epochs, loss_train, 'g', label='Training loss')\n",
        "plt.plot(epochs, loss_val, 'b', label='Validation loss')\n",
        "plt.title('Training and Validation loss')\n",
        "plt.xlabel('Epochs')\n",
        "plt.ylabel('Loss')\n",
        "plt.legend()\n",
        "plt.show()"
      ],
      "execution_count": null,
      "outputs": [
        {
          "output_type": "display_data",
          "data": {
            "image/png": "[encoded data removed]",
            "text/plain": [
              "<Figure size 432x288 with 1 Axes>"
            ]
          },
          "metadata": {
            "tags": []
          }
        }
      ]
    },
    {
      "cell_type": "code",
      "metadata": {
        "id": "ekQcq6_CsAXI",
        "colab": {
          "base_uri": "https://localhost:8080/",
          "height": 295
        },
        "outputId": "17ef141b-3c98-4c53-c2e5-065f7802f6ea"
      },
      "source": [
        "loss_train = history.history[\"crf_viterbi_accuracy\"]\n",
        "loss_val = history.history['val_crf_viterbi_accuracy']\n",
        "plt.plot(epochs, loss_train, 'g', label='Training accuracy')\n",
        "plt.plot(epochs, loss_val, 'b', label='Validation accuracy')\n",
        "plt.title('Training and Validation accuracy')\n",
        "plt.xlabel('Epochs')\n",
        "plt.ylabel('Accuracy')\n",
        "plt.legend()\n",
        "plt.show()"
      ],
      "execution_count": null,
      "outputs": [
        {
          "output_type": "display_data",
          "data": {
            "image/png": "[encoded data removed]",
            "text/plain": [
              "<Figure size 432x288 with 1 Axes>"
            ]
          },
          "metadata": {
            "tags": []
          }
        }
      ]
    },
    {
      "cell_type": "markdown",
      "metadata": {
        "id": "c7KEF-UBsd6K"
      },
      "source": [
        "# PREDICTION AND EVALUATION"
      ]
    },
    {
      "cell_type": "code",
      "metadata": {
        "id": "YgmfKKkgINSs"
      },
      "source": [
        "#model.built = True "
      ],
      "execution_count": null,
      "outputs": []
    },
    {
      "cell_type": "code",
      "metadata": {
        "id": "aQ4fq4ByIPwY"
      },
      "source": [
        "model.load_weights(dir_output)"
      ],
      "execution_count": null,
      "outputs": []
    },
    {
      "cell_type": "code",
      "metadata": {
        "id": "Al_Vl3-H6MQG"
      },
      "source": [
        "X_test_elmo = X_test_elmo[:57*batch_size]\n",
        "X_test_emb = new_X_test1[:57*batch_size]\n",
        "y_test = y_test[:57*batch_size]"
      ],
      "execution_count": null,
      "outputs": []
    },
    {
      "cell_type": "code",
      "metadata": {
        "id": "8czGvBvP3GSM",
        "colab": {
          "base_uri": "https://localhost:8080/"
        },
        "outputId": "6239b20c-f9f6-4887-cc09-3784d91612bd"
      },
      "source": [
        "%%time\n",
        "y_pred = model.predict([np.array(X_test_elmo), np.array(X_test_emb)])"
      ],
      "execution_count": null,
      "outputs": [
        {
          "output_type": "stream",
          "text": [
            "CPU times: user 28 s, sys: 2.84 s, total: 30.9 s\n",
            "Wall time: 20.9 s\n"
          ],
          "name": "stdout"
        }
      ]
    },
    {
      "cell_type": "markdown",
      "metadata": {
        "id": "3enF2eUZfnCc"
      },
      "source": [
        "# REPORT"
      ]
    },
    {
      "cell_type": "code",
      "metadata": {
        "id": "xz5hy9GGTEc6"
      },
      "source": [
        "y_hat, y_true = ignoring_padding(y_pred, y_test)"
      ],
      "execution_count": null,
      "outputs": []
    },
    {
      "cell_type": "code",
      "metadata": {
        "id": "Eqr5KO-aTRuE",
        "colab": {
          "base_uri": "https://localhost:8080/"
        },
        "outputId": "2f319a19-4981-4b43-9916-11b75d38f45e"
      },
      "source": [
        "from seqeval.metrics import classification_report\n",
        "from seqeval.scheme import IOB2\n",
        "\n",
        "print('\\033[1m' + \"Classification report for #1 model without LR optimization: \")\n",
        "print('\\033[0m')\n",
        "print(classification_report(y_true, y_hat))"
      ],
      "execution_count": null,
      "outputs": [
        {
          "output_type": "stream",
          "text": [
            "\u001b[1mClassification report for #1 model without LR optimization: \n",
            "\u001b[0m\n",
            "              precision    recall  f1-score   support\n",
            "\n",
            "    Chemical       0.77      0.87      0.82      1567\n",
            "\n",
            "   micro avg       0.77      0.87      0.82      1567\n",
            "   macro avg       0.77      0.87      0.82      1567\n",
            "weighted avg       0.77      0.87      0.82      1567\n",
            "\n"
          ],
          "name": "stdout"
        }
      ]
    },
    {
      "cell_type": "code",
      "metadata": {
        "id": "IMmqvk0-2pGn",
        "colab": {
          "base_uri": "https://localhost:8080/"
        },
        "outputId": "c7eb17ea-01e6-422f-ba2b-e0626705e9b1"
      },
      "source": [
        "print(\"F1-score(relaxed): {:0.3}\".format(f1_score(y_true, y_hat, average = \"weighted\")))"
      ],
      "execution_count": null,
      "outputs": [
        {
          "output_type": "stream",
          "text": [
            "F1-score(relaxed): 0.816\n"
          ],
          "name": "stdout"
        }
      ]
    },
    {
      "cell_type": "code",
      "metadata": {
        "colab": {
          "base_uri": "https://localhost:8080/"
        },
        "id": "X0wED9BpIgmI",
        "outputId": "d264518f-9d16-46d6-f8cc-e58e5d3ada76"
      },
      "source": [
        "from seqeval.scheme import IOB2\n",
        "print('\\033[1m' + \"Classification report for #1 model without LR optimization (exact match): \")\n",
        "print('\\033[0m')\n",
        "print(classification_report(y_true, y_hat, scheme=IOB2, mode=\"strict\"))"
      ],
      "execution_count": null,
      "outputs": [
        {
          "output_type": "stream",
          "text": [
            "\u001b[1mClassification report for #1 model without LR optimization (exact match): \n",
            "\u001b[0m\n",
            "              precision    recall  f1-score   support\n",
            "\n",
            "    Chemical       0.77      0.87      0.82      1567\n",
            "\n",
            "   micro avg       0.77      0.87      0.82      1567\n",
            "   macro avg       0.77      0.87      0.82      1567\n",
            "weighted avg       0.77      0.87      0.82      1567\n",
            "\n"
          ],
          "name": "stdout"
        }
      ]
    },
    {
      "cell_type": "code",
      "metadata": {
        "id": "vX2XICRm2qYp",
        "colab": {
          "base_uri": "https://localhost:8080/"
        },
        "outputId": "9e66ed46-df3c-4819-9a45-e1ade2336195"
      },
      "source": [
        "\n",
        "print(\"F1-score: {:0.3}\".format(f1_score(y_true, y_hat, average = \"weighted\", scheme=IOB2, mode=\"strict\")))"
      ],
      "execution_count": null,
      "outputs": [
        {
          "output_type": "stream",
          "text": [
            "F1-score: 0.816\n"
          ],
          "name": "stdout"
        }
      ]
    },
    {
      "cell_type": "markdown",
      "metadata": {
        "id": "xK7qn8lZmK5E"
      },
      "source": [
        "# COMPARE RESULTS"
      ]
    },
    {
      "cell_type": "code",
      "metadata": {
        "id": "Tg4mimjj1_8L"
      },
      "source": [
        "i = 18  #prendi il chunck di frasi da 390 a 390+32\n",
        "p = model.predict([np.array(X_test_elmo[i:i+batch_size]), np.array(X_test_emb[i:i+batch_size])])[0] \n",
        "p = np.argmax(p, axis=-1)"
      ],
      "execution_count": null,
      "outputs": []
    },
    {
      "cell_type": "code",
      "metadata": {
        "id": "K6XvvQGd1pmL",
        "colab": {
          "base_uri": "https://localhost:8080/"
        },
        "outputId": "c65c911f-9e69-4084-b6be-8d464875f3d4"
      },
      "source": [
        "X_test1=X_test_elmo\n",
        "y_test1=y_test\n",
        "print(\"{:15} ({:5}): {}\".format(\"Word\", \"Pred\", \"True\"))\n",
        "print(\"=\"*45)\n",
        "for w, true, pred in zip(X_test1[i], y_test1[i], p):\n",
        "    if w != \"PAD\":\n",
        "      print(\"{:15}:{:15} {:5}\".format(w, idx2tag[pred], idx2tag[true]))"
      ],
      "execution_count": null,
      "outputs": [
        {
          "output_type": "stream",
          "text": [
            "Word            (Pred ): True\n",
            "=============================================\n",
            "Endothelial    :O               O    \n",
            "nitric         :B-Chemical      B-Chemical\n",
            "oxide          :I-Chemical      I-Chemical\n",
            "synthase       :O               O    \n",
            "genotypes      :O               O    \n",
            "and            :O               O    \n",
            "haplotypes     :O               O    \n",
            "modify         :O               O    \n",
            "the            :O               O    \n",
            "responses      :O               O    \n",
            "to             :O               O    \n",
            "sildenafil     :B-Chemical      B-Chemical\n",
            "in             :O               O    \n",
            "patients       :O               O    \n",
            "with           :O               O    \n",
            "erectile       :O               O    \n",
            "dysfunction    :O               O    \n",
            ".              :O               O    \n"
          ],
          "name": "stdout"
        }
      ]
    },
    {
      "cell_type": "markdown",
      "metadata": {
        "id": "tzUc7iv-Q5WL"
      },
      "source": [
        "# TUNING LEARNING RATE"
      ]
    },
    {
      "cell_type": "markdown",
      "metadata": {
        "id": "KTHKE814fo9d"
      },
      "source": [
        "LRFinder implements a Keras Callback which tracks the loss associated with a learning rate varied linearly over a defined range. Implementation by https://gist.github.com/jeremyjordan"
      ]
    },
    {
      "cell_type": "code",
      "metadata": {
        "id": "y8CObaTBJJWy"
      },
      "source": [
        "from keras.callbacks import Callback"
      ],
      "execution_count": null,
      "outputs": []
    },
    {
      "cell_type": "code",
      "metadata": {
        "id": "BHbSpVi8kdR7",
        "colab": {
          "base_uri": "https://localhost:8080/",
          "height": 243
        },
        "outputId": "95e7a63d-a07a-46af-e5f5-f933220bad4c"
      },
      "source": [
        "\"\"\"from keras.callbacks import Callback\n",
        "import keras.backend as K\n",
        "import numpy as np\n",
        "import matplotlib.pyplot as plt\n",
        "\n",
        "class LRFinder(Callback):\n",
        "  \n",
        "    Up-to date version: https://github.com/WittmannF/LRFinder\n",
        "    Example of usage:\n",
        "        from keras.models import Sequential\n",
        "        from keras.layers import Flatten, Dense\n",
        "        from keras.datasets import fashion_mnist\n",
        "        !git clone https://github.com/WittmannF/LRFinder.git\n",
        "        from LRFinder.keras_callback import LRFinder\n",
        "        # 1. Input Data\n",
        "        (X_train, y_train), (X_test, y_test) = fashion_mnist.load_data()\n",
        "        mean, std = X_train.mean(), X_train.std()\n",
        "        X_train, X_test = (X_train-mean)/std, (X_test-mean)/std\n",
        "        # 2. Define and Compile Model\n",
        "        model = Sequential([Flatten(),\n",
        "                            Dense(512, activation='relu'),\n",
        "                            Dense(10, activation='softmax')])\n",
        "        model.compile(loss='sparse_categorical_crossentropy', \\\n",
        "                      metrics=['accuracy'], optimizer='sgd')\n",
        "        # 3. Fit using Callback\n",
        "        lr_finder = LRFinder(min_lr=1e-4, max_lr=1)\n",
        "        model.fit(X_train, y_train, batch_size=128, callbacks=[lr_finder], epochs=2)\n",
        "    \n",
        "    def __init__(self, min_lr, max_lr, mom=0.9, stop_multiplier=None, \n",
        "                 reload_weights=True, batches_lr_update=5):\n",
        "        self.min_lr = min_lr\n",
        "        self.max_lr = max_lr\n",
        "        self.mom = mom\n",
        "        self.reload_weights = reload_weights\n",
        "        self.batches_lr_update = batches_lr_update\n",
        "        if stop_multiplier is None:\n",
        "            self.stop_multiplier = -20*self.mom/3 + 10 # 4 if mom=0.9\n",
        "                                                       # 10 if mom=0\n",
        "        else:\n",
        "            self.stop_multiplier = stop_multiplier\n",
        "        \n",
        "    def on_train_begin(self, logs={}):\n",
        "        p = self.params\n",
        "        try:\n",
        "            n_iterations = p['epochs']*p['samples']//p['batch_size']\n",
        "        except:\n",
        "            n_iterations = p['steps']*p['epochs']\n",
        "            \n",
        "        self.learning_rates = np.geomspace(self.min_lr, self.max_lr, \\\n",
        "                                           num=n_iterations//self.batches_lr_update+1)\n",
        "        self.losses=[]\n",
        "        self.iteration=0\n",
        "        self.best_loss=0\n",
        "        if self.reload_weights:\n",
        "            self.model.save_weights('tmp.hdf5')\n",
        "        \n",
        "    \n",
        "    def on_batch_end(self, batch, logs={}):\n",
        "        loss = logs.get('loss')\n",
        "        \n",
        "        if self.iteration!=0: # Make loss smoother using momentum\n",
        "            loss = self.losses[-1]*self.mom+loss*(1-self.mom)\n",
        "        \n",
        "        if self.iteration==0 or loss < self.best_loss: \n",
        "                self.best_loss = loss\n",
        "                \n",
        "        if self.iteration%self.batches_lr_update==0: # Evaluate each lr over 5 epochs\n",
        "            \n",
        "            if self.reload_weights:\n",
        "                self.model.load_weights('tmp.hdf5')\n",
        "          \n",
        "            lr = self.learning_rates[self.iteration//self.batches_lr_update]            \n",
        "            K.set_value(self.model.optimizer.lr, lr)\n",
        "\n",
        "            self.losses.append(loss)            \n",
        "\n",
        "        if loss > self.best_loss*self.stop_multiplier: # Stop criteria\n",
        "            self.model.stop_training = True\n",
        "                \n",
        "        self.iteration += 1\n",
        "    \n",
        "    def on_train_end(self, logs=None):\n",
        "        if self.reload_weights:\n",
        "                self.model.load_weights('tmp.hdf5')\n",
        "                \n",
        "        plt.figure(figsize=(12, 6))\n",
        "        plt.plot(self.learning_rates[:len(self.losses)], self.losses)\n",
        "        plt.xlabel(\"Learning Rate\")\n",
        "        plt.ylabel(\"Loss\")\n",
        "        plt.xscale('log')\n",
        "        plt.show()\n",
        "       \n",
        "\"\"\""
      ],
      "execution_count": null,
      "outputs": [
        {
          "output_type": "execute_result",
          "data": {
            "application/vnd.google.colaboratory.intrinsic+json": {
              "type": "string"
            },
            "text/plain": [
              "'from keras.callbacks import Callback\\nimport keras.backend as K\\nimport numpy as np\\nimport matplotlib.pyplot as plt\\n\\nclass LRFinder(Callback):\\n  \\n    Up-to date version: https://github.com/WittmannF/LRFinder\\n    Example of usage:\\n        from keras.models import Sequential\\n        from keras.layers import Flatten, Dense\\n        from keras.datasets import fashion_mnist\\n        !git clone https://github.com/WittmannF/LRFinder.git\\n        from LRFinder.keras_callback import LRFinder\\n        # 1. Input Data\\n        (X_train, y_train), (X_test, y_test) = fashion_mnist.load_data()\\n        mean, std = X_train.mean(), X_train.std()\\n        X_train, X_test = (X_train-mean)/std, (X_test-mean)/std\\n        # 2. Define and Compile Model\\n        model = Sequential([Flatten(),\\n                            Dense(512, activation=\\'relu\\'),\\n                            Dense(10, activation=\\'softmax\\')])\\n        model.compile(loss=\\'sparse_categorical_crossentropy\\',                       metrics=[\\'accuracy\\'], optimizer=\\'sgd\\')\\n        # 3. Fit using Callback\\n        lr_finder = LRFinder(min_lr=1e-4, max_lr=1)\\n        model.fit(X_train, y_train, batch_size=128, callbacks=[lr_finder], epochs=2)\\n    \\n    def __init__(self, min_lr, max_lr, mom=0.9, stop_multiplier=None, \\n                 reload_weights=True, batches_lr_update=5):\\n        self.min_lr = min_lr\\n        self.max_lr = max_lr\\n        self.mom = mom\\n        self.reload_weights = reload_weights\\n        self.batches_lr_update = batches_lr_update\\n        if stop_multiplier is None:\\n            self.stop_multiplier = -20*self.mom/3 + 10 # 4 if mom=0.9\\n                                                       # 10 if mom=0\\n        else:\\n            self.stop_multiplier = stop_multiplier\\n        \\n    def on_train_begin(self, logs={}):\\n        p = self.params\\n        try:\\n            n_iterations = p[\\'epochs\\']*p[\\'samples\\']//p[\\'batch_size\\']\\n        except:\\n            n_iterations = p[\\'steps\\']*p[\\'epochs\\']\\n            \\n        self.learning_rates = np.geomspace(self.min_lr, self.max_lr,                                            num=n_iterations//self.batches_lr_update+1)\\n        self.losses=[]\\n        self.iteration=0\\n        self.best_loss=0\\n        if self.reload_weights:\\n            self.model.save_weights(\\'tmp.hdf5\\')\\n        \\n    \\n    def on_batch_end(self, batch, logs={}):\\n        loss = logs.get(\\'loss\\')\\n        \\n        if self.iteration!=0: # Make loss smoother using momentum\\n            loss = self.losses[-1]*self.mom+loss*(1-self.mom)\\n        \\n        if self.iteration==0 or loss < self.best_loss: \\n                self.best_loss = loss\\n                \\n        if self.iteration%self.batches_lr_update==0: # Evaluate each lr over 5 epochs\\n            \\n            if self.reload_weights:\\n                self.model.load_weights(\\'tmp.hdf5\\')\\n          \\n            lr = self.learning_rates[self.iteration//self.batches_lr_update]            \\n            K.set_value(self.model.optimizer.lr, lr)\\n\\n            self.losses.append(loss)            \\n\\n        if loss > self.best_loss*self.stop_multiplier: # Stop criteria\\n            self.model.stop_training = True\\n                \\n        self.iteration += 1\\n    \\n    def on_train_end(self, logs=None):\\n        if self.reload_weights:\\n                self.model.load_weights(\\'tmp.hdf5\\')\\n                \\n        plt.figure(figsize=(12, 6))\\n        plt.plot(self.learning_rates[:len(self.losses)], self.losses)\\n        plt.xlabel(\"Learning Rate\")\\n        plt.ylabel(\"Loss\")\\n        plt.xscale(\\'log\\')\\n        plt.show()\\n       \\n'"
            ]
          },
          "metadata": {
            "tags": []
          },
          "execution_count": 95
        }
      ]
    },
    {
      "cell_type": "code",
      "metadata": {
        "id": "pUG2MwRKeZWn",
        "colab": {
          "base_uri": "https://localhost:8080/",
          "height": 105
        },
        "outputId": "408474ec-2dff-4739-a519-afab8488945d"
      },
      "source": [
        "\"\"\"# Get an instance of LRTest class\n",
        "lr_finder = LRFinder(min_lr=1e-4, max_lr=1)\n",
        "\n",
        "# Build the model again\n",
        "model2 = build_model(RMSprop())\n",
        "\n",
        "# Perform the LR range test \n",
        "history = model2.fit([X_train_elmo, np.array(X_train)],y_train, epochs=5, batch_size=batch_size, verbose=1, validation_data=([X_val_elmo, np.array(X_val)], y_val), callbacks=[lr_finder])\"\"\""
      ],
      "execution_count": null,
      "outputs": [
        {
          "output_type": "execute_result",
          "data": {
            "application/vnd.google.colaboratory.intrinsic+json": {
              "type": "string"
            },
            "text/plain": [
              "'# Get an instance of LRTest class\\nlr_finder = LRFinder(min_lr=1e-4, max_lr=1)\\n\\n# Build the model again\\nmodel2 = build_model(RMSprop())\\n\\n# Perform the LR range test \\nhistory = model2.fit([X_train_elmo, np.array(X_train)],y_train, epochs=5, batch_size=batch_size, verbose=1, validation_data=([X_val_elmo, np.array(X_val)], y_val), callbacks=[lr_finder])'"
            ]
          },
          "metadata": {
            "tags": []
          },
          "execution_count": 96
        }
      ]
    },
    {
      "cell_type": "markdown",
      "metadata": {
        "id": "iXIuCA17hdEA"
      },
      "source": [
        "# TRAIN THE MODEL WITH OPTIMAL LR"
      ]
    },
    {
      "cell_type": "code",
      "metadata": {
        "id": "xAus82v2hjEW"
      },
      "source": [
        "# Build the model with the optimal lr\n",
        "#model3 = build_model(RMSprop(lr=10**-3.0))\n",
        "\n",
        "# Train the model\n",
        "#model3.fit([X_train_elmo, np.array(X_train)],y_train, epochs=5, batch_size=batch_size, verbose=1, validation_data=([X_val_elmo, np.array(X_val)], y_val), callbacks=mycallbacks)"
      ],
      "execution_count": null,
      "outputs": []
    },
    {
      "cell_type": "code",
      "metadata": {
        "id": "Z74WjjD7E1_-"
      },
      "source": [
        "y_pred = model.predict([np.array(X_test_elmo), np.array(X_test_emb)])"
      ],
      "execution_count": null,
      "outputs": []
    },
    {
      "cell_type": "code",
      "metadata": {
        "id": "2gTacN2eflQi"
      },
      "source": [
        "y_pred = model.predict([np.array(X_test_elmo), np.array(X_test_emb)])"
      ],
      "execution_count": null,
      "outputs": []
    },
    {
      "cell_type": "code",
      "metadata": {
        "id": "CLT1mAHerqFu",
        "colab": {
          "base_uri": "https://localhost:8080/"
        },
        "outputId": "5b05d461-188c-4158-9da2-2f22f252293f"
      },
      "source": [
        "%%time\n",
        "y_hat, y_true = ignoring_padding(y_pred, y_test)"
      ],
      "execution_count": null,
      "outputs": [
        {
          "output_type": "stream",
          "text": [
            "CPU times: user 49.1 ms, sys: 1.13 ms, total: 50.3 ms\n",
            "Wall time: 52 ms\n"
          ],
          "name": "stdout"
        }
      ]
    },
    {
      "cell_type": "markdown",
      "metadata": {
        "id": "b-J-2u7HStaY"
      },
      "source": [
        "# REPORT2"
      ]
    },
    {
      "cell_type": "code",
      "metadata": {
        "id": "aqOnrrK4rrOA",
        "colab": {
          "base_uri": "https://localhost:8080/"
        },
        "outputId": "849b62d3-4124-4bbd-a1cb-2740ccce7045"
      },
      "source": [
        "print('\\033[1m' + \"Classification report for #2 model with LR optimization: \")\n",
        "print('\\033[0m')\n",
        "print(classification_report(y_true, y_hat))"
      ],
      "execution_count": null,
      "outputs": [
        {
          "output_type": "stream",
          "text": [
            "\u001b[1mClassification report for #2 model with LR optimization: \n",
            "\u001b[0m\n",
            "              precision    recall  f1-score   support\n",
            "\n",
            "    Chemical       0.77      0.87      0.82      1567\n",
            "\n",
            "   micro avg       0.77      0.87      0.82      1567\n",
            "   macro avg       0.77      0.87      0.82      1567\n",
            "weighted avg       0.77      0.87      0.82      1567\n",
            "\n"
          ],
          "name": "stdout"
        }
      ]
    },
    {
      "cell_type": "code",
      "metadata": {
        "id": "YOKLi9dASwqC",
        "colab": {
          "base_uri": "https://localhost:8080/"
        },
        "outputId": "4a34b74a-a290-41ea-ee96-010eb4a4b115"
      },
      "source": [
        "print(\"F1-score(relaxed): {:0.3}\".format(f1_score(y_true, y_hat, average = \"weighted\")))"
      ],
      "execution_count": null,
      "outputs": [
        {
          "output_type": "stream",
          "text": [
            "F1-score(relaxed): 0.816\n"
          ],
          "name": "stdout"
        }
      ]
    },
    {
      "cell_type": "code",
      "metadata": {
        "colab": {
          "base_uri": "https://localhost:8080/"
        },
        "id": "On1EHTUdIxVp",
        "outputId": "63b4c3d3-9667-47bb-dc06-e858228cb71e"
      },
      "source": [
        "print('\\033[1m' + \"Classification report for #1 model without LR optimization (exact match): \")\n",
        "print('\\033[0m')\n",
        "print(classification_report(y_true, y_hat, scheme=IOB2, mode=\"strict\"))"
      ],
      "execution_count": null,
      "outputs": [
        {
          "output_type": "stream",
          "text": [
            "\u001b[1mClassification report for #1 model without LR optimization (exact match): \n",
            "\u001b[0m\n",
            "              precision    recall  f1-score   support\n",
            "\n",
            "    Chemical       0.77      0.87      0.82      1567\n",
            "\n",
            "   micro avg       0.77      0.87      0.82      1567\n",
            "   macro avg       0.77      0.87      0.82      1567\n",
            "weighted avg       0.77      0.87      0.82      1567\n",
            "\n"
          ],
          "name": "stdout"
        }
      ]
    },
    {
      "cell_type": "code",
      "metadata": {
        "id": "L3EMnps_S0r1",
        "colab": {
          "base_uri": "https://localhost:8080/"
        },
        "outputId": "006bd80b-f29b-4cd3-d64f-1300c673a778"
      },
      "source": [
        "print(\"F1-score: {:0.3}\".format(f1_score(y_true, y_hat, average = \"weighted\", scheme=IOB2, mode=\"strict\")))"
      ],
      "execution_count": null,
      "outputs": [
        {
          "output_type": "stream",
          "text": [
            "F1-score: 0.816\n"
          ],
          "name": "stdout"
        }
      ]
    },
    {
      "cell_type": "code",
      "metadata": {
        "id": "knra4M2_sCir",
        "colab": {
          "base_uri": "https://localhost:8080/"
        },
        "outputId": "de3d4e6f-db60-4dd8-fbd6-2306f39b7ba2"
      },
      "source": [
        "import sys\n",
        "\n",
        "print('Saving classification report on file...')\n",
        "\n",
        "original_stdout = sys.stdout \n",
        "\n",
        "with open('/content/drive/MyDrive/output.txt', 'a') as f:\n",
        "  sys.stdout = f # Change the standard output to the file we created.\n",
        "  print('\\033[1m' + \"Classification report ELMO+Bi-LSTM+CRF for BC4CHEMD dataset: \")\n",
        "  print('\\033[0m')\n",
        "  print(classification_report(y_true, y_hat))\n",
        "  sys.stdout = original_stdout # Reset the standard output to its original value\n",
        "print(\"Done.\")"
      ],
      "execution_count": null,
      "outputs": [
        {
          "output_type": "stream",
          "text": [
            "Saving classification report on file...\n",
            "Done.\n"
          ],
          "name": "stdout"
        }
      ]
    }
  ]
}