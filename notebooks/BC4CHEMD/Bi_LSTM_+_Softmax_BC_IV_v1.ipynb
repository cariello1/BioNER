{
  "nbformat": 4,
  "nbformat_minor": 0,
  "metadata": {
    "colab": {
      "name": "Bi-LSTM + Softmax - BC-IV.ipynb",
      "provenance": [],
      "collapsed_sections": [
        "tzUc7iv-Q5WL"
      ],
      "toc_visible": true
    },
    "kernelspec": {
      "display_name": "Python 3",
      "name": "python3"
    }
  },
  "cells": [
    {
      "cell_type": "code",
      "metadata": {
        "colab": {
          "base_uri": "https://localhost:8080/"
        },
        "id": "9y5ZEboAmBt0",
        "outputId": "e852621a-d098-4e0e-92ce-3d7cccce41b4"
      },
      "source": [
        "from google.colab import drive\n",
        "drive.mount(\"/content/drive\")"
      ],
      "execution_count": null,
      "outputs": [
        {
          "output_type": "stream",
          "text": [
            "Drive already mounted at /content/drive; to attempt to forcibly remount, call drive.mount(\"/content/drive\", force_remount=True).\n"
          ],
          "name": "stdout"
        }
      ]
    },
    {
      "cell_type": "code",
      "metadata": {
        "colab": {
          "base_uri": "https://localhost:8080/"
        },
        "id": "mJcWWSTLEvYT",
        "outputId": "9e7d1468-d91f-4ccb-d47f-79950e41e730"
      },
      "source": [
        "# The token can be used to access the repository\n",
        "!git clone https://github.com/cariello1/BIO-NER-.git"
      ],
      "execution_count": null,
      "outputs": [
        {
          "output_type": "stream",
          "text": [
            "Cloning into 'BIO-NER-'...\n",
            "remote: Enumerating objects: 496, done.\u001b[K\n",
            "remote: Counting objects: 100% (131/131), done.\u001b[K\n",
            "remote: Compressing objects: 100% (131/131), done.\u001b[K\n",
            "remote: Total 496 (delta 76), reused 0 (delta 0), pack-reused 365\u001b[K\n",
            "Receiving objects: 100% (496/496), 12.49 MiB | 19.76 MiB/s, done.\n",
            "Resolving deltas: 100% (262/262), done.\n"
          ],
          "name": "stdout"
        }
      ]
    },
    {
      "cell_type": "code",
      "metadata": {
        "colab": {
          "base_uri": "https://localhost:8080/"
        },
        "id": "ADTC_021I8oR",
        "outputId": "ecfb7c29-014e-499e-d828-73bce189c581"
      },
      "source": [
        "%cd /content/BIO-NER-"
      ],
      "execution_count": null,
      "outputs": [
        {
          "output_type": "stream",
          "text": [
            "/content/BIO-NER-\n"
          ],
          "name": "stdout"
        }
      ]
    },
    {
      "cell_type": "code",
      "metadata": {
        "id": "Poz28KLzz43h"
      },
      "source": [
        "from preprocessing_1 import PreprocessingDocsNN\n",
        "from preprocessing_1 import read_data"
      ],
      "execution_count": null,
      "outputs": []
    },
    {
      "cell_type": "code",
      "metadata": {
        "colab": {
          "base_uri": "https://localhost:8080/",
          "height": 35
        },
        "id": "kG6KWlWxtkkJ",
        "outputId": "87b907fd-ec5c-486c-af07-a31d067773b4"
      },
      "source": [
        "import tensorflow as tf\n",
        "tf.__version__"
      ],
      "execution_count": null,
      "outputs": [
        {
          "output_type": "execute_result",
          "data": {
            "application/vnd.google.colaboratory.intrinsic+json": {
              "type": "string"
            },
            "text/plain": [
              "'2.4.1'"
            ]
          },
          "metadata": {
            "tags": []
          },
          "execution_count": 5
        }
      ]
    },
    {
      "cell_type": "markdown",
      "metadata": {
        "id": "bec-uDBVmKfv"
      },
      "source": [
        "# PREPROCESSING"
      ]
    },
    {
      "cell_type": "code",
      "metadata": {
        "id": "RU7s0Jt5mUe9"
      },
      "source": [
        "import numpy as np\n",
        "import seaborn as sns\n",
        "sns.set_style(\"whitegrid\")\n",
        "from matplotlib import pyplot as plt\n",
        "import tensorflow"
      ],
      "execution_count": null,
      "outputs": []
    },
    {
      "cell_type": "code",
      "metadata": {
        "id": "v8mEjQ4GCD8R"
      },
      "source": [
        "# For reproducibility\n",
        "seed = 937\n",
        "np.random.seed(seed)\n",
        "tensorflow.compat.v1.set_random_seed(seed)"
      ],
      "execution_count": null,
      "outputs": []
    },
    {
      "cell_type": "code",
      "metadata": {
        "id": "8-5jG5Cag47Z"
      },
      "source": [
        "# Original data in IOB format\n",
        "file1_train = \"/content/drive/MyDrive/BIO-NER-project/BC4CHEMD-IOB/BC4CHEMD/train.tsv\"\n",
        "file2_test = \"/content/drive/MyDrive/BIO-NER-project/BC4CHEMD-IOB/BC4CHEMD/test.tsv\"\n",
        "file3_dev = \"/content/drive/MyDrive/BIO-NER-project/BC4CHEMD-IOB/BC4CHEMD/devel.tsv\""
      ],
      "execution_count": null,
      "outputs": []
    },
    {
      "cell_type": "code",
      "metadata": {
        "colab": {
          "base_uri": "https://localhost:8080/"
        },
        "id": "SsFajR5BmbV6",
        "outputId": "f8bbd7c8-5d1c-4c4d-ab92-6bbfa4cde259"
      },
      "source": [
        "input_train = read_data(file1_train)\n",
        "input_test = read_data(file2_test)\n",
        "input_dev = read_data(file3_dev)"
      ],
      "execution_count": null,
      "outputs": [
        {
          "output_type": "stream",
          "text": [
            "Total number of sentences: 30682 \n",
            "Total number of sentences: 26364 \n",
            "Total number of sentences: 30639 \n"
          ],
          "name": "stdout"
        }
      ]
    },
    {
      "cell_type": "code",
      "metadata": {
        "id": "vGYtXWLMmwQL"
      },
      "source": [
        "docs_train = PreprocessingDocsNN(input_train)\n",
        "docs_test = PreprocessingDocsNN(input_test)\n",
        "docs_dev = PreprocessingDocsNN(input_dev)"
      ],
      "execution_count": null,
      "outputs": []
    },
    {
      "cell_type": "code",
      "metadata": {
        "colab": {
          "base_uri": "https://localhost:8080/"
        },
        "id": "CJ4objI4mo3v",
        "outputId": "f886d3a8-10d4-4dc1-bac3-7c7d21c882a6"
      },
      "source": [
        "# First sentence of dataset with both words and labels\n",
        "print('This is what a sentence looks like:{}'.format(input_train[14]))"
      ],
      "execution_count": null,
      "outputs": [
        {
          "output_type": "stream",
          "text": [
            "This is what a sentence looks like:[('Data', 'O'), ('on', 'O'), ('body', 'O'), ('weight', 'O'), (',', 'O'), ('body', 'O'), ('weight', 'O'), ('gain', 'O'), ('(', 'O'), ('BWG', 'O'), (')', 'O'), (',', 'O'), ('feed', 'O'), ('intake', 'O'), (',', 'O'), ('and', 'O'), ('feed', 'O'), ('conversion', 'O'), ('ratio', 'O'), ('(', 'O'), ('FCR', 'O'), (')', 'O'), ('were', 'O'), ('recorded', 'O'), ('at', 'O'), ('weekly', 'O'), ('intervals', 'O'), ('.', 'O')]\n"
          ],
          "name": "stdout"
        }
      ]
    },
    {
      "cell_type": "code",
      "metadata": {
        "colab": {
          "base_uri": "https://localhost:8080/"
        },
        "id": "MP-tJG-5o3eb",
        "outputId": "cf978442-8a48-4862-ffd4-c2ae22f526d0"
      },
      "source": [
        "print(\"\\033[1m\"+\"Statistics for the train set:\"+'\\033[0m')\n",
        "print(\"Number of sentences: {}\".format(len(docs_train.sentences)))\n",
        "print(\"Number of tokens: {}\".format(len(docs_train.tokens)))\n",
        "print(\"Size of vocabulary: {}\".format(len(docs_train.vocabulary)))\n",
        "print('Tagset:', ' '.join(docs_train.tagset))\n",
        "print(\"Number of Tags {}\".format(len(docs_train.tagset)))"
      ],
      "execution_count": null,
      "outputs": [
        {
          "output_type": "stream",
          "text": [
            "\u001b[1mStatistics for the train set:\u001b[0m\n",
            "Number of sentences: 30682\n",
            "Number of tokens: 891948\n",
            "Size of vocabulary: 40528\n",
            "Tagset: B-Chemical I-Chemical O\n",
            "Number of Tags 3\n"
          ],
          "name": "stdout"
        }
      ]
    },
    {
      "cell_type": "code",
      "metadata": {
        "colab": {
          "base_uri": "https://localhost:8080/"
        },
        "id": "V8eq1XLZu5gC",
        "outputId": "b49e6d72-bc5d-4c52-d5fd-3e7d8cb6ac60"
      },
      "source": [
        "docs_train.data[0]"
      ],
      "execution_count": null,
      "outputs": [
        {
          "output_type": "execute_result",
          "data": {
            "text/plain": [
              "[('DPP6', 'O'),\n",
              " ('as', 'O'),\n",
              " ('a', 'O'),\n",
              " ('candidate', 'O'),\n",
              " ('gene', 'O'),\n",
              " ('for', 'O'),\n",
              " ('neuroleptic', 'O'),\n",
              " ('-', 'O'),\n",
              " ('induced', 'O'),\n",
              " ('tardive', 'O'),\n",
              " ('dyskinesia', 'O'),\n",
              " ('.', 'O')]"
            ]
          },
          "metadata": {
            "tags": []
          },
          "execution_count": 55
        }
      ]
    },
    {
      "cell_type": "code",
      "metadata": {
        "id": "GM5_foioTloi"
      },
      "source": [
        "count = 0\n",
        "for s in docs_train.data:\n",
        "  for w, l in s:\n",
        "   if w.startswith(\"B\"):\n",
        "      count= count+1\n",
        "ent = []"
      ],
      "execution_count": null,
      "outputs": []
    },
    {
      "cell_type": "code",
      "metadata": {
        "colab": {
          "base_uri": "https://localhost:8080/"
        },
        "id": "GEebcjgcUS-N",
        "outputId": "e112461a-7a00-4728-c9b1-58f938c51502"
      },
      "source": [
        "print(count)"
      ],
      "execution_count": null,
      "outputs": [
        {
          "output_type": "stream",
          "text": [
            "3510\n"
          ],
          "name": "stdout"
        }
      ]
    },
    {
      "cell_type": "code",
      "metadata": {
        "id": "AmKkTsF4Ww1O"
      },
      "source": [
        "lista = []\n",
        "for x in docs_test.data:\n",
        "  for (w,l) in x:\n",
        "    if l.startswith(\"B-\"):\n",
        "      lista.append(w)\n",
        "\n"
      ],
      "execution_count": null,
      "outputs": []
    },
    {
      "cell_type": "code",
      "metadata": {
        "colab": {
          "base_uri": "https://localhost:8080/"
        },
        "id": "v8CiIkmQvQ9P",
        "outputId": "d1d12a9b-6e00-4f00-f14d-eb63a8d18cec"
      },
      "source": [
        "len(docs_test.sentences)"
      ],
      "execution_count": null,
      "outputs": [
        {
          "output_type": "execute_result",
          "data": {
            "text/plain": [
              "26364"
            ]
          },
          "metadata": {
            "tags": []
          },
          "execution_count": 76
        }
      ]
    },
    {
      "cell_type": "markdown",
      "metadata": {
        "id": "gceSg2ZovKo9"
      },
      "source": [
        "# DATA VISUALIZATION"
      ]
    },
    {
      "cell_type": "markdown",
      "metadata": {
        "id": "Mn9WhOBR2Far"
      },
      "source": [
        "Visualization of sentence distribution as a function of their length."
      ]
    },
    {
      "cell_type": "code",
      "metadata": {
        "id": "-EIJbHjyvfJN"
      },
      "source": [
        "sentences_len = np.array([len(s) for s in docs_train.sentences]) #list with len for each sents"
      ],
      "execution_count": null,
      "outputs": []
    },
    {
      "cell_type": "code",
      "metadata": {
        "id": "5ZUm_XmDwBNX"
      },
      "source": [
        "sen_mean = np.round(sentences_len.mean()).astype(int) "
      ],
      "execution_count": null,
      "outputs": []
    },
    {
      "cell_type": "code",
      "metadata": {
        "id": "3JOdj5fRL3WS"
      },
      "source": [
        "max_seq_len = 50 #timesteps"
      ],
      "execution_count": null,
      "outputs": []
    },
    {
      "cell_type": "code",
      "metadata": {
        "id": "3Rcmx1IMymcf"
      },
      "source": [
        "sns.set_palette(\"Set3\")"
      ],
      "execution_count": null,
      "outputs": []
    },
    {
      "cell_type": "code",
      "metadata": {
        "colab": {
          "base_uri": "https://localhost:8080/",
          "height": 350
        },
        "id": "jEjrX0jsvMmD",
        "outputId": "0ee53ef3-d270-4698-908e-ccf6c757cf27"
      },
      "source": [
        "sns.distplot(sentences_len, hist=True, kde=True, label=\"sentences length\")\n",
        "plt.axvline(x=max_seq_len, color=\"r\", linestyle=\"--\", label=\"fixed length\")\n",
        "plt.axvline(x=sen_mean, color=\"g\", linestyle=\"-\", label=\"mean\")\n",
        "plt.title(\"Sentence Length Distribution for BC-IV\")\n",
        "plt.xlabel(\"# Words\")\n",
        "plt.legend()\n",
        "plt.show()"
      ],
      "execution_count": null,
      "outputs": [
        {
          "output_type": "stream",
          "text": [
            "/usr/local/lib/python3.7/dist-packages/seaborn/distributions.py:2557: FutureWarning: `distplot` is a deprecated function and will be removed in a future version. Please adapt your code to use either `displot` (a figure-level function with similar flexibility) or `histplot` (an axes-level function for histograms).\n",
            "  warnings.warn(msg, FutureWarning)\n"
          ],
          "name": "stderr"
        },
        {
          "output_type": "display_data",
          "data": {
            "image/png": "[encoded data removed]",
            "text/plain": [
              "<Figure size 432x288 with 1 Axes>"
            ]
          },
          "metadata": {
            "tags": []
          }
        }
      ]
    },
    {
      "cell_type": "code",
      "metadata": {
        "colab": {
          "base_uri": "https://localhost:8080/"
        },
        "id": "lcEcf70AKHyC",
        "outputId": "3468c562-bf5d-4d01-c0f8-7219060d10ab"
      },
      "source": [
        "sent_less_than_msl = [s for s in docs_train.sentences if len(s) <= 50]\n",
        "perc_sent = round(len(sent_less_than_msl) / len(docs_train.sentences) * 100)\n",
        "print(\"The\", perc_sent,\"%\", \"of sentences has less or equal than 50 tokens.\")"
      ],
      "execution_count": null,
      "outputs": [
        {
          "output_type": "stream",
          "text": [
            "The 92 % of sentences has less or equal than 50 tokens.\n"
          ],
          "name": "stdout"
        }
      ]
    },
    {
      "cell_type": "markdown",
      "metadata": {
        "id": "7WynhFoUwfqr"
      },
      "source": [
        "# PREPROCESSING FOR TRAINING\n",
        "<p style='text-align: justify;'>Before feeding the data to the model we need to further preprocess the text. In order to feed the data to the Bi-LSTM model, we need to ensure that all text should be of the same length. The method sequence **pad_sequences()** and variable *max_seq_len* are used for this purpose. The text which are shorter than fixed *max_seq_len* value are padded to get them to the same length, whereas text which are longer than *max_seq_len* are truncated. Then, we use the **TextVectorization** layer from tf as text encoder. This allows to transforms a sequences of strings into a list of token indices. Every token in a sequence is mapped to a corresponding integer ID. This saves a lot of memory.</p>"
      ]
    },
    {
      "cell_type": "code",
      "metadata": {
        "id": "kkWFBVxSxLXg"
      },
      "source": [
        "# Padding sentences to the max_seq_len\n",
        "from keras.preprocessing.sequence import pad_sequences\n",
        "\n",
        "X_train_padded = pad_sequences(maxlen=max_seq_len, sequences=docs_train.sentences, padding=\"post\", value=\"\", dtype=object, truncating = \"post\")\n",
        "X_test_padded =  pad_sequences(maxlen=max_seq_len, sequences=docs_test.sentences, padding=\"post\", value=\"\", dtype=object, truncating = \"post\")\n",
        "X_dev_padded =  pad_sequences(maxlen=max_seq_len, sequences=docs_dev.sentences, padding=\"post\", value=\"\", dtype=object, truncating = \"post\")"
      ],
      "execution_count": null,
      "outputs": []
    },
    {
      "cell_type": "code",
      "metadata": {
        "colab": {
          "base_uri": "https://localhost:8080/"
        },
        "id": "r8DKpJo16zE8",
        "outputId": "140efe71-2b4e-4e5a-86a9-89d218ce3b0e"
      },
      "source": [
        "X_test_padded[812]"
      ],
      "execution_count": null,
      "outputs": [
        {
          "output_type": "execute_result",
          "data": {
            "text/plain": [
              "array(['NAAG', 'can', 'activate', 'these', 'presynaptic', 'receptors',\n",
              "       'with', 'extremely', 'high', 'affinity', 'and', 'with',\n",
              "       'characteristics', 'compatible', 'with', 'the', 'reported',\n",
              "       'mGluR3', 'pharmacology', '.', '', '', '', '', '', '', '', '', '',\n",
              "       '', '', '', '', '', '', '', '', '', '', '', '', '', '', '', '', '',\n",
              "       '', '', '', ''], dtype=object)"
            ]
          },
          "metadata": {
            "tags": []
          },
          "execution_count": 20
        }
      ]
    },
    {
      "cell_type": "code",
      "metadata": {
        "id": "hYX0jofnDn6p"
      },
      "source": [
        "# Vocabulary Key:Tag -> Value:ID_tag & Vocabulary Key:ID_tag -> Value:Tag\n",
        "tag2idx, idx2tag = docs_train.from_labels_2_idx()"
      ],
      "execution_count": null,
      "outputs": []
    },
    {
      "cell_type": "code",
      "metadata": {
        "colab": {
          "base_uri": "https://localhost:8080/"
        },
        "id": "4gldvG6j7k52",
        "outputId": "8f3e86fa-a4bd-4627-bbad-9e03f2a44263"
      },
      "source": [
        "tag2idx"
      ],
      "execution_count": null,
      "outputs": [
        {
          "output_type": "execute_result",
          "data": {
            "text/plain": [
              "{'B-Chemical': 3, 'I-Chemical': 2, 'O': 1, 'PAD': 0}"
            ]
          },
          "metadata": {
            "tags": []
          },
          "execution_count": 22
        }
      ]
    },
    {
      "cell_type": "code",
      "metadata": {
        "id": "wLom_ljyHJmN"
      },
      "source": [
        "# Padding and encoding the target variable\n",
        "y_train = docs_train.padded_and_encoded_labels(tag2idx, max_seq_len)\n",
        "y_test = docs_test.padded_and_encoded_labels(tag2idx, max_seq_len)\n",
        "y_dev = docs_dev.padded_and_encoded_labels(tag2idx, max_seq_len)"
      ],
      "execution_count": null,
      "outputs": []
    },
    {
      "cell_type": "code",
      "metadata": {
        "colab": {
          "base_uri": "https://localhost:8080/"
        },
        "id": "P5vaPPQ77bVG",
        "outputId": "6addcbe9-9eb3-4192-f3f7-15e8a54635c2"
      },
      "source": [
        "y_train[230]"
      ],
      "execution_count": null,
      "outputs": [
        {
          "output_type": "execute_result",
          "data": {
            "text/plain": [
              "array([1, 1, 1, 1, 1, 1, 1, 1, 1, 1, 3, 1, 1, 1, 1, 1, 1, 1, 1, 1, 1, 1,\n",
              "       1, 1, 1, 1, 1, 1, 0, 0, 0, 0, 0, 0, 0, 0, 0, 0, 0, 0, 0, 0, 0, 0,\n",
              "       0, 0, 0, 0, 0, 0], dtype=int32)"
            ]
          },
          "metadata": {
            "tags": []
          },
          "execution_count": 24
        }
      ]
    },
    {
      "cell_type": "code",
      "metadata": {
        "colab": {
          "base_uri": "https://localhost:8080/"
        },
        "id": "oSO1PLk-7PUZ",
        "outputId": "aa3966de-bf25-47e1-bf12-f0477867b25e"
      },
      "source": [
        "y_train[0]"
      ],
      "execution_count": null,
      "outputs": [
        {
          "output_type": "execute_result",
          "data": {
            "text/plain": [
              "array([1, 1, 1, 1, 1, 1, 1, 1, 1, 1, 1, 1, 0, 0, 0, 0, 0, 0, 0, 0, 0, 0,\n",
              "       0, 0, 0, 0, 0, 0, 0, 0, 0, 0, 0, 0, 0, 0, 0, 0, 0, 0, 0, 0, 0, 0,\n",
              "       0, 0, 0, 0, 0, 0], dtype=int32)"
            ]
          },
          "metadata": {
            "tags": []
          },
          "execution_count": 25
        }
      ]
    },
    {
      "cell_type": "code",
      "metadata": {
        "id": "9VtOP3YPwkAF"
      },
      "source": [
        "# Build the text encoder layer\n",
        "encoder = tf.keras.layers.experimental.preprocessing.TextVectorization(split=None, standardize = None, ngrams=None,\n",
        "    max_tokens=None, output_mode = \"int\")"
      ],
      "execution_count": null,
      "outputs": []
    },
    {
      "cell_type": "code",
      "metadata": {
        "id": "z0XD7vh8kUe_"
      },
      "source": [
        "# Create the vocabulary\n",
        "encoder.adapt(docs_train.tokens)"
      ],
      "execution_count": null,
      "outputs": []
    },
    {
      "cell_type": "code",
      "metadata": {
        "id": "8oeOm5C0zjsu"
      },
      "source": [
        "# Extract the vocabulary\n",
        "voc = np.array(encoder.get_vocabulary())"
      ],
      "execution_count": null,
      "outputs": []
    },
    {
      "cell_type": "code",
      "metadata": {
        "colab": {
          "base_uri": "https://localhost:8080/"
        },
        "id": "uMVphNvIzk0f",
        "outputId": "21052ef1-30ff-45b2-fdf6-c64554253ef3"
      },
      "source": [
        "# Explore first 30 more frequent words in the train set, first entry reserved for PAD\n",
        "voc[:30] "
      ],
      "execution_count": null,
      "outputs": [
        {
          "output_type": "execute_result",
          "data": {
            "text/plain": [
              "array(['', '[UNK]', '.', ',', '-', 'of', 'the', 'and', ')', '(', 'in',\n",
              "       'to', 'a', 'with', 'for', 'that', 'by', 'The', 'is', 'was', 'were',\n",
              "       'as', '/', '1', '2', 'on', 'from', 'are', '3', 'an'], dtype='<U44')"
            ]
          },
          "metadata": {
            "tags": []
          },
          "execution_count": 29
        }
      ]
    },
    {
      "cell_type": "code",
      "metadata": {
        "id": "-W9BAOqCzubI"
      },
      "source": [
        "# A dict mapping words to their IDs\n",
        "word_index = dict(zip(voc, range(len(voc))))"
      ],
      "execution_count": null,
      "outputs": []
    },
    {
      "cell_type": "code",
      "metadata": {
        "id": "2AdhPZjL047i"
      },
      "source": [
        "# A dict mapping IDs to their words\n",
        "idx2word = {i: w for w, i in word_index.items()}"
      ],
      "execution_count": null,
      "outputs": []
    },
    {
      "cell_type": "code",
      "metadata": {
        "id": "0AoVfE420l8v"
      },
      "source": [
        "# Map padded sentences to integer IDs\n",
        "X_train = encoder(np.array(X_train_padded))\n",
        "X_test = encoder(np.array(X_test_padded))\n",
        "X_dev = encoder(np.array(X_dev_padded))"
      ],
      "execution_count": null,
      "outputs": []
    },
    {
      "cell_type": "code",
      "metadata": {
        "colab": {
          "base_uri": "https://localhost:8080/"
        },
        "id": "loKwAjmt1cHt",
        "outputId": "5da4c078-6b78-4d1d-f708-3ca4e77b0994"
      },
      "source": [
        "# Decoding in the test set; some words that are OOV are decoded as [UNK]\n",
        "for n in range(3):\n",
        "  print(\"Original: \", docs_test.sentences[n])\n",
        "  print(\"Round-trip: \", \" \".join(voc[X_test[n]]))\n",
        "  print() "
      ],
      "execution_count": null,
      "outputs": [
        {
          "output_type": "stream",
          "text": [
            "Original:  ['Effects', 'of', 'docosahexaenoic', 'acid', 'and', 'methylmercury', 'on', 'child', \"'\", 's', 'brain', 'development', 'due', 'to', 'consumption', 'of', 'fish', 'by', 'Finnish', 'mother', 'during', 'pregnancy', ':', 'a', 'probabilistic', 'modeling', 'approach', '.']\n",
            "Round-trip:  Effects of docosahexaenoic acid and methylmercury on child ' s brain development due to consumption of fish by [UNK] mother during pregnancy : a probabilistic modeling approach .                      \n",
            "\n",
            "Original:  ['Fish', 'contains', 'both', 'beneficial', 'substances', 'e', '.', 'g', '.', 'docosahexaenoic', 'acids', 'but', 'also', 'harmful', 'compounds', 'e', '.', 'g', '.', 'methylmercury', '.']\n",
            "Round-trip:  Fish contains both beneficial substances e . g . docosahexaenoic acids but also harmful compounds e . g . methylmercury .                             \n",
            "\n",
            "Original:  ['Importantly', ',', 'the', 'health', 'effects', 'caused', 'by', 'these', 'two', 'substances', 'can', 'be', 'evaluated', 'in', 'one', 'common', 'end', 'point', ',', 'intelligence', 'quotient', '(', 'IQ', ')', ',', 'providing', 'a', 'more', 'transparent', 'analysis', '.']\n",
            "Round-trip:  Importantly , the health effects caused by these two substances can be evaluated in one common end point , [UNK] quotient ( [UNK] ) , providing a more transparent analysis .                   \n",
            "\n"
          ],
          "name": "stdout"
        }
      ]
    },
    {
      "cell_type": "code",
      "metadata": {
        "colab": {
          "base_uri": "https://localhost:8080/"
        },
        "id": "hwMILiGhEXZR",
        "outputId": "337b4a69-bab6-4ef8-a0b1-183c193fb615"
      },
      "source": [
        "# Check IDs \n",
        "print(\"The word 'cell' is identified by the index: {}\".format(word_index[\"cell\"]))\n",
        "print(\"The labels 'B-Chemical' is identified by the index: {}\".format(tag2idx[\"B-Chemical\"]))"
      ],
      "execution_count": null,
      "outputs": [
        {
          "output_type": "stream",
          "text": [
            "The word 'cell' is identified by the index: 39\n",
            "The labels 'B-Chemical' is identified by the index: 3\n"
          ],
          "name": "stdout"
        }
      ]
    },
    {
      "cell_type": "markdown",
      "metadata": {
        "id": "XD0X8r8Rysji"
      },
      "source": [
        "# IMPLEMENTING MODEL ARCHITECTURE"
      ]
    },
    {
      "cell_type": "markdown",
      "metadata": {
        "id": "37Q9bVojOrU_"
      },
      "source": [
        "Model Architecture "
      ]
    },
    {
      "cell_type": "code",
      "metadata": {
        "id": "jvr-fs8TQUmC"
      },
      "source": [
        "# Hyperparams initialization\n",
        "BATCH_SIZE = 32\n",
        "EPOCHS = 10\n",
        "EMBEDDING = 300"
      ],
      "execution_count": null,
      "outputs": []
    },
    {
      "cell_type": "code",
      "metadata": {
        "id": "PNm1E3-ZKvPW"
      },
      "source": [
        "from keras.optimizers import SGD, Adam, RMSprop\n",
        "from keras.models import Model, Input\n",
        "from keras.layers import LSTM, Embedding, Dense, Dropout, Bidirectional, Input\n",
        "#from keras.layers import Masking"
      ],
      "execution_count": null,
      "outputs": []
    },
    {
      "cell_type": "code",
      "metadata": {
        "id": "3LrAQsfkDd1O"
      },
      "source": [
        "# Model definition\n",
        "def build_model(max_seq, opt=None):\n",
        "  input = Input(shape=(max_seq_len,),dtype=\"int32\") #timesteps\n",
        "  #mask = Masking(mask_value=0)(input)\n",
        "  model = Embedding(input_dim=len(word_index), output_dim=EMBEDDING,\n",
        "                    input_length=max_seq_len, mask_zero=True)(input)  # 300-dim embedding\n",
        "  model = Bidirectional(LSTM(units=256, return_sequences=True,\n",
        "                    recurrent_dropout=0.2))(model)  \n",
        "  model = Bidirectional(LSTM(units=125, return_sequences=True,\n",
        "                    recurrent_dropout=0.2))(model) \n",
        "  #model = Dropout(0.4)(model)\n",
        "  out = (Dense(len(tag2idx), activation=\"softmax\"))(model)  # output\n",
        "  model = Model(input, out) \n",
        "  \n",
        "  if opt:\n",
        "    opt = opt\n",
        "  else:\n",
        "    opt = Adam()\n",
        "    \n",
        "  model.compile(loss= \"sparse_categorical_crossentropy\",\n",
        "                  optimizer=opt,\n",
        "                  metrics=[\"accuracy\"])\n",
        "  return model"
      ],
      "execution_count": null,
      "outputs": []
    },
    {
      "cell_type": "code",
      "metadata": {
        "id": "_jvrDIFMHN2i"
      },
      "source": [
        "# Build the model\n",
        "model = build_model(max_seq_len, RMSprop())"
      ],
      "execution_count": null,
      "outputs": []
    },
    {
      "cell_type": "code",
      "metadata": {
        "colab": {
          "base_uri": "https://localhost:8080/"
        },
        "id": "kK7iJjWSJ98e",
        "outputId": "2ad092be-090e-4ac7-9ced-469ff8bb0b0b"
      },
      "source": [
        "model.summary()"
      ],
      "execution_count": null,
      "outputs": [
        {
          "output_type": "stream",
          "text": [
            "Model: \"model_3\"\n",
            "_________________________________________________________________\n",
            "Layer (type)                 Output Shape              Param #   \n",
            "=================================================================\n",
            "input_4 (InputLayer)         [(None, 50)]              0         \n",
            "_________________________________________________________________\n",
            "embedding_3 (Embedding)      (None, 50, 300)           12159000  \n",
            "_________________________________________________________________\n",
            "bidirectional_6 (Bidirection (None, 50, 512)           1140736   \n",
            "_________________________________________________________________\n",
            "bidirectional_7 (Bidirection (None, 50, 250)           638000    \n",
            "_________________________________________________________________\n",
            "dense_3 (Dense)              (None, 50, 4)             1004      \n",
            "=================================================================\n",
            "Total params: 13,938,740\n",
            "Trainable params: 13,938,740\n",
            "Non-trainable params: 0\n",
            "_________________________________________________________________\n"
          ],
          "name": "stdout"
        }
      ]
    },
    {
      "cell_type": "code",
      "metadata": {
        "id": "Q3cUZk20WiRl"
      },
      "source": [
        "\"\"\"#try different optimizers\n",
        "\n",
        "for OPTIMAZER in [SGD(), Adam(), RMSprop()]:\n",
        "  print()\n",
        "  model.compile(optimizer=OPTIMAZER, loss= crf_losses.crf_loss, metrics=[crf_accuracies.crf_viterbi_accuracy])\n",
        "  model.fit(X_train, np.array(y_train), epochs=5, batch_size=32, verbose=1, validation_data=(X_val, np.array(y_val)))\n",
        "  score = model.evaluate(X_test, np.array(y_test))\n",
        "  print()\n",
        "  print(\"OPTIMEZER: \", OPTIMAZER)\n",
        "  print(\"\\nTest score \", score[0])\n",
        "  print(\"Test accuracy: \", score[1])\"\"\""
      ],
      "execution_count": null,
      "outputs": []
    },
    {
      "cell_type": "markdown",
      "metadata": {
        "id": "gLLTPsfphHVe"
      },
      "source": [
        "# TRAINING"
      ]
    },
    {
      "cell_type": "code",
      "metadata": {
        "id": "_AtYX0UX0pIX"
      },
      "source": [
        "#dir_output = \"/content/drive/MyDrive/BIO-NER-project/double-bi-lstm_CHEMD.h5\""
      ],
      "execution_count": null,
      "outputs": []
    },
    {
      "cell_type": "code",
      "metadata": {
        "id": "PtzqQCHO5g8O"
      },
      "source": [
        "# Early stopping stops the training process when val_loss is not improving\n",
        "# ModelCkpt save only the best model (model with lowest val_loss)\n",
        "from tensorflow.keras.callbacks import EarlyStopping, ModelCheckpoint\n",
        "early_stopping = EarlyStopping(monitor=\"val_loss\", patience=2)\n",
        "model_save = ModelCheckpoint(dir_output, save_best_only=True, monitor='val_loss', mode='min', verbose=1)"
      ],
      "execution_count": null,
      "outputs": []
    },
    {
      "cell_type": "code",
      "metadata": {
        "id": "Gbx8AboeyS85"
      },
      "source": [
        "def ignoring_padding(y_pred,y_test):\n",
        "  \"\"\"This function allows to compare predicted labels with true labels discarding padding\"\"\"\n",
        "  real_pred = []\n",
        "  #pred = np.argmax(y_pred, -1) # Compute the label \n",
        "  y_test_nozeroes = [[l for l in s if l != 0] for s in y_test] # Delete padding label in the original sentences\n",
        "  for s, s1 in zip(y_pred, y_test_nozeroes):\n",
        "    s = s.tolist() \n",
        "    real_s =  s[:len(s1)] # Delete padding from the predicted sentences\n",
        "    real_pred.append(real_s)\n",
        "  pred_tag = [[idx2tag[i] for i in row] for row in real_pred]\n",
        "  y_test_tag = [[idx2tag[i] for i in row] for row in y_test_nozeroes]\n",
        "  return pred_tag, y_test_tag"
      ],
      "execution_count": null,
      "outputs": []
    },
    {
      "cell_type": "code",
      "metadata": {
        "id": "ZP8PB_79UFem"
      },
      "source": [
        "%%capture\n",
        "# Install seqeval library for evaluation score\n",
        "!pip3 install seqeval"
      ],
      "execution_count": null,
      "outputs": []
    },
    {
      "cell_type": "code",
      "metadata": {
        "id": "vShVK4hIYBFb"
      },
      "source": [
        "from keras.callbacks import Callback\n",
        "from seqeval.metrics import f1_score\n",
        "from seqeval.scheme import IOB2\n",
        "\n",
        "class Metrics(Callback):\n",
        "    \"\"\"Custom F1 metric to look after the performance on the validation set during the training\"\"\"\n",
        "    def __init__(self, validation, training):   \n",
        "        super(Metrics, self).__init__()\n",
        "        self.validation = validation \n",
        "        self.training = training   \n",
        "            \n",
        "        print('validation shape', len(self.validation[0]))\n",
        "        \n",
        "    def on_train_begin(self, logs={}):        \n",
        "        self.val_f1s = []\n",
        "        self.train_f1s = []\n",
        "     \n",
        "    def on_epoch_end(self, epoch, logs={}):\n",
        "        val_targ = self.validation[1]   \n",
        "        val_predict = self.model.predict(self.validation[0])\n",
        "        #val_predict = np.argmax(val_predict, -1)\n",
        "        y_true, y_hat = ignoring_padding(val_predict, val_targ)\n",
        "        val_f1 = f1_score(y_true, y_hat, scheme=IOB2, mode=\"strict\")\n",
        "        train_targ = self.training[1]   \n",
        "        train_predict = self.model.predict(self.training[0])\n",
        "        #train_predict = np.argmax(train_predict, -1)\n",
        "        y_true_train, y_hat_train = ignoring_padding(train_predict, train_targ)\n",
        "        train_f1 = f1_score(y_true_train, y_hat_train, scheme=IOB2, mode=\"strict\")\n",
        "\n",
        "        logs[\"val_f1\"] = val_f1\n",
        "        logs[\"train_f1\"] = train_f1\n",
        "        \n",
        "        self.val_f1s.append(round(val_f1, 6))\n",
        "        self.train_f1s.append(round(train_f1, 6))\n",
        "         \n",
        "        print(f' — val_f1: {val_f1} ')\n",
        "        return"
      ],
      "execution_count": null,
      "outputs": []
    },
    {
      "cell_type": "code",
      "metadata": {
        "id": "iTiJSxMTcx2a"
      },
      "source": [
        "# Customised callbacks\n",
        "mycallbacks = [ early_stopping]"
      ],
      "execution_count": null,
      "outputs": []
    },
    {
      "cell_type": "code",
      "metadata": {
        "id": "WDn13YXmgrip"
      },
      "source": [
        "%%time\n",
        "# Fit network - F1-score is measured on the validation data\n",
        "history = model.fit(X_train, y_train, epochs=EPOCHS, batch_size=BATCH_SIZE, verbose=1, validation_data=(X_dev, y_dev), callbacks = mycallbacks )"
      ],
      "execution_count": null,
      "outputs": []
    },
    {
      "cell_type": "markdown",
      "metadata": {
        "id": "r3MW7xse7hJs"
      },
      "source": [
        "# LEARNING CURVES"
      ]
    },
    {
      "cell_type": "code",
      "metadata": {
        "id": "vMEPQvHlku3K"
      },
      "source": [
        "#history.history"
      ],
      "execution_count": null,
      "outputs": []
    },
    {
      "cell_type": "code",
      "metadata": {
        "id": "9OkokILrRHox",
        "colab": {
          "base_uri": "https://localhost:8080/"
        },
        "outputId": "c45345bd-7583-4c18-f8d9-b77d3cda30cd"
      },
      "source": [
        "history.epoch"
      ],
      "execution_count": null,
      "outputs": [
        {
          "output_type": "execute_result",
          "data": {
            "text/plain": [
              "[0, 1, 2, 3]"
            ]
          },
          "metadata": {
            "tags": []
          },
          "execution_count": 60
        }
      ]
    },
    {
      "cell_type": "code",
      "metadata": {
        "id": "WRgNc7bHb9lS"
      },
      "source": [
        "epochs = len(history.epoch)\n",
        "epochs = range(1,epochs+1)"
      ],
      "execution_count": null,
      "outputs": []
    },
    {
      "cell_type": "code",
      "metadata": {
        "id": "POp8rwNbSoxg",
        "colab": {
          "base_uri": "https://localhost:8080/"
        },
        "outputId": "d31ee157-ecb5-4dfd-a615-4978edd05cf7"
      },
      "source": [
        "epochs"
      ],
      "execution_count": null,
      "outputs": [
        {
          "output_type": "execute_result",
          "data": {
            "text/plain": [
              "range(1, 5)"
            ]
          },
          "metadata": {
            "tags": []
          },
          "execution_count": 62
        }
      ]
    },
    {
      "cell_type": "code",
      "metadata": {
        "id": "HOVDfCfNkbO3",
        "colab": {
          "base_uri": "https://localhost:8080/",
          "height": 350
        },
        "outputId": "43ac5ce6-72eb-484a-c1ef-a36baa6228ee"
      },
      "source": [
        "plt.rcParams[\"figure.figsize\"] = [8,5]\n",
        "loss_train = history.history[\"loss\"]\n",
        "loss_val = history.history['val_loss']\n",
        "plt.plot(epochs, loss_train, 'g', label='Training loss')\n",
        "plt.plot(epochs, loss_val, 'b', label='Validation loss')\n",
        "plt.xticks(np.arange(1, len(epochs)+1))\n",
        "plt.title('Training and Validation loss')\n",
        "plt.xlabel('Epochs')\n",
        "plt.ylabel('Loss')\n",
        "plt.legend()\n",
        "plt.show()"
      ],
      "execution_count": null,
      "outputs": [
        {
          "output_type": "display_data",
          "data": {
            "image/png": "[encoded data removed]",
            "text/plain": [
              "<Figure size 576x360 with 1 Axes>"
            ]
          },
          "metadata": {
            "tags": []
          }
        }
      ]
    },
    {
      "cell_type": "code",
      "metadata": {
        "id": "ekQcq6_CsAXI",
        "colab": {
          "base_uri": "https://localhost:8080/",
          "height": 350
        },
        "outputId": "fea1920f-a3b6-4cc9-81cd-f3f1286b802f"
      },
      "source": [
        "plt.rcParams[\"figure.figsize\"] = [8,5]\n",
        "loss_train = history.history['accuracy']\n",
        "loss_val = history.history['val_accuracy']\n",
        "plt.plot(epochs, loss_train, 'g', label='Training accuracy')\n",
        "plt.plot(epochs, loss_val, 'b', label='Validation accuracy')\n",
        "plt.xticks(np.arange(1, len(epochs)+1))\n",
        "plt.title('Training and Validation accuracy')\n",
        "plt.xlabel('Epochs')\n",
        "plt.ylabel('Accuracy')\n",
        "plt.legend()\n",
        "plt.show()"
      ],
      "execution_count": null,
      "outputs": [
        {
          "output_type": "display_data",
          "data": {
            "image/png": "[encoded data removed]",
            "text/plain": [
              "<Figure size 576x360 with 1 Axes>"
            ]
          },
          "metadata": {
            "tags": []
          }
        }
      ]
    },
    {
      "cell_type": "markdown",
      "metadata": {
        "id": "Bb7xp_-qH3De"
      },
      "source": [
        "# REPORT"
      ]
    },
    {
      "cell_type": "code",
      "metadata": {
        "id": "GCW2kq1NuDh3"
      },
      "source": [
        "%%capture\n",
        "!pip install nervaluate"
      ],
      "execution_count": null,
      "outputs": []
    },
    {
      "cell_type": "code",
      "metadata": {
        "id": "yljBv7jc8um0"
      },
      "source": [
        "y_pred = model.predict(X_test)"
      ],
      "execution_count": null,
      "outputs": []
    },
    {
      "cell_type": "code",
      "metadata": {
        "id": "cWNfr2ak9Zak"
      },
      "source": [
        "y_pred = np.argmax(y_pred, -1)"
      ],
      "execution_count": null,
      "outputs": []
    },
    {
      "cell_type": "code",
      "metadata": {
        "id": "687H1aAKu64E"
      },
      "source": [
        "y_hat, y_true = ignoring_padding(y_pred, y_test)"
      ],
      "execution_count": null,
      "outputs": []
    },
    {
      "cell_type": "code",
      "metadata": {
        "id": "AE4b7_H6uP53"
      },
      "source": [
        "from nervaluate import Evaluator\n",
        "golden_tags = [\"Chemical\"]\n",
        "evaluator = Evaluator(y_true, y_hat, tags = golden_tags, loader=\"list\")\n",
        "results, results_by_tag = evaluator.evaluate()\n",
        "import pandas as pd\n",
        "res = pd.DataFrame.from_dict(results)"
      ],
      "execution_count": null,
      "outputs": []
    },
    {
      "cell_type": "code",
      "metadata": {
        "colab": {
          "base_uri": "https://localhost:8080/",
          "height": 352
        },
        "id": "cm6cl71CvJEl",
        "outputId": "3dccbe14-e0cd-4b25-f269-8dc21a13533e"
      },
      "source": [
        "res"
      ],
      "execution_count": null,
      "outputs": [
        {
          "output_type": "execute_result",
          "data": {
            "text/html": [
              "<div>\n",
              "<style scoped>\n",
              "    .dataframe tbody tr th:only-of-type {\n",
              "        vertical-align: middle;\n",
              "    }\n",
              "\n",
              "    .dataframe tbody tr th {\n",
              "        vertical-align: top;\n",
              "    }\n",
              "\n",
              "    .dataframe thead th {\n",
              "        text-align: right;\n",
              "    }\n",
              "</style>\n",
              "<table border=\"1\" class=\"dataframe\">\n",
              "  <thead>\n",
              "    <tr style=\"text-align: right;\">\n",
              "      <th></th>\n",
              "      <th>ent_type</th>\n",
              "      <th>partial</th>\n",
              "      <th>strict</th>\n",
              "      <th>exact</th>\n",
              "    </tr>\n",
              "  </thead>\n",
              "  <tbody>\n",
              "    <tr>\n",
              "      <th>correct</th>\n",
              "      <td>16423.000000</td>\n",
              "      <td>14451.000000</td>\n",
              "      <td>14451.000000</td>\n",
              "      <td>14451.000000</td>\n",
              "    </tr>\n",
              "    <tr>\n",
              "      <th>incorrect</th>\n",
              "      <td>0.000000</td>\n",
              "      <td>0.000000</td>\n",
              "      <td>1972.000000</td>\n",
              "      <td>1972.000000</td>\n",
              "    </tr>\n",
              "    <tr>\n",
              "      <th>partial</th>\n",
              "      <td>0.000000</td>\n",
              "      <td>1972.000000</td>\n",
              "      <td>0.000000</td>\n",
              "      <td>0.000000</td>\n",
              "    </tr>\n",
              "    <tr>\n",
              "      <th>missed</th>\n",
              "      <td>7566.000000</td>\n",
              "      <td>7566.000000</td>\n",
              "      <td>7566.000000</td>\n",
              "      <td>7566.000000</td>\n",
              "    </tr>\n",
              "    <tr>\n",
              "      <th>spurious</th>\n",
              "      <td>4086.000000</td>\n",
              "      <td>4086.000000</td>\n",
              "      <td>4086.000000</td>\n",
              "      <td>4086.000000</td>\n",
              "    </tr>\n",
              "    <tr>\n",
              "      <th>possible</th>\n",
              "      <td>23989.000000</td>\n",
              "      <td>23989.000000</td>\n",
              "      <td>23989.000000</td>\n",
              "      <td>23989.000000</td>\n",
              "    </tr>\n",
              "    <tr>\n",
              "      <th>actual</th>\n",
              "      <td>20509.000000</td>\n",
              "      <td>20509.000000</td>\n",
              "      <td>20509.000000</td>\n",
              "      <td>20509.000000</td>\n",
              "    </tr>\n",
              "    <tr>\n",
              "      <th>precision</th>\n",
              "      <td>0.800770</td>\n",
              "      <td>0.752694</td>\n",
              "      <td>0.704617</td>\n",
              "      <td>0.704617</td>\n",
              "    </tr>\n",
              "    <tr>\n",
              "      <th>recall</th>\n",
              "      <td>0.684605</td>\n",
              "      <td>0.643503</td>\n",
              "      <td>0.602401</td>\n",
              "      <td>0.602401</td>\n",
              "    </tr>\n",
              "    <tr>\n",
              "      <th>f1</th>\n",
              "      <td>0.738146</td>\n",
              "      <td>0.693829</td>\n",
              "      <td>0.649512</td>\n",
              "      <td>0.649512</td>\n",
              "    </tr>\n",
              "  </tbody>\n",
              "</table>\n",
              "</div>"
            ],
            "text/plain": [
              "               ent_type       partial        strict         exact\n",
              "correct    16423.000000  14451.000000  14451.000000  14451.000000\n",
              "incorrect      0.000000      0.000000   1972.000000   1972.000000\n",
              "partial        0.000000   1972.000000      0.000000      0.000000\n",
              "missed      7566.000000   7566.000000   7566.000000   7566.000000\n",
              "spurious    4086.000000   4086.000000   4086.000000   4086.000000\n",
              "possible   23989.000000  23989.000000  23989.000000  23989.000000\n",
              "actual     20509.000000  20509.000000  20509.000000  20509.000000\n",
              "precision      0.800770      0.752694      0.704617      0.704617\n",
              "recall         0.684605      0.643503      0.602401      0.602401\n",
              "f1             0.738146      0.693829      0.649512      0.649512"
            ]
          },
          "metadata": {
            "tags": []
          },
          "execution_count": 77
        }
      ]
    },
    {
      "cell_type": "code",
      "metadata": {
        "id": "MRCAtLIEH3Dl"
      },
      "source": [
        "from seqeval.metrics import classification_report"
      ],
      "execution_count": null,
      "outputs": []
    },
    {
      "cell_type": "code",
      "metadata": {
        "id": "TB_k_wzYYPj0",
        "colab": {
          "base_uri": "https://localhost:8080/"
        },
        "outputId": "7f8d374b-1dde-4070-f563-a6192542569c"
      },
      "source": [
        "print('\\033[1m' + \"Classification report for #1 model without LR optimization (exact match): \")\n",
        "print('\\033[0m')\n",
        "print(classification_report(y_true, y_hat, scheme=IOB2, mode=\"strict\"))"
      ],
      "execution_count": null,
      "outputs": [
        {
          "output_type": "stream",
          "text": [
            "\u001b[1mClassification report for #1 model without LR optimization (exact match): \n",
            "\u001b[0m\n",
            "              precision    recall  f1-score   support\n",
            "\n",
            "    Chemical       0.73      0.61      0.66     23802\n",
            "\n",
            "   micro avg       0.73      0.61      0.66     23802\n",
            "   macro avg       0.73      0.61      0.66     23802\n",
            "weighted avg       0.73      0.61      0.66     23802\n",
            "\n"
          ],
          "name": "stdout"
        }
      ]
    },
    {
      "cell_type": "code",
      "metadata": {
        "colab": {
          "base_uri": "https://localhost:8080/"
        },
        "id": "fxD4Ptha4jDa",
        "outputId": "ce53e26d-d288-4c62-e6b4-da67b47f8371"
      },
      "source": [
        "results_by_tag"
      ],
      "execution_count": null,
      "outputs": [
        {
          "output_type": "execute_result",
          "data": {
            "text/plain": [
              "{'Chemical': {'ent_type': {'actual': 20509,\n",
              "   'correct': 16423,\n",
              "   'f1': 0.7381455346307699,\n",
              "   'incorrect': 0,\n",
              "   'missed': 7566,\n",
              "   'partial': 0,\n",
              "   'possible': 23989,\n",
              "   'precision': 0.8007703934857867,\n",
              "   'recall': 0.6846054441619075,\n",
              "   'spurious': 4086},\n",
              "  'exact': {'actual': 20509,\n",
              "   'correct': 14451,\n",
              "   'f1': 0.6495123376331521,\n",
              "   'incorrect': 1972,\n",
              "   'missed': 7566,\n",
              "   'partial': 0,\n",
              "   'possible': 23989,\n",
              "   'precision': 0.7046174850065825,\n",
              "   'recall': 0.6024011005043979,\n",
              "   'spurious': 4086},\n",
              "  'partial': {'actual': 20509,\n",
              "   'correct': 14451,\n",
              "   'f1': 0.693828936131961,\n",
              "   'incorrect': 0,\n",
              "   'missed': 7566,\n",
              "   'partial': 1972,\n",
              "   'possible': 23989,\n",
              "   'precision': 0.7526939392461846,\n",
              "   'recall': 0.6435032723331527,\n",
              "   'spurious': 4086},\n",
              "  'strict': {'actual': 20509,\n",
              "   'correct': 14451,\n",
              "   'f1': 0.6495123376331521,\n",
              "   'incorrect': 1972,\n",
              "   'missed': 7566,\n",
              "   'partial': 0,\n",
              "   'possible': 23989,\n",
              "   'precision': 0.7046174850065825,\n",
              "   'recall': 0.6024011005043979,\n",
              "   'spurious': 4086}}}"
            ]
          },
          "metadata": {
            "tags": []
          },
          "execution_count": 79
        }
      ]
    },
    {
      "cell_type": "code",
      "metadata": {
        "colab": {
          "base_uri": "https://localhost:8080/"
        },
        "id": "ZJKJ-eYoH3Dm",
        "outputId": "60af0642-31bc-47f8-e710-307433d56b46"
      },
      "source": [
        "print(\"F1-score: {:0.3}\".format(f1_score(y_true, y_hat, average = \"micro\",  scheme=IOB2, mode=\"strict\")))"
      ],
      "execution_count": null,
      "outputs": [
        {
          "output_type": "stream",
          "text": [
            "F1-score: 0.638\n"
          ],
          "name": "stdout"
        }
      ]
    },
    {
      "cell_type": "markdown",
      "metadata": {
        "id": "c7KEF-UBsd6K"
      },
      "source": [
        "# PREDICTION AND EVALUATION"
      ]
    },
    {
      "cell_type": "code",
      "metadata": {
        "id": "LHzUkIgN1XcD"
      },
      "source": [
        "model = build_model(max_seq_len, RMSprop())"
      ],
      "execution_count": null,
      "outputs": []
    },
    {
      "cell_type": "code",
      "metadata": {
        "id": "6gUQPoVm1ZG5"
      },
      "source": [
        "dir_output"
      ],
      "execution_count": null,
      "outputs": []
    },
    {
      "cell_type": "code",
      "metadata": {
        "id": "qqLY7ia81bB7"
      },
      "source": [
        "model.load_weights(dir_output)"
      ],
      "execution_count": null,
      "outputs": []
    },
    {
      "cell_type": "code",
      "metadata": {
        "id": "Al_Vl3-H6MQG"
      },
      "source": [
        "X_test = X_test[:120*BATCH_SIZE]\n",
        "y_test = y_test[:120*BATCH_SIZE]"
      ],
      "execution_count": null,
      "outputs": []
    },
    {
      "cell_type": "code",
      "metadata": {
        "id": "UCbVhVwxEUbh"
      },
      "source": [
        "%%time\n",
        "y_pred = model.predict(X_test)"
      ],
      "execution_count": null,
      "outputs": []
    },
    {
      "cell_type": "code",
      "metadata": {
        "id": "ZQIr-_l7O7gc"
      },
      "source": [
        "y_hat, y_test_nozeroes = ignoring_padding(y_pred, y_test)"
      ],
      "execution_count": null,
      "outputs": []
    },
    {
      "cell_type": "markdown",
      "metadata": {
        "id": "3enF2eUZfnCc"
      },
      "source": [
        "# REPORT"
      ]
    },
    {
      "cell_type": "code",
      "metadata": {
        "id": "PovCbumZjJo9"
      },
      "source": [
        "from seqeval.metrics import classification_report"
      ],
      "execution_count": null,
      "outputs": []
    },
    {
      "cell_type": "code",
      "metadata": {
        "id": "Eqr5KO-aTRuE"
      },
      "source": [
        "print('\\033[1m' + \"Classification report for #1 model without LR optimization: \")\n",
        "print('\\033[0m')\n",
        "print(classification_report(y_test_nozeroes, y_hat))"
      ],
      "execution_count": null,
      "outputs": []
    },
    {
      "cell_type": "code",
      "metadata": {
        "id": "5Udgg_QTs8Yc"
      },
      "source": [
        "print(\"F1-score(relaxed): {:0.3}\".format(f1_score(y_test_nozeroes, y_hat, average = \"weighted\")))"
      ],
      "execution_count": null,
      "outputs": []
    },
    {
      "cell_type": "code",
      "metadata": {
        "id": "EL7IjGN30-_z"
      },
      "source": [
        "from seqeval.scheme import IOB2\n",
        "print('\\033[1m' + \"Classification report for #1 model without LR optimization (exact match): \")\n",
        "print('\\033[0m')\n",
        "print(classification_report(y_test_nozeroes, y_hat, scheme=IOB2, mode=\"strict\"))"
      ],
      "execution_count": null,
      "outputs": []
    },
    {
      "cell_type": "code",
      "metadata": {
        "id": "o6lwqG4KDWa_"
      },
      "source": [
        "from seqeval.scheme import IOB2\n",
        "print(\"F1-score: {:0.3}\".format(f1_score(y_test_nozeroes, y_hat, average = \"weighted\", scheme=IOB2, mode=\"strict\")))"
      ],
      "execution_count": null,
      "outputs": []
    },
    {
      "cell_type": "markdown",
      "metadata": {
        "id": "5u8wBXqAYoMm"
      },
      "source": [
        "# COMPARE RESULTS"
      ]
    },
    {
      "cell_type": "code",
      "metadata": {
        "id": "Tg4mimjj1_8L"
      },
      "source": [
        "i = 18\n",
        "p = model.predict(X_test[i:i+BATCH_SIZE])[0] \n",
        "p = np.argmax(p, axis=-1)"
      ],
      "execution_count": null,
      "outputs": []
    },
    {
      "cell_type": "code",
      "metadata": {
        "id": "EoKU2uCODdEB"
      },
      "source": [
        "# From tensor to array\n",
        "X_test1 = tf.make_tensor_proto(X_test)\n",
        "X_test1 = tf.make_ndarray(X_test1)"
      ],
      "execution_count": null,
      "outputs": []
    },
    {
      "cell_type": "code",
      "metadata": {
        "id": "K6XvvQGd1pmL"
      },
      "source": [
        "# Compare results\n",
        "y_test1=y_test_nozeroes\n",
        "print(\"{:15} {:5}: ({})\".format(\"Word\", \"Pred\", \"True\"))\n",
        "print(\"=\"*45)\n",
        "for w, true, pred in zip(X_test1[i], y_test1[i], p):\n",
        "    if w != 0:\n",
        "      print(\"{:15}:{:15} ({})\".format(idx2word[w], idx2tag[pred], true))"
      ],
      "execution_count": null,
      "outputs": []
    },
    {
      "cell_type": "markdown",
      "metadata": {
        "id": "tzUc7iv-Q5WL"
      },
      "source": [
        "# TUNING LEARNING RATE"
      ]
    },
    {
      "cell_type": "markdown",
      "metadata": {
        "id": "KTHKE814fo9d"
      },
      "source": [
        "LRFinder implements a Keras Callback which tracks the loss associated with a learning rate varied linearly over a defined range. Implementation by https://github.com/WittmannF"
      ]
    },
    {
      "cell_type": "code",
      "metadata": {
        "id": "A83g8H0jInwT"
      },
      "source": [
        "from lrfinder import LRFinder"
      ],
      "execution_count": null,
      "outputs": []
    },
    {
      "cell_type": "code",
      "metadata": {
        "id": "pUG2MwRKeZWn"
      },
      "source": [
        "\"\"\"# Get an instance of LRTest class\n",
        "lr_finder = LRFinder(min_lr=1e-4, max_lr=1)\n",
        "\n",
        "# Build the model again\n",
        "model2 = build_model(max_seq_len, RMSprop())\n",
        "\n",
        "# Perform the LR range test \n",
        "history = model2.fit(X_train, np.array(y_train), epochs=10, batch_size=32, verbose=0, callbacks=[lr_finder])\"\"\""
      ],
      "execution_count": null,
      "outputs": []
    },
    {
      "cell_type": "markdown",
      "metadata": {
        "id": "iXIuCA17hdEA"
      },
      "source": [
        "# TRAIN THE MODEL WITH OPTIMAL LR"
      ]
    },
    {
      "cell_type": "markdown",
      "metadata": {
        "id": "KbbyDxPAY-kU"
      },
      "source": [
        "To avoid overfitting, it will be choose a learning rate that is a little futher than the optimal value."
      ]
    },
    {
      "cell_type": "code",
      "metadata": {
        "id": "xAus82v2hjEW"
      },
      "source": [
        "\"\"\"# Build the model with the optimal lr\n",
        "model3 = build_model(max_seq_len, RMSprop(lr=10**-2.4))\n",
        "\n",
        "# Train the model\n",
        "model3.fit(X_train, y_train, epochs=10, batch_size=BATCH_SIZE, verbose=1, validation_data=(X_val, y_val), callbacks=mycallbacks)\"\"\""
      ],
      "execution_count": null,
      "outputs": []
    },
    {
      "cell_type": "markdown",
      "metadata": {
        "id": "Z9YYhdQ0aBx3"
      },
      "source": [
        "# PREDICTION AND EVALUATION 2"
      ]
    },
    {
      "cell_type": "code",
      "metadata": {
        "id": "Z74WjjD7E1_-"
      },
      "source": [
        "%%time\n",
        "y_pred = model.predict(X_test)"
      ],
      "execution_count": null,
      "outputs": []
    },
    {
      "cell_type": "code",
      "metadata": {
        "id": "rcuaKTqOKY79"
      },
      "source": [
        "y_pred = model.predict(X_test)"
      ],
      "execution_count": null,
      "outputs": []
    },
    {
      "cell_type": "code",
      "metadata": {
        "id": "CLT1mAHerqFu"
      },
      "source": [
        "y_hat, y_true = ignoring_padding(y_pred, y_test)"
      ],
      "execution_count": null,
      "outputs": []
    },
    {
      "cell_type": "markdown",
      "metadata": {
        "id": "RPLq_509ZsH0"
      },
      "source": [
        "# REPORT 2"
      ]
    },
    {
      "cell_type": "code",
      "metadata": {
        "id": "aqOnrrK4rrOA"
      },
      "source": [
        "print('\\033[1m' + \"Classification report for #2 model with LR optimization: \")\n",
        "print('\\033[0m')\n",
        "print(classification_report(y_test_nozeroes, y_hat))"
      ],
      "execution_count": null,
      "outputs": []
    },
    {
      "cell_type": "code",
      "metadata": {
        "id": "LpFfdO6Rku8r"
      },
      "source": [
        "print(\"F1-score: {:0.3}\".format(f1_score(y_test_nozeroes, y_hat, average = \"weighted\")))"
      ],
      "execution_count": null,
      "outputs": []
    },
    {
      "cell_type": "code",
      "metadata": {
        "id": "8exDS9Ba1AdE"
      },
      "source": [
        "from seqeval.scheme import IOB2\n",
        "print('\\033[1m' + \"Classification report for #1 model without LR optimization (exact match): \")\n",
        "print('\\033[0m')\n",
        "print(classification_report(y_test_nozeroes, y_hat, scheme=IOB2, mode=\"strict\"))"
      ],
      "execution_count": null,
      "outputs": []
    },
    {
      "cell_type": "code",
      "metadata": {
        "id": "GV51kTBWqTXw"
      },
      "source": [
        "print(\"F1-score: {:0.3}\".format(f1_score(y_test_nozeroes, y_hat, average = \"weighted\", scheme=IOB2, mode=\"strict\")))"
      ],
      "execution_count": null,
      "outputs": []
    },
    {
      "cell_type": "code",
      "metadata": {
        "id": "knra4M2_sCir"
      },
      "source": [
        "import sys\n",
        "\n",
        "print('Saving classification report on file...')\n",
        "\n",
        "original_stdout = sys.stdout \n",
        "\n",
        "with open('/content/drive/MyDrive/BiLSTM_BC4CHEMD_report.txt', 'a') as f:\n",
        "  sys.stdout = f # Change the standard output to the file we created.\n",
        "  print('\\033[1m' + \"Classification report Bi-LSTM for BC4CHEMD_dataset: \")\n",
        "  print('\\033[0m')\n",
        "  print(classification_report(y_test_nozeroes, y_hat))\n",
        "  sys.stdout = original_stdout # Reset the standard output to its original value\n",
        "print(\"Done.\")"
      ],
      "execution_count": null,
      "outputs": []
    }
  ]
}