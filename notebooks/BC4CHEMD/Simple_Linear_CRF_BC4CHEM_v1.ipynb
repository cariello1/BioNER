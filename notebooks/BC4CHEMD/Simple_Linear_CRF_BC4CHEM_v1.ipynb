{
  "nbformat": 4,
  "nbformat_minor": 0,
  "metadata": {
    "colab": {
      "name": "Simple Linear CRF BC4CHEM",
      "provenance": [],
      "collapsed_sections": [],
      "toc_visible": true
    },
    "kernelspec": {
      "display_name": "Python 3",
      "name": "python3"
    }
  },
  "cells": [
    {
      "cell_type": "code",
      "metadata": {
        "id": "YEWUtnpEdVVi",
        "colab": {
          "base_uri": "https://localhost:8080/"
        },
        "outputId": "a6d5f538-a854-4781-c82a-61a9aae145f0"
      },
      "source": [
        "from google.colab import drive\n",
        "drive.mount(\"/content/gdrive/\")"
      ],
      "execution_count": null,
      "outputs": [
        {
          "output_type": "stream",
          "text": [
            "Mounted at /content/gdrive/\n"
          ],
          "name": "stdout"
        }
      ]
    },
    {
      "cell_type": "code",
      "metadata": {
        "id": "Kt1aKVQ5gqEh",
        "colab": {
          "base_uri": "https://localhost:8080/"
        },
        "outputId": "37afd6ad-d2a3-4035-edc7-2a820ecb632b"
      },
      "source": [
        "# The token can be used to access the repository\n",
        "!git clone https://github.com/cariello1/BIO-NER-.git"
      ],
      "execution_count": null,
      "outputs": [
        {
          "output_type": "stream",
          "text": [
            "Cloning into 'BIO-NER-'...\n",
            "remote: Enumerating objects: 493, done.\u001b[K\n",
            "remote: Counting objects: 100% (128/128), done.\u001b[K\n",
            "remote: Compressing objects: 100% (128/128), done.\u001b[K\n",
            "remote: Total 493 (delta 75), reused 0 (delta 0), pack-reused 365\u001b[K\n",
            "Receiving objects: 100% (493/493), 12.49 MiB | 18.67 MiB/s, done.\n",
            "Resolving deltas: 100% (261/261), done.\n"
          ],
          "name": "stdout"
        }
      ]
    },
    {
      "cell_type": "code",
      "metadata": {
        "id": "Sx5fMzFhgsx8",
        "colab": {
          "base_uri": "https://localhost:8080/"
        },
        "outputId": "639d8f75-8f44-41a3-cc41-46edb153eb2e"
      },
      "source": [
        "%cd /content/BIO-NER-"
      ],
      "execution_count": null,
      "outputs": [
        {
          "output_type": "stream",
          "text": [
            "/content/BIO-NER-\n"
          ],
          "name": "stdout"
        }
      ]
    },
    {
      "cell_type": "code",
      "metadata": {
        "id": "HPBN6uhqgvoZ"
      },
      "source": [
        "from preprocessing_1 import PreprocessingDocsCRF\n",
        "from preprocessing_1 import read_data"
      ],
      "execution_count": null,
      "outputs": []
    },
    {
      "cell_type": "markdown",
      "metadata": {
        "id": "2RAS1WMVg7uX"
      },
      "source": [
        "# PREPROCESSING"
      ]
    },
    {
      "cell_type": "code",
      "metadata": {
        "id": "SPcebpxSYDOn"
      },
      "source": [
        "import numpy as np\n",
        "import seaborn as sns\n",
        "sns.set_style(\"whitegrid\")\n",
        "from matplotlib import pyplot as plt\n",
        "import tqdm"
      ],
      "execution_count": null,
      "outputs": []
    },
    {
      "cell_type": "code",
      "metadata": {
        "id": "8-5jG5Cag47Z"
      },
      "source": [
        "# Original data in IOB format\n",
        "file1 = \"/content/gdrive/MyDrive/BIO-NER-project/BC4CHEMD-IOB/BC4CHEMD/train.tsv\"\n",
        "file2 = \"/content/gdrive/MyDrive/BIO-NER-project/BC4CHEMD-IOB/BC4CHEMD/test.tsv\""
      ],
      "execution_count": null,
      "outputs": []
    },
    {
      "cell_type": "code",
      "metadata": {
        "id": "AvnScyDF81NR",
        "colab": {
          "base_uri": "https://localhost:8080/"
        },
        "outputId": "8b246e0f-8885-4750-cc92-d95205a5bbe7"
      },
      "source": [
        "input_train = read_data(file1)\n",
        "input_test = read_data(file2)"
      ],
      "execution_count": null,
      "outputs": [
        {
          "output_type": "stream",
          "text": [
            "Total number of sentences: 30682 \n",
            "Total number of sentences: 26364 \n"
          ],
          "name": "stdout"
        }
      ]
    },
    {
      "cell_type": "code",
      "metadata": {
        "colab": {
          "base_uri": "https://localhost:8080/"
        },
        "id": "z2DM7NtVW5B2",
        "outputId": "3ac09451-9522-4d48-c193-e2e20b084d26"
      },
      "source": [
        "docs_train = PreprocessingDocsCRF(input_train)\n",
        "data_train_withPOS = docs_train.addPOStags()"
      ],
      "execution_count": null,
      "outputs": [
        {
          "output_type": "stream",
          "text": [
            "1it [00:00,  7.60it/s]"
          ],
          "name": "stderr"
        },
        {
          "output_type": "stream",
          "text": [
            "Adding part-of-speech tags to the original corpus (word, label)...\n"
          ],
          "name": "stdout"
        },
        {
          "output_type": "stream",
          "text": [
            "30682it [00:51, 596.87it/s]"
          ],
          "name": "stderr"
        },
        {
          "output_type": "stream",
          "text": [
            "Done.\n"
          ],
          "name": "stdout"
        },
        {
          "output_type": "stream",
          "text": [
            "\n"
          ],
          "name": "stderr"
        }
      ]
    },
    {
      "cell_type": "code",
      "metadata": {
        "colab": {
          "base_uri": "https://localhost:8080/"
        },
        "id": "fH1QRU7XZpTK",
        "outputId": "b80d23b5-eec2-40f8-d4af-784552cac883"
      },
      "source": [
        "docs_test = PreprocessingDocsCRF(input_test)\n",
        "data_test_withPOS = docs_test.addPOStags()"
      ],
      "execution_count": null,
      "outputs": [
        {
          "output_type": "stream",
          "text": [
            "\r0it [00:00, ?it/s]"
          ],
          "name": "stderr"
        },
        {
          "output_type": "stream",
          "text": [
            "Adding part-of-speech tags to the original corpus (word, label)...\n"
          ],
          "name": "stdout"
        },
        {
          "output_type": "stream",
          "text": [
            "26364it [00:45, 584.50it/s]"
          ],
          "name": "stderr"
        },
        {
          "output_type": "stream",
          "text": [
            "Done.\n"
          ],
          "name": "stdout"
        },
        {
          "output_type": "stream",
          "text": [
            "\n"
          ],
          "name": "stderr"
        }
      ]
    },
    {
      "cell_type": "code",
      "metadata": {
        "id": "vwltLRWLepSU",
        "colab": {
          "base_uri": "https://localhost:8080/"
        },
        "outputId": "ae9096f5-ec9d-42a1-bd6f-15bd3623e835"
      },
      "source": [
        "# First sentence of train dataset with word, label, POStag\n",
        "print('This is what a sentence looks like:{}'.format(data_train_withPOS[0]))"
      ],
      "execution_count": null,
      "outputs": [
        {
          "output_type": "stream",
          "text": [
            "This is what a sentence looks like:[('DPP6', 'NOUN', 'O'), ('as', 'ADP', 'O'), ('a', 'DET', 'O'), ('candidate', 'NOUN', 'O'), ('gene', 'NOUN', 'O'), ('for', 'ADP', 'O'), ('neuroleptic', 'ADJ', 'O'), ('-', '.', 'O'), ('induced', 'ADJ', 'O'), ('tardive', 'ADJ', 'O'), ('dyskinesia', 'NOUN', 'O'), ('.', '.', 'O')]\n"
          ],
          "name": "stdout"
        }
      ]
    },
    {
      "cell_type": "markdown",
      "metadata": {
        "id": "BrgiFSwxSWUB"
      },
      "source": [
        "# FEATURES SET\n",
        "\n",
        "Morphological features: \n",
        "\n",
        "*    Is-Capitalized, Is-Title, Contains-Digits, Contains-Punctuations (Boolean)\n",
        "*   Prefixes, Suffixes (Nominal)\n",
        "*   Word's length, Term Frequency (Numeric)\n",
        "\n",
        "Lexical features: \n",
        "\n",
        "*   POS Tagging (Nominal)\n",
        "\n",
        "Some information from **nearby words** is added, as well as all these features for words that are not at the beginning of a document (BOS), all these features for words that are not at the end of a document (EOS).\n",
        "\n",
        "Contextual information (-2/+2 token window):\n",
        "\n",
        "*   Is-Title, Is-Capitalized, Contains-Digits, Contains-Punctuations, Word's length, POS Tagging\n",
        "\n"
      ]
    },
    {
      "cell_type": "code",
      "metadata": {
        "id": "vVqiiHcRcAV-"
      },
      "source": [
        "import string \n",
        "punct = string.punctuation\n",
        "def hasPunct(string):\n",
        "  return any(char for char in string if char in punct)"
      ],
      "execution_count": null,
      "outputs": []
    },
    {
      "cell_type": "code",
      "metadata": {
        "id": "nz4pa-NJalAW"
      },
      "source": [
        "def hasNumbers(string):\n",
        "  return any(char.isdigit() for char in string)"
      ],
      "execution_count": null,
      "outputs": []
    },
    {
      "cell_type": "code",
      "metadata": {
        "id": "4XAgKOoYm84-"
      },
      "source": [
        "from collections import Counter\n",
        "word_freq = Counter(docs_train.tokens)"
      ],
      "execution_count": null,
      "outputs": []
    },
    {
      "cell_type": "code",
      "metadata": {
        "colab": {
          "base_uri": "https://localhost:8080/"
        },
        "id": "7M3_vbniokbe",
        "outputId": "6a54f9a8-46c4-4a6d-e54c-acbdabc7f59c"
      },
      "source": [
        "import nltk\n",
        "nltk.download('stopwords')\n",
        "from nltk.corpus import stopwords"
      ],
      "execution_count": null,
      "outputs": [
        {
          "output_type": "stream",
          "text": [
            "[nltk_data] Downloading package stopwords to /root/nltk_data...\n",
            "[nltk_data]   Unzipping corpora/stopwords.zip.\n"
          ],
          "name": "stdout"
        }
      ]
    },
    {
      "cell_type": "code",
      "metadata": {
        "id": "bKznBJNBpbbR"
      },
      "source": [
        "word_freq_purify = {key:value for (key,value) in word_freq.items() if key.lower() not in stopwords.words('english') }"
      ],
      "execution_count": null,
      "outputs": []
    },
    {
      "cell_type": "code",
      "metadata": {
        "id": "4FIiOlimn1Zg"
      },
      "source": [
        "def word_freq(word):\n",
        "  try: \n",
        "    value = word_freq_purify[\"word\"]\n",
        "  except:\n",
        "    value = 0\n",
        "  return value"
      ],
      "execution_count": null,
      "outputs": []
    },
    {
      "cell_type": "code",
      "metadata": {
        "id": "olx9X3FOZCT0"
      },
      "source": [
        " def word2features(sent, i):\n",
        "    \"\"\"Map words to dict of features. Code from sklearn-crfsuite API documentation.\"\"\"\n",
        "    word = sent[i][0]\n",
        "    postag = sent[i][1]\n",
        "\n",
        "    features = {\n",
        "        'bias': 1.0,\n",
        "        'wordID': word, #WordIdentity\n",
        "        'word[-3:]': word[-3:], #suffix\n",
        "        'word[-2:]': word[-2:],\n",
        "        'word[:3]': word[:3], #prefix\n",
        "        'word[:2]': word[:2],\n",
        "        'word.isupper()': word.isupper(), #isCapitalized\n",
        "        'hasPunct(word)': hasPunct(word),\n",
        "        'hasNumber(word)': hasNumbers(word), #ContainsDigits\n",
        "        'word.istitle()': word.istitle(),\n",
        "        'len(word)': len(word), #word's length\n",
        "        'word_freq(word)': word_freq(word), #term frequency\n",
        "        'postag': postag\n",
        "    }\n",
        "    if i > 0:\n",
        "        word1 = sent[i-1][0]\n",
        "        postag1 = sent[i-1][1]\n",
        "        features.update({\n",
        "            '-1:wordID': word1,\n",
        "            '-1:word.istitle()': word1.istitle(),\n",
        "            '-1:word.isupper()': word1.isupper(),\n",
        "            '-1:hasPunct(word)': hasPunct(word),\n",
        "            '-1:hasNumber(word)': hasNumbers(word),\n",
        "            '-1:postag': postag1,\n",
        "            '-1:len(word)': len(word)\n",
        "        })\n",
        "\n",
        "    if i > 1:\n",
        "        word1 = sent[i-2][0]\n",
        "        postag1 = sent[i-2][1]\n",
        "        features.update({\n",
        "            '-2:wordID': word1,\n",
        "            '-2:word.istitle()': word1.istitle(),\n",
        "            '-2:word.isupper()': word1.isupper(),\n",
        "            '-2:hasPunct(word)': hasPunct(word),\n",
        "            '-2:hasNumber(word)': hasNumbers(word),\n",
        "            '-2:postag': postag1,\n",
        "            '-2:len(word)': len(word)    \n",
        "        })\n",
        "    else:\n",
        "        features['BOS'] = True\n",
        "\n",
        "    if i < len(sent)-1:\n",
        "        word1 = sent[i+1][0]\n",
        "        postag1 = sent[i+1][1]\n",
        "        features.update({\n",
        "            '+1:wordID': word1,\n",
        "            '+1:word.istitle()': word1.istitle(),\n",
        "            '+1:word.isupper()': word1.isupper(),\n",
        "            '+1:hasPunct(word)': hasPunct(word),\n",
        "            '+1:hasNumber(word)': hasNumbers(word),\n",
        "            '+1:postag': postag1,\n",
        "            '+1:len(word)': len(word) \n",
        "        })\n",
        "\n",
        "    if i < len(sent)-2:\n",
        "        word1 = sent[i+2][0]\n",
        "        postag1 = sent[i+2][1]\n",
        "        features.update({\n",
        "            '+2:wordID': word1,\n",
        "            '+2:word.istitle()': word1.istitle(),\n",
        "            '+2:word.isupper()': word1.isupper(),\n",
        "            '+2:hasPunct(word)': hasPunct(word),\n",
        "            '+2:hasNumber(word)': hasNumbers(word),\n",
        "            '+2:postag': postag1,\n",
        "            '+2:len(word)': len(word) \n",
        "        })\n",
        "    else:\n",
        "        features['EOS'] = True\n",
        "\n",
        "    return features"
      ],
      "execution_count": null,
      "outputs": []
    },
    {
      "cell_type": "code",
      "metadata": {
        "id": "pahcYQ3YmpcX"
      },
      "source": [
        "def sent2features(sent):\n",
        "    \"\"\"Map sent to dict of features for each word. Code from sklearn-crfsuite API documentation.\"\"\"\n",
        "    return [word2features(sent, i) for i in range(len(sent))]"
      ],
      "execution_count": null,
      "outputs": []
    },
    {
      "cell_type": "code",
      "metadata": {
        "id": "2pWNahcpj885"
      },
      "source": [
        "#from preprocessing_1 import sent2features\n",
        "# Transform a list of sentences in a list of features for each word in a sentence\n",
        "X_train = [sent2features(s) for s in data_train_withPOS]\n",
        "X_test = [sent2features(s) for s in data_test_withPOS]"
      ],
      "execution_count": null,
      "outputs": []
    },
    {
      "cell_type": "code",
      "metadata": {
        "id": "gvnJPJRvFReK",
        "colab": {
          "base_uri": "https://localhost:8080/"
        },
        "outputId": "b8060b4e-2625-4a04-d8ae-1378434ee935"
      },
      "source": [
        "# Feature dict for the second word of the first sent in test set\n",
        "X_test[0][2]"
      ],
      "execution_count": null,
      "outputs": [
        {
          "output_type": "execute_result",
          "data": {
            "text/plain": [
              "{'+1:hasNumber(word)': False,\n",
              " '+1:hasPunct(word)': False,\n",
              " '+1:len(word)': 15,\n",
              " '+1:postag': 'NOUN',\n",
              " '+1:word.istitle()': False,\n",
              " '+1:word.isupper()': False,\n",
              " '+1:wordID': 'acid',\n",
              " '+2:hasNumber(word)': False,\n",
              " '+2:hasPunct(word)': False,\n",
              " '+2:len(word)': 15,\n",
              " '+2:postag': 'CONJ',\n",
              " '+2:word.istitle()': False,\n",
              " '+2:word.isupper()': False,\n",
              " '+2:wordID': 'and',\n",
              " '-1:hasNumber(word)': False,\n",
              " '-1:hasPunct(word)': False,\n",
              " '-1:len(word)': 15,\n",
              " '-1:postag': 'ADP',\n",
              " '-1:word.istitle()': False,\n",
              " '-1:word.isupper()': False,\n",
              " '-1:wordID': 'of',\n",
              " '-2:hasNumber(word)': False,\n",
              " '-2:hasPunct(word)': False,\n",
              " '-2:len(word)': 15,\n",
              " '-2:postag': 'NOUN',\n",
              " '-2:word.istitle()': True,\n",
              " '-2:word.isupper()': False,\n",
              " '-2:wordID': 'Effects',\n",
              " 'bias': 1.0,\n",
              " 'hasNumber(word)': False,\n",
              " 'hasPunct(word)': False,\n",
              " 'len(word)': 15,\n",
              " 'postag': 'NOUN',\n",
              " 'word.istitle()': False,\n",
              " 'word.isupper()': False,\n",
              " 'wordID': 'docosahexaenoic',\n",
              " 'word[-2:]': 'ic',\n",
              " 'word[-3:]': 'oic',\n",
              " 'word[:2]': 'do',\n",
              " 'word[:3]': 'doc',\n",
              " 'word_freq(word)': 1}"
            ]
          },
          "metadata": {
            "tags": []
          },
          "execution_count": 20
        }
      ]
    },
    {
      "cell_type": "code",
      "metadata": {
        "id": "TKeotweLHPBx"
      },
      "source": [
        "# Transform a list of lbel sentences in a list of labels for each word in a sentence\n",
        "y_train = [[l for w, pos, l in s] for s in data_train_withPOS]\n",
        "y_test = [[l for w, pos, l in s] for s in data_test_withPOS]"
      ],
      "execution_count": null,
      "outputs": []
    },
    {
      "cell_type": "code",
      "metadata": {
        "id": "W-uniRXmrlIp",
        "colab": {
          "base_uri": "https://localhost:8080/"
        },
        "outputId": "b5050b9b-033f-419f-f867-76b39198f4f8"
      },
      "source": [
        "y_test[0]"
      ],
      "execution_count": null,
      "outputs": [
        {
          "output_type": "execute_result",
          "data": {
            "text/plain": [
              "['O',\n",
              " 'O',\n",
              " 'B-Chemical',\n",
              " 'I-Chemical',\n",
              " 'O',\n",
              " 'B-Chemical',\n",
              " 'O',\n",
              " 'O',\n",
              " 'O',\n",
              " 'O',\n",
              " 'O',\n",
              " 'O',\n",
              " 'O',\n",
              " 'O',\n",
              " 'O',\n",
              " 'O',\n",
              " 'O',\n",
              " 'O',\n",
              " 'O',\n",
              " 'O',\n",
              " 'O',\n",
              " 'O',\n",
              " 'O',\n",
              " 'O',\n",
              " 'O',\n",
              " 'O',\n",
              " 'O',\n",
              " 'O']"
            ]
          },
          "metadata": {
            "tags": []
          },
          "execution_count": 22
        }
      ]
    },
    {
      "cell_type": "markdown",
      "metadata": {
        "id": "GbeaKf_GGRK5"
      },
      "source": [
        "# TRAINING"
      ]
    },
    {
      "cell_type": "code",
      "metadata": {
        "id": "y3-NY4Vz68bt"
      },
      "source": [
        "%%capture\n",
        "# python-crfsuite wrapper compatible with sklearn\n",
        "!pip install sklearn_crfsuite "
      ],
      "execution_count": null,
      "outputs": []
    },
    {
      "cell_type": "code",
      "metadata": {
        "id": "6apKpONiS2ro"
      },
      "source": [
        "from sklearn_crfsuite import CRF"
      ],
      "execution_count": null,
      "outputs": []
    },
    {
      "cell_type": "code",
      "metadata": {
        "id": "wGP3ozDM6cbP"
      },
      "source": [
        "crf_model = CRF(\n",
        "    algorithm='lbfgs',\n",
        "    c1=0.1,\n",
        "    c2=0.1,\n",
        "    max_iterations=100,\n",
        "    all_possible_transitions=True,\n",
        ")"
      ],
      "execution_count": null,
      "outputs": []
    },
    {
      "cell_type": "code",
      "metadata": {
        "id": "hwCoVdwP7D51",
        "colab": {
          "base_uri": "https://localhost:8080/"
        },
        "outputId": "76359319-769c-4417-8ab4-e4e101107f61"
      },
      "source": [
        "%%time\n",
        "crf_model.fit(X_train, y_train)"
      ],
      "execution_count": null,
      "outputs": [
        {
          "output_type": "stream",
          "text": [
            "CPU times: user 2min 26s, sys: 1.29 s, total: 2min 27s\n",
            "Wall time: 2min 27s\n"
          ],
          "name": "stdout"
        },
        {
          "output_type": "stream",
          "text": [
            "/usr/local/lib/python3.7/dist-packages/sklearn/base.py:197: FutureWarning: From version 0.24, get_params will raise an AttributeError if a parameter cannot be retrieved as an instance attribute. Previously it would return None.\n",
            "  FutureWarning)\n"
          ],
          "name": "stderr"
        },
        {
          "output_type": "execute_result",
          "data": {
            "text/plain": [
              "CRF(algorithm='lbfgs', all_possible_states=None, all_possible_transitions=True,\n",
              "    averaging=None, c=None, c1=0.1, c2=0.1, calibration_candidates=None,\n",
              "    calibration_eta=None, calibration_max_trials=None, calibration_rate=None,\n",
              "    calibration_samples=None, delta=None, epsilon=None, error_sensitive=None,\n",
              "    gamma=None, keep_tempfiles=None, linesearch=None, max_iterations=100,\n",
              "    max_linesearch=None, min_freq=None, model_filename=None, num_memories=None,\n",
              "    pa_type=None, period=None, trainer_cls=None, variance=None, verbose=False)"
            ]
          },
          "metadata": {
            "tags": []
          },
          "execution_count": 26
        }
      ]
    },
    {
      "cell_type": "markdown",
      "metadata": {
        "id": "nH2UHA2XGw8m"
      },
      "source": [
        "# PREDICTION"
      ]
    },
    {
      "cell_type": "code",
      "metadata": {
        "id": "2PC3GZBI7uRH",
        "colab": {
          "base_uri": "https://localhost:8080/"
        },
        "outputId": "a32bc5ea-e704-4c56-f8e4-ed7d364d1142"
      },
      "source": [
        "%%time\n",
        "y_hat = crf_model.predict(X_test)"
      ],
      "execution_count": null,
      "outputs": [
        {
          "output_type": "stream",
          "text": [
            "CPU times: user 18.4 s, sys: 132 ms, total: 18.5 s\n",
            "Wall time: 18.5 s\n"
          ],
          "name": "stdout"
        }
      ]
    },
    {
      "cell_type": "markdown",
      "metadata": {
        "id": "gfB0HWDllbTO"
      },
      "source": [
        "# REPORT"
      ]
    },
    {
      "cell_type": "code",
      "metadata": {
        "id": "A3NYbj2WljOb"
      },
      "source": [
        "%%capture\n",
        "!pip install nervaluate"
      ],
      "execution_count": null,
      "outputs": []
    },
    {
      "cell_type": "code",
      "metadata": {
        "id": "HyEW2QIYG-_F"
      },
      "source": [
        "from nervaluate import Evaluator\n",
        "golden_tags = [\"Chemical\"]\n",
        "evaluator = Evaluator(y_test, y_hat, tags = golden_tags, loader=\"list\")\n",
        "results, results_by_tag = evaluator.evaluate()\n",
        "import pandas as pd\n",
        "res = pd.DataFrame.from_dict(results)"
      ],
      "execution_count": null,
      "outputs": []
    },
    {
      "cell_type": "code",
      "metadata": {
        "id": "uSH_dtmLHf3V",
        "colab": {
          "base_uri": "https://localhost:8080/",
          "height": 352
        },
        "outputId": "d2fd477a-1ac0-4108-b535-f261b7b07824"
      },
      "source": [
        "res"
      ],
      "execution_count": null,
      "outputs": [
        {
          "output_type": "execute_result",
          "data": {
            "text/html": [
              "<div>\n",
              "<style scoped>\n",
              "    .dataframe tbody tr th:only-of-type {\n",
              "        vertical-align: middle;\n",
              "    }\n",
              "\n",
              "    .dataframe tbody tr th {\n",
              "        vertical-align: top;\n",
              "    }\n",
              "\n",
              "    .dataframe thead th {\n",
              "        text-align: right;\n",
              "    }\n",
              "</style>\n",
              "<table border=\"1\" class=\"dataframe\">\n",
              "  <thead>\n",
              "    <tr style=\"text-align: right;\">\n",
              "      <th></th>\n",
              "      <th>ent_type</th>\n",
              "      <th>partial</th>\n",
              "      <th>strict</th>\n",
              "      <th>exact</th>\n",
              "    </tr>\n",
              "  </thead>\n",
              "  <tbody>\n",
              "    <tr>\n",
              "      <th>correct</th>\n",
              "      <td>20364.000000</td>\n",
              "      <td>18603.000000</td>\n",
              "      <td>18603.000000</td>\n",
              "      <td>18603.000000</td>\n",
              "    </tr>\n",
              "    <tr>\n",
              "      <th>incorrect</th>\n",
              "      <td>0.000000</td>\n",
              "      <td>0.000000</td>\n",
              "      <td>1761.000000</td>\n",
              "      <td>1761.000000</td>\n",
              "    </tr>\n",
              "    <tr>\n",
              "      <th>partial</th>\n",
              "      <td>0.000000</td>\n",
              "      <td>1761.000000</td>\n",
              "      <td>0.000000</td>\n",
              "      <td>0.000000</td>\n",
              "    </tr>\n",
              "    <tr>\n",
              "      <th>missed</th>\n",
              "      <td>4982.000000</td>\n",
              "      <td>4982.000000</td>\n",
              "      <td>4982.000000</td>\n",
              "      <td>4982.000000</td>\n",
              "    </tr>\n",
              "    <tr>\n",
              "      <th>spurious</th>\n",
              "      <td>1301.000000</td>\n",
              "      <td>1301.000000</td>\n",
              "      <td>1301.000000</td>\n",
              "      <td>1301.000000</td>\n",
              "    </tr>\n",
              "    <tr>\n",
              "      <th>possible</th>\n",
              "      <td>25346.000000</td>\n",
              "      <td>25346.000000</td>\n",
              "      <td>25346.000000</td>\n",
              "      <td>25346.000000</td>\n",
              "    </tr>\n",
              "    <tr>\n",
              "      <th>actual</th>\n",
              "      <td>21665.000000</td>\n",
              "      <td>21665.000000</td>\n",
              "      <td>21665.000000</td>\n",
              "      <td>21665.000000</td>\n",
              "    </tr>\n",
              "    <tr>\n",
              "      <th>precision</th>\n",
              "      <td>0.939949</td>\n",
              "      <td>0.899308</td>\n",
              "      <td>0.858666</td>\n",
              "      <td>0.858666</td>\n",
              "    </tr>\n",
              "    <tr>\n",
              "      <th>recall</th>\n",
              "      <td>0.803440</td>\n",
              "      <td>0.768701</td>\n",
              "      <td>0.733962</td>\n",
              "      <td>0.733962</td>\n",
              "    </tr>\n",
              "    <tr>\n",
              "      <th>f1</th>\n",
              "      <td>0.866350</td>\n",
              "      <td>0.828891</td>\n",
              "      <td>0.791432</td>\n",
              "      <td>0.791432</td>\n",
              "    </tr>\n",
              "  </tbody>\n",
              "</table>\n",
              "</div>"
            ],
            "text/plain": [
              "               ent_type       partial        strict         exact\n",
              "correct    20364.000000  18603.000000  18603.000000  18603.000000\n",
              "incorrect      0.000000      0.000000   1761.000000   1761.000000\n",
              "partial        0.000000   1761.000000      0.000000      0.000000\n",
              "missed      4982.000000   4982.000000   4982.000000   4982.000000\n",
              "spurious    1301.000000   1301.000000   1301.000000   1301.000000\n",
              "possible   25346.000000  25346.000000  25346.000000  25346.000000\n",
              "actual     21665.000000  21665.000000  21665.000000  21665.000000\n",
              "precision      0.939949      0.899308      0.858666      0.858666\n",
              "recall         0.803440      0.768701      0.733962      0.733962\n",
              "f1             0.866350      0.828891      0.791432      0.791432"
            ]
          },
          "metadata": {
            "tags": []
          },
          "execution_count": 30
        }
      ]
    },
    {
      "cell_type": "code",
      "metadata": {
        "id": "T0ZaIHVZJXif",
        "colab": {
          "base_uri": "https://localhost:8080/"
        },
        "outputId": "c5237f90-4ed4-4e64-c3b2-00891c1e558f"
      },
      "source": [
        "!pip install seqeval"
      ],
      "execution_count": null,
      "outputs": [
        {
          "output_type": "stream",
          "text": [
            "Collecting seqeval\n",
            "\u001b[?25l  Downloading https://files.pythonhosted.org/packages/9d/2d/233c79d5b4e5ab1dbf111242299153f3caddddbb691219f363ad55ce783d/seqeval-1.2.2.tar.gz (43kB)\n",
            "\r\u001b[K     |███████▌                        | 10kB 15.7MB/s eta 0:00:01\r\u001b[K     |███████████████                 | 20kB 20.5MB/s eta 0:00:01\r\u001b[K     |██████████████████████▌         | 30kB 11.7MB/s eta 0:00:01\r\u001b[K     |██████████████████████████████  | 40kB 8.9MB/s eta 0:00:01\r\u001b[K     |████████████████████████████████| 51kB 2.9MB/s \n",
            "\u001b[?25hRequirement already satisfied: numpy>=1.14.0 in /usr/local/lib/python3.7/dist-packages (from seqeval) (1.19.5)\n",
            "Requirement already satisfied: scikit-learn>=0.21.3 in /usr/local/lib/python3.7/dist-packages (from seqeval) (0.22.2.post1)\n",
            "Requirement already satisfied: joblib>=0.11 in /usr/local/lib/python3.7/dist-packages (from scikit-learn>=0.21.3->seqeval) (1.0.1)\n",
            "Requirement already satisfied: scipy>=0.17.0 in /usr/local/lib/python3.7/dist-packages (from scikit-learn>=0.21.3->seqeval) (1.4.1)\n",
            "Building wheels for collected packages: seqeval\n",
            "  Building wheel for seqeval (setup.py) ... \u001b[?25l\u001b[?25hdone\n",
            "  Created wheel for seqeval: filename=seqeval-1.2.2-cp37-none-any.whl size=16172 sha256=13040911e7139501ac09c9b7c24293eee46023e937cd481222e87459bd5b6d20\n",
            "  Stored in directory: /root/.cache/pip/wheels/52/df/1b/45d75646c37428f7e626214704a0e35bd3cfc32eda37e59e5f\n",
            "Successfully built seqeval\n",
            "Installing collected packages: seqeval\n",
            "Successfully installed seqeval-1.2.2\n"
          ],
          "name": "stdout"
        }
      ]
    },
    {
      "cell_type": "code",
      "metadata": {
        "id": "6NVeiqKolsi5"
      },
      "source": [
        "from seqeval.metrics import f1_score, classification_report"
      ],
      "execution_count": null,
      "outputs": []
    },
    {
      "cell_type": "code",
      "metadata": {
        "id": "oWuBk4Q-uZeF",
        "colab": {
          "base_uri": "https://localhost:8080/"
        },
        "outputId": "af9b42fd-8630-409a-94bc-4b520baa27cb"
      },
      "source": [
        "from seqeval.scheme import IOB2\n",
        "print('\\033[1m' + \"Classification report for simple linear CRF model (exact match): \")\n",
        "print('\\033[0m')\n",
        "print(classification_report(y_test, y_hat,scheme=IOB2, mode=\"strict\"))"
      ],
      "execution_count": null,
      "outputs": [
        {
          "output_type": "stream",
          "text": [
            "\u001b[1mClassification report for simple linear CRF model (exact match): \n",
            "\u001b[0m\n",
            "              precision    recall  f1-score   support\n",
            "\n",
            "    Chemical       0.86      0.73      0.79     25346\n",
            "\n",
            "   micro avg       0.86      0.73      0.79     25346\n",
            "   macro avg       0.86      0.73      0.79     25346\n",
            "weighted avg       0.86      0.73      0.79     25346\n",
            "\n"
          ],
          "name": "stdout"
        }
      ]
    },
    {
      "cell_type": "code",
      "metadata": {
        "id": "-4qXQoqWdP4v",
        "colab": {
          "base_uri": "https://localhost:8080/"
        },
        "outputId": "59d85e30-9a20-43eb-cb9b-94e8276ae8be"
      },
      "source": [
        "print(\"F1-score: {:0.3}\".format(f1_score(y_test, y_hat, average = \"weighted\", scheme=IOB2, mode=\"strict\")))"
      ],
      "execution_count": null,
      "outputs": [
        {
          "output_type": "stream",
          "text": [
            "F1-score: 0.791\n"
          ],
          "name": "stdout"
        }
      ]
    },
    {
      "cell_type": "markdown",
      "metadata": {
        "id": "C_TiVg2Gf4j1"
      },
      "source": [
        "#  OPTIMIZATION"
      ]
    },
    {
      "cell_type": "markdown",
      "metadata": {
        "id": "aGfiJDk2u4e5"
      },
      "source": [
        "Implemented following sklearn-crfsuite documentation by Mikhail Korobov."
      ]
    },
    {
      "cell_type": "code",
      "metadata": {
        "id": "zuKaERjLjY_7"
      },
      "source": [
        "import scipy\n",
        "parameters = { 'c1': scipy.stats.expon(scale=0.5),\n",
        "    'c2': scipy.stats.expon(scale=0.5)}"
      ],
      "execution_count": null,
      "outputs": []
    },
    {
      "cell_type": "code",
      "metadata": {
        "id": "SHJjY8GFoi30",
        "colab": {
          "base_uri": "https://localhost:8080/"
        },
        "outputId": "3737212a-58d3-4733-f162-19bff9ce6590"
      },
      "source": [
        "parameters"
      ],
      "execution_count": null,
      "outputs": [
        {
          "output_type": "execute_result",
          "data": {
            "text/plain": [
              "{'c1': <scipy.stats._distn_infrastructure.rv_frozen at 0x7fc991efd450>,\n",
              " 'c2': <scipy.stats._distn_infrastructure.rv_frozen at 0x7fc9ae61da10>}"
            ]
          },
          "metadata": {
            "tags": []
          },
          "execution_count": 36
        }
      ]
    },
    {
      "cell_type": "code",
      "metadata": {
        "id": "rrKA8DfOPsRs"
      },
      "source": [
        "from sklearn.metrics import make_scorer\n",
        "\n",
        "def my_scorer1(y, y_pred):\n",
        "  return f1_score(y, y_pred)\n",
        "\n",
        "f1_scorer = make_scorer(my_scorer1)"
      ],
      "execution_count": null,
      "outputs": []
    },
    {
      "cell_type": "code",
      "metadata": {
        "id": "s_6KMnJQqSTk"
      },
      "source": [
        "X, y = X_train, y_train"
      ],
      "execution_count": null,
      "outputs": []
    },
    {
      "cell_type": "code",
      "metadata": {
        "id": "kMxgeX3Sm7y-"
      },
      "source": [
        "from sklearn.model_selection import train_test_split\n",
        "_, X_train, _, y_train = train_test_split(X, y, test_size = 0.3, random_state = 276)"
      ],
      "execution_count": null,
      "outputs": []
    },
    {
      "cell_type": "code",
      "metadata": {
        "id": "igQQja1IqsXe",
        "colab": {
          "base_uri": "https://localhost:8080/"
        },
        "outputId": "a77f414e-8f44-4da0-ffa6-6cde619e55e6"
      },
      "source": [
        "len(X_train)"
      ],
      "execution_count": null,
      "outputs": [
        {
          "output_type": "execute_result",
          "data": {
            "text/plain": [
              "9205"
            ]
          },
          "metadata": {
            "tags": []
          },
          "execution_count": 40
        }
      ]
    },
    {
      "cell_type": "code",
      "metadata": {
        "id": "f2Lc-KwyPTsH"
      },
      "source": [
        "from sklearn.metrics import make_scorer\n",
        "from sklearn_crfsuite import metrics\n",
        "from sklearn.model_selection import RandomizedSearchCV\n",
        "\n",
        "\n",
        "# search\n",
        "rs = RandomizedSearchCV(CRF(), parameters,\n",
        "                        cv=3,\n",
        "                        verbose=100,\n",
        "                        n_iter=50,\n",
        "                        n_jobs= -1,\n",
        "                        scoring = f1_scorer\n",
        "                        )"
      ],
      "execution_count": null,
      "outputs": []
    },
    {
      "cell_type": "code",
      "metadata": {
        "id": "GMfP9Smn0Pth",
        "colab": {
          "base_uri": "https://localhost:8080/"
        },
        "outputId": "631c3b94-a5cd-4743-d8dd-62e9f3ccdb16"
      },
      "source": [
        "%%time\n",
        "#rs.fit(X_train, y_train)"
      ],
      "execution_count": null,
      "outputs": [
        {
          "output_type": "stream",
          "text": [
            "CPU times: user 3 µs, sys: 0 ns, total: 3 µs\n",
            "Wall time: 5.96 µs\n"
          ],
          "name": "stdout"
        }
      ]
    },
    {
      "cell_type": "code",
      "metadata": {
        "id": "wbN6Z4usOeUo"
      },
      "source": [
        "#rs.best_estimator_"
      ],
      "execution_count": null,
      "outputs": []
    },
    {
      "cell_type": "code",
      "metadata": {
        "id": "qd9L5A6COC5T",
        "colab": {
          "base_uri": "https://localhost:8080/",
          "height": 53
        },
        "outputId": "3d0406f1-a76f-44a6-f537-55b17f7b2e74"
      },
      "source": [
        "\"\"\"crf_optimized = rs.best_estimator_\n",
        "print('best params:', rs.best_params_)\n",
        "print('best CV score:', rs.best_score_)\n",
        "print('model size: {:0.2f}M'.format(rs.best_estimator_.size_ / 1000000))\"\"\""
      ],
      "execution_count": null,
      "outputs": [
        {
          "output_type": "execute_result",
          "data": {
            "application/vnd.google.colaboratory.intrinsic+json": {
              "type": "string"
            },
            "text/plain": [
              "\"crf_optimized = rs.best_estimator_\\nprint('best params:', rs.best_params_)\\nprint('best CV score:', rs.best_score_)\\nprint('model size: {:0.2f}M'.format(rs.best_estimator_.size_ / 1000000))\""
            ]
          },
          "metadata": {
            "tags": []
          },
          "execution_count": 44
        }
      ]
    },
    {
      "cell_type": "code",
      "metadata": {
        "colab": {
          "base_uri": "https://localhost:8080/",
          "height": 53
        },
        "id": "92ntb-5Sloto",
        "outputId": "34bdf46d-7774-43ea-86f4-2a33b13004a1"
      },
      "source": [
        "\"\"\"crf_optimized = CRF(\n",
        "    algorithm='lbfgs',\n",
        "    c1= 0.27,\n",
        "    c2= 0.24,\n",
        "    max_iterations=100,\n",
        "    all_possible_transitions=True,\n",
        ")\"\"\""
      ],
      "execution_count": null,
      "outputs": [
        {
          "output_type": "execute_result",
          "data": {
            "application/vnd.google.colaboratory.intrinsic+json": {
              "type": "string"
            },
            "text/plain": [
              "\"crf_optimized = CRF(\\n    algorithm='lbfgs',\\n    c1= 0.27,\\n    c2= 0.24,\\n    max_iterations=100,\\n    all_possible_transitions=True,\\n)\""
            ]
          },
          "metadata": {
            "tags": []
          },
          "execution_count": 45
        }
      ]
    },
    {
      "cell_type": "code",
      "metadata": {
        "id": "vAU_WWFGmNbx"
      },
      "source": [
        "#crf_optimized.fit(X,y)"
      ],
      "execution_count": null,
      "outputs": []
    },
    {
      "cell_type": "code",
      "metadata": {
        "id": "yOmOCisJmVJj"
      },
      "source": [
        "#y_hat2 = crf_optimized.predict(X_test)"
      ],
      "execution_count": null,
      "outputs": []
    },
    {
      "cell_type": "code",
      "metadata": {
        "id": "Ns6Z-O2zvVR-",
        "colab": {
          "base_uri": "https://localhost:8080/"
        },
        "outputId": "ed4ec33f-64c1-4442-e01c-a5fb6ae77304"
      },
      "source": [
        "# Save the model to disk\n",
        "import joblib\n",
        "filename = \"/content/gdrive/MyDrive/BIO-NER-project/finalized_model.sav\"\n",
        "joblib.dump(crf_model, filename)"
      ],
      "execution_count": null,
      "outputs": [
        {
          "output_type": "execute_result",
          "data": {
            "text/plain": [
              "['/content/gdrive/MyDrive/BIO-NER-project/finalized_model.sav']"
            ]
          },
          "metadata": {
            "tags": []
          },
          "execution_count": 48
        }
      ]
    },
    {
      "cell_type": "code",
      "metadata": {
        "id": "qGWiK5pDvngt"
      },
      "source": [
        "# Load the model\n",
        "loaded_model = joblib.load(filename)"
      ],
      "execution_count": null,
      "outputs": []
    },
    {
      "cell_type": "code",
      "metadata": {
        "id": "v83XVmKJu_Iq"
      },
      "source": [
        "y_hat = loaded_model.predict(X_test)"
      ],
      "execution_count": null,
      "outputs": []
    },
    {
      "cell_type": "markdown",
      "metadata": {
        "id": "MeCy1tBl8Ws5"
      },
      "source": [
        "# REPORT"
      ]
    },
    {
      "cell_type": "code",
      "metadata": {
        "id": "drk76Y7g8Ws5"
      },
      "source": [
        "%%capture\n",
        "# Install seqeval library for evaluation score\n",
        "!pip3 install seqeval"
      ],
      "execution_count": null,
      "outputs": []
    },
    {
      "cell_type": "code",
      "metadata": {
        "id": "MApPwLmf8Ws_"
      },
      "source": [
        "from seqeval.metrics import f1_score, classification_report"
      ],
      "execution_count": null,
      "outputs": []
    },
    {
      "cell_type": "code",
      "metadata": {
        "colab": {
          "base_uri": "https://localhost:8080/"
        },
        "id": "A0lr53l28Ws_",
        "outputId": "48182a10-ecda-4801-9f28-bed716f95dc2"
      },
      "source": [
        "from seqeval.scheme import IOB2\n",
        "print('\\033[1m' + \"Classification report for BERT: \")\n",
        "print('\\033[0m')\n",
        "print(classification_report(y_test, y_hat,scheme=IOB2, mode=\"strict\"))"
      ],
      "execution_count": null,
      "outputs": [
        {
          "output_type": "stream",
          "text": [
            "\u001b[1mClassification report for BERT: \n",
            "\u001b[0m\n",
            "              precision    recall  f1-score   support\n",
            "\n",
            "    Chemical       0.86      0.73      0.79     25346\n",
            "\n",
            "   micro avg       0.86      0.73      0.79     25346\n",
            "   macro avg       0.86      0.73      0.79     25346\n",
            "weighted avg       0.86      0.73      0.79     25346\n",
            "\n"
          ],
          "name": "stdout"
        }
      ]
    },
    {
      "cell_type": "code",
      "metadata": {
        "colab": {
          "base_uri": "https://localhost:8080/"
        },
        "id": "Nhy6cBMR8WtA",
        "outputId": "26d4c723-9f07-49c1-877d-b0ff8b304a3b"
      },
      "source": [
        "print(\"F1-score: {:0.3}\".format(f1_score(y_test, y_hat, average = \"micro\", scheme=IOB2, mode=\"strict\")))"
      ],
      "execution_count": null,
      "outputs": [
        {
          "output_type": "stream",
          "text": [
            "F1-score: 0.791\n"
          ],
          "name": "stdout"
        }
      ]
    },
    {
      "cell_type": "code",
      "metadata": {
        "id": "PIiBGF3IdXlf"
      },
      "source": [
        "%%capture\n",
        "!pip install nervaluate"
      ],
      "execution_count": null,
      "outputs": []
    },
    {
      "cell_type": "code",
      "metadata": {
        "id": "IT1gr8Bbddg5"
      },
      "source": [
        "from nervaluate import Evaluator\n",
        "golden_tags = [\"Chemical\"]\n",
        "evaluator = Evaluator(y_test, y_hat, tags = golden_tags, loader=\"list\")\n",
        "results, results_by_tag = evaluator.evaluate()\n",
        "import pandas as pd\n",
        "res = pd.DataFrame.from_dict(results)"
      ],
      "execution_count": null,
      "outputs": []
    },
    {
      "cell_type": "code",
      "metadata": {
        "colab": {
          "base_uri": "https://localhost:8080/",
          "height": 352
        },
        "id": "wCA6Lk-UdlkQ",
        "outputId": "eb2501d8-8a34-4899-adbe-e15cbefa58e1"
      },
      "source": [
        "res"
      ],
      "execution_count": null,
      "outputs": [
        {
          "output_type": "execute_result",
          "data": {
            "text/html": [
              "<div>\n",
              "<style scoped>\n",
              "    .dataframe tbody tr th:only-of-type {\n",
              "        vertical-align: middle;\n",
              "    }\n",
              "\n",
              "    .dataframe tbody tr th {\n",
              "        vertical-align: top;\n",
              "    }\n",
              "\n",
              "    .dataframe thead th {\n",
              "        text-align: right;\n",
              "    }\n",
              "</style>\n",
              "<table border=\"1\" class=\"dataframe\">\n",
              "  <thead>\n",
              "    <tr style=\"text-align: right;\">\n",
              "      <th></th>\n",
              "      <th>ent_type</th>\n",
              "      <th>partial</th>\n",
              "      <th>strict</th>\n",
              "      <th>exact</th>\n",
              "    </tr>\n",
              "  </thead>\n",
              "  <tbody>\n",
              "    <tr>\n",
              "      <th>correct</th>\n",
              "      <td>20364.000000</td>\n",
              "      <td>18603.000000</td>\n",
              "      <td>18603.000000</td>\n",
              "      <td>18603.000000</td>\n",
              "    </tr>\n",
              "    <tr>\n",
              "      <th>incorrect</th>\n",
              "      <td>0.000000</td>\n",
              "      <td>0.000000</td>\n",
              "      <td>1761.000000</td>\n",
              "      <td>1761.000000</td>\n",
              "    </tr>\n",
              "    <tr>\n",
              "      <th>partial</th>\n",
              "      <td>0.000000</td>\n",
              "      <td>1761.000000</td>\n",
              "      <td>0.000000</td>\n",
              "      <td>0.000000</td>\n",
              "    </tr>\n",
              "    <tr>\n",
              "      <th>missed</th>\n",
              "      <td>4982.000000</td>\n",
              "      <td>4982.000000</td>\n",
              "      <td>4982.000000</td>\n",
              "      <td>4982.000000</td>\n",
              "    </tr>\n",
              "    <tr>\n",
              "      <th>spurious</th>\n",
              "      <td>1301.000000</td>\n",
              "      <td>1301.000000</td>\n",
              "      <td>1301.000000</td>\n",
              "      <td>1301.000000</td>\n",
              "    </tr>\n",
              "    <tr>\n",
              "      <th>possible</th>\n",
              "      <td>25346.000000</td>\n",
              "      <td>25346.000000</td>\n",
              "      <td>25346.000000</td>\n",
              "      <td>25346.000000</td>\n",
              "    </tr>\n",
              "    <tr>\n",
              "      <th>actual</th>\n",
              "      <td>21665.000000</td>\n",
              "      <td>21665.000000</td>\n",
              "      <td>21665.000000</td>\n",
              "      <td>21665.000000</td>\n",
              "    </tr>\n",
              "    <tr>\n",
              "      <th>precision</th>\n",
              "      <td>0.939949</td>\n",
              "      <td>0.899308</td>\n",
              "      <td>0.858666</td>\n",
              "      <td>0.858666</td>\n",
              "    </tr>\n",
              "    <tr>\n",
              "      <th>recall</th>\n",
              "      <td>0.803440</td>\n",
              "      <td>0.768701</td>\n",
              "      <td>0.733962</td>\n",
              "      <td>0.733962</td>\n",
              "    </tr>\n",
              "    <tr>\n",
              "      <th>f1</th>\n",
              "      <td>0.866350</td>\n",
              "      <td>0.828891</td>\n",
              "      <td>0.791432</td>\n",
              "      <td>0.791432</td>\n",
              "    </tr>\n",
              "  </tbody>\n",
              "</table>\n",
              "</div>"
            ],
            "text/plain": [
              "               ent_type       partial        strict         exact\n",
              "correct    20364.000000  18603.000000  18603.000000  18603.000000\n",
              "incorrect      0.000000      0.000000   1761.000000   1761.000000\n",
              "partial        0.000000   1761.000000      0.000000      0.000000\n",
              "missed      4982.000000   4982.000000   4982.000000   4982.000000\n",
              "spurious    1301.000000   1301.000000   1301.000000   1301.000000\n",
              "possible   25346.000000  25346.000000  25346.000000  25346.000000\n",
              "actual     21665.000000  21665.000000  21665.000000  21665.000000\n",
              "precision      0.939949      0.899308      0.858666      0.858666\n",
              "recall         0.803440      0.768701      0.733962      0.733962\n",
              "f1             0.866350      0.828891      0.791432      0.791432"
            ]
          },
          "metadata": {
            "tags": []
          },
          "execution_count": 94
        }
      ]
    },
    {
      "cell_type": "markdown",
      "metadata": {
        "id": "gE0_bZci8RF0"
      },
      "source": [
        "# DEBUGGING WITH ELI5"
      ]
    },
    {
      "cell_type": "code",
      "metadata": {
        "id": "NMbZ24D57O45"
      },
      "source": [
        "%%capture\n",
        "!pip3 install eli5"
      ],
      "execution_count": null,
      "outputs": []
    },
    {
      "cell_type": "code",
      "metadata": {
        "id": "BzcZgfaQ7Vtz",
        "colab": {
          "base_uri": "https://localhost:8080/",
          "height": 475
        },
        "outputId": "93d67272-19ac-40f6-a1bc-185c97c02e29"
      },
      "source": [
        "import eli5\n",
        "eli5.show_weights(crf_model, top=10)"
      ],
      "execution_count": null,
      "outputs": [
        {
          "output_type": "stream",
          "text": [
            "/usr/local/lib/python3.7/dist-packages/sklearn/utils/deprecation.py:144: FutureWarning: The sklearn.feature_selection.base module is  deprecated in version 0.22 and will be removed in version 0.24. The corresponding classes / functions should instead be imported from sklearn.feature_selection. Anything that cannot be imported from sklearn.feature_selection is now part of the private API.\n",
            "  warnings.warn(message, FutureWarning)\n",
            "/usr/local/lib/python3.7/dist-packages/sklearn/base.py:197: FutureWarning: From version 0.24, get_params will raise an AttributeError if a parameter cannot be retrieved as an instance attribute. Previously it would return None.\n",
            "  FutureWarning)\n"
          ],
          "name": "stderr"
        },
        {
          "output_type": "execute_result",
          "data": {
            "text/html": [
              "\n",
              "    <style>\n",
              "    table.eli5-weights tr:hover {\n",
              "        filter: brightness(85%);\n",
              "    }\n",
              "</style>\n",
              "\n",
              "\n",
              "\n",
              "    \n",
              "\n",
              "    \n",
              "\n",
              "    \n",
              "        \n",
              "\n",
              "\n",
              "<table class=\"eli5-transition-features\" style=\"margin-bottom: 0.5em;\">\n",
              "    <thead>\n",
              "        <tr>\n",
              "            <td>From \\ To</td>\n",
              "            \n",
              "                <th>O</th>\n",
              "            \n",
              "                <th>B-Chemical</th>\n",
              "            \n",
              "                <th>I-Chemical</th>\n",
              "            \n",
              "        </tr>\n",
              "    </thead>\n",
              "    <tbody>\n",
              "        \n",
              "            \n",
              "                <tr>\n",
              "                    <th>O</th>\n",
              "                    \n",
              "                        <td style=\"background-color: hsl(120, 100.00%, 96.28%)\" title=\"O &rArr; O\">\n",
              "                            1.144\n",
              "                        </td>\n",
              "                    \n",
              "                        <td style=\"background-color: hsl(0, 100.00%, 99.53%)\" title=\"O &rArr; B-Chemical\">\n",
              "                            -0.059\n",
              "                        </td>\n",
              "                    \n",
              "                        <td style=\"background-color: hsl(0, 100.00%, 80.00%)\" title=\"O &rArr; I-Chemical\">\n",
              "                            -12.663\n",
              "                        </td>\n",
              "                    \n",
              "                </tr>\n",
              "            \n",
              "                <tr>\n",
              "                    <th>B-Chemical</th>\n",
              "                    \n",
              "                        <td style=\"background-color: hsl(0, 100.00%, 97.43%)\" title=\"B-Chemical &rArr; O\">\n",
              "                            -0.677\n",
              "                        </td>\n",
              "                    \n",
              "                        <td style=\"background-color: hsl(0, 100.00%, 94.13%)\" title=\"B-Chemical &rArr; B-Chemical\">\n",
              "                            -2.198\n",
              "                        </td>\n",
              "                    \n",
              "                        <td style=\"background-color: hsl(0, 100.00%, 99.97%)\" title=\"B-Chemical &rArr; I-Chemical\">\n",
              "                            -0.001\n",
              "                        </td>\n",
              "                    \n",
              "                </tr>\n",
              "            \n",
              "                <tr>\n",
              "                    <th>I-Chemical</th>\n",
              "                    \n",
              "                        <td style=\"background-color: hsl(0, 100.00%, 95.04%)\" title=\"I-Chemical &rArr; O\">\n",
              "                            -1.726\n",
              "                        </td>\n",
              "                    \n",
              "                        <td style=\"background-color: hsl(0, 100.00%, 92.23%)\" title=\"I-Chemical &rArr; B-Chemical\">\n",
              "                            -3.279\n",
              "                        </td>\n",
              "                    \n",
              "                        <td style=\"background-color: hsl(120, 100.00%, 97.19%)\" title=\"I-Chemical &rArr; I-Chemical\">\n",
              "                            0.768\n",
              "                        </td>\n",
              "                    \n",
              "                </tr>\n",
              "            \n",
              "        \n",
              "    </tbody>\n",
              "</table>\n",
              "    \n",
              "\n",
              "    \n",
              "\n",
              "    \n",
              "\n",
              "    \n",
              "\n",
              "\n",
              "    \n",
              "\n",
              "    \n",
              "\n",
              "    \n",
              "\n",
              "    \n",
              "        \n",
              "\n",
              "    \n",
              "        <table class=\"eli5-weights-wrapper\" style=\"border-collapse: collapse; border: none; margin-bottom: 1.5em;\">\n",
              "            <tr>\n",
              "                \n",
              "                    <td style=\"padding: 0.5em; border: 1px solid black; text-align: center;\">\n",
              "                        <b>\n",
              "    \n",
              "        y=O\n",
              "    \n",
              "</b>\n",
              "\n",
              "top features\n",
              "                    </td>\n",
              "                \n",
              "                    <td style=\"padding: 0.5em; border: 1px solid black; text-align: center;\">\n",
              "                        <b>\n",
              "    \n",
              "        y=B-Chemical\n",
              "    \n",
              "</b>\n",
              "\n",
              "top features\n",
              "                    </td>\n",
              "                \n",
              "                    <td style=\"padding: 0.5em; border: 1px solid black; text-align: center;\">\n",
              "                        <b>\n",
              "    \n",
              "        y=I-Chemical\n",
              "    \n",
              "</b>\n",
              "\n",
              "top features\n",
              "                    </td>\n",
              "                \n",
              "            </tr>\n",
              "            <tr>\n",
              "                \n",
              "                    \n",
              "                        <td style=\"padding: 0px; border: 1px solid black; vertical-align: top;\">\n",
              "                            \n",
              "                                \n",
              "                                    \n",
              "                                    \n",
              "    \n",
              "    <table class=\"eli5-weights\"\n",
              "           style=\"border-collapse: collapse; border: none; margin-top: 0em; table-layout: auto; width: 100%;\">\n",
              "        <thead>\n",
              "        <tr style=\"border: none;\">\n",
              "            \n",
              "                <th style=\"padding: 0 1em 0 0.5em; text-align: right; border: none;\" title=\"Feature weights. Note that weights do not account for feature value scales, so if feature values have different scales, features with highest weights might not be the most important.\">\n",
              "                    Weight<sup>?</sup>\n",
              "                </th>\n",
              "            \n",
              "            <th style=\"padding: 0 0.5em 0 0.5em; text-align: left; border: none;\">Feature</th>\n",
              "            \n",
              "        </tr>\n",
              "        </thead>\n",
              "        <tbody>\n",
              "        \n",
              "            <tr style=\"background-color: hsl(120, 100.00%, 82.18%); border: none;\">\n",
              "    <td style=\"padding: 0 1em 0 0.5em; text-align: right; border: none;\">\n",
              "        +5.458\n",
              "    </td>\n",
              "    <td style=\"padding: 0 0.5em 0 0.5em; text-align: left; border: none;\">\n",
              "        wordID:saline\n",
              "    </td>\n",
              "    \n",
              "</tr>\n",
              "        \n",
              "            <tr style=\"background-color: hsl(120, 100.00%, 82.44%); border: none;\">\n",
              "    <td style=\"padding: 0 1em 0 0.5em; text-align: right; border: none;\">\n",
              "        +5.346\n",
              "    </td>\n",
              "    <td style=\"padding: 0 0.5em 0 0.5em; text-align: left; border: none;\">\n",
              "        wordID:metabolite\n",
              "    </td>\n",
              "    \n",
              "</tr>\n",
              "        \n",
              "            <tr style=\"background-color: hsl(120, 100.00%, 82.51%); border: none;\">\n",
              "    <td style=\"padding: 0 1em 0 0.5em; text-align: right; border: none;\">\n",
              "        +5.314\n",
              "    </td>\n",
              "    <td style=\"padding: 0 0.5em 0 0.5em; text-align: left; border: none;\">\n",
              "        wordID:thin\n",
              "    </td>\n",
              "    \n",
              "</tr>\n",
              "        \n",
              "            <tr style=\"background-color: hsl(120, 100.00%, 83.19%); border: none;\">\n",
              "    <td style=\"padding: 0 1em 0 0.5em; text-align: right; border: none;\">\n",
              "        +5.020\n",
              "    </td>\n",
              "    <td style=\"padding: 0 0.5em 0 0.5em; text-align: left; border: none;\">\n",
              "        wordID:polysaccharide\n",
              "    </td>\n",
              "    \n",
              "</tr>\n",
              "        \n",
              "            <tr style=\"background-color: hsl(120, 100.00%, 83.47%); border: none;\">\n",
              "    <td style=\"padding: 0 1em 0 0.5em; text-align: right; border: none;\">\n",
              "        +4.904\n",
              "    </td>\n",
              "    <td style=\"padding: 0 0.5em 0 0.5em; text-align: left; border: none;\">\n",
              "        wordID:gene\n",
              "    </td>\n",
              "    \n",
              "</tr>\n",
              "        \n",
              "            <tr style=\"background-color: hsl(120, 100.00%, 84.12%); border: none;\">\n",
              "    <td style=\"padding: 0 1em 0 0.5em; text-align: right; border: none;\">\n",
              "        +4.629\n",
              "    </td>\n",
              "    <td style=\"padding: 0 0.5em 0 0.5em; text-align: left; border: none;\">\n",
              "        word[:3]:Nan\n",
              "    </td>\n",
              "    \n",
              "</tr>\n",
              "        \n",
              "        \n",
              "            <tr style=\"background-color: hsl(120, 100.00%, 84.12%); border: none;\">\n",
              "                <td colspan=\"2\" style=\"padding: 0 0.5em 0 0.5em; text-align: center; border: none; white-space: nowrap;\">\n",
              "                    <i>&hellip; 18920 more positive &hellip;</i>\n",
              "                </td>\n",
              "            </tr>\n",
              "        \n",
              "\n",
              "        \n",
              "            <tr style=\"background-color: hsl(0, 100.00%, 84.24%); border: none;\">\n",
              "                <td colspan=\"2\" style=\"padding: 0 0.5em 0 0.5em; text-align: center; border: none; white-space: nowrap;\">\n",
              "                    <i>&hellip; 9979 more negative &hellip;</i>\n",
              "                </td>\n",
              "            </tr>\n",
              "        \n",
              "        \n",
              "            <tr style=\"background-color: hsl(0, 100.00%, 84.24%); border: none;\">\n",
              "    <td style=\"padding: 0 1em 0 0.5em; text-align: right; border: none;\">\n",
              "        -4.581\n",
              "    </td>\n",
              "    <td style=\"padding: 0 0.5em 0 0.5em; text-align: left; border: none;\">\n",
              "        wordID:nucleobase\n",
              "    </td>\n",
              "    \n",
              "</tr>\n",
              "        \n",
              "            <tr style=\"background-color: hsl(0, 100.00%, 84.07%); border: none;\">\n",
              "    <td style=\"padding: 0 1em 0 0.5em; text-align: right; border: none;\">\n",
              "        -4.650\n",
              "    </td>\n",
              "    <td style=\"padding: 0 0.5em 0 0.5em; text-align: left; border: none;\">\n",
              "        wordID:ester\n",
              "    </td>\n",
              "    \n",
              "</tr>\n",
              "        \n",
              "            <tr style=\"background-color: hsl(0, 100.00%, 83.95%); border: none;\">\n",
              "    <td style=\"padding: 0 1em 0 0.5em; text-align: right; border: none;\">\n",
              "        -4.700\n",
              "    </td>\n",
              "    <td style=\"padding: 0 0.5em 0 0.5em; text-align: left; border: none;\">\n",
              "        wordID:esters\n",
              "    </td>\n",
              "    \n",
              "</tr>\n",
              "        \n",
              "            <tr style=\"background-color: hsl(0, 100.00%, 83.01%); border: none;\">\n",
              "    <td style=\"padding: 0 1em 0 0.5em; text-align: right; border: none;\">\n",
              "        -5.098\n",
              "    </td>\n",
              "    <td style=\"padding: 0 0.5em 0 0.5em; text-align: left; border: none;\">\n",
              "        wordID:copper\n",
              "    </td>\n",
              "    \n",
              "</tr>\n",
              "        \n",
              "\n",
              "        </tbody>\n",
              "    </table>\n",
              "\n",
              "                                \n",
              "                            \n",
              "                        </td>\n",
              "                    \n",
              "                        <td style=\"padding: 0px; border: 1px solid black; vertical-align: top;\">\n",
              "                            \n",
              "                                \n",
              "                                    \n",
              "                                    \n",
              "    \n",
              "    <table class=\"eli5-weights\"\n",
              "           style=\"border-collapse: collapse; border: none; margin-top: 0em; table-layout: auto; width: 100%;\">\n",
              "        <thead>\n",
              "        <tr style=\"border: none;\">\n",
              "            \n",
              "                <th style=\"padding: 0 1em 0 0.5em; text-align: right; border: none;\" title=\"Feature weights. Note that weights do not account for feature value scales, so if feature values have different scales, features with highest weights might not be the most important.\">\n",
              "                    Weight<sup>?</sup>\n",
              "                </th>\n",
              "            \n",
              "            <th style=\"padding: 0 0.5em 0 0.5em; text-align: left; border: none;\">Feature</th>\n",
              "            \n",
              "        </tr>\n",
              "        </thead>\n",
              "        <tbody>\n",
              "        \n",
              "            <tr style=\"background-color: hsl(120, 100.00%, 80.00%); border: none;\">\n",
              "    <td style=\"padding: 0 1em 0 0.5em; text-align: right; border: none;\">\n",
              "        +6.436\n",
              "    </td>\n",
              "    <td style=\"padding: 0 0.5em 0 0.5em; text-align: left; border: none;\">\n",
              "        wordID:genistein\n",
              "    </td>\n",
              "    \n",
              "</tr>\n",
              "        \n",
              "            <tr style=\"background-color: hsl(120, 100.00%, 80.32%); border: none;\">\n",
              "    <td style=\"padding: 0 1em 0 0.5em; text-align: right; border: none;\">\n",
              "        +6.290\n",
              "    </td>\n",
              "    <td style=\"padding: 0 0.5em 0 0.5em; text-align: left; border: none;\">\n",
              "        wordID:parathion\n",
              "    </td>\n",
              "    \n",
              "</tr>\n",
              "        \n",
              "            <tr style=\"background-color: hsl(120, 100.00%, 80.96%); border: none;\">\n",
              "    <td style=\"padding: 0 1em 0 0.5em; text-align: right; border: none;\">\n",
              "        +6.000\n",
              "    </td>\n",
              "    <td style=\"padding: 0 0.5em 0 0.5em; text-align: left; border: none;\">\n",
              "        word[-3:]:vir\n",
              "    </td>\n",
              "    \n",
              "</tr>\n",
              "        \n",
              "            <tr style=\"background-color: hsl(120, 100.00%, 81.64%); border: none;\">\n",
              "    <td style=\"padding: 0 1em 0 0.5em; text-align: right; border: none;\">\n",
              "        +5.696\n",
              "    </td>\n",
              "    <td style=\"padding: 0 0.5em 0 0.5em; text-align: left; border: none;\">\n",
              "        wordID:platinum\n",
              "    </td>\n",
              "    \n",
              "</tr>\n",
              "        \n",
              "            <tr style=\"background-color: hsl(120, 100.00%, 81.86%); border: none;\">\n",
              "    <td style=\"padding: 0 1em 0 0.5em; text-align: right; border: none;\">\n",
              "        +5.599\n",
              "    </td>\n",
              "    <td style=\"padding: 0 0.5em 0 0.5em; text-align: left; border: none;\">\n",
              "        wordID:biotin\n",
              "    </td>\n",
              "    \n",
              "</tr>\n",
              "        \n",
              "            <tr style=\"background-color: hsl(120, 100.00%, 82.09%); border: none;\">\n",
              "    <td style=\"padding: 0 1em 0 0.5em; text-align: right; border: none;\">\n",
              "        +5.500\n",
              "    </td>\n",
              "    <td style=\"padding: 0 0.5em 0 0.5em; text-align: left; border: none;\">\n",
              "        wordID:Soluplus\n",
              "    </td>\n",
              "    \n",
              "</tr>\n",
              "        \n",
              "            <tr style=\"background-color: hsl(120, 100.00%, 82.89%); border: none;\">\n",
              "    <td style=\"padding: 0 1em 0 0.5em; text-align: right; border: none;\">\n",
              "        +5.150\n",
              "    </td>\n",
              "    <td style=\"padding: 0 0.5em 0 0.5em; text-align: left; border: none;\">\n",
              "        wordID:malathion\n",
              "    </td>\n",
              "    \n",
              "</tr>\n",
              "        \n",
              "            <tr style=\"background-color: hsl(120, 100.00%, 83.86%); border: none;\">\n",
              "    <td style=\"padding: 0 1em 0 0.5em; text-align: right; border: none;\">\n",
              "        +4.740\n",
              "    </td>\n",
              "    <td style=\"padding: 0 0.5em 0 0.5em; text-align: left; border: none;\">\n",
              "        wordID:glyoxals\n",
              "    </td>\n",
              "    \n",
              "</tr>\n",
              "        \n",
              "            <tr style=\"background-color: hsl(120, 100.00%, 83.88%); border: none;\">\n",
              "    <td style=\"padding: 0 1em 0 0.5em; text-align: right; border: none;\">\n",
              "        +4.729\n",
              "    </td>\n",
              "    <td style=\"padding: 0 0.5em 0 0.5em; text-align: left; border: none;\">\n",
              "        word[-3:]:nil\n",
              "    </td>\n",
              "    \n",
              "</tr>\n",
              "        \n",
              "            <tr style=\"background-color: hsl(120, 100.00%, 83.91%); border: none;\">\n",
              "    <td style=\"padding: 0 1em 0 0.5em; text-align: right; border: none;\">\n",
              "        +4.715\n",
              "    </td>\n",
              "    <td style=\"padding: 0 0.5em 0 0.5em; text-align: left; border: none;\">\n",
              "        wordID:anthocyanins\n",
              "    </td>\n",
              "    \n",
              "</tr>\n",
              "        \n",
              "        \n",
              "            <tr style=\"background-color: hsl(120, 100.00%, 83.91%); border: none;\">\n",
              "                <td colspan=\"2\" style=\"padding: 0 0.5em 0 0.5em; text-align: center; border: none; white-space: nowrap;\">\n",
              "                    <i>&hellip; 14853 more positive &hellip;</i>\n",
              "                </td>\n",
              "            </tr>\n",
              "        \n",
              "\n",
              "        \n",
              "            <tr style=\"background-color: hsl(0, 100.00%, 80.00%); border: none;\">\n",
              "                <td colspan=\"2\" style=\"padding: 0 0.5em 0 0.5em; text-align: center; border: none; white-space: nowrap;\">\n",
              "                    <i>&hellip; 3237 more negative &hellip;</i>\n",
              "                </td>\n",
              "            </tr>\n",
              "        \n",
              "        \n",
              "\n",
              "        </tbody>\n",
              "    </table>\n",
              "\n",
              "                                \n",
              "                            \n",
              "                        </td>\n",
              "                    \n",
              "                        <td style=\"padding: 0px; border: 1px solid black; vertical-align: top;\">\n",
              "                            \n",
              "                                \n",
              "                                    \n",
              "                                    \n",
              "    \n",
              "    <table class=\"eli5-weights\"\n",
              "           style=\"border-collapse: collapse; border: none; margin-top: 0em; table-layout: auto; width: 100%;\">\n",
              "        <thead>\n",
              "        <tr style=\"border: none;\">\n",
              "            \n",
              "                <th style=\"padding: 0 1em 0 0.5em; text-align: right; border: none;\" title=\"Feature weights. Note that weights do not account for feature value scales, so if feature values have different scales, features with highest weights might not be the most important.\">\n",
              "                    Weight<sup>?</sup>\n",
              "                </th>\n",
              "            \n",
              "            <th style=\"padding: 0 0.5em 0 0.5em; text-align: left; border: none;\">Feature</th>\n",
              "            \n",
              "        </tr>\n",
              "        </thead>\n",
              "        <tbody>\n",
              "        \n",
              "            <tr style=\"background-color: hsl(120, 100.00%, 82.29%); border: none;\">\n",
              "    <td style=\"padding: 0 1em 0 0.5em; text-align: right; border: none;\">\n",
              "        +5.411\n",
              "    </td>\n",
              "    <td style=\"padding: 0 0.5em 0 0.5em; text-align: left; border: none;\">\n",
              "        -1:wordID:syn12\n",
              "    </td>\n",
              "    \n",
              "</tr>\n",
              "        \n",
              "            <tr style=\"background-color: hsl(120, 100.00%, 82.42%); border: none;\">\n",
              "    <td style=\"padding: 0 1em 0 0.5em; text-align: right; border: none;\">\n",
              "        +5.352\n",
              "    </td>\n",
              "    <td style=\"padding: 0 0.5em 0 0.5em; text-align: left; border: none;\">\n",
              "        -1:wordID:sup\n",
              "    </td>\n",
              "    \n",
              "</tr>\n",
              "        \n",
              "            <tr style=\"background-color: hsl(120, 100.00%, 83.33%); border: none;\">\n",
              "    <td style=\"padding: 0 1em 0 0.5em; text-align: right; border: none;\">\n",
              "        +4.962\n",
              "    </td>\n",
              "    <td style=\"padding: 0 0.5em 0 0.5em; text-align: left; border: none;\">\n",
              "        -1:wordID:vitamin\n",
              "    </td>\n",
              "    \n",
              "</tr>\n",
              "        \n",
              "            <tr style=\"background-color: hsl(120, 100.00%, 83.85%); border: none;\">\n",
              "    <td style=\"padding: 0 1em 0 0.5em; text-align: right; border: none;\">\n",
              "        +4.744\n",
              "    </td>\n",
              "    <td style=\"padding: 0 0.5em 0 0.5em; text-align: left; border: none;\">\n",
              "        -1:wordID:TiO\n",
              "    </td>\n",
              "    \n",
              "</tr>\n",
              "        \n",
              "            <tr style=\"background-color: hsl(120, 100.00%, 84.96%); border: none;\">\n",
              "    <td style=\"padding: 0 1em 0 0.5em; text-align: right; border: none;\">\n",
              "        +4.283\n",
              "    </td>\n",
              "    <td style=\"padding: 0 0.5em 0 0.5em; text-align: left; border: none;\">\n",
              "        -1:wordID:transition\n",
              "    </td>\n",
              "    \n",
              "</tr>\n",
              "        \n",
              "            <tr style=\"background-color: hsl(120, 100.00%, 85.42%); border: none;\">\n",
              "    <td style=\"padding: 0 1em 0 0.5em; text-align: right; border: none;\">\n",
              "        +4.099\n",
              "    </td>\n",
              "    <td style=\"padding: 0 0.5em 0 0.5em; text-align: left; border: none;\">\n",
              "        wordID:red\n",
              "    </td>\n",
              "    \n",
              "</tr>\n",
              "        \n",
              "            <tr style=\"background-color: hsl(120, 100.00%, 85.71%); border: none;\">\n",
              "    <td style=\"padding: 0 1em 0 0.5em; text-align: right; border: none;\">\n",
              "        +3.983\n",
              "    </td>\n",
              "    <td style=\"padding: 0 0.5em 0 0.5em; text-align: left; border: none;\">\n",
              "        -1:wordID:Bryostatin\n",
              "    </td>\n",
              "    \n",
              "</tr>\n",
              "        \n",
              "            <tr style=\"background-color: hsl(120, 100.00%, 86.01%); border: none;\">\n",
              "    <td style=\"padding: 0 1em 0 0.5em; text-align: right; border: none;\">\n",
              "        +3.865\n",
              "    </td>\n",
              "    <td style=\"padding: 0 0.5em 0 0.5em; text-align: left; border: none;\">\n",
              "        -1:wordID:poly\n",
              "    </td>\n",
              "    \n",
              "</tr>\n",
              "        \n",
              "            <tr style=\"background-color: hsl(120, 100.00%, 86.09%); border: none;\">\n",
              "    <td style=\"padding: 0 1em 0 0.5em; text-align: right; border: none;\">\n",
              "        +3.830\n",
              "    </td>\n",
              "    <td style=\"padding: 0 0.5em 0 0.5em; text-align: left; border: none;\">\n",
              "        -2:wordID:spiruchostatins\n",
              "    </td>\n",
              "    \n",
              "</tr>\n",
              "        \n",
              "            <tr style=\"background-color: hsl(120, 100.00%, 86.22%); border: none;\">\n",
              "    <td style=\"padding: 0 1em 0 0.5em; text-align: right; border: none;\">\n",
              "        +3.782\n",
              "    </td>\n",
              "    <td style=\"padding: 0 0.5em 0 0.5em; text-align: left; border: none;\">\n",
              "        -1:wordID:chikusetsusaponin\n",
              "    </td>\n",
              "    \n",
              "</tr>\n",
              "        \n",
              "        \n",
              "            <tr style=\"background-color: hsl(120, 100.00%, 86.22%); border: none;\">\n",
              "                <td colspan=\"2\" style=\"padding: 0 0.5em 0 0.5em; text-align: center; border: none; white-space: nowrap;\">\n",
              "                    <i>&hellip; 9281 more positive &hellip;</i>\n",
              "                </td>\n",
              "            </tr>\n",
              "        \n",
              "\n",
              "        \n",
              "            <tr style=\"background-color: hsl(0, 100.00%, 80.00%); border: none;\">\n",
              "                <td colspan=\"2\" style=\"padding: 0 0.5em 0 0.5em; text-align: center; border: none; white-space: nowrap;\">\n",
              "                    <i>&hellip; 1999 more negative &hellip;</i>\n",
              "                </td>\n",
              "            </tr>\n",
              "        \n",
              "        \n",
              "\n",
              "        </tbody>\n",
              "    </table>\n",
              "\n",
              "                                \n",
              "                            \n",
              "                        </td>\n",
              "                    \n",
              "                \n",
              "            </tr>\n",
              "        </table>\n",
              "    \n",
              "\n",
              "    \n",
              "        \n",
              "\n",
              "\n",
              "    \n",
              "        \n",
              "\n",
              "\n",
              "    \n",
              "        \n",
              "\n",
              "\n",
              "    \n",
              "\n",
              "\n",
              "    \n",
              "\n",
              "    \n",
              "\n",
              "    \n",
              "\n",
              "\n",
              "    \n",
              "\n",
              "    \n",
              "\n",
              "    \n",
              "\n",
              "    \n",
              "\n",
              "    \n",
              "\n",
              "    \n",
              "\n",
              "\n",
              "    \n",
              "\n",
              "    \n",
              "\n",
              "    \n",
              "\n",
              "    \n",
              "\n",
              "    \n",
              "\n",
              "    \n",
              "\n",
              "\n",
              "\n"
            ],
            "text/plain": [
              "<IPython.core.display.HTML object>"
            ]
          },
          "metadata": {
            "tags": []
          },
          "execution_count": 56
        }
      ]
    },
    {
      "cell_type": "code",
      "metadata": {
        "colab": {
          "base_uri": "https://localhost:8080/"
        },
        "id": "5nDQOGZN3XMS",
        "outputId": "551e7125-dcf6-4e7c-ac14-8a9179684779"
      },
      "source": [
        "data_frame = eli5.format_as_dataframes(\n",
        "            eli5.explain_weights_sklearn_crfsuite(crf_model))"
      ],
      "execution_count": null,
      "outputs": [
        {
          "output_type": "stream",
          "text": [
            "/usr/local/lib/python3.7/dist-packages/sklearn/base.py:197: FutureWarning: From version 0.24, get_params will raise an AttributeError if a parameter cannot be retrieved as an instance attribute. Previously it would return None.\n",
            "  FutureWarning)\n"
          ],
          "name": "stderr"
        }
      ]
    },
    {
      "cell_type": "code",
      "metadata": {
        "colab": {
          "base_uri": "https://localhost:8080/"
        },
        "id": "rl4-wrAK3fOP",
        "outputId": "e76d8b75-f767-45af-90d6-104d4cb3946a"
      },
      "source": [
        "data_frame"
      ],
      "execution_count": null,
      "outputs": [
        {
          "output_type": "execute_result",
          "data": {
            "text/plain": [
              "{'targets':         target                        feature    weight\n",
              " 0            O                  wordID:saline  5.457855\n",
              " 1            O              wordID:metabolite  5.345954\n",
              " 2            O                    wordID:thin  5.313565\n",
              " 3            O          wordID:polysaccharide  5.019502\n",
              " 4            O                    wordID:gene  4.904046\n",
              " 5            O                   word[:3]:Nan  4.628905\n",
              " 6            O                    wordID:line  4.579896\n",
              " 7            O                   wordID:alone  4.405060\n",
              " 8            O                 wordID:protein  4.310939\n",
              " 9            O                    wordID:Gene  4.260378\n",
              " 10           O                  +2:wordID:TTO  4.209320\n",
              " 11           O                   word[-2:]:ce  4.209209\n",
              " 12           O         wordID:polycrystalline  4.188733\n",
              " 13           O                   word[-2:]:ts  4.107797\n",
              " 14           O             wordID:carotenoids  4.083030\n",
              " 15           O                  word[-3:]:ble  4.042355\n",
              " 16           O              wordID:nucleobase -4.580580\n",
              " 17           O                   wordID:ester -4.649984\n",
              " 18           O                  wordID:esters -4.699616\n",
              " 19           O                  wordID:copper -5.097529\n",
              " 20  B-Chemical               wordID:genistein  6.436368\n",
              " 21  B-Chemical               wordID:parathion  6.289667\n",
              " 22  B-Chemical                  word[-3:]:vir  5.999833\n",
              " 23  B-Chemical                wordID:platinum  5.695823\n",
              " 24  B-Chemical                  wordID:biotin  5.598513\n",
              " 25  B-Chemical                wordID:Soluplus  5.499530\n",
              " 26  B-Chemical               wordID:malathion  5.149946\n",
              " 27  B-Chemical                wordID:glyoxals  4.739632\n",
              " 28  B-Chemical                  word[-3:]:nil  4.729360\n",
              " 29  B-Chemical            wordID:anthocyanins  4.715066\n",
              " 30  B-Chemical                 wordID:ammonia  4.714758\n",
              " 31  B-Chemical                  word[-3:]:xal  4.669460\n",
              " 32  B-Chemical                   word[:3]:bup  4.649431\n",
              " 33  B-Chemical              wordID:nucleobase  4.590225\n",
              " 34  B-Chemical                     wordID:ser  4.586335\n",
              " 35  B-Chemical                   word[:3]:alu  4.554622\n",
              " 36  B-Chemical             wordID:metolachlor  4.510205\n",
              " 37  B-Chemical                  wordID:silver  4.488709\n",
              " 38  B-Chemical                  wordID:citral  4.477722\n",
              " 39  B-Chemical                  wordID:Copper  4.396166\n",
              " 40  I-Chemical                -1:wordID:syn12  5.410809\n",
              " 41  I-Chemical                  -1:wordID:sup  5.352248\n",
              " 42  I-Chemical              -1:wordID:vitamin  4.961985\n",
              " 43  I-Chemical                  -1:wordID:TiO  4.744107\n",
              " 44  I-Chemical           -1:wordID:transition  4.283352\n",
              " 45  I-Chemical                     wordID:red  4.098571\n",
              " 46  I-Chemical           -1:wordID:Bryostatin  3.982544\n",
              " 47  I-Chemical                 -1:wordID:poly  3.864595\n",
              " 48  I-Chemical      -2:wordID:spiruchostatins  3.830450\n",
              " 49  I-Chemical    -1:wordID:chikusetsusaponin  3.781572\n",
              " 50  I-Chemical                    -2:wordID:d  3.533245\n",
              " 51  I-Chemical               -1:wordID:Schiff  3.422785\n",
              " 52  I-Chemical                    wordID:base  3.418349\n",
              " 53  I-Chemical                    -2:wordID:i  3.403862\n",
              " 54  I-Chemical                -1:wordID:LiAlH  3.374224\n",
              " 55  I-Chemical            -1:wordID:oxazoline  3.334621\n",
              " 56  I-Chemical          -2:wordID:myriaporone  3.255409\n",
              " 57  I-Chemical          -1:wordID:polypyridyl  3.241291\n",
              " 58  I-Chemical  +2:wordID:desmethylflinderole  3.199517\n",
              " 59  I-Chemical                  word[-3:]:ase -3.485313,\n",
              " 'transition_features':          from          to       coef\n",
              " 0           O           O   1.143651\n",
              " 1           O  B-Chemical  -0.058876\n",
              " 2           O  I-Chemical -12.662531\n",
              " 3  B-Chemical           O  -0.676746\n",
              " 4  B-Chemical  B-Chemical  -2.198277\n",
              " 5  B-Chemical  I-Chemical  -0.001143\n",
              " 6  I-Chemical           O  -1.726236\n",
              " 7  I-Chemical  B-Chemical  -3.279337\n",
              " 8  I-Chemical  I-Chemical   0.768152}"
            ]
          },
          "metadata": {
            "tags": []
          },
          "execution_count": 58
        }
      ]
    },
    {
      "cell_type": "code",
      "metadata": {
        "id": "o7MGRcUFrpiW"
      },
      "source": [
        "from collections import Counter\n",
        "\n",
        "def print_transitions(trans_features):\n",
        "  for (label_from, label_to), weight in trans_features:\n",
        "    print(\"%-6s -> %-7s %0.6f\" % (label_from, label_to, weight))\n"
      ],
      "execution_count": null,
      "outputs": []
    },
    {
      "cell_type": "code",
      "metadata": {
        "id": "hFqj76i3sOdq",
        "colab": {
          "base_uri": "https://localhost:8080/"
        },
        "outputId": "5bc65423-57a6-4d1d-fc8b-01cf24e5637f"
      },
      "source": [
        "print(\"Top likely transitions:\")\n",
        "print_transitions(Counter(crf_model.transition_features_).most_common(20))"
      ],
      "execution_count": null,
      "outputs": [
        {
          "output_type": "stream",
          "text": [
            "Top likely transitions:\n",
            "O      -> O       1.143651\n",
            "I-Chemical -> I-Chemical 0.768152\n",
            "B-Chemical -> I-Chemical -0.001143\n",
            "O      -> B-Chemical -0.058876\n",
            "B-Chemical -> O       -0.676746\n",
            "I-Chemical -> O       -1.726236\n",
            "B-Chemical -> B-Chemical -2.198277\n",
            "I-Chemical -> B-Chemical -3.279337\n",
            "O      -> I-Chemical -12.662531\n"
          ],
          "name": "stdout"
        }
      ]
    },
    {
      "cell_type": "code",
      "metadata": {
        "id": "VolJ4x31sQ3S",
        "colab": {
          "base_uri": "https://localhost:8080/"
        },
        "outputId": "62bc1a89-2af7-4f83-ad46-e025afa2e26d"
      },
      "source": [
        "print(\"\\nTop unlikely transitions:\")\n",
        "print_transitions(Counter(crf_model.transition_features_).most_common()[-20:])"
      ],
      "execution_count": null,
      "outputs": [
        {
          "output_type": "stream",
          "text": [
            "\n",
            "Top unlikely transitions:\n",
            "O      -> O       1.143651\n",
            "I-Chemical -> I-Chemical 0.768152\n",
            "B-Chemical -> I-Chemical -0.001143\n",
            "O      -> B-Chemical -0.058876\n",
            "B-Chemical -> O       -0.676746\n",
            "I-Chemical -> O       -1.726236\n",
            "B-Chemical -> B-Chemical -2.198277\n",
            "I-Chemical -> B-Chemical -3.279337\n",
            "O      -> I-Chemical -12.662531\n"
          ],
          "name": "stdout"
        }
      ]
    },
    {
      "cell_type": "markdown",
      "metadata": {
        "id": "4ByAm5EeAzaH"
      },
      "source": [
        "# COMPARE RESULTS"
      ]
    },
    {
      "cell_type": "code",
      "metadata": {
        "id": "VB9GFS3Y_e5v",
        "colab": {
          "base_uri": "https://localhost:8080/"
        },
        "outputId": "7eef579b-45f7-4712-9a39-0368917c2ae6"
      },
      "source": [
        "# Compare results\n",
        "i = 20\n",
        "print(\"{:15} {:5}: ({})\".format(\"Word\", \"Pred\", \"True\"))\n",
        "print(\"=\"*45)\n",
        "for w, true, pred in zip(docs_test.sentences[i], y_test[i], y_hat[i]):\n",
        "      print(\"{:15}:{:15} ({})\".format(w, pred, true))"
      ],
      "execution_count": null,
      "outputs": [
        {
          "output_type": "stream",
          "text": [
            "Word            Pred : (True)\n",
            "=============================================\n",
            "Although       :O               (O)\n",
            "genetic        :O               (O)\n",
            "polymorphisms  :O               (O)\n",
            "in             :O               (O)\n",
            "the            :O               (O)\n",
            "endothelial    :O               (O)\n",
            "nitric         :B-Chemical      (B-Chemical)\n",
            "oxide          :I-Chemical      (I-Chemical)\n",
            "synthase       :O               (O)\n",
            "(              :O               (O)\n",
            "eNOS           :O               (O)\n",
            ")              :O               (O)\n",
            "gene           :O               (O)\n",
            "may            :O               (O)\n",
            "impair         :O               (O)\n",
            "endogenous     :O               (O)\n",
            "NO             :B-Chemical      (B-Chemical)\n",
            "formation      :O               (O)\n",
            ",              :O               (O)\n",
            "there          :O               (O)\n",
            "is             :O               (O)\n",
            "little         :O               (O)\n",
            "information    :O               (O)\n",
            "about          :O               (O)\n",
            "how            :O               (O)\n",
            "eNOS           :O               (O)\n",
            "polymorphisms  :O               (O)\n",
            "and            :O               (O)\n",
            "haplotypes     :O               (O)\n",
            "affect         :O               (O)\n",
            "the            :O               (O)\n",
            "responses      :O               (O)\n",
            "to             :O               (O)\n",
            "sildenafil     :B-Chemical      (B-Chemical)\n",
            ".              :O               (O)\n"
          ],
          "name": "stdout"
        }
      ]
    }
  ]
}