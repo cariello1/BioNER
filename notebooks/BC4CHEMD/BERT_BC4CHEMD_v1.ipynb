{
  "nbformat": 4,
  "nbformat_minor": 0,
  "metadata": {
    "colab": {
      "name": "BERT BC4CHEMD.ipynb",
      "provenance": [],
      "collapsed_sections": [
        "4G7siinF-tb4",
        "ue52s6NCjefZ"
      ]
    },
    "kernelspec": {
      "display_name": "Python 3",
      "name": "python3"
    },
    "accelerator": "GPU",
    "widgets": {
      "application/vnd.jupyter.widget-state+json": {
        "fd49a6afe29d4a04a47635ebe09b0506": {
          "model_module": "@jupyter-widgets/controls",
          "model_name": "HBoxModel",
          "state": {
            "_view_name": "HBoxView",
            "_dom_classes": [],
            "_model_name": "HBoxModel",
            "_view_module": "@jupyter-widgets/controls",
            "_model_module_version": "1.5.0",
            "_view_count": null,
            "_view_module_version": "1.5.0",
            "box_style": "",
            "layout": "IPY_MODEL_5f44286e5d174635860bfce1dfb82fed",
            "_model_module": "@jupyter-widgets/controls",
            "children": [
              "IPY_MODEL_8c9ef585655f468299d0b51e8a9d3aa4",
              "IPY_MODEL_52f5d620aa844d37b30253eaff1e17b7"
            ]
          }
        },
        "5f44286e5d174635860bfce1dfb82fed": {
          "model_module": "@jupyter-widgets/base",
          "model_name": "LayoutModel",
          "state": {
            "_view_name": "LayoutView",
            "grid_template_rows": null,
            "right": null,
            "justify_content": null,
            "_view_module": "@jupyter-widgets/base",
            "overflow": null,
            "_model_module_version": "1.2.0",
            "_view_count": null,
            "flex_flow": null,
            "width": null,
            "min_width": null,
            "border": null,
            "align_items": null,
            "bottom": null,
            "_model_module": "@jupyter-widgets/base",
            "top": null,
            "grid_column": null,
            "overflow_y": null,
            "overflow_x": null,
            "grid_auto_flow": null,
            "grid_area": null,
            "grid_template_columns": null,
            "flex": null,
            "_model_name": "LayoutModel",
            "justify_items": null,
            "grid_row": null,
            "max_height": null,
            "align_content": null,
            "visibility": null,
            "align_self": null,
            "height": null,
            "min_height": null,
            "padding": null,
            "grid_auto_rows": null,
            "grid_gap": null,
            "max_width": null,
            "order": null,
            "_view_module_version": "1.2.0",
            "grid_template_areas": null,
            "object_position": null,
            "object_fit": null,
            "grid_auto_columns": null,
            "margin": null,
            "display": null,
            "left": null
          }
        },
        "8c9ef585655f468299d0b51e8a9d3aa4": {
          "model_module": "@jupyter-widgets/controls",
          "model_name": "FloatProgressModel",
          "state": {
            "_view_name": "ProgressView",
            "style": "IPY_MODEL_9307d4d3e3ac49409cc035bae8094094",
            "_dom_classes": [],
            "description": "Downloading: 100%",
            "_model_name": "FloatProgressModel",
            "bar_style": "success",
            "max": 213450,
            "_view_module": "@jupyter-widgets/controls",
            "_model_module_version": "1.5.0",
            "value": 213450,
            "_view_count": null,
            "_view_module_version": "1.5.0",
            "orientation": "horizontal",
            "min": 0,
            "description_tooltip": null,
            "_model_module": "@jupyter-widgets/controls",
            "layout": "IPY_MODEL_6700021d82e4413e974bbb53c6ee5c59"
          }
        },
        "52f5d620aa844d37b30253eaff1e17b7": {
          "model_module": "@jupyter-widgets/controls",
          "model_name": "HTMLModel",
          "state": {
            "_view_name": "HTMLView",
            "style": "IPY_MODEL_f60e1426111e4fd590bf5ff2b5233f6f",
            "_dom_classes": [],
            "description": "",
            "_model_name": "HTMLModel",
            "placeholder": "​",
            "_view_module": "@jupyter-widgets/controls",
            "_model_module_version": "1.5.0",
            "value": " 213k/213k [00:00&lt;00:00, 847kB/s]",
            "_view_count": null,
            "_view_module_version": "1.5.0",
            "description_tooltip": null,
            "_model_module": "@jupyter-widgets/controls",
            "layout": "IPY_MODEL_41383fbbeaa74e44abba8a3f477614d2"
          }
        },
        "9307d4d3e3ac49409cc035bae8094094": {
          "model_module": "@jupyter-widgets/controls",
          "model_name": "ProgressStyleModel",
          "state": {
            "_view_name": "StyleView",
            "_model_name": "ProgressStyleModel",
            "description_width": "initial",
            "_view_module": "@jupyter-widgets/base",
            "_model_module_version": "1.5.0",
            "_view_count": null,
            "_view_module_version": "1.2.0",
            "bar_color": null,
            "_model_module": "@jupyter-widgets/controls"
          }
        },
        "6700021d82e4413e974bbb53c6ee5c59": {
          "model_module": "@jupyter-widgets/base",
          "model_name": "LayoutModel",
          "state": {
            "_view_name": "LayoutView",
            "grid_template_rows": null,
            "right": null,
            "justify_content": null,
            "_view_module": "@jupyter-widgets/base",
            "overflow": null,
            "_model_module_version": "1.2.0",
            "_view_count": null,
            "flex_flow": null,
            "width": null,
            "min_width": null,
            "border": null,
            "align_items": null,
            "bottom": null,
            "_model_module": "@jupyter-widgets/base",
            "top": null,
            "grid_column": null,
            "overflow_y": null,
            "overflow_x": null,
            "grid_auto_flow": null,
            "grid_area": null,
            "grid_template_columns": null,
            "flex": null,
            "_model_name": "LayoutModel",
            "justify_items": null,
            "grid_row": null,
            "max_height": null,
            "align_content": null,
            "visibility": null,
            "align_self": null,
            "height": null,
            "min_height": null,
            "padding": null,
            "grid_auto_rows": null,
            "grid_gap": null,
            "max_width": null,
            "order": null,
            "_view_module_version": "1.2.0",
            "grid_template_areas": null,
            "object_position": null,
            "object_fit": null,
            "grid_auto_columns": null,
            "margin": null,
            "display": null,
            "left": null
          }
        },
        "f60e1426111e4fd590bf5ff2b5233f6f": {
          "model_module": "@jupyter-widgets/controls",
          "model_name": "DescriptionStyleModel",
          "state": {
            "_view_name": "StyleView",
            "_model_name": "DescriptionStyleModel",
            "description_width": "",
            "_view_module": "@jupyter-widgets/base",
            "_model_module_version": "1.5.0",
            "_view_count": null,
            "_view_module_version": "1.2.0",
            "_model_module": "@jupyter-widgets/controls"
          }
        },
        "41383fbbeaa74e44abba8a3f477614d2": {
          "model_module": "@jupyter-widgets/base",
          "model_name": "LayoutModel",
          "state": {
            "_view_name": "LayoutView",
            "grid_template_rows": null,
            "right": null,
            "justify_content": null,
            "_view_module": "@jupyter-widgets/base",
            "overflow": null,
            "_model_module_version": "1.2.0",
            "_view_count": null,
            "flex_flow": null,
            "width": null,
            "min_width": null,
            "border": null,
            "align_items": null,
            "bottom": null,
            "_model_module": "@jupyter-widgets/base",
            "top": null,
            "grid_column": null,
            "overflow_y": null,
            "overflow_x": null,
            "grid_auto_flow": null,
            "grid_area": null,
            "grid_template_columns": null,
            "flex": null,
            "_model_name": "LayoutModel",
            "justify_items": null,
            "grid_row": null,
            "max_height": null,
            "align_content": null,
            "visibility": null,
            "align_self": null,
            "height": null,
            "min_height": null,
            "padding": null,
            "grid_auto_rows": null,
            "grid_gap": null,
            "max_width": null,
            "order": null,
            "_view_module_version": "1.2.0",
            "grid_template_areas": null,
            "object_position": null,
            "object_fit": null,
            "grid_auto_columns": null,
            "margin": null,
            "display": null,
            "left": null
          }
        },
        "0c47eb654b2745b09c5ac008043fe863": {
          "model_module": "@jupyter-widgets/controls",
          "model_name": "HBoxModel",
          "state": {
            "_view_name": "HBoxView",
            "_dom_classes": [],
            "_model_name": "HBoxModel",
            "_view_module": "@jupyter-widgets/controls",
            "_model_module_version": "1.5.0",
            "_view_count": null,
            "_view_module_version": "1.5.0",
            "box_style": "",
            "layout": "IPY_MODEL_81ca6e2354694f19971830d6334004d3",
            "_model_module": "@jupyter-widgets/controls",
            "children": [
              "IPY_MODEL_785c19b11ad348c6b992ed9a95fc5590",
              "IPY_MODEL_6c11499fb44142518730db384d6677cb"
            ]
          }
        },
        "81ca6e2354694f19971830d6334004d3": {
          "model_module": "@jupyter-widgets/base",
          "model_name": "LayoutModel",
          "state": {
            "_view_name": "LayoutView",
            "grid_template_rows": null,
            "right": null,
            "justify_content": null,
            "_view_module": "@jupyter-widgets/base",
            "overflow": null,
            "_model_module_version": "1.2.0",
            "_view_count": null,
            "flex_flow": null,
            "width": null,
            "min_width": null,
            "border": null,
            "align_items": null,
            "bottom": null,
            "_model_module": "@jupyter-widgets/base",
            "top": null,
            "grid_column": null,
            "overflow_y": null,
            "overflow_x": null,
            "grid_auto_flow": null,
            "grid_area": null,
            "grid_template_columns": null,
            "flex": null,
            "_model_name": "LayoutModel",
            "justify_items": null,
            "grid_row": null,
            "max_height": null,
            "align_content": null,
            "visibility": null,
            "align_self": null,
            "height": null,
            "min_height": null,
            "padding": null,
            "grid_auto_rows": null,
            "grid_gap": null,
            "max_width": null,
            "order": null,
            "_view_module_version": "1.2.0",
            "grid_template_areas": null,
            "object_position": null,
            "object_fit": null,
            "grid_auto_columns": null,
            "margin": null,
            "display": null,
            "left": null
          }
        },
        "785c19b11ad348c6b992ed9a95fc5590": {
          "model_module": "@jupyter-widgets/controls",
          "model_name": "FloatProgressModel",
          "state": {
            "_view_name": "ProgressView",
            "style": "IPY_MODEL_7816c805319c4f9cbf08c576588fb6ba",
            "_dom_classes": [],
            "description": "Downloading: 100%",
            "_model_name": "FloatProgressModel",
            "bar_style": "success",
            "max": 625,
            "_view_module": "@jupyter-widgets/controls",
            "_model_module_version": "1.5.0",
            "value": 625,
            "_view_count": null,
            "_view_module_version": "1.5.0",
            "orientation": "horizontal",
            "min": 0,
            "description_tooltip": null,
            "_model_module": "@jupyter-widgets/controls",
            "layout": "IPY_MODEL_593630c7b1ef4e838432151027cb4b14"
          }
        },
        "6c11499fb44142518730db384d6677cb": {
          "model_module": "@jupyter-widgets/controls",
          "model_name": "HTMLModel",
          "state": {
            "_view_name": "HTMLView",
            "style": "IPY_MODEL_30eaf39268374fd7ad87934364bbe4f1",
            "_dom_classes": [],
            "description": "",
            "_model_name": "HTMLModel",
            "placeholder": "​",
            "_view_module": "@jupyter-widgets/controls",
            "_model_module_version": "1.5.0",
            "value": " 625/625 [00:37&lt;00:00, 16.5B/s]",
            "_view_count": null,
            "_view_module_version": "1.5.0",
            "description_tooltip": null,
            "_model_module": "@jupyter-widgets/controls",
            "layout": "IPY_MODEL_0a9f067555444f719d3131c813ba8a65"
          }
        },
        "7816c805319c4f9cbf08c576588fb6ba": {
          "model_module": "@jupyter-widgets/controls",
          "model_name": "ProgressStyleModel",
          "state": {
            "_view_name": "StyleView",
            "_model_name": "ProgressStyleModel",
            "description_width": "initial",
            "_view_module": "@jupyter-widgets/base",
            "_model_module_version": "1.5.0",
            "_view_count": null,
            "_view_module_version": "1.2.0",
            "bar_color": null,
            "_model_module": "@jupyter-widgets/controls"
          }
        },
        "593630c7b1ef4e838432151027cb4b14": {
          "model_module": "@jupyter-widgets/base",
          "model_name": "LayoutModel",
          "state": {
            "_view_name": "LayoutView",
            "grid_template_rows": null,
            "right": null,
            "justify_content": null,
            "_view_module": "@jupyter-widgets/base",
            "overflow": null,
            "_model_module_version": "1.2.0",
            "_view_count": null,
            "flex_flow": null,
            "width": null,
            "min_width": null,
            "border": null,
            "align_items": null,
            "bottom": null,
            "_model_module": "@jupyter-widgets/base",
            "top": null,
            "grid_column": null,
            "overflow_y": null,
            "overflow_x": null,
            "grid_auto_flow": null,
            "grid_area": null,
            "grid_template_columns": null,
            "flex": null,
            "_model_name": "LayoutModel",
            "justify_items": null,
            "grid_row": null,
            "max_height": null,
            "align_content": null,
            "visibility": null,
            "align_self": null,
            "height": null,
            "min_height": null,
            "padding": null,
            "grid_auto_rows": null,
            "grid_gap": null,
            "max_width": null,
            "order": null,
            "_view_module_version": "1.2.0",
            "grid_template_areas": null,
            "object_position": null,
            "object_fit": null,
            "grid_auto_columns": null,
            "margin": null,
            "display": null,
            "left": null
          }
        },
        "30eaf39268374fd7ad87934364bbe4f1": {
          "model_module": "@jupyter-widgets/controls",
          "model_name": "DescriptionStyleModel",
          "state": {
            "_view_name": "StyleView",
            "_model_name": "DescriptionStyleModel",
            "description_width": "",
            "_view_module": "@jupyter-widgets/base",
            "_model_module_version": "1.5.0",
            "_view_count": null,
            "_view_module_version": "1.2.0",
            "_model_module": "@jupyter-widgets/controls"
          }
        },
        "0a9f067555444f719d3131c813ba8a65": {
          "model_module": "@jupyter-widgets/base",
          "model_name": "LayoutModel",
          "state": {
            "_view_name": "LayoutView",
            "grid_template_rows": null,
            "right": null,
            "justify_content": null,
            "_view_module": "@jupyter-widgets/base",
            "overflow": null,
            "_model_module_version": "1.2.0",
            "_view_count": null,
            "flex_flow": null,
            "width": null,
            "min_width": null,
            "border": null,
            "align_items": null,
            "bottom": null,
            "_model_module": "@jupyter-widgets/base",
            "top": null,
            "grid_column": null,
            "overflow_y": null,
            "overflow_x": null,
            "grid_auto_flow": null,
            "grid_area": null,
            "grid_template_columns": null,
            "flex": null,
            "_model_name": "LayoutModel",
            "justify_items": null,
            "grid_row": null,
            "max_height": null,
            "align_content": null,
            "visibility": null,
            "align_self": null,
            "height": null,
            "min_height": null,
            "padding": null,
            "grid_auto_rows": null,
            "grid_gap": null,
            "max_width": null,
            "order": null,
            "_view_module_version": "1.2.0",
            "grid_template_areas": null,
            "object_position": null,
            "object_fit": null,
            "grid_auto_columns": null,
            "margin": null,
            "display": null,
            "left": null
          }
        },
        "bb16880de4c24b4ca321d08d889bed31": {
          "model_module": "@jupyter-widgets/controls",
          "model_name": "HBoxModel",
          "state": {
            "_view_name": "HBoxView",
            "_dom_classes": [],
            "_model_name": "HBoxModel",
            "_view_module": "@jupyter-widgets/controls",
            "_model_module_version": "1.5.0",
            "_view_count": null,
            "_view_module_version": "1.5.0",
            "box_style": "",
            "layout": "IPY_MODEL_5b42fc84232f44fd8c44672e4ca16ed9",
            "_model_module": "@jupyter-widgets/controls",
            "children": [
              "IPY_MODEL_8110e49396a24c32a2edf3b500ee5713",
              "IPY_MODEL_9f90cbbb2eb74a6aa7d5a26560e61149"
            ]
          }
        },
        "5b42fc84232f44fd8c44672e4ca16ed9": {
          "model_module": "@jupyter-widgets/base",
          "model_name": "LayoutModel",
          "state": {
            "_view_name": "LayoutView",
            "grid_template_rows": null,
            "right": null,
            "justify_content": null,
            "_view_module": "@jupyter-widgets/base",
            "overflow": null,
            "_model_module_version": "1.2.0",
            "_view_count": null,
            "flex_flow": null,
            "width": null,
            "min_width": null,
            "border": null,
            "align_items": null,
            "bottom": null,
            "_model_module": "@jupyter-widgets/base",
            "top": null,
            "grid_column": null,
            "overflow_y": null,
            "overflow_x": null,
            "grid_auto_flow": null,
            "grid_area": null,
            "grid_template_columns": null,
            "flex": null,
            "_model_name": "LayoutModel",
            "justify_items": null,
            "grid_row": null,
            "max_height": null,
            "align_content": null,
            "visibility": null,
            "align_self": null,
            "height": null,
            "min_height": null,
            "padding": null,
            "grid_auto_rows": null,
            "grid_gap": null,
            "max_width": null,
            "order": null,
            "_view_module_version": "1.2.0",
            "grid_template_areas": null,
            "object_position": null,
            "object_fit": null,
            "grid_auto_columns": null,
            "margin": null,
            "display": null,
            "left": null
          }
        },
        "8110e49396a24c32a2edf3b500ee5713": {
          "model_module": "@jupyter-widgets/controls",
          "model_name": "FloatProgressModel",
          "state": {
            "_view_name": "ProgressView",
            "style": "IPY_MODEL_cf25f79395844eb890623feeac87f7d4",
            "_dom_classes": [],
            "description": "Downloading: 100%",
            "_model_name": "FloatProgressModel",
            "bar_style": "success",
            "max": 1338740706,
            "_view_module": "@jupyter-widgets/controls",
            "_model_module_version": "1.5.0",
            "value": 1338740706,
            "_view_count": null,
            "_view_module_version": "1.5.0",
            "orientation": "horizontal",
            "min": 0,
            "description_tooltip": null,
            "_model_module": "@jupyter-widgets/controls",
            "layout": "IPY_MODEL_b5f59834c2fe49c98c74f7e9de1a033c"
          }
        },
        "9f90cbbb2eb74a6aa7d5a26560e61149": {
          "model_module": "@jupyter-widgets/controls",
          "model_name": "HTMLModel",
          "state": {
            "_view_name": "HTMLView",
            "style": "IPY_MODEL_f7c99bfb6f5a4dc3b7683935ba2b1fc2",
            "_dom_classes": [],
            "description": "",
            "_model_name": "HTMLModel",
            "placeholder": "​",
            "_view_module": "@jupyter-widgets/controls",
            "_model_module_version": "1.5.0",
            "value": " 1.34G/1.34G [00:36&lt;00:00, 36.7MB/s]",
            "_view_count": null,
            "_view_module_version": "1.5.0",
            "description_tooltip": null,
            "_model_module": "@jupyter-widgets/controls",
            "layout": "IPY_MODEL_b98f85a5f7b44fb9a505277bbb33a2fe"
          }
        },
        "cf25f79395844eb890623feeac87f7d4": {
          "model_module": "@jupyter-widgets/controls",
          "model_name": "ProgressStyleModel",
          "state": {
            "_view_name": "StyleView",
            "_model_name": "ProgressStyleModel",
            "description_width": "initial",
            "_view_module": "@jupyter-widgets/base",
            "_model_module_version": "1.5.0",
            "_view_count": null,
            "_view_module_version": "1.2.0",
            "bar_color": null,
            "_model_module": "@jupyter-widgets/controls"
          }
        },
        "b5f59834c2fe49c98c74f7e9de1a033c": {
          "model_module": "@jupyter-widgets/base",
          "model_name": "LayoutModel",
          "state": {
            "_view_name": "LayoutView",
            "grid_template_rows": null,
            "right": null,
            "justify_content": null,
            "_view_module": "@jupyter-widgets/base",
            "overflow": null,
            "_model_module_version": "1.2.0",
            "_view_count": null,
            "flex_flow": null,
            "width": null,
            "min_width": null,
            "border": null,
            "align_items": null,
            "bottom": null,
            "_model_module": "@jupyter-widgets/base",
            "top": null,
            "grid_column": null,
            "overflow_y": null,
            "overflow_x": null,
            "grid_auto_flow": null,
            "grid_area": null,
            "grid_template_columns": null,
            "flex": null,
            "_model_name": "LayoutModel",
            "justify_items": null,
            "grid_row": null,
            "max_height": null,
            "align_content": null,
            "visibility": null,
            "align_self": null,
            "height": null,
            "min_height": null,
            "padding": null,
            "grid_auto_rows": null,
            "grid_gap": null,
            "max_width": null,
            "order": null,
            "_view_module_version": "1.2.0",
            "grid_template_areas": null,
            "object_position": null,
            "object_fit": null,
            "grid_auto_columns": null,
            "margin": null,
            "display": null,
            "left": null
          }
        },
        "f7c99bfb6f5a4dc3b7683935ba2b1fc2": {
          "model_module": "@jupyter-widgets/controls",
          "model_name": "DescriptionStyleModel",
          "state": {
            "_view_name": "StyleView",
            "_model_name": "DescriptionStyleModel",
            "description_width": "",
            "_view_module": "@jupyter-widgets/base",
            "_model_module_version": "1.5.0",
            "_view_count": null,
            "_view_module_version": "1.2.0",
            "_model_module": "@jupyter-widgets/controls"
          }
        },
        "b98f85a5f7b44fb9a505277bbb33a2fe": {
          "model_module": "@jupyter-widgets/base",
          "model_name": "LayoutModel",
          "state": {
            "_view_name": "LayoutView",
            "grid_template_rows": null,
            "right": null,
            "justify_content": null,
            "_view_module": "@jupyter-widgets/base",
            "overflow": null,
            "_model_module_version": "1.2.0",
            "_view_count": null,
            "flex_flow": null,
            "width": null,
            "min_width": null,
            "border": null,
            "align_items": null,
            "bottom": null,
            "_model_module": "@jupyter-widgets/base",
            "top": null,
            "grid_column": null,
            "overflow_y": null,
            "overflow_x": null,
            "grid_auto_flow": null,
            "grid_area": null,
            "grid_template_columns": null,
            "flex": null,
            "_model_name": "LayoutModel",
            "justify_items": null,
            "grid_row": null,
            "max_height": null,
            "align_content": null,
            "visibility": null,
            "align_self": null,
            "height": null,
            "min_height": null,
            "padding": null,
            "grid_auto_rows": null,
            "grid_gap": null,
            "max_width": null,
            "order": null,
            "_view_module_version": "1.2.0",
            "grid_template_areas": null,
            "object_position": null,
            "object_fit": null,
            "grid_auto_columns": null,
            "margin": null,
            "display": null,
            "left": null
          }
        }
      }
    }
  },
  "cells": [
    {
      "cell_type": "markdown",
      "metadata": {
        "id": "2MKGX0l3-DRP"
      },
      "source": [
        "Tutorial by [Depends on the definition\n",
        "](https://www.depends-on-the-definition.com/named-entity-recognition-with-bert/)"
      ]
    },
    {
      "cell_type": "markdown",
      "metadata": {
        "id": "kamKfN3t-n0p"
      },
      "source": [
        "A new paradigm in natural language processing (NLP) is to select a pre-trained model and then “fine-tuning” the model with new data from your specific task.\n",
        "\n",
        "BERT is a powerful general-purpose language model trained on “masked language modeling” that can be leveraged for the text-based machine learning tasks."
      ]
    },
    {
      "cell_type": "code",
      "metadata": {
        "id": "u-PDtCP0ACn0",
        "colab": {
          "base_uri": "https://localhost:8080/"
        },
        "outputId": "93c28dd4-d249-470c-ecd0-d5adcafb66ea"
      },
      "source": [
        "from google.colab import drive\n",
        "drive.mount(\"/content/drive\")"
      ],
      "execution_count": null,
      "outputs": [
        {
          "output_type": "stream",
          "text": [
            "Mounted at /content/drive\n"
          ],
          "name": "stdout"
        }
      ]
    },
    {
      "cell_type": "code",
      "metadata": {
        "colab": {
          "base_uri": "https://localhost:8080/"
        },
        "id": "IdSEsZqpRmB9",
        "outputId": "4198fbbc-928e-40f6-e472-fbc36e02e567"
      },
      "source": [
        "from google.colab import drive\n",
        "drive.mount('/content/drive')"
      ],
      "execution_count": null,
      "outputs": [
        {
          "output_type": "stream",
          "text": [
            "Drive already mounted at /content/drive; to attempt to forcibly remount, call drive.mount(\"/content/drive\", force_remount=True).\n"
          ],
          "name": "stdout"
        }
      ]
    },
    {
      "cell_type": "code",
      "metadata": {
        "id": "D3XIfGPdHfUl"
      },
      "source": [
        "%%capture\n",
        "#!pip3 install awscli awsebcli botocore==1.18.18 --upgrade"
      ],
      "execution_count": null,
      "outputs": []
    },
    {
      "cell_type": "code",
      "metadata": {
        "id": "YrwSR70yP_W5"
      },
      "source": [
        "import tensorflow as tf"
      ],
      "execution_count": null,
      "outputs": []
    },
    {
      "cell_type": "code",
      "metadata": {
        "id": "I3KPywoQQDtO",
        "colab": {
          "base_uri": "https://localhost:8080/",
          "height": 35
        },
        "outputId": "c72f6ae4-201f-4a90-8a6f-6d6a9641ecb9"
      },
      "source": [
        "tf.__version__"
      ],
      "execution_count": null,
      "outputs": [
        {
          "output_type": "execute_result",
          "data": {
            "application/vnd.google.colaboratory.intrinsic+json": {
              "type": "string"
            },
            "text/plain": [
              "'2.4.1'"
            ]
          },
          "metadata": {
            "tags": []
          },
          "execution_count": 5
        }
      ]
    },
    {
      "cell_type": "code",
      "metadata": {
        "id": "7AWQqBlPKWMT",
        "colab": {
          "base_uri": "https://localhost:8080/",
          "height": 87
        },
        "outputId": "7f057aee-e866-4d2f-9c47-644d336727f3"
      },
      "source": [
        "\"\"\"# Set the seed value all over the place to make this reproducible.\n",
        "import random\n",
        "import numpy as np\n",
        "import torch\n",
        "\n",
        "seed_val = 2353\n",
        "\n",
        "random.seed(seed_val)\n",
        "np.random.seed(seed_val)\n",
        "torch.manual_seed(seed_val)\n",
        "torch.cuda.manual_seed_all(seed_val)\"\"\""
      ],
      "execution_count": null,
      "outputs": [
        {
          "output_type": "execute_result",
          "data": {
            "application/vnd.google.colaboratory.intrinsic+json": {
              "type": "string"
            },
            "text/plain": [
              "'# Set the seed value all over the place to make this reproducible.\\nimport random\\nimport numpy as np\\nimport torch\\n\\nseed_val = 2353\\n\\nrandom.seed(seed_val)\\nnp.random.seed(seed_val)\\ntorch.manual_seed(seed_val)\\ntorch.cuda.manual_seed_all(seed_val)'"
            ]
          },
          "metadata": {
            "tags": []
          },
          "execution_count": 6
        }
      ]
    },
    {
      "cell_type": "code",
      "metadata": {
        "colab": {
          "base_uri": "https://localhost:8080/"
        },
        "id": "mJcWWSTLEvYT",
        "outputId": "bc6f34e8-b4ae-4907-b2c8-0f0c69c39b34"
      },
      "source": [
        "# The token can be used to access the repository\n",
        "!git clone https://github.com/cariello1/BIO-NER-.git"
      ],
      "execution_count": null,
      "outputs": [
        {
          "output_type": "stream",
          "text": [
            "Cloning into 'BIO-NER-'...\n",
            "remote: Enumerating objects: 70, done.\u001b[K\n",
            "remote: Counting objects: 100% (70/70), done.\u001b[K\n",
            "remote: Compressing objects: 100% (70/70), done.\u001b[K\n",
            "remote: Total 435 (delta 40), reused 0 (delta 0), pack-reused 365\u001b[K\n",
            "Receiving objects: 100% (435/435), 12.42 MiB | 20.03 MiB/s, done.\n",
            "Resolving deltas: 100% (226/226), done.\n"
          ],
          "name": "stdout"
        }
      ]
    },
    {
      "cell_type": "code",
      "metadata": {
        "colab": {
          "base_uri": "https://localhost:8080/"
        },
        "id": "ADTC_021I8oR",
        "outputId": "ea515df3-ebb7-4361-b402-0692b51e1b20"
      },
      "source": [
        "%cd /content/BIO-NER-"
      ],
      "execution_count": null,
      "outputs": [
        {
          "output_type": "stream",
          "text": [
            "/content/BIO-NER-\n"
          ],
          "name": "stdout"
        }
      ]
    },
    {
      "cell_type": "code",
      "metadata": {
        "id": "YmkCmLVnmKu9"
      },
      "source": [
        "from preprocessing_1 import PreprocessingDocsNN\n",
        "from preprocessing_1 import read_data"
      ],
      "execution_count": null,
      "outputs": []
    },
    {
      "cell_type": "markdown",
      "metadata": {
        "id": "4G7siinF-tb4"
      },
      "source": [
        "# TRANSFORMERS"
      ]
    },
    {
      "cell_type": "code",
      "metadata": {
        "id": "ZOZIome830Ql"
      },
      "source": [
        "%%capture\n",
        "!pip3 install transformers==2.6.0"
      ],
      "execution_count": null,
      "outputs": []
    },
    {
      "cell_type": "code",
      "metadata": {
        "id": "rvPW_aspQRaQ",
        "colab": {
          "base_uri": "https://localhost:8080/"
        },
        "outputId": "6600ff9f-bd04-4f1f-d8a2-d42822ab1279"
      },
      "source": [
        "\"\"\"!git clone https://github.com/huggingface/transformers.git\n",
        "!cd transformers\n",
        "!pip install -e .\"\"\""
      ],
      "execution_count": null,
      "outputs": [
        {
          "output_type": "execute_result",
          "data": {
            "application/vnd.google.colaboratory.intrinsic+json": {
              "type": "string"
            },
            "text/plain": [
              "'!git clone https://github.com/huggingface/transformers.git\\n!cd transformers\\n!pip install -e .'"
            ]
          },
          "metadata": {
            "tags": []
          },
          "execution_count": 10
        }
      ]
    },
    {
      "cell_type": "markdown",
      "metadata": {
        "id": "bec-uDBVmKfv"
      },
      "source": [
        "# PREPROCESSING"
      ]
    },
    {
      "cell_type": "code",
      "metadata": {
        "id": "RU7s0Jt5mUe9"
      },
      "source": [
        "import numpy as np\n",
        "import codecs\n",
        "import seaborn as sns\n",
        "sns.set_style(\"whitegrid\")\n",
        "from matplotlib import pyplot as plt\n",
        "from tqdm import tqdm\n",
        "import tensorflow"
      ],
      "execution_count": null,
      "outputs": []
    },
    {
      "cell_type": "code",
      "metadata": {
        "id": "v8mEjQ4GCD8R"
      },
      "source": [
        "# For reproducibility\n",
        "seed = 768\n",
        "tf.random.set_seed(seed)"
      ],
      "execution_count": null,
      "outputs": []
    },
    {
      "cell_type": "code",
      "metadata": {
        "id": "sD0EvY5wPu2s"
      },
      "source": [
        "# Original data in IOB format\n",
        "file1_train = \"/content/drive/MyDrive/BIO-NER-project/BC4CHEMD-IOB/BC4CHEMD/train.tsv\"\n",
        "file2_test = \"/content/drive/MyDrive/BIO-NER-project/BC4CHEMD-IOB/BC4CHEMD/test.tsv\"\n",
        "file3_dev = \"/content/drive/MyDrive/BIO-NER-project/BC4CHEMD-IOB/BC4CHEMD/devel.tsv\""
      ],
      "execution_count": null,
      "outputs": []
    },
    {
      "cell_type": "code",
      "metadata": {
        "colab": {
          "base_uri": "https://localhost:8080/"
        },
        "id": "SsFajR5BmbV6",
        "outputId": "c2f99f40-1786-44ed-f2cc-0bb0add57870"
      },
      "source": [
        "input_train = read_data(file1_train)\n",
        "input_test = read_data(file2_test)\n",
        "input_dev = read_data(file3_dev)"
      ],
      "execution_count": null,
      "outputs": [
        {
          "output_type": "stream",
          "text": [
            "Total number of sentences: 30682 \n",
            "Total number of sentences: 26364 \n",
            "Total number of sentences: 30639 \n"
          ],
          "name": "stdout"
        }
      ]
    },
    {
      "cell_type": "code",
      "metadata": {
        "id": "vGYtXWLMmwQL"
      },
      "source": [
        "docs_train = PreprocessingDocsNN(input_train)\n",
        "docs_test = PreprocessingDocsNN(input_test)\n",
        "docs_dev = PreprocessingDocsNN(input_dev)"
      ],
      "execution_count": null,
      "outputs": []
    },
    {
      "cell_type": "code",
      "metadata": {
        "colab": {
          "base_uri": "https://localhost:8080/"
        },
        "id": "CJ4objI4mo3v",
        "outputId": "b7fb0223-0dc9-4520-a5a0-fbaf56b26bea"
      },
      "source": [
        "# First sentence of dataset with both words and labels\n",
        "print('This is what a sentence looks like:{}'.format(input_train[0]))"
      ],
      "execution_count": null,
      "outputs": [
        {
          "output_type": "stream",
          "text": [
            "This is what a sentence looks like:[('DPP6', 'O'), ('as', 'O'), ('a', 'O'), ('candidate', 'O'), ('gene', 'O'), ('for', 'O'), ('neuroleptic', 'O'), ('-', 'O'), ('induced', 'O'), ('tardive', 'O'), ('dyskinesia', 'O'), ('.', 'O')]\n"
          ],
          "name": "stdout"
        }
      ]
    },
    {
      "cell_type": "code",
      "metadata": {
        "colab": {
          "base_uri": "https://localhost:8080/"
        },
        "id": "MP-tJG-5o3eb",
        "outputId": "e778a68b-a2c5-4f00-a6b1-80320536f198"
      },
      "source": [
        "print(\"\\033[1m\"+\"Statistics for the train set:\"+'\\033[0m')\n",
        "print(\"Number of sentences: {}\".format(len(docs_train.sentences)))\n",
        "print(\"Number of tokens: {}\".format(len(docs_train.tokens)))\n",
        "print(\"Size of vocabulary: {}\".format(len(docs_train.vocabulary)))\n",
        "print('Tagset:', ' '.join(docs_train.tagset))\n",
        "print(\"Number of Tags {}\".format(len(docs_train.tagset)))"
      ],
      "execution_count": null,
      "outputs": [
        {
          "output_type": "stream",
          "text": [
            "\u001b[1mStatistics for the train set:\u001b[0m\n",
            "Number of sentences: 30682\n",
            "Number of tokens: 891948\n",
            "Size of vocabulary: 40528\n",
            "Tagset: B-Chemical O I-Chemical\n",
            "Number of Tags 3\n"
          ],
          "name": "stdout"
        }
      ]
    },
    {
      "cell_type": "markdown",
      "metadata": {
        "id": "gceSg2ZovKo9"
      },
      "source": [
        "# DATA VISUALIZATION"
      ]
    },
    {
      "cell_type": "code",
      "metadata": {
        "id": "-EIJbHjyvfJN"
      },
      "source": [
        "sentences_len = np.array([len(s) for s in docs_train.sentences]) #list with len for each sents"
      ],
      "execution_count": null,
      "outputs": []
    },
    {
      "cell_type": "code",
      "metadata": {
        "id": "5ZUm_XmDwBNX"
      },
      "source": [
        "sen_mean = np.round(sentences_len.mean()).astype(int) "
      ],
      "execution_count": null,
      "outputs": []
    },
    {
      "cell_type": "code",
      "metadata": {
        "id": "RA9rY9C8SvJr"
      },
      "source": [
        "max_seq_len = 50 #timesteps"
      ],
      "execution_count": null,
      "outputs": []
    },
    {
      "cell_type": "code",
      "metadata": {
        "colab": {
          "base_uri": "https://localhost:8080/",
          "height": 336
        },
        "id": "jEjrX0jsvMmD",
        "outputId": "6c404c81-4b34-4be0-f129-c324dd97bd31"
      },
      "source": [
        "sns.distplot(sentences_len, hist=True, kde=True, color=\"b\", label=\"sentences length\")\n",
        "plt.axvline(x=sen_mean, color=\"k\", linestyle=\"--\", label=\"max len\")\n",
        "plt.title(\"Token per sentence\")\n",
        "plt.legend()\n",
        "plt.show()"
      ],
      "execution_count": null,
      "outputs": [
        {
          "output_type": "stream",
          "text": [
            "/usr/local/lib/python3.7/dist-packages/seaborn/distributions.py:2557: FutureWarning: `distplot` is a deprecated function and will be removed in a future version. Please adapt your code to use either `displot` (a figure-level function with similar flexibility) or `histplot` (an axes-level function for histograms).\n",
            "  warnings.warn(msg, FutureWarning)\n"
          ],
          "name": "stderr"
        },
        {
          "output_type": "display_data",
          "data": {
            "image/png": "[encoded data removed]",
            "text/plain": [
              "<Figure size 432x288 with 1 Axes>"
            ]
          },
          "metadata": {
            "tags": []
          }
        }
      ]
    },
    {
      "cell_type": "code",
      "metadata": {
        "colab": {
          "base_uri": "https://localhost:8080/"
        },
        "id": "YgnyVTDDg15H",
        "outputId": "baa3b0ed-5485-4395-d268-eb2ae9373ea4"
      },
      "source": [
        "sent_less_than_msl = [s for s in docs_train.sentences if len(s) <= 50]\n",
        "perc_sent = round(len(sent_less_than_msl) / len(docs_train.sentences) * 100)\n",
        "print(\"The\", perc_sent,\"%\", \"of sentences has less or equal than 50 tokens.\")"
      ],
      "execution_count": null,
      "outputs": [
        {
          "output_type": "stream",
          "text": [
            "The 92 % of sentences has less or equal than 50 tokens.\n"
          ],
          "name": "stdout"
        }
      ]
    },
    {
      "cell_type": "markdown",
      "metadata": {
        "id": "15m4NySQwLAY"
      },
      "source": [
        "# PREPROCESSING FOR DP TRAINING"
      ]
    },
    {
      "cell_type": "code",
      "metadata": {
        "id": "m4gz8_EGse_t"
      },
      "source": [
        "# Vocabulary Key:Tag -> Value:ID_tag & Vocabulary Key:ID_tag -> Value:Tag\n",
        "tag2idx, idx2tag = docs_train.from_labels_2_idx()"
      ],
      "execution_count": null,
      "outputs": []
    },
    {
      "cell_type": "code",
      "metadata": {
        "id": "vafAzwIhACR1"
      },
      "source": [
        "# Padding and encoding the target variable\n",
        "y_train = docs_train.padded_and_encoded_labels(tag2idx, max_seq_len)\n",
        "y_test = docs_test.padded_and_encoded_labels(tag2idx, max_seq_len)"
      ],
      "execution_count": null,
      "outputs": []
    },
    {
      "cell_type": "code",
      "metadata": {
        "id": "2yhcoAYKAFAC"
      },
      "source": [
        "# Padding and encoding the target variable\n",
        "y_train = docs_train.padded_and_encoded_labels(tag2idx, max_seq_len)\n",
        "y_test = docs_test.padded_and_encoded_labels(tag2idx, max_seq_len)\n",
        "y_dev = docs_dev.padded_and_encoded_labels(tag2idx, max_seq_len)"
      ],
      "execution_count": null,
      "outputs": []
    },
    {
      "cell_type": "code",
      "metadata": {
        "id": "w1lroqzbctA-"
      },
      "source": [
        "# Decoding one-hot vectors\n",
        "y_train = np.argmax(y_train, axis = -1)\n",
        "y_test = np.argmax(y_test, axis = -1)\n",
        "y_dev = np.argmax(y_dev, axis = -1)"
      ],
      "execution_count": null,
      "outputs": []
    },
    {
      "cell_type": "code",
      "metadata": {
        "id": "PD4_2kc_tQgo",
        "colab": {
          "base_uri": "https://localhost:8080/"
        },
        "outputId": "46765584-d6cb-4ab6-e97b-2c5b0c0ff543"
      },
      "source": [
        "tag2idx"
      ],
      "execution_count": null,
      "outputs": [
        {
          "output_type": "execute_result",
          "data": {
            "text/plain": [
              "{'B-Chemical': 1, 'I-Chemical': 3, 'O': 2, 'PAD': 0}"
            ]
          },
          "metadata": {
            "tags": []
          },
          "execution_count": 43
        }
      ]
    },
    {
      "cell_type": "code",
      "metadata": {
        "id": "qfLG23zEtlVE",
        "colab": {
          "base_uri": "https://localhost:8080/"
        },
        "outputId": "6597ff04-33ae-4f00-ac6c-2aef44be8a00"
      },
      "source": [
        "idx2tag"
      ],
      "execution_count": null,
      "outputs": [
        {
          "output_type": "execute_result",
          "data": {
            "text/plain": [
              "{0: 'PAD', 1: 'B-Chemical', 2: 'O', 3: 'I-Chemical'}"
            ]
          },
          "metadata": {
            "tags": []
          },
          "execution_count": 44
        }
      ]
    },
    {
      "cell_type": "markdown",
      "metadata": {
        "id": "XNtjETLOk9lQ"
      },
      "source": [
        "# PREPARING DATA FOR BERT"
      ]
    },
    {
      "cell_type": "markdown",
      "metadata": {
        "id": "4POFwMDXt2mX"
      },
      "source": [
        "Before we can start *fine-tuning* the model, we have to prepare the data set for the use with pytorch and BERT."
      ]
    },
    {
      "cell_type": "code",
      "metadata": {
        "id": "Le86P0tIlILO",
        "colab": {
          "base_uri": "https://localhost:8080/",
          "height": 35
        },
        "outputId": "d37a59c7-929c-4347-c64a-e1d86a8c1ff7"
      },
      "source": [
        "import torch\n",
        "from torch.utils.data import TensorDataset, DataLoader, RandomSampler, SequentialSampler\n",
        "from transformers import BertTokenizer, BertConfig\n",
        "\n",
        "from keras.preprocessing.sequence import pad_sequences\n",
        "from sklearn.model_selection import train_test_split\n",
        "\n",
        "torch.__version__"
      ],
      "execution_count": null,
      "outputs": [
        {
          "output_type": "execute_result",
          "data": {
            "application/vnd.google.colaboratory.intrinsic+json": {
              "type": "string"
            },
            "text/plain": [
              "'1.8.0+cu101'"
            ]
          },
          "metadata": {
            "tags": []
          },
          "execution_count": 23
        }
      ]
    },
    {
      "cell_type": "markdown",
      "metadata": {
        "id": "d1U-liNplWg-"
      },
      "source": [
        "Here we fix some configurations. We will limit our sequence length to 50 tokens and we will use a batch size of 32 as suggested by the Bert paper. Note, that Bert supports sequences of up to 512 tokens."
      ]
    },
    {
      "cell_type": "code",
      "metadata": {
        "id": "ixNxmYRQlI4L"
      },
      "source": [
        "bs = 32"
      ],
      "execution_count": null,
      "outputs": []
    },
    {
      "cell_type": "code",
      "metadata": {
        "id": "0SkcYtr9ljpN",
        "colab": {
          "base_uri": "https://localhost:8080/"
        },
        "outputId": "477d327a-e292-4ec2-94a4-016e00057d09"
      },
      "source": [
        "print(torch.cuda.device_count()) "
      ],
      "execution_count": null,
      "outputs": [
        {
          "output_type": "stream",
          "text": [
            "1\n"
          ],
          "name": "stdout"
        }
      ]
    },
    {
      "cell_type": "code",
      "metadata": {
        "id": "ZUSNUapQuID_",
        "colab": {
          "base_uri": "https://localhost:8080/",
          "height": 35
        },
        "outputId": "1722cf8c-9220-477c-fbdb-083ca61d6dc3"
      },
      "source": [
        "torch.cuda.get_device_name(0)"
      ],
      "execution_count": null,
      "outputs": [
        {
          "output_type": "execute_result",
          "data": {
            "application/vnd.google.colaboratory.intrinsic+json": {
              "type": "string"
            },
            "text/plain": [
              "'Tesla P100-PCIE-16GB'"
            ]
          },
          "metadata": {
            "tags": []
          },
          "execution_count": 26
        }
      ]
    },
    {
      "cell_type": "code",
      "metadata": {
        "id": "2uGt0VsTlI98"
      },
      "source": [
        "device = torch.device(\"cuda\" if torch.cuda.is_available() else \"cpu\")\n",
        "n_gpu = torch.cuda.device_count()"
      ],
      "execution_count": null,
      "outputs": []
    },
    {
      "cell_type": "code",
      "metadata": {
        "id": "PHSzIaYOlJGy",
        "colab": {
          "base_uri": "https://localhost:8080/",
          "height": 67,
          "referenced_widgets": [
            "fd49a6afe29d4a04a47635ebe09b0506",
            "5f44286e5d174635860bfce1dfb82fed",
            "8c9ef585655f468299d0b51e8a9d3aa4",
            "52f5d620aa844d37b30253eaff1e17b7",
            "9307d4d3e3ac49409cc035bae8094094",
            "6700021d82e4413e974bbb53c6ee5c59",
            "f60e1426111e4fd590bf5ff2b5233f6f",
            "41383fbbeaa74e44abba8a3f477614d2"
          ]
        },
        "outputId": "b8f9d66d-7531-4457-8828-353ebbad0427"
      },
      "source": [
        "tokenizer = BertTokenizer.from_pretrained('bert-large-cased', do_lower_case=False)"
      ],
      "execution_count": null,
      "outputs": [
        {
          "output_type": "display_data",
          "data": {
            "application/vnd.jupyter.widget-view+json": {
              "model_id": "fd49a6afe29d4a04a47635ebe09b0506",
              "version_minor": 0,
              "version_major": 2
            },
            "text/plain": [
              "HBox(children=(FloatProgress(value=0.0, description='Downloading', max=213450.0, style=ProgressStyle(descripti…"
            ]
          },
          "metadata": {
            "tags": []
          }
        },
        {
          "output_type": "stream",
          "text": [
            "\n"
          ],
          "name": "stdout"
        }
      ]
    },
    {
      "cell_type": "markdown",
      "metadata": {
        "id": "OYzW04gsmLHj"
      },
      "source": [
        "Since the BERT tokenizer is based on wordpiece tokenizer it will split tokens in subword tokens. For example ‘dexamethasone’ will be split in five tokens: ‘de’, ‘##xa’, ‘##met’, ‘##has’, ‘##one’. \n",
        "We have to deal with the issue of splitting token-level labels to related subtokens."
      ]
    },
    {
      "cell_type": "code",
      "metadata": {
        "colab": {
          "base_uri": "https://localhost:8080/"
        },
        "id": "5GxE0F3iCbT7",
        "outputId": "ca63ace6-f722-43fe-9c47-2453e6bdd407"
      },
      "source": [
        "docs_train.data[0]"
      ],
      "execution_count": null,
      "outputs": [
        {
          "output_type": "execute_result",
          "data": {
            "text/plain": [
              "[('DPP6', 'O'),\n",
              " ('as', 'O'),\n",
              " ('a', 'O'),\n",
              " ('candidate', 'O'),\n",
              " ('gene', 'O'),\n",
              " ('for', 'O'),\n",
              " ('neuroleptic', 'O'),\n",
              " ('-', 'O'),\n",
              " ('induced', 'O'),\n",
              " ('tardive', 'O'),\n",
              " ('dyskinesia', 'O'),\n",
              " ('.', 'O')]"
            ]
          },
          "metadata": {
            "tags": []
          },
          "execution_count": 30
        }
      ]
    },
    {
      "cell_type": "code",
      "metadata": {
        "id": "qv6LecFdsxFY"
      },
      "source": [
        "tokenized_sentence = []\n",
        "labels = []\n",
        "\n",
        "for s in docs_train.data:\n",
        "  tokens = []\n",
        "  lab = []\n",
        "  for word, label in s:\n",
        "    tokenized_word = tokenizer.tokenize(word) #BERT tokenizer\n",
        "    n_subwords = len(tokenized_word)\n",
        "\n",
        "    # Add the tokenized word to the final tokenized word list\n",
        "    tokens.extend(tokenized_word)\n",
        "\n",
        "    # Add the same label to the new list of labels `n_subwords` times\n",
        "    lab.extend([label] * n_subwords)\n",
        "  tokenized_sentence.append(tokens)\n",
        "  labels.append(lab)"
      ],
      "execution_count": null,
      "outputs": []
    },
    {
      "cell_type": "code",
      "metadata": {
        "id": "4BmBLqNQ2RMZ"
      },
      "source": [
        "tokenized_sentence_test = []\n",
        "labels_test = []\n",
        "\n",
        "for s in docs_test.data:\n",
        "  tokens = []\n",
        "  lab = []\n",
        "  for word, label in s:\n",
        "    tokenized_word = tokenizer.tokenize(word) #BERT tokenizer\n",
        "    n_subwords = len(tokenized_word)\n",
        "\n",
        "    # Add the tokenized word to the final tokenized word list\n",
        "    tokens.extend(tokenized_word)\n",
        "\n",
        "    # Add the same label to the new list of labels `n_subwords` times\n",
        "    lab.extend([label] * n_subwords)\n",
        "  tokenized_sentence_test.append(tokens)\n",
        "  labels_test.append(lab)"
      ],
      "execution_count": null,
      "outputs": []
    },
    {
      "cell_type": "code",
      "metadata": {
        "id": "CW-j7awP_uRB"
      },
      "source": [
        "tokenized_sentence_dev = []\n",
        "labels_dev = []\n",
        "\n",
        "for s in docs_dev.data:\n",
        "  tokens = []\n",
        "  lab = []\n",
        "  for word, label in s:\n",
        "    tokenized_word = tokenizer.tokenize(word) #BERT tokenizer\n",
        "    n_subwords = len(tokenized_word)\n",
        "\n",
        "    # Add the tokenized word to the final tokenized word list\n",
        "    tokens.extend(tokenized_word)\n",
        "\n",
        "    # Add the same label to the new list of labels `n_subwords` times\n",
        "    lab.extend([label] * n_subwords)\n",
        "  tokenized_sentence_dev.append(tokens)\n",
        "  labels_dev.append(lab)"
      ],
      "execution_count": null,
      "outputs": []
    },
    {
      "cell_type": "markdown",
      "metadata": {
        "id": "QWrvP-b5upOI"
      },
      "source": [
        "PADDING\n",
        "\n",
        "Next, we cut and pad the token and label sequences to our desired length."
      ]
    },
    {
      "cell_type": "code",
      "metadata": {
        "id": "y2fo79hvu-sN"
      },
      "source": [
        "input_ids = pad_sequences([tokenizer.convert_tokens_to_ids(txt) for txt in tokenized_sentence],\n",
        "                          maxlen=max_seq_len, dtype=\"long\", value=0.0,\n",
        "                          truncating=\"post\", padding=\"post\")"
      ],
      "execution_count": null,
      "outputs": []
    },
    {
      "cell_type": "code",
      "metadata": {
        "id": "cOzY6UfA2lqA"
      },
      "source": [
        "input_ids_test = pad_sequences([tokenizer.convert_tokens_to_ids(txt) for txt in tokenized_sentence_test],\n",
        "                          maxlen=max_seq_len, dtype=\"long\", value=0.0,\n",
        "                          truncating=\"post\", padding=\"post\")"
      ],
      "execution_count": null,
      "outputs": []
    },
    {
      "cell_type": "code",
      "metadata": {
        "id": "bccAyOgqA1e8"
      },
      "source": [
        "input_ids_dev = pad_sequences([tokenizer.convert_tokens_to_ids(txt) for txt in tokenized_sentence_dev],\n",
        "                          maxlen=max_seq_len, dtype=\"long\", value=0.0,\n",
        "                          truncating=\"post\", padding=\"post\")"
      ],
      "execution_count": null,
      "outputs": []
    },
    {
      "cell_type": "code",
      "metadata": {
        "id": "qIXfWVig-YbU"
      },
      "source": [
        "# Converting sublabels\n",
        "tags = [[tag2idx.get(l) for l in lab] for lab in labels]"
      ],
      "execution_count": null,
      "outputs": []
    },
    {
      "cell_type": "code",
      "metadata": {
        "id": "fdnJcALd20xo"
      },
      "source": [
        "tags_test = [[tag2idx.get(l) for l in lab] for lab in labels_test]"
      ],
      "execution_count": null,
      "outputs": []
    },
    {
      "cell_type": "code",
      "metadata": {
        "id": "diE_l_epBHEt"
      },
      "source": [
        "tags_dev = [[tag2idx.get(l) for l in lab] for lab in labels_dev]"
      ],
      "execution_count": null,
      "outputs": []
    },
    {
      "cell_type": "markdown",
      "metadata": {
        "id": "Z-Bic46mHG9T"
      },
      "source": [
        "PADDING LABELS"
      ]
    },
    {
      "cell_type": "code",
      "metadata": {
        "id": "uuB8xlazuwOn"
      },
      "source": [
        "tags = pad_sequences(tags,\n",
        "                     maxlen=max_seq_len, value=tag2idx[\"PAD\"], padding=\"post\",\n",
        "                     dtype=\"long\", truncating=\"post\")"
      ],
      "execution_count": null,
      "outputs": []
    },
    {
      "cell_type": "code",
      "metadata": {
        "id": "IfAHlZmg292x"
      },
      "source": [
        "tags_test = pad_sequences(tags_test,\n",
        "                     maxlen=max_seq_len, value=tag2idx[\"PAD\"], padding=\"post\",\n",
        "                     dtype=\"long\", truncating=\"post\")"
      ],
      "execution_count": null,
      "outputs": []
    },
    {
      "cell_type": "code",
      "metadata": {
        "id": "ERHzjkJcBOjf"
      },
      "source": [
        "tags_dev = pad_sequences(tags_dev,\n",
        "                     maxlen=max_seq_len, value=tag2idx[\"PAD\"], padding=\"post\",\n",
        "                     dtype=\"long\", truncating=\"post\")"
      ],
      "execution_count": null,
      "outputs": []
    },
    {
      "cell_type": "code",
      "metadata": {
        "id": "Y6Qoq_QL54oz",
        "colab": {
          "base_uri": "https://localhost:8080/"
        },
        "outputId": "f5097a09-c528-4b5e-ca3e-6ec06d12a766"
      },
      "source": [
        "tags[0]"
      ],
      "execution_count": null,
      "outputs": [
        {
          "output_type": "execute_result",
          "data": {
            "text/plain": [
              "array([2, 2, 2, 2, 2, 2, 2, 2, 2, 2, 2, 2, 2, 2, 2, 2, 2, 2, 2, 2, 2, 2,\n",
              "       2, 0, 0, 0, 0, 0, 0, 0, 0, 0, 0, 0, 0, 0, 0, 0, 0, 0, 0, 0, 0, 0,\n",
              "       0, 0, 0, 0, 0, 0])"
            ]
          },
          "metadata": {
            "tags": []
          },
          "execution_count": 51
        }
      ]
    },
    {
      "cell_type": "markdown",
      "metadata": {
        "id": "1PZdDJMQ-veR"
      },
      "source": [
        "The mask tensor allows the model to ignore the padded elements in the sequences."
      ]
    },
    {
      "cell_type": "code",
      "metadata": {
        "id": "Li9u3YNyuwVd"
      },
      "source": [
        "attention_masks = [[float(i != 0.0) for i in ii] for ii in input_ids]"
      ],
      "execution_count": null,
      "outputs": []
    },
    {
      "cell_type": "code",
      "metadata": {
        "id": "a8RFj6E83Hjp"
      },
      "source": [
        "attention_masks_test = [[float(i != 0.0) for i in ii] for ii in input_ids_test]"
      ],
      "execution_count": null,
      "outputs": []
    },
    {
      "cell_type": "code",
      "metadata": {
        "id": "uft9BEZDBUQ1"
      },
      "source": [
        "attention_masks_dev = [[float(i != 0.0) for i in ii] for ii in input_ids_dev]"
      ],
      "execution_count": null,
      "outputs": []
    },
    {
      "cell_type": "code",
      "metadata": {
        "id": "Ti0TT3ITHRwn"
      },
      "source": [
        "#attention_masks[0]"
      ],
      "execution_count": null,
      "outputs": []
    },
    {
      "cell_type": "markdown",
      "metadata": {
        "id": "v687PMlk_bVs"
      },
      "source": [
        "# SPLITTING TRAIN AND VALIDATION SET"
      ]
    },
    {
      "cell_type": "code",
      "metadata": {
        "id": "I3PpvCjAuwTP"
      },
      "source": [
        "tr_inputs, val_inputs, tr_tags, val_tags = train_test_split(input_ids, tags,\n",
        "                                                            random_state=2018, test_size=0.1)\n",
        "tr_masks, val_masks, _, _ = train_test_split(attention_masks, input_ids,\n",
        "                                             random_state=2018, test_size=0.1)"
      ],
      "execution_count": null,
      "outputs": []
    },
    {
      "cell_type": "code",
      "metadata": {
        "id": "VHlVB3DWbUSg",
        "colab": {
          "base_uri": "https://localhost:8080/"
        },
        "outputId": "3f77c3f1-41c2-46cb-b315-58f9b2175b76"
      },
      "source": [
        "tr_inputs[0]"
      ],
      "execution_count": null,
      "outputs": [
        {
          "output_type": "execute_result",
          "data": {
            "text/plain": [
              "array([ 1188,  3606, 11363, 19540,  1104,  3908, 18091,   140,  1161,\n",
              "        1477,   116,  1194,  1664,   118, 10323,   118,  5400,  1181,\n",
              "        1105, 27453,  1477,   116,   118,  3510,  1895,   140,  1161,\n",
              "        1477,   116,  6412,  1104,  1103, 13441, 10936,   119,     0,\n",
              "           0,     0,     0,     0,     0,     0,     0,     0,     0,\n",
              "           0,     0,     0,     0,     0])"
            ]
          },
          "metadata": {
            "tags": []
          },
          "execution_count": 54
        }
      ]
    },
    {
      "cell_type": "markdown",
      "metadata": {
        "id": "yVTcaY4K_X4f"
      },
      "source": [
        "Since we’re operating in pytorch, we have to convert the dataset to torch tensors."
      ]
    },
    {
      "cell_type": "code",
      "metadata": {
        "id": "7XpuJvxTuwRS"
      },
      "source": [
        "# Make tensors for training\n",
        "tr_inputs = torch.tensor(input_ids)\n",
        "val_inputs = torch.tensor(input_ids_dev)\n",
        "tr_tags = torch.tensor(tags)\n",
        "val_tags = torch.tensor(tags_dev)\n",
        "tr_masks = torch.tensor(attention_masks)\n",
        "val_masks = torch.tensor(attention_masks_dev)"
      ],
      "execution_count": null,
      "outputs": []
    },
    {
      "cell_type": "code",
      "metadata": {
        "id": "8o__Z1Z53VPa"
      },
      "source": [
        "# Make tensors for testing\n",
        "test_input =  torch.tensor(input_ids_test)\n",
        "test_masks = torch.tensor(attention_masks_test)"
      ],
      "execution_count": null,
      "outputs": []
    },
    {
      "cell_type": "code",
      "metadata": {
        "id": "t7Vjj-lczpJQ"
      },
      "source": [
        "test_data = TensorDataset(test_input, test_masks)\n",
        "test_sampler = SequentialSampler(test_data)\n",
        "test_dataloader = DataLoader(test_data, sampler=test_sampler, batch_size=bs)"
      ],
      "execution_count": null,
      "outputs": []
    },
    {
      "cell_type": "code",
      "metadata": {
        "id": "tZAooL53_lM1"
      },
      "source": [
        "train_data = TensorDataset(tr_inputs, tr_masks, tr_tags)\n",
        "train_sampler = SequentialSampler(train_data) # proviamo sequentialSampler\n",
        "train_dataloader = DataLoader(train_data, sampler=train_sampler, batch_size=bs)\n",
        "\n",
        "valid_data = TensorDataset(val_inputs, val_masks, val_tags)\n",
        "valid_sampler = SequentialSampler(valid_data)\n",
        "valid_dataloader = DataLoader(valid_data, sampler=valid_sampler, batch_size=bs)"
      ],
      "execution_count": null,
      "outputs": []
    },
    {
      "cell_type": "code",
      "metadata": {
        "id": "5l2xtUv9_lqa",
        "colab": {
          "base_uri": "https://localhost:8080/"
        },
        "outputId": "b789e888-a773-4ea6-efba-9d5a3263810f"
      },
      "source": [
        "train_dataloader.dataset.tensors"
      ],
      "execution_count": null,
      "outputs": [
        {
          "output_type": "execute_result",
          "data": {
            "text/plain": [
              "(tensor([[  141, 20923,  1545,  ...,     0,     0,     0],\n",
              "         [ 1284,  7042,   170,  ...,     0,     0,     0],\n",
              "         [ 1752,   117,  1195,  ..., 15439,   119,     0],\n",
              "         ...,\n",
              "         [ 2156, 18305,  1104,  ...,     0,     0,     0],\n",
              "         [16752, 14669,  1174,  ...,     0,     0,     0],\n",
              "         [ 3458,  2686,  5996,  ...,     0,     0,     0]]),\n",
              " tensor([[1., 1., 1.,  ..., 0., 0., 0.],\n",
              "         [1., 1., 1.,  ..., 0., 0., 0.],\n",
              "         [1., 1., 1.,  ..., 1., 1., 0.],\n",
              "         ...,\n",
              "         [1., 1., 1.,  ..., 0., 0., 0.],\n",
              "         [1., 1., 1.,  ..., 0., 0., 0.],\n",
              "         [1., 1., 1.,  ..., 0., 0., 0.]]),\n",
              " tensor([[2, 2, 2,  ..., 0, 0, 0],\n",
              "         [2, 2, 2,  ..., 0, 0, 0],\n",
              "         [2, 2, 2,  ..., 2, 2, 0],\n",
              "         ...,\n",
              "         [2, 2, 2,  ..., 0, 0, 0],\n",
              "         [2, 2, 2,  ..., 0, 0, 0],\n",
              "         [2, 2, 2,  ..., 0, 0, 0]]))"
            ]
          },
          "metadata": {
            "tags": []
          },
          "execution_count": 60
        }
      ]
    },
    {
      "cell_type": "markdown",
      "metadata": {
        "id": "WHHZpXrCCTd6"
      },
      "source": [
        "# MODEL FINE-TUNING"
      ]
    },
    {
      "cell_type": "markdown",
      "metadata": {
        "id": "QubnLtzF_6_N"
      },
      "source": [
        "The transformer package provides a BertForTokenClassification class for token-level predictions. BertForTokenClassification is a fine-tuning model that wraps BertModel and adds a token-level classifier on top of the BertModel. The token-level classifier is a linear layer that takes as input the last hidden state of the sequence. We load the pre-trained bert-base-cased model and provide the number of possible labels.\n",
        "\n"
      ]
    },
    {
      "cell_type": "code",
      "metadata": {
        "id": "9zg9ydFdIcHp"
      },
      "source": [
        "# https://pypi.org/project/adamp/\n",
        "#!pip install adamp --upgrade "
      ],
      "execution_count": null,
      "outputs": []
    },
    {
      "cell_type": "code",
      "metadata": {
        "id": "I3-jxJ3w_lw7",
        "colab": {
          "base_uri": "https://localhost:8080/",
          "height": 35
        },
        "outputId": "4a7b6c55-4dab-4089-bf06-4b734a93210e"
      },
      "source": [
        "import transformers\n",
        "from transformers import BertForTokenClassification, AdamW\n",
        "\n",
        "transformers.__version__"
      ],
      "execution_count": null,
      "outputs": [
        {
          "output_type": "execute_result",
          "data": {
            "application/vnd.google.colaboratory.intrinsic+json": {
              "type": "string"
            },
            "text/plain": [
              "'2.6.0'"
            ]
          },
          "metadata": {
            "tags": []
          },
          "execution_count": 64
        }
      ]
    },
    {
      "cell_type": "code",
      "metadata": {
        "id": "OKJrrc9I_9Y4",
        "colab": {
          "base_uri": "https://localhost:8080/",
          "height": 116,
          "referenced_widgets": [
            "0c47eb654b2745b09c5ac008043fe863",
            "81ca6e2354694f19971830d6334004d3",
            "785c19b11ad348c6b992ed9a95fc5590",
            "6c11499fb44142518730db384d6677cb",
            "7816c805319c4f9cbf08c576588fb6ba",
            "593630c7b1ef4e838432151027cb4b14",
            "30eaf39268374fd7ad87934364bbe4f1",
            "0a9f067555444f719d3131c813ba8a65",
            "bb16880de4c24b4ca321d08d889bed31",
            "5b42fc84232f44fd8c44672e4ca16ed9",
            "8110e49396a24c32a2edf3b500ee5713",
            "9f90cbbb2eb74a6aa7d5a26560e61149",
            "cf25f79395844eb890623feeac87f7d4",
            "b5f59834c2fe49c98c74f7e9de1a033c",
            "f7c99bfb6f5a4dc3b7683935ba2b1fc2",
            "b98f85a5f7b44fb9a505277bbb33a2fe"
          ]
        },
        "outputId": "fa8a246d-39b4-45c4-d482-126ebe728a41"
      },
      "source": [
        "# Load pretrained BertForTokenClassification model\n",
        "model = BertForTokenClassification.from_pretrained(\n",
        "    \"bert-large-cased\",\n",
        "    num_labels=len(tag2idx),\n",
        "    output_attentions = False,\n",
        "    output_hidden_states = False,\n",
        "    force_download = True\n",
        "\n",
        ")"
      ],
      "execution_count": null,
      "outputs": [
        {
          "output_type": "display_data",
          "data": {
            "application/vnd.jupyter.widget-view+json": {
              "model_id": "0c47eb654b2745b09c5ac008043fe863",
              "version_minor": 0,
              "version_major": 2
            },
            "text/plain": [
              "HBox(children=(FloatProgress(value=0.0, description='Downloading', max=625.0, style=ProgressStyle(description_…"
            ]
          },
          "metadata": {
            "tags": []
          }
        },
        {
          "output_type": "stream",
          "text": [
            "\n"
          ],
          "name": "stdout"
        },
        {
          "output_type": "display_data",
          "data": {
            "application/vnd.jupyter.widget-view+json": {
              "model_id": "bb16880de4c24b4ca321d08d889bed31",
              "version_minor": 0,
              "version_major": 2
            },
            "text/plain": [
              "HBox(children=(FloatProgress(value=0.0, description='Downloading', max=1338740706.0, style=ProgressStyle(descr…"
            ]
          },
          "metadata": {
            "tags": []
          }
        },
        {
          "output_type": "stream",
          "text": [
            "\n"
          ],
          "name": "stdout"
        }
      ]
    },
    {
      "cell_type": "code",
      "metadata": {
        "id": "OFm5vdN8uqIU"
      },
      "source": [
        "%%capture\n",
        "model.cuda()"
      ],
      "execution_count": null,
      "outputs": []
    },
    {
      "cell_type": "code",
      "metadata": {
        "id": "Dm219cAG_9d0"
      },
      "source": [
        "FULL_FINETUNING = True\n",
        "if FULL_FINETUNING:\n",
        "    param_optimizer = list(model.named_parameters())\n",
        "    no_decay = ['bias', 'gamma', 'beta']\n",
        "    optimizer_grouped_parameters = [\n",
        "        {'params': [p for n, p in param_optimizer if not any(nd in n for nd in no_decay)],\n",
        "         'weight_decay_rate': 0.01},\n",
        "        {'params': [p for n, p in param_optimizer if any(nd in n for nd in no_decay)],\n",
        "         'weight_decay_rate': 0.0}\n",
        "    ]\n",
        "else:\n",
        "    param_optimizer = list(model.classifier.named_parameters())\n",
        "    optimizer_grouped_parameters = [{\"params\": [p for n, p in param_optimizer]}]\n",
        "\n",
        "optimizer = AdamW(\n",
        "    optimizer_grouped_parameters, \n",
        "    lr=5e-5,\n",
        "    #eps=1e-8\n",
        ")"
      ],
      "execution_count": null,
      "outputs": []
    },
    {
      "cell_type": "markdown",
      "metadata": {
        "id": "Dwqy_vzuAa1i"
      },
      "source": [
        "We also add a scheduler to linearly reduce the learning rate throughout the epochs.\n"
      ]
    },
    {
      "cell_type": "code",
      "metadata": {
        "id": "iiAnNrOA_9iY"
      },
      "source": [
        "from transformers import get_linear_schedule_with_warmup\n",
        "\n",
        "epochs = 3\n",
        "max_grad_norm = 1.0\n",
        "\n",
        "# Total number of training steps is number of batches * number of epochs\n",
        "total_steps = len(train_dataloader) * epochs\n",
        "\n",
        "# Create the learning rate scheduler\n",
        "scheduler = get_linear_schedule_with_warmup(\n",
        "    optimizer,\n",
        "    num_warmup_steps=0,\n",
        "    num_training_steps=total_steps\n",
        ")"
      ],
      "execution_count": null,
      "outputs": []
    },
    {
      "cell_type": "markdown",
      "metadata": {
        "id": "CgQt1SA-ChOa"
      },
      "source": [
        "# TRAINING"
      ]
    },
    {
      "cell_type": "code",
      "metadata": {
        "id": "Il9ys4snAoyA"
      },
      "source": [
        "%%capture\n",
        "!pip3 install seqeval"
      ],
      "execution_count": null,
      "outputs": []
    },
    {
      "cell_type": "code",
      "metadata": {
        "id": "rXjRzI-G_9k2"
      },
      "source": [
        "from seqeval.metrics import f1_score, accuracy_score\n",
        "from tqdm import tqdm, trange"
      ],
      "execution_count": null,
      "outputs": []
    },
    {
      "cell_type": "code",
      "metadata": {
        "id": "i1_on2DAqK68"
      },
      "source": [
        "output_dir = \"/content/drive/MyDrive/BIO-NER-project\""
      ],
      "execution_count": null,
      "outputs": []
    },
    {
      "cell_type": "code",
      "metadata": {
        "id": "qlHExvyW9Y69"
      },
      "source": [
        "import os"
      ],
      "execution_count": null,
      "outputs": []
    },
    {
      "cell_type": "code",
      "metadata": {
        "id": "g4QfRyud_9gu",
        "colab": {
          "base_uri": "https://localhost:8080/"
        },
        "outputId": "c134e133-0e47-40d8-b69a-a07d5ee065a8"
      },
      "source": [
        "## Store the average loss after each epoch so we can plot them.\n",
        "loss_values, validation_loss_values = [], []\n",
        "valid_f1_prev = 0\n",
        "for epoch in trange(epochs):\n",
        "    # ========================================\n",
        "    #               Training\n",
        "    # ========================================\n",
        "    # Perform one full pass over the training set.\n",
        "\n",
        "    # Put the model into training mode.\n",
        "    model.train()\n",
        "    # Reset the total loss for this epoch.\n",
        "    total_loss = 0\n",
        "\n",
        "    # Training loop\n",
        "    for step, batch in enumerate(train_dataloader):\n",
        "        # add batch to gpu\n",
        "        batch = tuple(t.to(device) for t in batch)\n",
        "        b_input_ids, b_input_mask, b_labels = batch\n",
        "        # Always clear any previously calculated gradients before performing a backward pass.\n",
        "        model.zero_grad()\n",
        "        # forward pass\n",
        "        # This will return the loss (rather than the model output)\n",
        "        # because we have provided the `labels`.\n",
        "        outputs = model(b_input_ids, token_type_ids=None,\n",
        "                        attention_mask=b_input_mask, labels=b_labels)\n",
        "        # get the loss\n",
        "        loss = outputs[0]\n",
        "        # Perform a backward pass to calculate the gradients.\n",
        "        loss.backward()\n",
        "        # track train loss\n",
        "        total_loss += loss.item()\n",
        "        # Clip the norm of the gradient\n",
        "        # This is to help prevent the \"exploding gradients\" problem.\n",
        "        torch.nn.utils.clip_grad_norm_(parameters=model.parameters(), max_norm=max_grad_norm)\n",
        "        # update parameters\n",
        "        optimizer.step()\n",
        "        # Update the learning rate.\n",
        "        scheduler.step()\n",
        "\n",
        "\n",
        "    # Calculate the average loss over the training data.\n",
        "    avg_train_loss = total_loss / len(train_dataloader)\n",
        "    print(\"Average train loss: {}\".format(avg_train_loss))\n",
        "\n",
        "    # Store the loss value for plotting the learning curve.\n",
        "    loss_values.append(avg_train_loss)\n",
        "\n",
        "\n",
        "    # ========================================\n",
        "    #               Validation\n",
        "    # ========================================\n",
        "    # After the completion of each training epoch, measure our performance on\n",
        "    # our validation set.\n",
        "\n",
        "    # Put the model into evaluation mode\n",
        "    model.eval()\n",
        "    # Reset the validation loss for this epoch.\n",
        "    eval_loss, eval_accuracy = 0, 0\n",
        "    nb_eval_steps, nb_eval_examples = 0, 0\n",
        "    predictions , true_labels = [], []\n",
        "    for batch in valid_dataloader:\n",
        "        batch = tuple(t.to(device) for t in batch)\n",
        "        b_input_ids, b_input_mask, b_labels = batch\n",
        "\n",
        "        # Telling the model not to compute or store gradients,\n",
        "        # saving memory and speeding up validation\n",
        "        with torch.no_grad():\n",
        "            # Forward pass, calculate logit predictions.\n",
        "            # This will return the logits rather than the loss because we have not provided labels.\n",
        "            outputs = model(b_input_ids, token_type_ids=None,\n",
        "                            attention_mask=b_input_mask, labels=b_labels)\n",
        "        # Move logits and labels to CPU\n",
        "        logits = outputs[1].detach().cpu().numpy()\n",
        "        label_ids = b_labels.to('cpu').numpy()\n",
        "\n",
        "        # Calculate the accuracy for this batch of test sentences.\n",
        "        eval_loss += outputs[0].mean().item()\n",
        "        predictions.extend([list(p) for p in np.argmax(logits, axis=2)])\n",
        "        true_labels.extend(label_ids)\n",
        "\n",
        "    \n",
        "\n",
        "    eval_loss = eval_loss / len(valid_dataloader)\n",
        "    validation_loss_values.append(eval_loss)\n",
        "    print(\"Validation loss: {}\".format(eval_loss))\n",
        "    pred_tags = [[idx2tag[p_i] for p_i,l_i in zip(p, l) if idx2tag[l_i] != \"PAD\"] for p,l in zip(predictions, true_labels)]\n",
        "    valid_tags = [[idx2tag[l_i] for l_i in s if idx2tag[l_i] != \"PAD\"] for s in true_labels ]\n",
        "    valid_acc = accuracy_score(pred_tags, valid_tags)\n",
        "    valid_f1 = f1_score(pred_tags, valid_tags)\n",
        "\n",
        "    print(\"Validation Accuracy: {}\".format(valid_acc))\n",
        "    print(\"Validation F1-Score: {}\".format(valid_f1))\n",
        "    print()\n",
        "\n",
        "    # Save model with best F1 on validation set\n",
        "    if valid_f1 > valid_f1_prev:\n",
        "        # model_to_save = model.module if hasattr(model, 'module') else model  # Only save the model it-self\n",
        "        torch.save({'epoch': epoch, 'model_state': model.state_dict(), 'valid_acc': valid_acc,\n",
        "    'valid_f1': valid_f1, 'max_seq_length': max_seq_len},  # Save a checkpoint\n",
        "            os.path.join(output_dir, 'ner_bert_checkpoint_BC4CHEMDNER.pt'))\n",
        "        valid_f1_prev = valid_f1"
      ],
      "execution_count": null,
      "outputs": [
        {
          "output_type": "stream",
          "text": [
            "\r  0%|          | 0/3 [00:00<?, ?it/s]/usr/local/lib/python3.7/dist-packages/transformers/optimization.py:155: UserWarning: This overload of add_ is deprecated:\n",
            "\tadd_(Number alpha, Tensor other)\n",
            "Consider using one of the following signatures instead:\n",
            "\tadd_(Tensor other, *, Number alpha) (Triggered internally at  /pytorch/torch/csrc/utils/python_arg_parser.cpp:1005.)\n",
            "  exp_avg.mul_(beta1).add_(1.0 - beta1, grad)\n"
          ],
          "name": "stderr"
        },
        {
          "output_type": "stream",
          "text": [
            "Average train loss: 0.10670633709071033\n",
            "Validation loss: 0.06430704893941927\n",
            "Validation Accuracy: 0.9776334083594755\n",
            "Validation F1-Score: 0.859868234913706\n",
            "\n"
          ],
          "name": "stdout"
        },
        {
          "output_type": "stream",
          "text": [
            "\r 33%|███▎      | 1/3 [11:18<22:37, 678.90s/it]"
          ],
          "name": "stderr"
        },
        {
          "output_type": "stream",
          "text": [
            "Average train loss: 0.036815680946321525\n",
            "Validation loss: 0.061918374275199174\n",
            "Validation Accuracy: 0.9825965815406148\n",
            "Validation F1-Score: 0.8911014642823953\n",
            "\n"
          ],
          "name": "stdout"
        },
        {
          "output_type": "stream",
          "text": [
            "\r 67%|██████▋   | 2/3 [22:33<11:17, 677.65s/it]"
          ],
          "name": "stderr"
        },
        {
          "output_type": "stream",
          "text": [
            "Average train loss: 0.015810236589413714\n",
            "Validation loss: 0.06423426525027542\n",
            "Validation Accuracy: 0.9841060287413519\n",
            "Validation F1-Score: 0.8986632460167433\n",
            "\n"
          ],
          "name": "stdout"
        },
        {
          "output_type": "stream",
          "text": [
            "100%|██████████| 3/3 [33:46<00:00, 675.64s/it]\n"
          ],
          "name": "stderr"
        }
      ]
    },
    {
      "cell_type": "markdown",
      "metadata": {
        "id": "WLNEf_NYhb5S"
      },
      "source": [
        "# EVAL VISUALIZATION ON VALIDATION SET"
      ]
    },
    {
      "cell_type": "code",
      "metadata": {
        "id": "NJnJsXmy_9b-",
        "colab": {
          "base_uri": "https://localhost:8080/",
          "height": 301
        },
        "outputId": "be565821-eae7-4299-de49-a7f5819720e4"
      },
      "source": [
        "import matplotlib.pyplot as plt\n",
        "%matplotlib inline\n",
        "\n",
        "import seaborn as sns\n",
        "\n",
        "# Use plot styling from seaborn.\n",
        "sns.set(style='whitegrid')\n",
        "\n",
        "# Plot the learning curve.\n",
        "plt.plot(loss_values, 'b-o', label=\"training loss\")\n",
        "plt.plot(validation_loss_values, 'r-o', label=\"validation loss\")\n",
        "\n",
        "# Label the plot.\n",
        "plt.title(\"Learning curve\")\n",
        "plt.xlabel(\"Epoch\")\n",
        "plt.ylabel(\"Loss\")\n",
        "plt.legend()\n",
        "\n",
        "plt.show()\n"
      ],
      "execution_count": null,
      "outputs": [
        {
          "output_type": "display_data",
          "data": {
            "image/png": "[encoded data removed]",
            "text/plain": [
              "<Figure size 432x288 with 1 Axes>"
            ]
          },
          "metadata": {
            "tags": []
          }
        }
      ]
    },
    {
      "cell_type": "code",
      "metadata": {
        "id": "7ZEsXHEqjalS",
        "colab": {
          "base_uri": "https://localhost:8080/"
        },
        "outputId": "2c50cb24-e9c9-440e-8641-00f1ab5b8e80"
      },
      "source": [
        "from seqeval.metrics import classification_report\n",
        "\n",
        "print(classification_report(pred_tags, valid_tags))"
      ],
      "execution_count": null,
      "outputs": [
        {
          "output_type": "stream",
          "text": [
            "              precision    recall  f1-score   support\n",
            "\n",
            "    Chemical       0.91      0.89      0.90     74789\n",
            "\n",
            "   micro avg       0.91      0.89      0.90     74789\n",
            "   macro avg       0.91      0.89      0.90     74789\n",
            "weighted avg       0.91      0.89      0.90     74789\n",
            "\n"
          ],
          "name": "stdout"
        }
      ]
    },
    {
      "cell_type": "markdown",
      "metadata": {
        "id": "eiDMVDGKW1Zb"
      },
      "source": [
        "# PREDICTION ON INDIPENDENT TEST SET"
      ]
    },
    {
      "cell_type": "code",
      "metadata": {
        "id": "EbyyoS8THNV6"
      },
      "source": [
        "X_test = docs_test.sentences"
      ],
      "execution_count": null,
      "outputs": []
    },
    {
      "cell_type": "code",
      "metadata": {
        "id": "dzrW1oVczcgp"
      },
      "source": [
        "input_ids_test1 = torch.tensor(input_ids_test).cuda()"
      ],
      "execution_count": null,
      "outputs": []
    },
    {
      "cell_type": "code",
      "metadata": {
        "colab": {
          "base_uri": "https://localhost:8080/"
        },
        "id": "poAPOslrAYB6",
        "outputId": "956b579a-4192-44b6-9f59-b38d2f3408f1"
      },
      "source": [
        "input_ids_test1"
      ],
      "execution_count": null,
      "outputs": [
        {
          "output_type": "execute_result",
          "data": {
            "text/plain": [
              "tensor([[23009,  1104,  1202,  ...,     0,     0,     0],\n",
              "        [ 9425,  2515,  1241,  ...,     0,     0,     0],\n",
              "        [21991,  1193,   117,  ...,     0,     0,     0],\n",
              "        ...,\n",
              "        [ 1438,   117,  1292,  ...,     0,     0,     0],\n",
              "        [ 7642,  2155,  7880,  ...,  1477,  2036, 21392],\n",
              "        [ 5055,  1179,  1487,  ...,     0,     0,     0]], device='cuda:0')"
            ]
          },
          "metadata": {
            "tags": []
          },
          "execution_count": 78
        }
      ]
    },
    {
      "cell_type": "code",
      "metadata": {
        "colab": {
          "base_uri": "https://localhost:8080/"
        },
        "id": "Ke4wohS_SgbV",
        "outputId": "1bd6abbb-6217-409c-90d7-9ddfb03c05e5"
      },
      "source": [
        "# Load model checkpoint\n",
        "checkpoint = torch.load(output_dir+'/ner_bert_checkpoint_BC4CHEMDNER.pt', map_location='cpu')\n",
        "\n",
        "epoch = checkpoint['epoch']\n",
        "valid_acc_prev = checkpoint['valid_acc']\n",
        "valid_f1_prev = checkpoint['valid_f1']\n",
        "\n",
        "model = BertForTokenClassification.from_pretrained(\"bert-large-cased\", state_dict=checkpoint['model_state'], num_labels=len(tag2idx))\n",
        "model.to(device)\n",
        "print('Loaded the pretrained BERT model, epoch:',checkpoint['epoch'],'valid acc:', round(checkpoint['valid_acc'], 3), 'valid f1:', round(checkpoint['valid_f1'], 3))\n"
      ],
      "execution_count": null,
      "outputs": [
        {
          "output_type": "stream",
          "text": [
            "Loaded the pretrained BERT model, epoch: 2 valid acc: 0.984 valid f1: 0.899\n"
          ],
          "name": "stdout"
        }
      ]
    },
    {
      "cell_type": "code",
      "metadata": {
        "id": "zLWWoSjtc8ok"
      },
      "source": [
        "predictions = []\n",
        "\n",
        "with torch.no_grad():\n",
        "  for batch in test_dataloader:\n",
        "    batch = tuple(t.to(device) for t in batch)\n",
        "    b_input_ids, b_input_mask = batch\n",
        "    outputs = model(b_input_ids, attention_mask=b_input_mask)\n",
        "    _, predicted = torch.max(outputs[0], -1)\n",
        "    predictions.extend(predicted.tolist())"
      ],
      "execution_count": null,
      "outputs": []
    },
    {
      "cell_type": "code",
      "metadata": {
        "id": "UaG4VLM3Cu0A"
      },
      "source": [
        "converted = []\n",
        "for sent in input_ids_test1:\n",
        "  sent1 = tokenizer.convert_ids_to_tokens(sent.to('cpu'))\n",
        "  converted.append(sent1)"
      ],
      "execution_count": null,
      "outputs": []
    },
    {
      "cell_type": "code",
      "metadata": {
        "id": "q6dHyr7HqbYK",
        "colab": {
          "base_uri": "https://localhost:8080/"
        },
        "outputId": "1c4d4ed1-98c5-4242-fda0-684ab54fbd8f"
      },
      "source": [
        "converted[0]"
      ],
      "execution_count": null,
      "outputs": [
        {
          "output_type": "execute_result",
          "data": {
            "text/plain": [
              "['Effects',\n",
              " 'of',\n",
              " 'do',\n",
              " '##cos',\n",
              " '##ah',\n",
              " '##ex',\n",
              " '##aen',\n",
              " '##oi',\n",
              " '##c',\n",
              " 'acid',\n",
              " 'and',\n",
              " 'met',\n",
              " '##hyl',\n",
              " '##mer',\n",
              " '##cu',\n",
              " '##ry',\n",
              " 'on',\n",
              " 'child',\n",
              " \"'\",\n",
              " 's',\n",
              " 'brain',\n",
              " 'development',\n",
              " 'due',\n",
              " 'to',\n",
              " 'consumption',\n",
              " 'of',\n",
              " 'fish',\n",
              " 'by',\n",
              " 'Finnish',\n",
              " 'mother',\n",
              " 'during',\n",
              " 'pregnancy',\n",
              " ':',\n",
              " 'a',\n",
              " 'pro',\n",
              " '##ba',\n",
              " '##bil',\n",
              " '##istic',\n",
              " 'modeling',\n",
              " 'approach',\n",
              " '.',\n",
              " '[PAD]',\n",
              " '[PAD]',\n",
              " '[PAD]',\n",
              " '[PAD]',\n",
              " '[PAD]',\n",
              " '[PAD]',\n",
              " '[PAD]',\n",
              " '[PAD]',\n",
              " '[PAD]']"
            ]
          },
          "metadata": {
            "tags": []
          },
          "execution_count": 83
        }
      ]
    },
    {
      "cell_type": "markdown",
      "metadata": {
        "id": "fTcFbuccTJzJ"
      },
      "source": [
        "# POST-PROCESSING"
      ]
    },
    {
      "cell_type": "code",
      "metadata": {
        "id": "myB8eP4xjbKg"
      },
      "source": [
        "# Take track of original tokenization appending original indices in a list\n",
        "\n",
        "list_tok_to_orig = []\n",
        "list_all_tok = []\n",
        "list_orig_to_tok = []\n",
        "for s in docs_test.sentences:\n",
        "  tok_to_orig_index = []\n",
        "  orig_to_tok_index = []\n",
        "  all_doc_tokens = []\n",
        "  for (i, token) in enumerate(s):\n",
        "    orig_to_tok_index.append(len(all_doc_tokens))\n",
        "    sub_tokens = tokenizer.tokenize(token)\n",
        "    for sub_token in sub_tokens:\n",
        "      tok_to_orig_index.append(i)\n",
        "      all_doc_tokens.append(sub_token)\n",
        "  list_tok_to_orig.append(tok_to_orig_index)\n",
        "  list_all_tok.append(all_doc_tokens)\n",
        "  list_orig_to_tok.append(orig_to_tok_index)"
      ],
      "execution_count": null,
      "outputs": []
    },
    {
      "cell_type": "code",
      "metadata": {
        "id": "mBQOkYQDFQhV",
        "colab": {
          "base_uri": "https://localhost:8080/"
        },
        "outputId": "b53c3107-2633-422a-e0ea-9b59dd6e47df"
      },
      "source": [
        "# Original index, token, prediction_tag\n",
        "for i, token, l in zip(list_tok_to_orig[0], list_all_tok[0], predictions[0]):\n",
        "  print(i, token, l)"
      ],
      "execution_count": null,
      "outputs": [
        {
          "output_type": "stream",
          "text": [
            "0 Effects 2\n",
            "1 of 2\n",
            "2 do 1\n",
            "2 ##cos 1\n",
            "2 ##ah 1\n",
            "2 ##ex 1\n",
            "2 ##aen 1\n",
            "2 ##oi 1\n",
            "2 ##c 1\n",
            "3 acid 3\n",
            "4 and 2\n",
            "5 met 1\n",
            "5 ##hyl 1\n",
            "5 ##mer 1\n",
            "5 ##cu 1\n",
            "5 ##ry 1\n",
            "6 on 2\n",
            "7 child 2\n",
            "8 ' 2\n",
            "9 s 2\n",
            "10 brain 2\n",
            "11 development 2\n",
            "12 due 2\n",
            "13 to 2\n",
            "14 consumption 2\n",
            "15 of 2\n",
            "16 fish 2\n",
            "17 by 2\n",
            "18 Finnish 2\n",
            "19 mother 2\n",
            "20 during 2\n",
            "21 pregnancy 2\n",
            "22 : 2\n",
            "23 a 2\n",
            "24 pro 2\n",
            "24 ##ba 2\n",
            "24 ##bil 2\n",
            "24 ##istic 2\n",
            "25 modeling 2\n",
            "26 approach 2\n",
            "27 . 2\n"
          ],
          "name": "stdout"
        }
      ]
    },
    {
      "cell_type": "code",
      "metadata": {
        "id": "WGfVKZcv_PLC"
      },
      "source": [
        "# Detokenization : Restore the original token sequences\n",
        "\n",
        "original_test_sentence, y_hat, y_true = [], [], []\n",
        "for sent, i, lidx, lidtrue in zip(list_all_tok, list_tok_to_orig, predictions, tags_test):\n",
        "  position = None\n",
        "  new_tokens, new_labels_hat, new_labels_true = [], [], []\n",
        "  for token, j, label_idx, label_idx_true in zip(sent, i, lidx, lidtrue):\n",
        "    if position == j:\n",
        "      new_tokens[-1] = new_tokens[-1] + token\n",
        "    else:\n",
        "      new_labels_hat.append(idx2tag[label_idx])\n",
        "      new_labels_true.append(idx2tag[label_idx_true])\n",
        "      new_tokens.append(token)\n",
        "      position = j\n",
        "  original_test_sentence.append(new_tokens)\n",
        "  original_test_sentence = [[item.replace(\"##\", \"\") for item in s] for s in original_test_sentence]\n",
        "  y_hat.append(new_labels_hat)\n",
        "  y_true.append(new_labels_true)"
      ],
      "execution_count": null,
      "outputs": []
    },
    {
      "cell_type": "code",
      "metadata": {
        "colab": {
          "base_uri": "https://localhost:8080/"
        },
        "id": "7uH--SO7jwzQ",
        "outputId": "599cde13-d689-4573-eb4b-36c7c61c300c"
      },
      "source": [
        "y_hat[0]"
      ],
      "execution_count": null,
      "outputs": [
        {
          "output_type": "execute_result",
          "data": {
            "text/plain": [
              "['O',\n",
              " 'O',\n",
              " 'B-Chemical',\n",
              " 'I-Chemical',\n",
              " 'O',\n",
              " 'B-Chemical',\n",
              " 'O',\n",
              " 'O',\n",
              " 'O',\n",
              " 'O',\n",
              " 'O',\n",
              " 'O',\n",
              " 'O',\n",
              " 'O',\n",
              " 'O',\n",
              " 'O',\n",
              " 'O',\n",
              " 'O',\n",
              " 'O',\n",
              " 'O',\n",
              " 'O',\n",
              " 'O',\n",
              " 'O',\n",
              " 'O',\n",
              " 'O',\n",
              " 'O',\n",
              " 'O',\n",
              " 'O']"
            ]
          },
          "metadata": {
            "tags": []
          },
          "execution_count": 118
        }
      ]
    },
    {
      "cell_type": "code",
      "metadata": {
        "colab": {
          "base_uri": "https://localhost:8080/"
        },
        "id": "5hjaxMihjyov",
        "outputId": "290375dd-2656-43ff-9263-f0a8a0d0ea06"
      },
      "source": [
        "y_true[0]"
      ],
      "execution_count": null,
      "outputs": [
        {
          "output_type": "execute_result",
          "data": {
            "text/plain": [
              "['O',\n",
              " 'O',\n",
              " 'B-Chemical',\n",
              " 'I-Chemical',\n",
              " 'O',\n",
              " 'B-Chemical',\n",
              " 'O',\n",
              " 'O',\n",
              " 'O',\n",
              " 'O',\n",
              " 'O',\n",
              " 'O',\n",
              " 'O',\n",
              " 'O',\n",
              " 'O',\n",
              " 'O',\n",
              " 'O',\n",
              " 'O',\n",
              " 'O',\n",
              " 'O',\n",
              " 'O',\n",
              " 'O',\n",
              " 'O',\n",
              " 'O',\n",
              " 'O',\n",
              " 'O',\n",
              " 'O',\n",
              " 'O']"
            ]
          },
          "metadata": {
            "tags": []
          },
          "execution_count": 119
        }
      ]
    },
    {
      "cell_type": "code",
      "metadata": {
        "id": "N0BDrXZeD0pr",
        "colab": {
          "base_uri": "https://localhost:8080/"
        },
        "outputId": "8e078888-f084-4284-f856-34878cd60936"
      },
      "source": [
        "original_test_sentence[0]"
      ],
      "execution_count": null,
      "outputs": [
        {
          "output_type": "execute_result",
          "data": {
            "text/plain": [
              "['Effects',\n",
              " 'of',\n",
              " 'docosahexaenoic',\n",
              " 'acid',\n",
              " 'and',\n",
              " 'methylmercury',\n",
              " 'on',\n",
              " 'child',\n",
              " \"'\",\n",
              " 's',\n",
              " 'brain',\n",
              " 'development',\n",
              " 'due',\n",
              " 'to',\n",
              " 'consumption',\n",
              " 'of',\n",
              " 'fish',\n",
              " 'by',\n",
              " 'Finnish',\n",
              " 'mother',\n",
              " 'during',\n",
              " 'pregnancy',\n",
              " ':',\n",
              " 'a',\n",
              " 'probabilistic',\n",
              " 'modeling',\n",
              " 'approach',\n",
              " '.']"
            ]
          },
          "metadata": {
            "tags": []
          },
          "execution_count": 120
        }
      ]
    },
    {
      "cell_type": "markdown",
      "metadata": {
        "id": "K0CkS5yrShET"
      },
      "source": [
        "# EVAL ON TEST SET"
      ]
    },
    {
      "cell_type": "code",
      "metadata": {
        "id": "hHw9oxEuSkHT",
        "colab": {
          "base_uri": "https://localhost:8080/"
        },
        "outputId": "6122e3ad-1a1b-4791-9121-86a51e4b4a42"
      },
      "source": [
        "print('\\033[1m' + \"Classification report for BERT: \")\n",
        "print('\\033[0m')\n",
        "print(classification_report(y_true, y_hat))"
      ],
      "execution_count": null,
      "outputs": [
        {
          "output_type": "stream",
          "text": [
            "\u001b[1mClassification report for BERT: \n",
            "\u001b[0m\n",
            "              precision    recall  f1-score   support\n",
            "\n",
            "    Chemical       0.88      0.88      0.88     22336\n",
            "\n",
            "   micro avg       0.88      0.88      0.88     22336\n",
            "   macro avg       0.88      0.88      0.88     22336\n",
            "weighted avg       0.88      0.88      0.88     22336\n",
            "\n"
          ],
          "name": "stdout"
        }
      ]
    },
    {
      "cell_type": "code",
      "metadata": {
        "colab": {
          "base_uri": "https://localhost:8080/"
        },
        "id": "zTo7LuKwSiiz",
        "outputId": "e6bd4684-8628-4c43-869a-768490bcab04"
      },
      "source": [
        "print(\"F1-score(relaxed): {:0.3}\".format(f1_score(y_true, y_hat, average = \"weighted\")))"
      ],
      "execution_count": null,
      "outputs": [
        {
          "output_type": "stream",
          "text": [
            "F1-score(relaxed): 0.88\n"
          ],
          "name": "stdout"
        }
      ]
    },
    {
      "cell_type": "code",
      "metadata": {
        "colab": {
          "base_uri": "https://localhost:8080/"
        },
        "id": "5qoRJf9UAVTM",
        "outputId": "ef7acc2e-c79a-4561-d252-774294a806c4"
      },
      "source": [
        "from seqeval.scheme import IOB2\n",
        "print('\\033[1m' + \"Classification report for BERT: \")\n",
        "print('\\033[0m')\n",
        "print(classification_report(y_true, y_hat,scheme=IOB2, mode=\"strict\"))"
      ],
      "execution_count": null,
      "outputs": [
        {
          "output_type": "stream",
          "text": [
            "\u001b[1mClassification report for BERT: \n",
            "\u001b[0m\n",
            "              precision    recall  f1-score   support\n",
            "\n",
            "    Chemical       0.89      0.87      0.88     22336\n",
            "\n",
            "   micro avg       0.89      0.87      0.88     22336\n",
            "   macro avg       0.89      0.87      0.88     22336\n",
            "weighted avg       0.89      0.87      0.88     22336\n",
            "\n"
          ],
          "name": "stdout"
        }
      ]
    },
    {
      "cell_type": "code",
      "metadata": {
        "id": "j-s-sA71Smua"
      },
      "source": [
        "print(\"F1-score: {:0.3}\".format(f1_score(y_true, y_hat, average = \"weighted\", scheme=IOB2, mode=\"strict\"))"
      ],
      "execution_count": null,
      "outputs": []
    },
    {
      "cell_type": "markdown",
      "metadata": {
        "id": "7H0frkj1REQ7"
      },
      "source": [
        "# COMPARE RESULTS"
      ]
    },
    {
      "cell_type": "code",
      "metadata": {
        "id": "nPxGnE_4RGoY",
        "colab": {
          "base_uri": "https://localhost:8080/"
        },
        "outputId": "305a2055-2fb8-4564-9870-0c56b7b2c0cc"
      },
      "source": [
        "i = 18\n",
        "print(\"{:15} {:5}: ({})\".format(\"Word\", \"True\", \"Pred\"))\n",
        "print(\"=\"*45)\n",
        "for w, true, pred in zip(original_test_sentence[i], y_true[i], y_hat[i]):\n",
        "  print(\"{:15}:{:15} ({})\".format(w, true, pred))"
      ],
      "execution_count": null,
      "outputs": [
        {
          "output_type": "stream",
          "text": [
            "Word            True : (Pred)\n",
            "=============================================\n",
            "Endothelial    :O               (O)\n",
            "nitric         :B-Chemical      (B-Chemical)\n",
            "oxide          :I-Chemical      (I-Chemical)\n",
            "synthase       :O               (O)\n",
            "genotypes      :O               (O)\n",
            "and            :O               (O)\n",
            "haplotypes     :O               (O)\n",
            "modify         :O               (O)\n",
            "the            :O               (O)\n",
            "responses      :O               (O)\n",
            "to             :O               (O)\n",
            "sildenafil     :B-Chemical      (B-Chemical)\n",
            "in             :O               (O)\n",
            "patients       :O               (O)\n",
            "with           :O               (O)\n",
            "erectile       :O               (O)\n",
            "dysfunction    :O               (O)\n",
            ".              :O               (O)\n"
          ],
          "name": "stdout"
        }
      ]
    },
    {
      "cell_type": "markdown",
      "metadata": {
        "id": "ue52s6NCjefZ"
      },
      "source": [
        "#  LR OPTIMIZATION"
      ]
    },
    {
      "cell_type": "code",
      "metadata": {
        "id": "G_tQs2WLkMiC"
      },
      "source": [
        "%%capture\n",
        "!pip install torch-lr-finder"
      ],
      "execution_count": null,
      "outputs": []
    },
    {
      "cell_type": "code",
      "metadata": {
        "id": "v8ECLkN-jii2"
      },
      "source": [
        "from torch_lr_finder import LRFinder"
      ],
      "execution_count": null,
      "outputs": []
    },
    {
      "cell_type": "code",
      "metadata": {
        "id": "7mos_MbxnXbu"
      },
      "source": [
        "\"\"\"train_data = TensorDataset(tr_inputs, tr_tags)\n",
        "train_dataloader = DataLoader(train_data, batch_size=bs)\"\"\""
      ],
      "execution_count": null,
      "outputs": []
    },
    {
      "cell_type": "code",
      "metadata": {
        "id": "p0e_37uk_9vQ"
      },
      "source": [
        "model.parameters()"
      ],
      "execution_count": null,
      "outputs": []
    },
    {
      "cell_type": "code",
      "metadata": {
        "id": "7Ghoo8YiA0BH"
      },
      "source": [
        "train_dataloader"
      ],
      "execution_count": null,
      "outputs": []
    },
    {
      "cell_type": "code",
      "metadata": {
        "id": "J7nDTmhQBdQR"
      },
      "source": [
        "import torch.nn as nn\n",
        "class LossWrapper(nn.Module):\n",
        "    def __init__(self, loss_fn):\n",
        "        super().__init__()\n",
        "        self.loss_fn = loss_fn\n",
        "\n",
        "    def forward(self, outputs, labels):\n",
        "        logits = outputs[1]  # logits only\n",
        "        return self.loss_fn(logits, labels.view(-1))"
      ],
      "execution_count": null,
      "outputs": []
    },
    {
      "cell_type": "code",
      "metadata": {
        "id": "8Q5ys2cdkpmT"
      },
      "source": [
        "\"\"\"# Then, just replace the original criterion with this wrapper\n",
        "#criterion = nn.CrossEntropyLoss()\n",
        "#optimizer = optim.Adam(model.parameters(), lr=1e-7, weight_decay=1e-2)\n",
        "optimizer2 = torch.optim.Adam(model.parameters(), lr=1e-7, weight_decay=1e-2)\n",
        "criterion = LossWrapper(nn.CrossEntropyLoss())\n",
        "lr_finder = LRFinder(model, optimizer2, criterion, device=\"cpu\")\n",
        "lr_finder.range_test(train_dataloader, end_lr=100, num_iter=100)\n",
        "lr_finder.plot() # to inspect the loss-learning rate graph\n",
        "lr_finder.reset() # to reset the model and optimizer to their initial state\"\"\""
      ],
      "execution_count": null,
      "outputs": []
    },
    {
      "cell_type": "markdown",
      "metadata": {
        "id": "b-J-2u7HStaY"
      },
      "source": [
        "# REPORT2"
      ]
    },
    {
      "cell_type": "code",
      "metadata": {
        "id": "aqOnrrK4rrOA"
      },
      "source": [
        "print('\\033[1m' + \"Classification report for #2 model with LR optimization: \")\n",
        "print('\\033[0m')\n",
        "print(classification_report(y_true, y_hat))"
      ],
      "execution_count": null,
      "outputs": []
    },
    {
      "cell_type": "code",
      "metadata": {
        "id": "YOKLi9dASwqC"
      },
      "source": [
        "print(\"F1-score(relaxed): {:0.3}\".format(f1_score(y_true, y_hat, average = \"weighted\")))"
      ],
      "execution_count": null,
      "outputs": []
    },
    {
      "cell_type": "code",
      "metadata": {
        "id": "On1EHTUdIxVp"
      },
      "source": [
        "print('\\033[1m' + \"Classification report for #1 model without LR optimization (exact match): \")\n",
        "print('\\033[0m')\n",
        "print(classification_report(y_true, y_hat, scheme=IOB2, mode=\"strict\"))"
      ],
      "execution_count": null,
      "outputs": []
    },
    {
      "cell_type": "code",
      "metadata": {
        "id": "L3EMnps_S0r1"
      },
      "source": [
        "print(\"F1-score: {:0.3}\".format(f1_score(y_true, y_hat, average = \"weighted\", scheme=IOB2, mode=\"strict\")))"
      ],
      "execution_count": null,
      "outputs": []
    },
    {
      "cell_type": "code",
      "metadata": {
        "id": "knra4M2_sCir"
      },
      "source": [
        "import sys\n",
        "\n",
        "print('Saving classification report on file...')\n",
        "\n",
        "original_stdout = sys.stdout \n",
        "\n",
        "with open('/content/drive/MyDrive/output.txt', 'a') as f:\n",
        "  sys.stdout = f # Change the standard output to the file we created.\n",
        "  print('\\033[1m' + \"Classification report BERT model for BC4CHEMD dataset: \")\n",
        "  print('\\033[0m')\n",
        "  print(classification_report(y_true, y_hat))\n",
        "  sys.stdout = original_stdout # Reset the standard output to its original value\n",
        "print(\"Done.\")"
      ],
      "execution_count": null,
      "outputs": []
    }
  ]
}