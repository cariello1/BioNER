{
  "nbformat": 4,
  "nbformat_minor": 0,
  "metadata": {
    "colab": {
      "name": "Bi-LSTM + Softmax - JNLPBAv1.ipynb",
      "provenance": [],
      "collapsed_sections": []
    },
    "kernelspec": {
      "display_name": "Python 3",
      "name": "python3"
    }
  },
  "cells": [
    {
      "cell_type": "code",
      "metadata": {
        "colab": {
          "base_uri": "https://localhost:8080/"
        },
        "id": "9y5ZEboAmBt0",
        "outputId": "25f2f568-7c80-4bb6-bdd6-ad61b21fd1ca"
      },
      "source": [
        "from google.colab import drive\n",
        "drive.mount(\"/content/drive\")"
      ],
      "execution_count": null,
      "outputs": [
        {
          "output_type": "stream",
          "text": [
            "Drive already mounted at /content/drive; to attempt to forcibly remount, call drive.mount(\"/content/drive\", force_remount=True).\n"
          ],
          "name": "stdout"
        }
      ]
    },
    {
      "cell_type": "code",
      "metadata": {
        "colab": {
          "base_uri": "https://localhost:8080/"
        },
        "id": "mJcWWSTLEvYT",
        "outputId": "1045ba1c-cf4a-4e14-985f-74176c9f4227"
      },
      "source": [
        "# The token can be used to access the repository\n",
        "!git clone https://github.com/cariello1/BIO-NER-.git"
      ],
      "execution_count": null,
      "outputs": [
        {
          "output_type": "stream",
          "text": [
            "fatal: destination path 'BIO-NER-' already exists and is not an empty directory.\n"
          ],
          "name": "stdout"
        }
      ]
    },
    {
      "cell_type": "code",
      "metadata": {
        "colab": {
          "base_uri": "https://localhost:8080/"
        },
        "id": "ADTC_021I8oR",
        "outputId": "e42e23dc-3880-4c3b-ccfd-eb275e14f584"
      },
      "source": [
        "%cd /content/BIO-NER-"
      ],
      "execution_count": null,
      "outputs": [
        {
          "output_type": "stream",
          "text": [
            "/content/BIO-NER-\n"
          ],
          "name": "stdout"
        }
      ]
    },
    {
      "cell_type": "markdown",
      "metadata": {
        "id": "bec-uDBVmKfv"
      },
      "source": [
        "# PREPROCESSING"
      ]
    },
    {
      "cell_type": "code",
      "metadata": {
        "id": "RU7s0Jt5mUe9"
      },
      "source": [
        "# External dependencies\n",
        "import numpy as np\n",
        "import seaborn as sns\n",
        "sns.set_style(\"whitegrid\")\n",
        "sns.set_palette(\"Set3\")\n",
        "from matplotlib import pyplot as plt\n",
        "import tensorflow as tf\n",
        "from preprocessing_1 import PreprocessingDocsNN\n",
        "from preprocessing_1 import read_data\n",
        "\n",
        "# For reproducibility\n",
        "seed = 937\n",
        "np.random.seed(seed)\n",
        "tf.compat.v1.set_random_seed(seed)"
      ],
      "execution_count": null,
      "outputs": []
    },
    {
      "cell_type": "code",
      "metadata": {
        "id": "LamlsNkDmXgu"
      },
      "source": [
        "# Data in IOB format\n",
        "file1 = \"/content/drive/MyDrive/Data_Bio-NER/JNLPBA/original-data/train/Genia4ERtask1.iob2\"\n",
        "file2 = \"/content/drive/MyDrive/Data_Bio-NER/JNLPBA/original-data/test/Genia4EReval1.iob2\""
      ],
      "execution_count": null,
      "outputs": []
    },
    {
      "cell_type": "code",
      "metadata": {
        "colab": {
          "base_uri": "https://localhost:8080/"
        },
        "id": "SsFajR5BmbV6",
        "outputId": "56a0042b-215c-4cfc-b6e3-88a27e10c597"
      },
      "source": [
        "# Read data from file\n",
        "input_train = read_data(file1)\n",
        "input_test = read_data(file2)"
      ],
      "execution_count": null,
      "outputs": [
        {
          "output_type": "stream",
          "text": [
            "Total number of sentences: 18546 \n",
            "Total number of sentences: 3856 \n"
          ],
          "name": "stdout"
        }
      ]
    },
    {
      "cell_type": "code",
      "metadata": {
        "id": "vGYtXWLMmwQL"
      },
      "source": [
        "# Instantiate an object for preprocessing\n",
        "docs_train = PreprocessingDocsNN(input_train)\n",
        "docs_test = PreprocessingDocsNN(input_test)"
      ],
      "execution_count": null,
      "outputs": []
    },
    {
      "cell_type": "code",
      "metadata": {
        "colab": {
          "base_uri": "https://localhost:8080/"
        },
        "id": "CJ4objI4mo3v",
        "outputId": "ceb7fd12-d345-436e-d2e0-0f0e5cb48582"
      },
      "source": [
        "# Take a look to the data\n",
        "print('This is what a sentence looks like:{}'.format(docs_train.data[0]))"
      ],
      "execution_count": null,
      "outputs": [
        {
          "output_type": "stream",
          "text": [
            "This is what a sentence looks like:[('IL-2', 'B-DNA'), ('gene', 'I-DNA'), ('expression', 'O'), ('and', 'O'), ('NF-kappa', 'B-protein'), ('B', 'I-protein'), ('activation', 'O'), ('through', 'O'), ('CD28', 'B-protein'), ('requires', 'O'), ('reactive', 'O'), ('oxygen', 'O'), ('production', 'O'), ('by', 'O'), ('5-lipoxygenase', 'B-protein'), ('.', 'O')]\n"
          ],
          "name": "stdout"
        }
      ]
    },
    {
      "cell_type": "code",
      "metadata": {
        "colab": {
          "base_uri": "https://localhost:8080/"
        },
        "id": "MP-tJG-5o3eb",
        "outputId": "153f412e-df8f-4a14-855b-4749813c52a7"
      },
      "source": [
        "print(\"\\033[1m\"+\"Statistics for the training set:\"+'\\033[0m')\n",
        "print(\"Number of sentences: {}\".format(len(docs_train.sentences)))\n",
        "print(\"Number of tokens: {}\".format(len(docs_train.tokens)))\n",
        "print(\"Size of vocabulary: {}\".format(len(docs_train.vocabulary)))\n",
        "print('Tagset:', ' '.join(docs_train.tagset))\n",
        "print(\"Number of Tags {}\".format(len(docs_train.tagset)))"
      ],
      "execution_count": null,
      "outputs": [
        {
          "output_type": "stream",
          "text": [
            "\u001b[1mStatistics for the training set:\u001b[0m\n",
            "Number of sentences: 18546\n",
            "Number of tokens: 492551\n",
            "Size of vocabulary: 22056\n",
            "Tagset: B-protein I-protein O B-cell_line I-cell_line I-RNA B-cell_type I-cell_type B-DNA B-RNA I-DNA\n",
            "Number of Tags 11\n"
          ],
          "name": "stdout"
        }
      ]
    },
    {
      "cell_type": "markdown",
      "metadata": {
        "id": "7WynhFoUwfqr"
      },
      "source": [
        "# PREPROCESSING FOR TRAINING\n",
        "<p style='text-align: justify;'>Before feeding the data to the model we need to further preprocess the text. It is important to ensure that all text should be of the same length. The method sequence **pad_sequences()** and variable *max_seq_len* are used for this purpose. The text which are shorter than fixed *max_seq_len* value are padded to get them to the same length, whereas text which are longer than *max_seq_len* are truncated. Then, we use the **TextVectorization** layer from tf as text encoder. This allows to transforms a sequences of strings into a list of token indices. Every token in a sequence is mapped to a corresponding integer ID. This saves a lot of memory.</p>"
      ]
    },
    {
      "cell_type": "code",
      "metadata": {
        "id": "Boj5yqMPrPRV"
      },
      "source": [
        "max_seq_len = 50"
      ],
      "execution_count": null,
      "outputs": []
    },
    {
      "cell_type": "code",
      "metadata": {
        "id": "Wd1nSc44iTBw"
      },
      "source": [
        "# Padding sentences to the max_seq_len\n",
        "from keras.preprocessing.sequence import pad_sequences\n",
        "X_train_padded = pad_sequences(maxlen=max_seq_len, sequences=docs_train.sentences, padding=\"post\", value=\"\", dtype=object, truncating = \"post\")\n",
        "X_test_padded =  pad_sequences(maxlen=max_seq_len, sequences=docs_test.sentences, padding=\"post\", value=\"\", dtype=object, truncating = \"post\")"
      ],
      "execution_count": null,
      "outputs": []
    },
    {
      "cell_type": "code",
      "metadata": {
        "colab": {
          "base_uri": "https://localhost:8080/"
        },
        "id": "r8DKpJo16zE8",
        "outputId": "c0241133-a3bf-4d00-d0e6-c4c94108a5d4"
      },
      "source": [
        "# Check the padding\n",
        "X_test_padded[812]"
      ],
      "execution_count": null,
      "outputs": [
        {
          "output_type": "execute_result",
          "data": {
            "text/plain": [
              "array(['Finally', ',', 'DR3/', 'Wsl-1', 'protein', 'expression', 'is',\n",
              "       'quite', 'variable', 'among', 'these', 'NB', 'cell', 'lines', ',',\n",
              "       'with', 'very', 'low', 'or', 'undetectable', 'levels', 'in', '7',\n",
              "       'of', '17', 'NB', 'cell', 'lines', '', '', '', '', '', '', '', '',\n",
              "       '', '', '', '', '', '', '', '', '', '', '', '', '', ''],\n",
              "      dtype=object)"
            ]
          },
          "metadata": {
            "tags": []
          },
          "execution_count": 12
        }
      ]
    },
    {
      "cell_type": "code",
      "metadata": {
        "id": "hYX0jofnDn6p"
      },
      "source": [
        "# Mapping label to IDs and viceversa\n",
        "tag2idx, idx2tag = docs_train.from_labels_2_idx()"
      ],
      "execution_count": null,
      "outputs": []
    },
    {
      "cell_type": "code",
      "metadata": {
        "colab": {
          "base_uri": "https://localhost:8080/"
        },
        "id": "0_DudWtmCc-K",
        "outputId": "97f6e517-e96a-479c-eb78-833eae309630"
      },
      "source": [
        "tag2idx"
      ],
      "execution_count": null,
      "outputs": [
        {
          "output_type": "execute_result",
          "data": {
            "text/plain": [
              "{'B-DNA': 9,\n",
              " 'B-RNA': 10,\n",
              " 'B-cell_line': 4,\n",
              " 'B-cell_type': 7,\n",
              " 'B-protein': 1,\n",
              " 'I-DNA': 11,\n",
              " 'I-RNA': 6,\n",
              " 'I-cell_line': 5,\n",
              " 'I-cell_type': 8,\n",
              " 'I-protein': 2,\n",
              " 'O': 3,\n",
              " 'PAD': 0}"
            ]
          },
          "metadata": {
            "tags": []
          },
          "execution_count": 14
        }
      ]
    },
    {
      "cell_type": "code",
      "metadata": {
        "id": "wLom_ljyHJmN"
      },
      "source": [
        "# Padding and encoding the target variable\n",
        "y = docs_train.padded_and_encoded_labels(tag2idx, max_seq_len)\n",
        "y_test = docs_test.padded_and_encoded_labels(tag2idx, max_seq_len)"
      ],
      "execution_count": null,
      "outputs": []
    },
    {
      "cell_type": "code",
      "metadata": {
        "id": "J8vtGx9giZpf"
      },
      "source": [
        "encoder = tf.keras.layers.experimental.preprocessing.TextVectorization(split=None, standardize = None, ngrams=None, max_tokens=None, output_mode = \"int\")\n",
        "encoder.adapt(docs_train.tokens)"
      ],
      "execution_count": null,
      "outputs": []
    },
    {
      "cell_type": "code",
      "metadata": {
        "id": "geFELTuw8BdH"
      },
      "source": [
        "X_train = encoder(np.array(X_train_padded))\n",
        "X_test = encoder(np.array(X_test_padded))"
      ],
      "execution_count": null,
      "outputs": []
    },
    {
      "cell_type": "code",
      "metadata": {
        "id": "Ykdo6RUS7uqY"
      },
      "source": [
        "# Extract vocabulary\n",
        "voc = np.array(encoder.get_vocabulary())"
      ],
      "execution_count": null,
      "outputs": []
    },
    {
      "cell_type": "code",
      "metadata": {
        "colab": {
          "base_uri": "https://localhost:8080/"
        },
        "id": "uMVphNvIzk0f",
        "outputId": "c7731798-f76f-418e-f41b-41795400e759"
      },
      "source": [
        "# Explore first 30 more frequent words in the train set, first entry reserved for PAD\n",
        "voc[:30] "
      ],
      "execution_count": null,
      "outputs": [
        {
          "output_type": "execute_result",
          "data": {
            "text/plain": [
              "array(['', '[UNK]', 'of', 'the', '.', ',', 'and', 'in', 'to', ')', '(',\n",
              "       'a', 'cells', 'that', 'by', 'with', 'is', 'expression', 'was',\n",
              "       'cell', 'for', 'B', 'The', 'T', 'gene', 'human', 'activation',\n",
              "       'transcription', 'protein', 'as'], dtype='<U48')"
            ]
          },
          "metadata": {
            "tags": []
          },
          "execution_count": 20
        }
      ]
    },
    {
      "cell_type": "code",
      "metadata": {
        "id": "-W9BAOqCzubI"
      },
      "source": [
        "# A dict mapping words to their ID\n",
        "word_index = dict(zip(voc, range(len(voc))))"
      ],
      "execution_count": null,
      "outputs": []
    },
    {
      "cell_type": "code",
      "metadata": {
        "id": "2AdhPZjL047i"
      },
      "source": [
        "# A dict mapping IDs to their words\n",
        "idx2word = {i: w for w, i in word_index.items()}"
      ],
      "execution_count": null,
      "outputs": []
    },
    {
      "cell_type": "code",
      "metadata": {
        "colab": {
          "base_uri": "https://localhost:8080/"
        },
        "id": "oHLUFV21i9HE",
        "outputId": "6666ca09-2d64-4347-92e9-b7177ea18ed7"
      },
      "source": [
        "word_index['']"
      ],
      "execution_count": null,
      "outputs": [
        {
          "output_type": "execute_result",
          "data": {
            "text/plain": [
              "0"
            ]
          },
          "metadata": {
            "tags": []
          },
          "execution_count": 24
        }
      ]
    },
    {
      "cell_type": "code",
      "metadata": {
        "colab": {
          "base_uri": "https://localhost:8080/"
        },
        "id": "loKwAjmt1cHt",
        "outputId": "a521dcd2-2b4a-43a5-fd8c-e49be92c9897"
      },
      "source": [
        "# Decoding in the test set; some words that are OOV are decoded as [UNK]\n",
        "for n in range(3):\n",
        "  print(\"Original: \", docs_test.sentences[n])\n",
        "  print(\"Round-trip: \", \" \".join(voc[X_test[n]]))\n",
        "  print() "
      ],
      "execution_count": null,
      "outputs": [
        {
          "output_type": "stream",
          "text": [
            "Original:  ['Number', 'of', 'glucocorticoid', 'receptors', 'in', 'lymphocytes', 'and', 'their', 'sensitivity', 'to', 'hormone', 'action', '.']\n",
            "Round-trip:  [UNK] of glucocorticoid receptors in lymphocytes and their sensitivity to hormone action .                                     \n",
            "\n",
            "Original:  ['The', 'study', 'demonstrated', 'a', 'decreased', 'level', 'of', 'glucocorticoid', 'receptors', '(', 'GR', ')', 'in', 'peripheral', 'blood', 'lymphocytes', 'from', 'hypercholesterolemic', 'subjects', ',', 'and', 'an', 'elevated', 'level', 'in', 'patients', 'with', 'acute', 'myocardial', 'infarction', '.']\n",
            "Round-trip:  The study demonstrated a decreased level of glucocorticoid receptors ( GR ) in peripheral blood lymphocytes from hypercholesterolemic subjects , and an elevated level in patients with acute myocardial infarction .                   \n",
            "\n",
            "Original:  ['In', 'the', 'lymphocytes', 'with', 'a', 'high', 'GR', 'number', ',', 'dexamethasone', 'inhibited', '[', '3H', ']', '-thymidine', 'and', '[', '3H', ']', '-acetate', 'incorporation', 'into', 'DNA', 'and', 'cholesterol', ',', 'respectively', ',', 'in', 'the', 'same', 'manner', 'as', 'in', 'the', 'control', 'cells', '.']\n",
            "Round-trip:  In the lymphocytes with a high GR number , dexamethasone inhibited [ 3H ] -thymidine and [ 3H ] [UNK] incorporation into DNA and cholesterol , respectively , in the same manner as in the control cells .            \n",
            "\n"
          ],
          "name": "stdout"
        }
      ]
    },
    {
      "cell_type": "code",
      "metadata": {
        "colab": {
          "base_uri": "https://localhost:8080/"
        },
        "id": "hwMILiGhEXZR",
        "outputId": "8dd97df1-5090-401f-af1f-424081541da1"
      },
      "source": [
        "# Check IDs \n",
        "print(\"The word 'cell' is identified by the index: {}\".format(word_index[\"cell\"]))\n",
        "print(\"The labels 'B-DNA'(which defines the first token of a DNA entity) is identified by the index: {}\".format(tag2idx[\"B-DNA\"]))"
      ],
      "execution_count": null,
      "outputs": [
        {
          "output_type": "stream",
          "text": [
            "The word 'cell' is identified by the index: 19\n",
            "The labels 'B-DNA'(which defines the first token of a DNA entity) is identified by the index: 9\n"
          ],
          "name": "stdout"
        }
      ]
    },
    {
      "cell_type": "markdown",
      "metadata": {
        "id": "XD0X8r8Rysji"
      },
      "source": [
        "# IMPLEMENTING MODEL ARCHITECTURE"
      ]
    },
    {
      "cell_type": "code",
      "metadata": {
        "id": "jvr-fs8TQUmC"
      },
      "source": [
        "# Hyperparams initialization\n",
        "BATCH_SIZE = 32\n",
        "EPOCHS = 20\n",
        "EMBEDDING = 300"
      ],
      "execution_count": null,
      "outputs": []
    },
    {
      "cell_type": "code",
      "metadata": {
        "id": "PNm1E3-ZKvPW"
      },
      "source": [
        "from keras.optimizers import RMSprop, SGD, Adam\n",
        "from keras.models import Model, Input\n",
        "from keras.layers import LSTM, Embedding, Dense, Dropout, Bidirectional, Input"
      ],
      "execution_count": null,
      "outputs": []
    },
    {
      "cell_type": "code",
      "metadata": {
        "id": "cXM3F92yu7U_"
      },
      "source": [
        "def double_bi_lstm_fun(lr = 0.001):\n",
        "  input = Input(shape=(max_seq_len,), dtype=\"int32\", name=\"Input\") #timesteps\n",
        "  model = Embedding(input_dim=len(word_index), output_dim=EMBEDDING,\n",
        "                    input_length=max_seq_len, mask_zero = True, name=\"Embedding\") (input)\n",
        "  model = Dropout(0.5, name= \"Dropout1\") (model)\n",
        "  model = Bidirectional(LSTM(units=100, return_sequences=True,\n",
        "                    recurrent_dropout=0.2, name=\"LSTM1\"), name= \"Bi-LSTM1\") (model)\n",
        "  model = Dropout(0.5, name= \"Dropout2\") (model) \n",
        "  model = Bidirectional(LSTM(units=50, return_sequences=True,\n",
        "                    recurrent_dropout=0.2, name=\"LSTM2\"), name= \"Bi-LSTM2\") (model)\n",
        "  out = Dense(len(tag2idx), activation=\"softmax\", name= \"Softmax\") (model)\n",
        "\n",
        "  model = Model(input, out, name= \"Bi-LSTM_Softmax\")\n",
        "\n",
        "  model.compile(loss= \"sparse_categorical_crossentropy\",\n",
        "                  optimizer=RMSprop(learning_rate=lr),\n",
        "                  metrics=[\"accuracy\"])\n",
        "  return model"
      ],
      "execution_count": null,
      "outputs": []
    },
    {
      "cell_type": "code",
      "metadata": {
        "id": "_jvrDIFMHN2i"
      },
      "source": [
        "# Build the model\n",
        "model = double_bi_lstm_fun()"
      ],
      "execution_count": null,
      "outputs": []
    },
    {
      "cell_type": "code",
      "metadata": {
        "colab": {
          "base_uri": "https://localhost:8080/"
        },
        "id": "RnslCHDDrm_S",
        "outputId": "7ddc1599-cd5c-4218-b63e-a83de1d7e548"
      },
      "source": [
        "model.summary()"
      ],
      "execution_count": null,
      "outputs": [
        {
          "output_type": "stream",
          "text": [
            "Model: \"Bi-LSTM_Softmax\"\n",
            "_________________________________________________________________\n",
            "Layer (type)                 Output Shape              Param #   \n",
            "=================================================================\n",
            "Input (InputLayer)           [(None, 50)]              0         \n",
            "_________________________________________________________________\n",
            "Embedding (Embedding)        (None, 50, 300)           6617400   \n",
            "_________________________________________________________________\n",
            "Bi-LSTM1 (Bidirectional)     (None, 50, 200)           320800    \n",
            "_________________________________________________________________\n",
            "Bi-LSTM2 (Bidirectional)     (None, 50, 100)           100400    \n",
            "_________________________________________________________________\n",
            "Softmax (Dense)              (None, 50, 12)            1212      \n",
            "=================================================================\n",
            "Total params: 7,039,812\n",
            "Trainable params: 7,039,812\n",
            "Non-trainable params: 0\n",
            "_________________________________________________________________\n"
          ],
          "name": "stdout"
        }
      ]
    },
    {
      "cell_type": "code",
      "metadata": {
        "colab": {
          "base_uri": "https://localhost:8080/",
          "height": 51
        },
        "id": "Fuu_QfmOs8vn",
        "outputId": "be0fa9e8-b3a2-414e-8a23-1da54c0164f4"
      },
      "source": [
        "tf.keras.utils.plot_model(model, rankdir=\"LR\",dpi=54)"
      ],
      "execution_count": null,
      "outputs": [
        {
          "output_type": "execute_result",
          "data": {
            "image/png": "[encoded data removed]",
            "text/plain": [
              "<IPython.core.display.Image object>"
            ]
          },
          "metadata": {
            "tags": []
          },
          "execution_count": 33
        }
      ]
    },
    {
      "cell_type": "markdown",
      "metadata": {
        "id": "HyRDbu2w4jBa"
      },
      "source": [
        "# EVALUATION METRICS"
      ]
    },
    {
      "cell_type": "code",
      "metadata": {
        "id": "hIlNTzUY9I7p"
      },
      "source": [
        "dir_output = \"/content/drive/MyDrive/BIO-NER-project/double-bi-lstm.h5\""
      ],
      "execution_count": null,
      "outputs": []
    },
    {
      "cell_type": "code",
      "metadata": {
        "id": "PtzqQCHO5g8O"
      },
      "source": [
        "# Early stopping stops the training process when val_loss is not improving\n",
        "# ModelCkpt save only the best model (model with lowest val_loss)\n",
        "from tensorflow.keras.callbacks import EarlyStopping, ModelCheckpoint\n",
        "early_stopping = EarlyStopping(monitor=\"val_loss\", patience=2, restore_best_weights=True, verbose=1)\n",
        "#model_save = ModelCheckpoint(dir_output, save_best_only=True, monitor='val_loss', mode='min', verbose=1)"
      ],
      "execution_count": null,
      "outputs": []
    },
    {
      "cell_type": "code",
      "metadata": {
        "id": "Gbx8AboeyS85"
      },
      "source": [
        "def ignoring_padding(y_pred,y_test):\n",
        "  \"\"\"This function allows to compare predicted labels with true labels discarding padding\"\"\"\n",
        "  real_pred = []\n",
        "  #pred = np.argmax(y_pred, -1) # Compute the label \n",
        "  y_test_nozeroes = [[l for l in s if l != 0] for s in y_test] # Delete padding label in the original sentences\n",
        "  for s, s1 in zip(y_pred, y_test_nozeroes):\n",
        "    s = s.tolist() \n",
        "    real_s =  s[:len(s1)] # Delete padding from the predicted sentences\n",
        "    real_pred.append(real_s)\n",
        "  pred_tag = [[idx2tag[i] for i in row] for row in real_pred]\n",
        "  y_test_tag = [[idx2tag[i] for i in row] for row in y_test_nozeroes]\n",
        "  return pred_tag, y_test_tag"
      ],
      "execution_count": null,
      "outputs": []
    },
    {
      "cell_type": "code",
      "metadata": {
        "id": "ZP8PB_79UFem"
      },
      "source": [
        "%%capture\n",
        "# Install seqeval library for evaluation score\n",
        "!pip3 install seqeval"
      ],
      "execution_count": null,
      "outputs": []
    },
    {
      "cell_type": "code",
      "metadata": {
        "id": "vShVK4hIYBFb"
      },
      "source": [
        "from keras.callbacks import Callback\n",
        "from seqeval.metrics import f1_score\n",
        "from seqeval.scheme import IOB2\n",
        "\n",
        "class Metrics(Callback):\n",
        "    \"\"\"Custom F1 metric to look after the performance on the validation set during the training\"\"\"\n",
        "    def __init__(self, validation, training):   \n",
        "        super(Metrics, self).__init__()\n",
        "        self.validation = validation \n",
        "        self.training = training   \n",
        "            \n",
        "        print('validation shape', len(self.validation[0]))\n",
        "        \n",
        "    def on_train_begin(self, logs={}):        \n",
        "        self.val_f1s = []\n",
        "        self.train_f1s = []\n",
        "     \n",
        "    def on_epoch_end(self, epoch, logs={}):\n",
        "        val_targ = self.validation[1]   \n",
        "        val_predict = self.model.predict(self.validation[0])\n",
        "        val_predict = np.argmax(val_predict, -1)\n",
        "        y_true, y_hat = ignoring_padding(val_predict, val_targ)\n",
        "        val_f1 = f1_score(y_true, y_hat, scheme=IOB2, mode=\"strict\")\n",
        "        train_targ = self.training[1]   \n",
        "        train_predict = self.model.predict(self.training[0])\n",
        "        train_predict = np.argmax(train_predict, -1)\n",
        "        y_true_train, y_hat_train = ignoring_padding(train_predict, train_targ)\n",
        "        train_f1 = f1_score(y_true_train, y_hat_train, scheme=IOB2, mode=\"strict\")\n",
        "\n",
        "        logs[\"val_f1\"] = val_f1\n",
        "        logs[\"train_f1\"] = train_f1\n",
        "        \n",
        "        self.val_f1s.append(round(val_f1, 6))\n",
        "        self.train_f1s.append(round(train_f1, 6))\n",
        "         \n",
        "        print(f' — val_f1: {val_f1} ')\n",
        "        return"
      ],
      "execution_count": null,
      "outputs": []
    },
    {
      "cell_type": "code",
      "metadata": {
        "id": "qV2rN5XOSWrE"
      },
      "source": [
        "X_train1 = tf.make_tensor_proto(X_train)\n",
        "X_train = tf.make_ndarray(X_train1)"
      ],
      "execution_count": null,
      "outputs": []
    },
    {
      "cell_type": "code",
      "metadata": {
        "id": "XwQvOPxgC07o"
      },
      "source": [
        "from sklearn.model_selection import train_test_split\n",
        "X_train, X_val, y_train, y_val = train_test_split(X_train, y, test_size = 0.2, random_state = 276)"
      ],
      "execution_count": null,
      "outputs": []
    },
    {
      "cell_type": "code",
      "metadata": {
        "id": "iTiJSxMTcx2a",
        "colab": {
          "base_uri": "https://localhost:8080/"
        },
        "outputId": "13a30abe-4212-40b9-932d-4f1421c8a50f"
      },
      "source": [
        "# Customised callbacks\n",
        "mycallbacks = [Metrics(validation=(X_val, y_val), training=(X_train, y_train)), early_stopping]"
      ],
      "execution_count": null,
      "outputs": [
        {
          "output_type": "stream",
          "text": [
            "validation shape 3710\n"
          ],
          "name": "stdout"
        }
      ]
    },
    {
      "cell_type": "markdown",
      "metadata": {
        "id": "gLLTPsfphHVe"
      },
      "source": [
        "# TRAINING"
      ]
    },
    {
      "cell_type": "code",
      "metadata": {
        "colab": {
          "base_uri": "https://localhost:8080/"
        },
        "id": "xvLCpP3Cdo7o",
        "outputId": "e0d014b4-5266-47eb-9cb0-e03d13a7f769"
      },
      "source": [
        "history = model.fit(X_train, y_train, epochs=EPOCHS, batch_size=BATCH_SIZE, verbose=1, validation_data=(X_val, y_val), callbacks = mycallbacks)"
      ],
      "execution_count": null,
      "outputs": [
        {
          "output_type": "stream",
          "text": [
            "Epoch 1/20\n",
            "464/464 [==============================] - 239s 491ms/step - loss: 0.4220 - accuracy: 0.7952 - val_loss: 0.1792 - val_accuracy: 0.8988\n",
            " — val_f1: 0.6265196204154913 \n",
            "Epoch 2/20\n",
            "464/464 [==============================] - 227s 489ms/step - loss: 0.1614 - accuracy: 0.9080 - val_loss: 0.1406 - val_accuracy: 0.9166\n",
            " — val_f1: 0.693847834000728 \n",
            "Epoch 3/20\n",
            "464/464 [==============================] - 226s 486ms/step - loss: 0.1136 - accuracy: 0.9301 - val_loss: 0.1389 - val_accuracy: 0.9131\n",
            " — val_f1: 0.7088432003963338 \n",
            "Epoch 4/20\n",
            "464/464 [==============================] - 225s 485ms/step - loss: 0.0971 - accuracy: 0.9406 - val_loss: 0.1315 - val_accuracy: 0.9233\n",
            " — val_f1: 0.731280724450194 \n",
            "Epoch 5/20\n",
            "464/464 [==============================] - 226s 486ms/step - loss: 0.0910 - accuracy: 0.9432 - val_loss: 0.1278 - val_accuracy: 0.9254\n",
            " — val_f1: 0.7389893370421883 \n",
            "Epoch 6/20\n",
            "464/464 [==============================] - 226s 486ms/step - loss: 0.0788 - accuracy: 0.9517 - val_loss: 0.1304 - val_accuracy: 0.9229\n",
            " — val_f1: 0.7429418985270049 \n",
            "Epoch 7/20\n",
            "464/464 [==============================] - 225s 485ms/step - loss: 0.0733 - accuracy: 0.9547 - val_loss: 0.1326 - val_accuracy: 0.9243\n",
            " — val_f1: 0.747566909975669 \n",
            "Restoring model weights from the end of the best epoch.\n",
            "Epoch 00007: early stopping\n"
          ],
          "name": "stdout"
        }
      ]
    },
    {
      "cell_type": "markdown",
      "metadata": {
        "id": "r3MW7xse7hJs"
      },
      "source": [
        "# LEARNING CURVES"
      ]
    },
    {
      "cell_type": "code",
      "metadata": {
        "id": "WRgNc7bHb9lS"
      },
      "source": [
        "epochs = len(history.epoch)\n",
        "epochs = range(0,epochs)"
      ],
      "execution_count": null,
      "outputs": []
    },
    {
      "cell_type": "code",
      "metadata": {
        "id": "HOVDfCfNkbO3",
        "colab": {
          "base_uri": "https://localhost:8080/",
          "height": 350
        },
        "outputId": "0d33f21a-f5d0-45cf-e048-8bfdd57399b1"
      },
      "source": [
        "plt.rcParams[\"figure.figsize\"] = [8,5]\n",
        "loss_train = history.history[\"loss\"]\n",
        "loss_val = history.history['val_loss']\n",
        "plt.plot(epochs, loss_train, 'g', label='Training loss')\n",
        "plt.plot(epochs, loss_val, 'b', label='Validation loss')\n",
        "plt.xticks(np.arange(0, len(epochs)))\n",
        "plt.title('Training and Validation Loss')\n",
        "plt.xlabel('Epochs')\n",
        "plt.ylabel('Loss')\n",
        "plt.legend()\n",
        "plt.show()"
      ],
      "execution_count": null,
      "outputs": [
        {
          "output_type": "display_data",
          "data": {
            "image/png": "[encoded data removed]",
            "text/plain": [
              "<Figure size 576x360 with 1 Axes>"
            ]
          },
          "metadata": {
            "tags": []
          }
        }
      ]
    },
    {
      "cell_type": "code",
      "metadata": {
        "id": "ekQcq6_CsAXI",
        "colab": {
          "base_uri": "https://localhost:8080/",
          "height": 350
        },
        "outputId": "9d56cd0b-b33a-4ee7-afff-c83c51c00afb"
      },
      "source": [
        "plt.rcParams[\"figure.figsize\"] = [8,5]\n",
        "loss_train = history.history['train_f1']\n",
        "loss_val = history.history['val_f1']\n",
        "plt.plot(epochs, loss_train, 'g', label='Training F1')\n",
        "plt.plot(epochs, loss_val, 'b', label='Validation F1')\n",
        "plt.xticks(np.arange(0, len(epochs)))\n",
        "plt.title('Training and Validation F1-score')\n",
        "plt.xlabel('Epochs')\n",
        "plt.ylabel('F1-score')\n",
        "plt.legend()\n",
        "plt.show()"
      ],
      "execution_count": null,
      "outputs": [
        {
          "output_type": "display_data",
          "data": {
            "image/png": "[encoded data removed]",
            "text/plain": [
              "<Figure size 576x360 with 1 Axes>"
            ]
          },
          "metadata": {
            "tags": []
          }
        }
      ]
    },
    {
      "cell_type": "markdown",
      "metadata": {
        "id": "3enF2eUZfnCc"
      },
      "source": [
        "# REPORT"
      ]
    },
    {
      "cell_type": "code",
      "metadata": {
        "id": "GCW2kq1NuDh3"
      },
      "source": [
        "%%capture\n",
        "!pip install nervaluate"
      ],
      "execution_count": null,
      "outputs": []
    },
    {
      "cell_type": "code",
      "metadata": {
        "id": "yljBv7jc8um0"
      },
      "source": [
        "y_pred = model.predict(X_test)"
      ],
      "execution_count": null,
      "outputs": []
    },
    {
      "cell_type": "code",
      "metadata": {
        "id": "cWNfr2ak9Zak"
      },
      "source": [
        "y_pred = np.argmax(y_pred, -1)"
      ],
      "execution_count": null,
      "outputs": []
    },
    {
      "cell_type": "code",
      "metadata": {
        "id": "687H1aAKu64E"
      },
      "source": [
        "y_hat, y_true = ignoring_padding(y_pred, y_test)"
      ],
      "execution_count": null,
      "outputs": []
    },
    {
      "cell_type": "code",
      "metadata": {
        "id": "AE4b7_H6uP53"
      },
      "source": [
        "from nervaluate import Evaluator\n",
        "golden_tags = [\"protein\", \"cell_type\", \"cell_line\", \"DNA\", \"RNA\"]\n",
        "evaluator = Evaluator(y_true, y_hat, tags = golden_tags, loader=\"list\")\n",
        "results, results_by_tag = evaluator.evaluate()\n",
        "import pandas as pd\n",
        "res = pd.DataFrame.from_dict(results)"
      ],
      "execution_count": null,
      "outputs": []
    },
    {
      "cell_type": "code",
      "metadata": {
        "colab": {
          "base_uri": "https://localhost:8080/",
          "height": 352
        },
        "id": "cm6cl71CvJEl",
        "outputId": "2e9dfdf5-31e8-4f12-a1f5-2fc50b4ccab1"
      },
      "source": [
        "res"
      ],
      "execution_count": null,
      "outputs": [
        {
          "output_type": "execute_result",
          "data": {
            "text/html": [
              "<div>\n",
              "<style scoped>\n",
              "    .dataframe tbody tr th:only-of-type {\n",
              "        vertical-align: middle;\n",
              "    }\n",
              "\n",
              "    .dataframe tbody tr th {\n",
              "        vertical-align: top;\n",
              "    }\n",
              "\n",
              "    .dataframe thead th {\n",
              "        text-align: right;\n",
              "    }\n",
              "</style>\n",
              "<table border=\"1\" class=\"dataframe\">\n",
              "  <thead>\n",
              "    <tr style=\"text-align: right;\">\n",
              "      <th></th>\n",
              "      <th>ent_type</th>\n",
              "      <th>partial</th>\n",
              "      <th>strict</th>\n",
              "      <th>exact</th>\n",
              "    </tr>\n",
              "  </thead>\n",
              "  <tbody>\n",
              "    <tr>\n",
              "      <th>correct</th>\n",
              "      <td>6517.000000</td>\n",
              "      <td>5762.000000</td>\n",
              "      <td>5465.000000</td>\n",
              "      <td>5762.000000</td>\n",
              "    </tr>\n",
              "    <tr>\n",
              "      <th>incorrect</th>\n",
              "      <td>495.000000</td>\n",
              "      <td>0.000000</td>\n",
              "      <td>1547.000000</td>\n",
              "      <td>1250.000000</td>\n",
              "    </tr>\n",
              "    <tr>\n",
              "      <th>partial</th>\n",
              "      <td>0.000000</td>\n",
              "      <td>1250.000000</td>\n",
              "      <td>0.000000</td>\n",
              "      <td>0.000000</td>\n",
              "    </tr>\n",
              "    <tr>\n",
              "      <th>missed</th>\n",
              "      <td>1551.000000</td>\n",
              "      <td>1551.000000</td>\n",
              "      <td>1551.000000</td>\n",
              "      <td>1551.000000</td>\n",
              "    </tr>\n",
              "    <tr>\n",
              "      <th>spurious</th>\n",
              "      <td>2007.000000</td>\n",
              "      <td>2007.000000</td>\n",
              "      <td>2007.000000</td>\n",
              "      <td>2007.000000</td>\n",
              "    </tr>\n",
              "    <tr>\n",
              "      <th>possible</th>\n",
              "      <td>8563.000000</td>\n",
              "      <td>8563.000000</td>\n",
              "      <td>8563.000000</td>\n",
              "      <td>8563.000000</td>\n",
              "    </tr>\n",
              "    <tr>\n",
              "      <th>actual</th>\n",
              "      <td>9019.000000</td>\n",
              "      <td>9019.000000</td>\n",
              "      <td>9019.000000</td>\n",
              "      <td>9019.000000</td>\n",
              "    </tr>\n",
              "    <tr>\n",
              "      <th>precision</th>\n",
              "      <td>0.722586</td>\n",
              "      <td>0.708172</td>\n",
              "      <td>0.605943</td>\n",
              "      <td>0.638873</td>\n",
              "    </tr>\n",
              "    <tr>\n",
              "      <th>recall</th>\n",
              "      <td>0.761065</td>\n",
              "      <td>0.745883</td>\n",
              "      <td>0.638211</td>\n",
              "      <td>0.672895</td>\n",
              "    </tr>\n",
              "    <tr>\n",
              "      <th>f1</th>\n",
              "      <td>0.741326</td>\n",
              "      <td>0.726539</td>\n",
              "      <td>0.621659</td>\n",
              "      <td>0.655443</td>\n",
              "    </tr>\n",
              "  </tbody>\n",
              "</table>\n",
              "</div>"
            ],
            "text/plain": [
              "              ent_type      partial       strict        exact\n",
              "correct    6517.000000  5762.000000  5465.000000  5762.000000\n",
              "incorrect   495.000000     0.000000  1547.000000  1250.000000\n",
              "partial       0.000000  1250.000000     0.000000     0.000000\n",
              "missed     1551.000000  1551.000000  1551.000000  1551.000000\n",
              "spurious   2007.000000  2007.000000  2007.000000  2007.000000\n",
              "possible   8563.000000  8563.000000  8563.000000  8563.000000\n",
              "actual     9019.000000  9019.000000  9019.000000  9019.000000\n",
              "precision     0.722586     0.708172     0.605943     0.638873\n",
              "recall        0.761065     0.745883     0.638211     0.672895\n",
              "f1            0.741326     0.726539     0.621659     0.655443"
            ]
          },
          "metadata": {
            "tags": []
          },
          "execution_count": 78
        }
      ]
    },
    {
      "cell_type": "code",
      "metadata": {
        "id": "PovCbumZjJo9"
      },
      "source": [
        "from seqeval.metrics import classification_report"
      ],
      "execution_count": null,
      "outputs": []
    },
    {
      "cell_type": "code",
      "metadata": {
        "id": "TB_k_wzYYPj0",
        "colab": {
          "base_uri": "https://localhost:8080/"
        },
        "outputId": "50e0f7e1-988b-4e83-beb5-882e06f1645e"
      },
      "source": [
        "print('\\033[1m' + \"Classification report for #1 model without LR optimization (exact match): \")\n",
        "print('\\033[0m')\n",
        "print(classification_report(y_true, y_hat, scheme=IOB2, mode=\"strict\"))"
      ],
      "execution_count": null,
      "outputs": [
        {
          "output_type": "stream",
          "text": [
            "\u001b[1mClassification report for #1 model without LR optimization (exact match): \n",
            "\u001b[0m\n",
            "              precision    recall  f1-score   support\n",
            "\n",
            "         DNA       0.69      0.61      0.64      1037\n",
            "         RNA       0.50      0.69      0.58       117\n",
            "   cell_line       0.48      0.50      0.49       495\n",
            "   cell_type       0.69      0.60      0.64      1890\n",
            "     protein       0.64      0.66      0.65      5008\n",
            "\n",
            "   micro avg       0.64      0.64      0.64      8547\n",
            "   macro avg       0.60      0.61      0.60      8547\n",
            "weighted avg       0.64      0.64      0.64      8547\n",
            "\n"
          ],
          "name": "stdout"
        }
      ]
    },
    {
      "cell_type": "code",
      "metadata": {
        "colab": {
          "base_uri": "https://localhost:8080/"
        },
        "id": "fxD4Ptha4jDa",
        "outputId": "e41458d2-d679-4a73-bbe5-25dad44d762d"
      },
      "source": [
        "results_by_tag"
      ],
      "execution_count": null,
      "outputs": [
        {
          "output_type": "execute_result",
          "data": {
            "text/plain": [
              "{'DNA': {'ent_type': {'actual': 1084,\n",
              "   'correct': 755,\n",
              "   'f1': 0.7109227871939736,\n",
              "   'incorrect': 117,\n",
              "   'missed': 168,\n",
              "   'partial': 0,\n",
              "   'possible': 1040,\n",
              "   'precision': 0.6964944649446494,\n",
              "   'recall': 0.7259615384615384,\n",
              "   'spurious': 212},\n",
              "  'exact': {'actual': 1084,\n",
              "   'correct': 716,\n",
              "   'f1': 0.6741996233521658,\n",
              "   'incorrect': 156,\n",
              "   'missed': 168,\n",
              "   'partial': 0,\n",
              "   'possible': 1040,\n",
              "   'precision': 0.6605166051660517,\n",
              "   'recall': 0.6884615384615385,\n",
              "   'spurious': 212},\n",
              "  'partial': {'actual': 1084,\n",
              "   'correct': 716,\n",
              "   'f1': 0.7476459510357816,\n",
              "   'incorrect': 0,\n",
              "   'missed': 168,\n",
              "   'partial': 156,\n",
              "   'possible': 1040,\n",
              "   'precision': 0.7324723247232472,\n",
              "   'recall': 0.7634615384615384,\n",
              "   'spurious': 212},\n",
              "  'strict': {'actual': 1084,\n",
              "   'correct': 639,\n",
              "   'f1': 0.6016949152542372,\n",
              "   'incorrect': 233,\n",
              "   'missed': 168,\n",
              "   'partial': 0,\n",
              "   'possible': 1040,\n",
              "   'precision': 0.5894833948339483,\n",
              "   'recall': 0.614423076923077,\n",
              "   'spurious': 212}},\n",
              " 'RNA': {'ent_type': {'actual': 174,\n",
              "   'correct': 93,\n",
              "   'f1': 0.6391752577319587,\n",
              "   'incorrect': 16,\n",
              "   'missed': 8,\n",
              "   'partial': 0,\n",
              "   'possible': 117,\n",
              "   'precision': 0.5344827586206896,\n",
              "   'recall': 0.7948717948717948,\n",
              "   'spurious': 65},\n",
              "  'exact': {'actual': 174,\n",
              "   'correct': 90,\n",
              "   'f1': 0.6185567010309279,\n",
              "   'incorrect': 19,\n",
              "   'missed': 8,\n",
              "   'partial': 0,\n",
              "   'possible': 117,\n",
              "   'precision': 0.5172413793103449,\n",
              "   'recall': 0.7692307692307693,\n",
              "   'spurious': 65},\n",
              "  'partial': {'actual': 174,\n",
              "   'correct': 90,\n",
              "   'f1': 0.683848797250859,\n",
              "   'incorrect': 0,\n",
              "   'missed': 8,\n",
              "   'partial': 19,\n",
              "   'possible': 117,\n",
              "   'precision': 0.5718390804597702,\n",
              "   'recall': 0.8504273504273504,\n",
              "   'spurious': 65},\n",
              "  'strict': {'actual': 174,\n",
              "   'correct': 81,\n",
              "   'f1': 0.5567010309278351,\n",
              "   'incorrect': 28,\n",
              "   'missed': 8,\n",
              "   'partial': 0,\n",
              "   'possible': 117,\n",
              "   'precision': 0.46551724137931033,\n",
              "   'recall': 0.6923076923076923,\n",
              "   'spurious': 65}},\n",
              " 'cell_line': {'ent_type': {'actual': 513,\n",
              "   'correct': 319,\n",
              "   'f1': 0.6323092170465807,\n",
              "   'incorrect': 64,\n",
              "   'missed': 113,\n",
              "   'partial': 0,\n",
              "   'possible': 496,\n",
              "   'precision': 0.621832358674464,\n",
              "   'recall': 0.6431451612903226,\n",
              "   'spurious': 130},\n",
              "  'exact': {'actual': 513,\n",
              "   'correct': 293,\n",
              "   'f1': 0.5807730426164519,\n",
              "   'incorrect': 90,\n",
              "   'missed': 113,\n",
              "   'partial': 0,\n",
              "   'possible': 496,\n",
              "   'precision': 0.571150097465887,\n",
              "   'recall': 0.5907258064516129,\n",
              "   'spurious': 130},\n",
              "  'partial': {'actual': 513,\n",
              "   'correct': 293,\n",
              "   'f1': 0.6699702675916749,\n",
              "   'incorrect': 0,\n",
              "   'missed': 113,\n",
              "   'partial': 90,\n",
              "   'possible': 496,\n",
              "   'precision': 0.6588693957115009,\n",
              "   'recall': 0.6814516129032258,\n",
              "   'spurious': 130},\n",
              "  'strict': {'actual': 513,\n",
              "   'correct': 252,\n",
              "   'f1': 0.49950445986124875,\n",
              "   'incorrect': 131,\n",
              "   'missed': 113,\n",
              "   'partial': 0,\n",
              "   'possible': 496,\n",
              "   'precision': 0.49122807017543857,\n",
              "   'recall': 0.5080645161290323,\n",
              "   'spurious': 130}},\n",
              " 'cell_type': {'ent_type': {'actual': 1860,\n",
              "   'correct': 1393,\n",
              "   'f1': 0.7415491083311152,\n",
              "   'incorrect': 151,\n",
              "   'missed': 353,\n",
              "   'partial': 0,\n",
              "   'possible': 1897,\n",
              "   'precision': 0.7489247311827957,\n",
              "   'recall': 0.7343173431734318,\n",
              "   'spurious': 316},\n",
              "  'exact': {'actual': 1860,\n",
              "   'correct': 1241,\n",
              "   'f1': 0.6606334841628959,\n",
              "   'incorrect': 303,\n",
              "   'missed': 353,\n",
              "   'partial': 0,\n",
              "   'possible': 1897,\n",
              "   'precision': 0.6672043010752688,\n",
              "   'recall': 0.654190827622562,\n",
              "   'spurious': 316},\n",
              "  'partial': {'actual': 1860,\n",
              "   'correct': 1241,\n",
              "   'f1': 0.7412829385147723,\n",
              "   'incorrect': 0,\n",
              "   'missed': 353,\n",
              "   'partial': 303,\n",
              "   'possible': 1897,\n",
              "   'precision': 0.7486559139784946,\n",
              "   'recall': 0.7340537691091197,\n",
              "   'spurious': 316},\n",
              "  'strict': {'actual': 1860,\n",
              "   'correct': 1150,\n",
              "   'f1': 0.6121905775885015,\n",
              "   'incorrect': 394,\n",
              "   'missed': 353,\n",
              "   'partial': 0,\n",
              "   'possible': 1897,\n",
              "   'precision': 0.6182795698924731,\n",
              "   'recall': 0.6062203479177649,\n",
              "   'spurious': 316}},\n",
              " 'protein': {'ent_type': {'actual': 5388,\n",
              "   'correct': 3957,\n",
              "   'f1': 0.7608883761176811,\n",
              "   'incorrect': 147,\n",
              "   'missed': 909,\n",
              "   'partial': 0,\n",
              "   'possible': 5013,\n",
              "   'precision': 0.7344097995545658,\n",
              "   'recall': 0.7893476959904249,\n",
              "   'spurious': 1284},\n",
              "  'exact': {'actual': 5388,\n",
              "   'correct': 3422,\n",
              "   'f1': 0.6580136525334103,\n",
              "   'incorrect': 682,\n",
              "   'missed': 909,\n",
              "   'partial': 0,\n",
              "   'possible': 5013,\n",
              "   'precision': 0.6351150705270973,\n",
              "   'recall': 0.6826251745461799,\n",
              "   'spurious': 1284},\n",
              "  'partial': {'actual': 5388,\n",
              "   'correct': 3422,\n",
              "   'f1': 0.7235842707431979,\n",
              "   'incorrect': 0,\n",
              "   'missed': 909,\n",
              "   'partial': 682,\n",
              "   'possible': 5013,\n",
              "   'precision': 0.6984038604305864,\n",
              "   'recall': 0.7506483143826053,\n",
              "   'spurious': 1284},\n",
              "  'strict': {'actual': 5388,\n",
              "   'correct': 3343,\n",
              "   'f1': 0.6428228054994712,\n",
              "   'incorrect': 761,\n",
              "   'missed': 909,\n",
              "   'partial': 0,\n",
              "   'possible': 5013,\n",
              "   'precision': 0.620452858203415,\n",
              "   'recall': 0.6668661480151605,\n",
              "   'spurious': 1284}}}"
            ]
          },
          "metadata": {
            "tags": []
          },
          "execution_count": 114
        }
      ]
    },
    {
      "cell_type": "code",
      "metadata": {
        "id": "o6lwqG4KDWa_",
        "colab": {
          "base_uri": "https://localhost:8080/"
        },
        "outputId": "60af0642-31bc-47f8-e710-307433d56b46"
      },
      "source": [
        "print(\"F1-score: {:0.3}\".format(f1_score(y_true, y_hat, average = \"micro\",  scheme=IOB2, mode=\"strict\")))"
      ],
      "execution_count": null,
      "outputs": [
        {
          "output_type": "stream",
          "text": [
            "F1-score: 0.638\n"
          ],
          "name": "stdout"
        }
      ]
    },
    {
      "cell_type": "markdown",
      "metadata": {
        "id": "5u8wBXqAYoMm"
      },
      "source": [
        "# COMPARE RESULTS"
      ]
    },
    {
      "cell_type": "code",
      "metadata": {
        "id": "UzUcqmB0-g8J"
      },
      "source": [
        "i = 18"
      ],
      "execution_count": null,
      "outputs": []
    },
    {
      "cell_type": "code",
      "metadata": {
        "id": "EoKU2uCODdEB"
      },
      "source": [
        "# From tensor to array\n",
        "X_test1 = tf.make_tensor_proto(X_test)\n",
        "X_test1 = tf.make_ndarray(X_test1)"
      ],
      "execution_count": null,
      "outputs": []
    },
    {
      "cell_type": "code",
      "metadata": {
        "id": "K6XvvQGd1pmL",
        "colab": {
          "base_uri": "https://localhost:8080/"
        },
        "outputId": "9b81a9f5-9955-4858-cb22-42e4ebaf8186"
      },
      "source": [
        "# Compare results\n",
        "print(\"{:15} {:5}: ({})\".format(\"Word\", \"Pred\", \"True\"))\n",
        "print(\"=\"*45)\n",
        "for w, true, pred in zip(X_test1[i], y_true[i], y_hat[i]):\n",
        "  print(\"{:15}:{:15} ({})\".format(idx2word[w], pred, true))"
      ],
      "execution_count": null,
      "outputs": [
        {
          "output_type": "stream",
          "text": [
            "Word            Pred : (True)\n",
            "=============================================\n",
            "However        :O               (O)\n",
            ",              :O               (O)\n",
            "there          :O               (O)\n",
            "was            :O               (O)\n",
            "a              :O               (O)\n",
            "significantly  :O               (O)\n",
            "positive       :O               (O)\n",
            "association    :O               (O)\n",
            "between        :O               (O)\n",
            "tumor          :O               (B-protein)\n",
            "beta           :O               (I-protein)\n",
            "[UNK]          :O               (I-protein)\n",
            "expression     :O               (O)\n",
            "and            :O               (O)\n",
            "the            :O               (O)\n",
            "degree         :O               (O)\n",
            "of             :O               (O)\n",
            "lymphocytic    :O               (O)\n",
            "infiltration   :O               (O)\n",
            "in             :O               (O)\n",
            "the            :O               (O)\n",
            "tumor          :O               (O)\n",
            "tissue         :O               (O)\n",
            ".              :O               (O)\n"
          ],
          "name": "stdout"
        }
      ]
    }
  ]
}