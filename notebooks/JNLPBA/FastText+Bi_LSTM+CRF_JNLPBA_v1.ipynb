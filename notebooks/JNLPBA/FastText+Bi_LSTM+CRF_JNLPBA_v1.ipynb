{
  "nbformat": 4,
  "nbformat_minor": 0,
  "metadata": {
    "colab": {
      "name": "FastText+Bi-LSTM+CRF JNLPBA v1.ipynb",
      "provenance": [],
      "collapsed_sections": [],
      "toc_visible": true
    },
    "kernelspec": {
      "display_name": "Python 3",
      "name": "python3"
    }
  },
  "cells": [
    {
      "cell_type": "code",
      "metadata": {
        "colab": {
          "base_uri": "https://localhost:8080/"
        },
        "id": "9y5ZEboAmBt0",
        "outputId": "8114fef3-0a23-4d55-95f6-20cb2392aa27"
      },
      "source": [
        "from google.colab import drive\n",
        "drive.mount(\"/content/drive\")"
      ],
      "execution_count": null,
      "outputs": [
        {
          "output_type": "stream",
          "text": [
            "Mounted at /content/drive\n"
          ],
          "name": "stdout"
        }
      ]
    },
    {
      "cell_type": "code",
      "metadata": {
        "id": "mJcWWSTLEvYT",
        "colab": {
          "base_uri": "https://localhost:8080/"
        },
        "outputId": "93ed859b-bfac-4d38-ba7b-4b470997ef40"
      },
      "source": [
        "# The token can be used to access the repository\n",
        "!git clone https://github.com/cariello1/BIO-NER-.git"
      ],
      "execution_count": null,
      "outputs": [
        {
          "output_type": "stream",
          "text": [
            "Cloning into 'BIO-NER-'...\n",
            "remote: Enumerating objects: 20, done.\u001b[K\n",
            "remote: Counting objects: 100% (20/20), done.\u001b[K\n",
            "remote: Compressing objects: 100% (20/20), done.\u001b[K\n",
            "remote: Total 385 (delta 8), reused 0 (delta 0), pack-reused 365\u001b[K\n",
            "Receiving objects: 100% (385/385), 10.69 MiB | 20.78 MiB/s, done.\n",
            "Resolving deltas: 100% (194/194), done.\n"
          ],
          "name": "stdout"
        }
      ]
    },
    {
      "cell_type": "code",
      "metadata": {
        "colab": {
          "base_uri": "https://localhost:8080/"
        },
        "id": "ADTC_021I8oR",
        "outputId": "b5194572-e102-4cd3-864d-1ccb5ebfc97d"
      },
      "source": [
        "%cd /content/BIO-NER-"
      ],
      "execution_count": null,
      "outputs": [
        {
          "output_type": "stream",
          "text": [
            "/content/BIO-NER-\n"
          ],
          "name": "stdout"
        }
      ]
    },
    {
      "cell_type": "code",
      "metadata": {
        "id": "w90OHdYFVeK0"
      },
      "source": [
        "%%capture\n",
        "!pip install tensorflow==2.3"
      ],
      "execution_count": null,
      "outputs": []
    },
    {
      "cell_type": "code",
      "metadata": {
        "id": "G62wt4yWSGth"
      },
      "source": [
        "%%capture\n",
        "import tensorflow as tf"
      ],
      "execution_count": null,
      "outputs": []
    },
    {
      "cell_type": "code",
      "metadata": {
        "colab": {
          "base_uri": "https://localhost:8080/",
          "height": 35
        },
        "id": "wgdGNBZlkZqA",
        "outputId": "b8818ee3-cea3-4c42-f3e8-a47dc28ce12c"
      },
      "source": [
        "tf.__version__"
      ],
      "execution_count": null,
      "outputs": [
        {
          "output_type": "execute_result",
          "data": {
            "application/vnd.google.colaboratory.intrinsic+json": {
              "type": "string"
            },
            "text/plain": [
              "'2.3.0'"
            ]
          },
          "metadata": {
            "tags": []
          },
          "execution_count": 6
        }
      ]
    },
    {
      "cell_type": "code",
      "metadata": {
        "id": "EXjbqHZ_pXJF"
      },
      "source": [
        "%%capture\n",
        "# CRF layer for tensorflow 2 supportig keras masking\n",
        "!pip install tf2crf"
      ],
      "execution_count": null,
      "outputs": []
    },
    {
      "cell_type": "code",
      "metadata": {
        "id": "Poz28KLzz43h"
      },
      "source": [
        "from preprocessing_1 import PreprocessingDocsNN\n",
        "from preprocessing_1 import read_data"
      ],
      "execution_count": null,
      "outputs": []
    },
    {
      "cell_type": "markdown",
      "metadata": {
        "id": "bec-uDBVmKfv"
      },
      "source": [
        "# PREPROCESSING"
      ]
    },
    {
      "cell_type": "code",
      "metadata": {
        "id": "RU7s0Jt5mUe9"
      },
      "source": [
        "import numpy as np\n",
        "import seaborn as sns\n",
        "sns.set_style(\"whitegrid\")\n",
        "from matplotlib import pyplot as plt\n",
        "from tqdm import tqdm\n",
        "import random as rn"
      ],
      "execution_count": null,
      "outputs": []
    },
    {
      "cell_type": "code",
      "metadata": {
        "id": "v8mEjQ4GCD8R"
      },
      "source": [
        "# For reproducibility\n",
        "seed = 937\n",
        "np.random.seed(seed)\n",
        "tf.compat.v1.set_random_seed(seed)"
      ],
      "execution_count": null,
      "outputs": []
    },
    {
      "cell_type": "code",
      "metadata": {
        "id": "LamlsNkDmXgu"
      },
      "source": [
        "# Original data in IOB format\n",
        "file1 = \"/content/drive/MyDrive/Data_Bio-NER/JNLPBA/original-data/train/Genia4ERtask1.iob2\"\n",
        "file2 = \"/content/drive/MyDrive/Data_Bio-NER/JNLPBA/original-data/test/Genia4EReval1.iob2\""
      ],
      "execution_count": null,
      "outputs": []
    },
    {
      "cell_type": "code",
      "metadata": {
        "id": "SsFajR5BmbV6",
        "colab": {
          "base_uri": "https://localhost:8080/"
        },
        "outputId": "8a6dbd9d-e4f4-4066-e268-dd61bf78fe28"
      },
      "source": [
        "input_train = read_data(file1)\n",
        "input_test = read_data(file2)"
      ],
      "execution_count": null,
      "outputs": [
        {
          "output_type": "stream",
          "text": [
            "Total number of sentences: 18546 \n",
            "Total number of sentences: 3856 \n"
          ],
          "name": "stdout"
        }
      ]
    },
    {
      "cell_type": "code",
      "metadata": {
        "id": "vGYtXWLMmwQL"
      },
      "source": [
        "docs_train = PreprocessingDocsNN(input_train)\n",
        "docs_test = PreprocessingDocsNN(input_test)"
      ],
      "execution_count": null,
      "outputs": []
    },
    {
      "cell_type": "code",
      "metadata": {
        "id": "CJ4objI4mo3v",
        "colab": {
          "base_uri": "https://localhost:8080/"
        },
        "outputId": "91e231c0-f321-4d85-8de4-fbfb7d9b8c11"
      },
      "source": [
        "# First sentence of train dataset with both words and labels\n",
        "print('This is what a sentence looks like:{}'.format(input_train[0]))"
      ],
      "execution_count": null,
      "outputs": [
        {
          "output_type": "stream",
          "text": [
            "This is what a sentence looks like:[('IL-2', 'B-DNA'), ('gene', 'I-DNA'), ('expression', 'O'), ('and', 'O'), ('NF-kappa', 'B-protein'), ('B', 'I-protein'), ('activation', 'O'), ('through', 'O'), ('CD28', 'B-protein'), ('requires', 'O'), ('reactive', 'O'), ('oxygen', 'O'), ('production', 'O'), ('by', 'O'), ('5-lipoxygenase', 'B-protein'), ('.', 'O')]\n"
          ],
          "name": "stdout"
        }
      ]
    },
    {
      "cell_type": "code",
      "metadata": {
        "id": "MP-tJG-5o3eb",
        "colab": {
          "base_uri": "https://localhost:8080/"
        },
        "outputId": "04e7e7d8-540f-491c-8053-bcf8d6ce0640"
      },
      "source": [
        "print(\"\\033[1m\"+\"Statistics for the train set:\"+'\\033[0m')\n",
        "print(\"Number of sentences: {}\".format(len(docs_train.sentences)))\n",
        "print(\"Number of tokens: {}\".format(len(docs_train.tokens)))\n",
        "print(\"Size of vocabulary: {}\".format(len(docs_train.vocabulary)))\n",
        "print('Tagset:', ' '.join(docs_train.tagset))\n",
        "print(\"Number of Tags {}\".format(len(docs_train.tagset)))"
      ],
      "execution_count": null,
      "outputs": [
        {
          "output_type": "stream",
          "text": [
            "\u001b[1mStatistics for the train set:\u001b[0m\n",
            "Number of sentences: 18546\n",
            "Number of tokens: 492551\n",
            "Size of vocabulary: 22056\n",
            "Tagset: B-RNA B-cell_line I-RNA I-protein I-DNA I-cell_type B-cell_type O I-cell_line B-DNA B-protein\n",
            "Number of Tags 11\n"
          ],
          "name": "stdout"
        }
      ]
    },
    {
      "cell_type": "markdown",
      "metadata": {
        "id": "gceSg2ZovKo9"
      },
      "source": [
        "# DATA VISUALIZATION"
      ]
    },
    {
      "cell_type": "code",
      "metadata": {
        "id": "-EIJbHjyvfJN"
      },
      "source": [
        "sentences_len = np.array([len(s) for s in docs_train.sentences]) #list with len for each sents"
      ],
      "execution_count": null,
      "outputs": []
    },
    {
      "cell_type": "code",
      "metadata": {
        "id": "5ZUm_XmDwBNX"
      },
      "source": [
        "#max_seq_len = np.round(sentences_len.mean()+sentences_len.std()).astype(int) #timesteps"
      ],
      "execution_count": null,
      "outputs": []
    },
    {
      "cell_type": "code",
      "metadata": {
        "id": "yIVWLLGNKMM8"
      },
      "source": [
        "sen_mean = np.round(sentences_len.mean()).astype(int) "
      ],
      "execution_count": null,
      "outputs": []
    },
    {
      "cell_type": "code",
      "metadata": {
        "id": "D3olNSIUKX55"
      },
      "source": [
        "max_seq_len = 50 #timesteps"
      ],
      "execution_count": null,
      "outputs": []
    },
    {
      "cell_type": "code",
      "metadata": {
        "id": "jEjrX0jsvMmD",
        "colab": {
          "base_uri": "https://localhost:8080/"
        },
        "outputId": "128def52-7a4a-4f9e-f92d-692d3dc75b63"
      },
      "source": [
        "sns.distplot(sentences_len, hist=True, kde=True, color=\"b\", label=\"sentences length\")\n",
        "plt.axvline(x=max_seq_len, color=\"k\", linestyle=\"--\", label=\"max len\")\n",
        "plt.title(\"Token per sentence\")\n",
        "plt.legend()\n",
        "plt.show()"
      ],
      "execution_count": null,
      "outputs": [
        {
          "output_type": "stream",
          "text": [
            "/usr/local/lib/python3.7/dist-packages/seaborn/distributions.py:2557: FutureWarning: `distplot` is a deprecated function and will be removed in a future version. Please adapt your code to use either `displot` (a figure-level function with similar flexibility) or `histplot` (an axes-level function for histograms).\n",
            "  warnings.warn(msg, FutureWarning)\n"
          ],
          "name": "stderr"
        },
        {
          "output_type": "display_data",
          "data": {
            "image/png": "[encoded data removed]",
            "text/plain": [
              "<Figure size 432x288 with 1 Axes>"
            ]
          },
          "metadata": {
            "tags": []
          }
        }
      ]
    },
    {
      "cell_type": "code",
      "metadata": {
        "colab": {
          "base_uri": "https://localhost:8080/"
        },
        "id": "1bGgCTSzKCUU",
        "outputId": "7abbf42a-4c99-4868-ebd5-e8dd52e744fd"
      },
      "source": [
        "sent_less_than_msl = [s for s in docs_train.sentences if len(s) <= 50]\n",
        "perc_sent = round(len(sent_less_than_msl) / len(docs_train.sentences) * 100)\n",
        "print(\"The\", perc_sent,\"%\", \"of sentences has less or equal than 50 tokens.\")"
      ],
      "execution_count": null,
      "outputs": [
        {
          "output_type": "stream",
          "text": [
            "The 96 % of sentences has less or equal than 50 tokens.\n"
          ],
          "name": "stdout"
        }
      ]
    },
    {
      "cell_type": "markdown",
      "metadata": {
        "id": "JUhlxP1Nlgv6"
      },
      "source": [
        "# FASTTEXT PRE-TRAINED WORD VECTORS"
      ]
    },
    {
      "cell_type": "code",
      "metadata": {
        "id": "6hGIn54klmVh"
      },
      "source": [
        "# Pre-trained word vectors trained using fastText library\n",
        "\n",
        "import requests, zipfile, io\n",
        "zip_url = \"https://dl.fbaipublicfiles.com/fasttext/vectors-english/crawl-300d-2M.vec.zip\"\n",
        "r = requests.get(zip_url)\n",
        "z = zipfile.ZipFile(io.BytesIO(r.content))\n",
        "z.extractall()"
      ],
      "execution_count": null,
      "outputs": []
    },
    {
      "cell_type": "code",
      "metadata": {
        "colab": {
          "base_uri": "https://localhost:8080/"
        },
        "id": "61PK9ytjltch",
        "outputId": "37454cb3-6bbf-4104-b4cc-36d9f06581f9"
      },
      "source": [
        "import codecs\n",
        "print(\"Loading word embeddings...\")\n",
        "\n",
        "embedding_index = {}       \n",
        "f = codecs.open(\"crawl-300d-2M.vec\", encoding = \"utf-8\")\n",
        "\n",
        "for line in tqdm(f):\n",
        "  values = line.rstrip().rsplit(\" \")\n",
        "  word = values[0]\n",
        "  coefs = np.asarray(values[1:], dtype =\"float32\")\n",
        "  embedding_index[word]=coefs\n",
        "\n",
        "f.close()  #vettori 300d per word\n",
        "\n",
        "print(\"found %s word vectors\" % len(embedding_index))"
      ],
      "execution_count": null,
      "outputs": [
        {
          "output_type": "stream",
          "text": [
            "1079it [00:00, 10781.50it/s]"
          ],
          "name": "stderr"
        },
        {
          "output_type": "stream",
          "text": [
            "Loading word embeddings...\n"
          ],
          "name": "stdout"
        },
        {
          "output_type": "stream",
          "text": [
            "1999996it [03:34, 9339.78it/s]"
          ],
          "name": "stderr"
        },
        {
          "output_type": "stream",
          "text": [
            "found 1999996 word vectors\n"
          ],
          "name": "stdout"
        },
        {
          "output_type": "stream",
          "text": [
            "\n"
          ],
          "name": "stderr"
        }
      ]
    },
    {
      "cell_type": "code",
      "metadata": {
        "colab": {
          "base_uri": "https://localhost:8080/"
        },
        "id": "3UjyLDY-m_Gd",
        "outputId": "9a3a20f7-6fa0-4367-e6f3-024bc1ee1071"
      },
      "source": [
        "len(embedding_index.get(\"cell\")) #300 d-array"
      ],
      "execution_count": null,
      "outputs": [
        {
          "output_type": "execute_result",
          "data": {
            "text/plain": [
              "300"
            ]
          },
          "metadata": {
            "tags": []
          },
          "execution_count": 24
        }
      ]
    },
    {
      "cell_type": "markdown",
      "metadata": {
        "id": "7WynhFoUwfqr"
      },
      "source": [
        "# PREPROCESSING FOR TRAINING\n",
        "\n",
        "Before feeding the data to the model we need to further preprocess the text. In order to feed the data to the Bi-LSTM model, we need to ensure that all text should be of the same length. The method sequence **pad_sequences()** and variable *max_seq_len* are used for this purpose. The text which are shorter than fixed *max_seq_len* value are padded to get them to the same length, whereas text which are longer than *max_seq_len* are truncated. Then, we use the **TextVectorization** layer from tf as text encoder. This allows to transforms a sequences of strings into a list of token indices. Every token in a sequence is mapped to a corresponding integer ID. This saves a lot of memory. "
      ]
    },
    {
      "cell_type": "code",
      "metadata": {
        "id": "9VtOP3YPwkAF"
      },
      "source": [
        "# Padding sentences to the max_seq_len\n",
        "from keras.preprocessing.sequence import pad_sequences\n",
        "\n",
        "X_train_padded = pad_sequences(maxlen=max_seq_len, sequences=docs_train.sentences, padding=\"post\", value=\"\", dtype=object, truncating = \"post\")\n",
        "X_test_padded =  pad_sequences(maxlen=max_seq_len, sequences=docs_test.sentences, padding=\"post\", value=\"\", dtype=object, truncating = \"post\")"
      ],
      "execution_count": null,
      "outputs": []
    },
    {
      "cell_type": "code",
      "metadata": {
        "colab": {
          "base_uri": "https://localhost:8080/"
        },
        "id": "yxqz3qVDQboB",
        "outputId": "dab8e5f2-3e34-474d-e4a4-17d2552d7abe"
      },
      "source": [
        "X_test_padded[812]"
      ],
      "execution_count": null,
      "outputs": [
        {
          "output_type": "execute_result",
          "data": {
            "text/plain": [
              "array(['Finally', ',', 'DR3/', 'Wsl-1', 'protein', 'expression', 'is',\n",
              "       'quite', 'variable', 'among', 'these', 'NB', 'cell', 'lines', ',',\n",
              "       'with', 'very', 'low', 'or', 'undetectable', 'levels', 'in', '7',\n",
              "       'of', '17', 'NB', 'cell', 'lines', '', '', '', '', '', '', '', '',\n",
              "       '', '', '', '', '', '', '', '', '', '', '', '', '', ''],\n",
              "      dtype=object)"
            ]
          },
          "metadata": {
            "tags": []
          },
          "execution_count": 26
        }
      ]
    },
    {
      "cell_type": "code",
      "metadata": {
        "id": "z0XD7vh8kUe_"
      },
      "source": [
        "# Vocabulary Key:Tag -> Value:ID_tag & Vocabulary Key:ID_tag -> Value:Tag\n",
        "tag2idx, idx2tag = docs_train.from_labels_2_idx()"
      ],
      "execution_count": null,
      "outputs": []
    },
    {
      "cell_type": "code",
      "metadata": {
        "id": "hYX0jofnDn6p"
      },
      "source": [
        "# Padding and encoding the target variable\n",
        "y_train = docs_train.padded_and_encoded_labels(tag2idx, max_seq_len)\n",
        "y_test = docs_test.padded_and_encoded_labels(tag2idx, max_seq_len)"
      ],
      "execution_count": null,
      "outputs": []
    },
    {
      "cell_type": "code",
      "metadata": {
        "id": "OvbMknxTDuSJ"
      },
      "source": [
        "# Decoding one-hot vectors\n",
        "y_train = np.argmax(y_train, axis = -1)\n",
        "y_test = np.argmax(y_test, axis = -1)"
      ],
      "execution_count": null,
      "outputs": []
    },
    {
      "cell_type": "code",
      "metadata": {
        "id": "D-6MdRKeQpLU"
      },
      "source": [
        "# Build the text encoder layer\n",
        "encoder = tf.keras.layers.experimental.preprocessing.TextVectorization(split=None, standardize = None, ngrams=None,\n",
        "    max_tokens=None, output_mode = \"int\")"
      ],
      "execution_count": null,
      "outputs": []
    },
    {
      "cell_type": "code",
      "metadata": {
        "id": "rzWLkDJPQsH2"
      },
      "source": [
        "# Create the vocabulary\n",
        "encoder.adapt(docs_train.tokens)"
      ],
      "execution_count": null,
      "outputs": []
    },
    {
      "cell_type": "code",
      "metadata": {
        "id": "V4DuWPl6QtzA"
      },
      "source": [
        "# Extract the vocabulary\n",
        "voc = np.array(encoder.get_vocabulary())"
      ],
      "execution_count": null,
      "outputs": []
    },
    {
      "cell_type": "code",
      "metadata": {
        "colab": {
          "base_uri": "https://localhost:8080/"
        },
        "id": "EpIm5aOnQvg-",
        "outputId": "91eb0700-6e45-410e-c92c-400100031175"
      },
      "source": [
        "# Explore first 30 more frequent words in the train set, first entry reserved for PAD\n",
        "voc[:30] "
      ],
      "execution_count": null,
      "outputs": [
        {
          "output_type": "execute_result",
          "data": {
            "text/plain": [
              "array(['', '[UNK]', 'of', 'the', '.', ',', 'and', 'in', 'to', ')', '(',\n",
              "       'a', 'cells', 'that', 'by', 'with', 'is', 'expression', 'was',\n",
              "       'cell', 'for', 'B', 'The', 'T', 'gene', 'human', 'activation',\n",
              "       'transcription', 'protein', 'as'], dtype='<U48')"
            ]
          },
          "metadata": {
            "tags": []
          },
          "execution_count": 33
        }
      ]
    },
    {
      "cell_type": "code",
      "metadata": {
        "id": "SJZvMQEoQyCp"
      },
      "source": [
        "# A dict mapping words to their IDs\n",
        "word_index = dict(zip(voc, range(len(voc))))"
      ],
      "execution_count": null,
      "outputs": []
    },
    {
      "cell_type": "code",
      "metadata": {
        "id": "QO8Xem9rQyFf"
      },
      "source": [
        "# A dict mapping IDs to their words\n",
        "idx2word = {i: w for w, i in word_index.items()}"
      ],
      "execution_count": null,
      "outputs": []
    },
    {
      "cell_type": "code",
      "metadata": {
        "id": "qj7vF6p5Q2iY"
      },
      "source": [
        "# Map padded sentences to integer IDs\n",
        "X_train = encoder(np.array(X_train_padded))\n",
        "X_test = encoder(np.array(X_test_padded))"
      ],
      "execution_count": null,
      "outputs": []
    },
    {
      "cell_type": "code",
      "metadata": {
        "colab": {
          "base_uri": "https://localhost:8080/"
        },
        "id": "naHd6pjXQ43G",
        "outputId": "d74507ae-13c4-407d-ed70-be14a4fa6be8"
      },
      "source": [
        "# Decoding in the test set; some words that are OOV are decoded as [UNK]\n",
        "for n in range(3):\n",
        "  print(\"Original: \", docs_test.sentences[n])\n",
        "  print(\"Round-trip: \", \" \".join(voc[X_test[n]]))\n",
        "  print() "
      ],
      "execution_count": null,
      "outputs": [
        {
          "output_type": "stream",
          "text": [
            "Original:  ['Number', 'of', 'glucocorticoid', 'receptors', 'in', 'lymphocytes', 'and', 'their', 'sensitivity', 'to', 'hormone', 'action', '.']\n",
            "Round-trip:  [UNK] of glucocorticoid receptors in lymphocytes and their sensitivity to hormone action .                                     \n",
            "\n",
            "Original:  ['The', 'study', 'demonstrated', 'a', 'decreased', 'level', 'of', 'glucocorticoid', 'receptors', '(', 'GR', ')', 'in', 'peripheral', 'blood', 'lymphocytes', 'from', 'hypercholesterolemic', 'subjects', ',', 'and', 'an', 'elevated', 'level', 'in', 'patients', 'with', 'acute', 'myocardial', 'infarction', '.']\n",
            "Round-trip:  The study demonstrated a decreased level of glucocorticoid receptors ( GR ) in peripheral blood lymphocytes from hypercholesterolemic subjects , and an elevated level in patients with acute myocardial infarction .                   \n",
            "\n",
            "Original:  ['In', 'the', 'lymphocytes', 'with', 'a', 'high', 'GR', 'number', ',', 'dexamethasone', 'inhibited', '[', '3H', ']', '-thymidine', 'and', '[', '3H', ']', '-acetate', 'incorporation', 'into', 'DNA', 'and', 'cholesterol', ',', 'respectively', ',', 'in', 'the', 'same', 'manner', 'as', 'in', 'the', 'control', 'cells', '.']\n",
            "Round-trip:  In the lymphocytes with a high GR number , dexamethasone inhibited [ 3H ] -thymidine and [ 3H ] [UNK] incorporation into DNA and cholesterol , respectively , in the same manner as in the control cells .            \n",
            "\n"
          ],
          "name": "stdout"
        }
      ]
    },
    {
      "cell_type": "code",
      "metadata": {
        "id": "hwMILiGhEXZR",
        "colab": {
          "base_uri": "https://localhost:8080/"
        },
        "outputId": "96b2cc39-4f39-4be8-fc41-da93ce4caa5f"
      },
      "source": [
        "print(\"The word 'cell' is identified by the index: {}\".format(word_index[\"cell\"]))\n",
        "print(\"The labels 'B-DNA'(which defines the first token of a TERM) is identified by the index: {}\".format(tag2idx[\"B-DNA\"]))"
      ],
      "execution_count": null,
      "outputs": [
        {
          "output_type": "stream",
          "text": [
            "The word 'cell' is identified by the index: 19\n",
            "The labels 'B-DNA'(which defines the first token of a TERM) is identified by the index: 10\n"
          ],
          "name": "stdout"
        }
      ]
    },
    {
      "cell_type": "markdown",
      "metadata": {
        "id": "pLBif_BapGun"
      },
      "source": [
        "# EMBEDDING MATRIX"
      ]
    },
    {
      "cell_type": "markdown",
      "metadata": {
        "id": "iHWew2GUpJPi"
      },
      "source": [
        "Building the embedding matrix for the weights in the Embedding Layer. All words that aren't in the pre-trained model from fastTest would be changed to 0. "
      ]
    },
    {
      "cell_type": "code",
      "metadata": {
        "id": "rPkD4sk4p6W6"
      },
      "source": [
        "# Vocabulary size\n",
        "voc_size = len(word_index)"
      ],
      "execution_count": null,
      "outputs": []
    },
    {
      "cell_type": "code",
      "metadata": {
        "colab": {
          "base_uri": "https://localhost:8080/"
        },
        "id": "NIT6Om1hpTgS",
        "outputId": "fc1732b0-f3c2-4962-a816-112658211fb2"
      },
      "source": [
        "# Embedding matrix\n",
        "\n",
        "print(\"preparing embedding matrix...\")\n",
        "\n",
        "words_not_found = []\n",
        "nb_words = voc_size\n",
        "embed_dim = 300\n",
        "embedding_matrix = np.zeros((nb_words, embed_dim))\n",
        "\n",
        "\n",
        "for word, i in word_index.items():\n",
        "  if i >= nb_words:\n",
        "    continue\n",
        "  embedding_vector = embedding_index.get(word)\n",
        "  if (embedding_vector is not None) and len(embedding_vector) >0:\n",
        "    #words not found in the embedding index will be all zeros\n",
        "    embedding_matrix[i]=embedding_vector\n",
        "  else:\n",
        "    words_not_found.append(word)\n",
        "\n",
        "print(\"number of null word embeddings: %d\" % np.sum(np.sum(embedding_matrix, axis=1)==0))\n",
        "print(\"number of NON NULL word embeddings: %d\" % np.sum(np.sum(embedding_matrix, axis=1)!=0))"
      ],
      "execution_count": null,
      "outputs": [
        {
          "output_type": "stream",
          "text": [
            "preparing embedding matrix...\n",
            "number of null word embeddings: 6774\n",
            "number of NON NULL word embeddings: 15284\n"
          ],
          "name": "stdout"
        }
      ]
    },
    {
      "cell_type": "code",
      "metadata": {
        "colab": {
          "base_uri": "https://localhost:8080/"
        },
        "id": "iSZY5ZGxsi9D",
        "outputId": "4abaeb1b-d495-409b-8b63-bbd0c5f519af"
      },
      "source": [
        "print(\"sample words not found: {}\".format(np.random.choice(words_not_found, 30)))"
      ],
      "execution_count": null,
      "outputs": [
        {
          "output_type": "stream",
          "text": [
            "sample words not found: ['BCL2+' 'erythrocyte-binding' '606-611' 'Dithiocarbamates' '-90/-82'\n",
            " 'perforin-expressing' 'cyclotetrapeptide' 'Ah-receptor' 'pseudo-tumor'\n",
            " '-49/-41' 'alphaIIbbeta3' 'H/C' 'OPGL' 'E2Fs'\n",
            " '1-beta-D-arabino-furanosylcytosine' '17beta-' 'tax/rex' 'E1A-positive'\n",
            " 'Glucocorticosteroid' '1321-1326' 'OTF-1' 'p26rex/p24rex' '.01-.02'\n",
            " '10000-fold' 'XSCID' 'p16-negative' 'recombination-activating' 'q14'\n",
            " 'conditions-concentration' 'T3-subjects']\n"
          ],
          "name": "stdout"
        }
      ]
    },
    {
      "cell_type": "markdown",
      "metadata": {
        "id": "LXcySxIPKAqU"
      },
      "source": [
        "# IMPLEMENTING MODEL ARCHITECTURE\n",
        "\n",
        "![BILSTMCRF.png](data:image/png;base64,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)\n"
      ]
    },
    {
      "cell_type": "markdown",
      "metadata": {
        "id": "37Q9bVojOrU_"
      },
      "source": [
        "Model Architecture "
      ]
    },
    {
      "cell_type": "code",
      "metadata": {
        "id": "jvr-fs8TQUmC"
      },
      "source": [
        "# Hyperparams initialization\n",
        "BATCH_SIZE = 32\n",
        "EPOCHS = 10\n",
        "EMBEDDING = 300"
      ],
      "execution_count": null,
      "outputs": []
    },
    {
      "cell_type": "code",
      "metadata": {
        "id": "sH-3sz7XwwBf"
      },
      "source": [
        "# Separate about 10% of the sentences to get the validation set\n",
        "X_train, X_val = X_train[:521 * BATCH_SIZE], X_train[-57 * BATCH_SIZE:]\n",
        "y_train, y_val = y_train[:521 * BATCH_SIZE], y_train[-57 * BATCH_SIZE:]"
      ],
      "execution_count": null,
      "outputs": []
    },
    {
      "cell_type": "code",
      "metadata": {
        "id": "PNm1E3-ZKvPW"
      },
      "source": [
        "from keras.optimizers import SGD, Adam, RMSprop\n",
        "from keras.models import Model, Input\n",
        "from keras.layers import LSTM, Embedding, Dense, TimeDistributed, Dropout, Bidirectional, Input\n",
        "from tf2crf import CRF, ModelWithCRFLoss\n",
        "#from keras.layers import Masking"
      ],
      "execution_count": null,
      "outputs": []
    },
    {
      "cell_type": "code",
      "metadata": {
        "id": "3LrAQsfkDd1O"
      },
      "source": [
        "# Model definition\n",
        "#def build_model(max_seq_len, opt=None):\n",
        "input = Input(shape=(max_seq_len,), dtype=\"int32\") #timesteps\n",
        "  #mask = Masking(mask_value=0)(input)\n",
        "model = Embedding(input_dim=len(word_index), output_dim=EMBEDDING, weights=[embedding_matrix],\n",
        "                    input_length=max_seq_len, mask_zero = True)(input) \n",
        "model = Bidirectional(LSTM(units=256, return_sequences=True,\n",
        "                    recurrent_dropout=0.2))(model)\n",
        "model = Bidirectional(LSTM(units=125, return_sequences=True,\n",
        "                    recurrent_dropout=0.2))(model)\n",
        "#dp = Dropout(0.4) (model) \n",
        "out = (Dense(len(tag2idx), activation=None))(model)\n",
        "crf = CRF(dtype='float32') # CRF layer\n",
        "output = crf(out)\n",
        "base_model = Model(input, output)\n",
        "model = ModelWithCRFLoss(base_model)\n",
        "\n",
        "model.compile(RMSprop())"
      ],
      "execution_count": null,
      "outputs": []
    },
    {
      "cell_type": "code",
      "metadata": {
        "id": "Q3cUZk20WiRl",
        "colab": {
          "base_uri": "https://localhost:8080/",
          "height": 139
        },
        "outputId": "82d108c1-3a87-4c90-f2e1-f1d4f1ae4ea1"
      },
      "source": [
        "\"\"\"#try different optimizers\n",
        "\n",
        "for OPTIMAZER in [SGD(), Adam(), RMSprop()]:\n",
        "  print()\n",
        "  model.compile(optimizer=OPTIMAZER, loss= crf_losses.crf_loss, metrics=[crf_accuracies.crf_viterbi_accuracy])\n",
        "  model.fit(X_train, np.array(y_train), epochs=5, batch_size=32, verbose=1, validation_data=(X_val, np.array(y_val)))\n",
        "  score = model.evaluate(X_test, np.array(y_test))\n",
        "  print()\n",
        "  print(\"OPTIMEZER: \", OPTIMAZER)\n",
        "  print(\"\\nTest score \", score[0])\n",
        "  print(\"Test accuracy: \", score[1])\"\"\""
      ],
      "execution_count": null,
      "outputs": [
        {
          "output_type": "execute_result",
          "data": {
            "application/vnd.google.colaboratory.intrinsic+json": {
              "type": "string"
            },
            "text/plain": [
              "'#try different optimizers\\n\\nfor OPTIMAZER in [SGD(), Adam(), RMSprop()]:\\n  print()\\n  model.compile(optimizer=OPTIMAZER, loss= crf_losses.crf_loss, metrics=[crf_accuracies.crf_viterbi_accuracy])\\n  model.fit(X_train, np.array(y_train), epochs=5, batch_size=32, verbose=1, validation_data=(X_val, np.array(y_val)))\\n  score = model.evaluate(X_test, np.array(y_test))\\n  print()\\n  print(\"OPTIMEZER: \", OPTIMAZER)\\n  print(\"\\nTest score \", score[0])\\n  print(\"Test accuracy: \", score[1])'"
            ]
          },
          "metadata": {
            "tags": []
          },
          "execution_count": 46
        }
      ]
    },
    {
      "cell_type": "markdown",
      "metadata": {
        "id": "gLLTPsfphHVe"
      },
      "source": [
        "# TRAINING"
      ]
    },
    {
      "cell_type": "code",
      "metadata": {
        "id": "bbc8eMVMKquc"
      },
      "source": [
        "dir_output = \"/content/drive/MyDrive/BIO-NER-project/ft-bi-lstm-crf.h5\""
      ],
      "execution_count": null,
      "outputs": []
    },
    {
      "cell_type": "code",
      "metadata": {
        "id": "PtzqQCHO5g8O"
      },
      "source": [
        "# Early stopping stops the training process when val_loss is not improving\n",
        "# ModelCkpt save only the best model (model with lowest val_loss)\n",
        "from tensorflow.keras.callbacks import EarlyStopping, ModelCheckpoint\n",
        "early_stopping = EarlyStopping(monitor=\"val_crf_loss_val\", patience=2, restore_best_weights=True, verbose=1)\n",
        "#model_save = ModelCheckpoint(dir_output, save_best_only=True, monitor='val_loss', mode='min', verbose=1)"
      ],
      "execution_count": null,
      "outputs": []
    },
    {
      "cell_type": "code",
      "metadata": {
        "id": "oH3A5s5MUmNi"
      },
      "source": [
        "def ignoring_padding(y_pred,y_test):\n",
        "  \"\"\"This function allows to compare predicted labels with true labels discarding padding\"\"\"\n",
        "  real_pred = []\n",
        "  y_test_nozeroes = [[l for l in s if l != 0] for s in y_test] # Delete padding label in the original sentences\n",
        "  for s, s1 in zip(y_pred, y_test_nozeroes):\n",
        "    s = s.tolist() \n",
        "    real_s =  s[:len(s1)] # Delete padding from the predicted sentences\n",
        "    real_pred.append(real_s)\n",
        "  pred_tag = [[idx2tag[i] for i in row] for row in real_pred]\n",
        "  y_test_tag = [[idx2tag[i] for i in row] for row in y_test_nozeroes]\n",
        "  return pred_tag, y_test_tag"
      ],
      "execution_count": null,
      "outputs": []
    },
    {
      "cell_type": "code",
      "metadata": {
        "id": "ZP8PB_79UFem"
      },
      "source": [
        "%%capture\n",
        "!pip3 install seqeval"
      ],
      "execution_count": null,
      "outputs": []
    },
    {
      "cell_type": "code",
      "metadata": {
        "id": "N6uAqw77UtmQ"
      },
      "source": [
        "from keras.callbacks import Callback\n",
        "from seqeval.metrics import f1_score\n",
        "\n",
        "class Metrics(Callback):\n",
        "    \"\"\"Custom F1 metric to look after the performance on the validation set during the training\"\"\"\n",
        "    def __init__(self, validation):   \n",
        "        super(Metrics, self).__init__()\n",
        "        self.validation = validation    \n",
        "            \n",
        "        print('validation shape', len(self.validation[0]))\n",
        "        \n",
        "    def on_train_begin(self, logs={}):        \n",
        "        self.val_f1s = []\n",
        "     \n",
        "    def on_epoch_end(self, epoch, logs={}):\n",
        "        val_targ = self.validation[1]   \n",
        "        val_predict = self.model.predict(self.validation[0])[0]\n",
        "        y_true, y_hat = ignoring_padding(val_predict, val_targ)\n",
        "        val_f1 = f1_score(y_true, y_hat)\n",
        "        \n",
        "        \n",
        "        self.val_f1s.append(round(val_f1, 6))\n",
        "        \n",
        " \n",
        "        print(f' — val_f1: {val_f1} ')"
      ],
      "execution_count": null,
      "outputs": []
    },
    {
      "cell_type": "code",
      "metadata": {
        "id": "qHuijrdBUxvL",
        "colab": {
          "base_uri": "https://localhost:8080/"
        },
        "outputId": "b059fc87-97e5-4fc5-9b2e-27ff7129b849"
      },
      "source": [
        "# Customised callbacks\n",
        "mycallbacks = [Metrics(validation=(X_val, y_val)), early_stopping]"
      ],
      "execution_count": null,
      "outputs": [
        {
          "output_type": "stream",
          "text": [
            "validation shape 1824\n"
          ],
          "name": "stdout"
        }
      ]
    },
    {
      "cell_type": "code",
      "metadata": {
        "id": "h-3UQ2yW1nQ5"
      },
      "source": [
        "#model = build_model(max_seq_len, RMSprop())"
      ],
      "execution_count": null,
      "outputs": []
    },
    {
      "cell_type": "code",
      "metadata": {
        "id": "WDn13YXmgrip",
        "colab": {
          "base_uri": "https://localhost:8080/"
        },
        "outputId": "ee25c656-4daa-46fd-f6ce-dd0dcd65521c"
      },
      "source": [
        "%%time\n",
        "# Fit network - F1-score is measured on the validation data\n",
        "history = model.fit(X_train, y_train, epochs=EPOCHS, batch_size=BATCH_SIZE, verbose=1, validation_data=(X_val, y_val), callbacks = mycallbacks)"
      ],
      "execution_count": null,
      "outputs": [
        {
          "output_type": "stream",
          "text": [
            "Epoch 1/10\n",
            "521/521 [==============================] - ETA: 0s - crf_loss: 8.0208 - accuracy: 0.8999 — val_f1: 0.7121351766513057 \n",
            "521/521 [==============================] - 914s 2s/step - crf_loss: 8.0170 - accuracy: 0.8999 - val_crf_loss_val: 6.4011 - val_val_accuracy: 0.9269\n",
            "Epoch 2/10\n",
            "521/521 [==============================] - ETA: 0s - crf_loss: 3.5940 - accuracy: 0.9424 — val_f1: 0.7624852956903005 \n",
            "521/521 [==============================] - 912s 2s/step - crf_loss: 3.5926 - accuracy: 0.9424 - val_crf_loss_val: 4.4707 - val_val_accuracy: 0.9392\n",
            "Epoch 3/10\n",
            "521/521 [==============================] - ETA: 0s - crf_loss: 2.5939 - accuracy: 0.9528 — val_f1: 0.7647058823529411 \n",
            "521/521 [==============================] - 916s 2s/step - crf_loss: 2.5941 - accuracy: 0.9528 - val_crf_loss_val: 4.4516 - val_val_accuracy: 0.9391\n",
            "Epoch 4/10\n",
            "521/521 [==============================] - ETA: 0s - crf_loss: 2.0050 - accuracy: 0.9599 — val_f1: 0.770104068117313 \n",
            "521/521 [==============================] - 934s 2s/step - crf_loss: 2.0047 - accuracy: 0.9599 - val_crf_loss_val: 4.0136 - val_val_accuracy: 0.9398\n",
            "Epoch 5/10\n",
            "521/521 [==============================] - ETA: 0s - crf_loss: 1.5865 - accuracy: 0.9660 — val_f1: 0.7643923240938167 \n",
            "521/521 [==============================] - 913s 2s/step - crf_loss: 1.5854 - accuracy: 0.9660 - val_crf_loss_val: 4.1994 - val_val_accuracy: 0.9387\n",
            "Epoch 6/10\n",
            "521/521 [==============================] - ETA: 0s - crf_loss: 1.2497 - accuracy: 0.9724 — val_f1: 0.7565526911875742 \n",
            "Restoring model weights from the end of the best epoch.\n",
            "521/521 [==============================] - 913s 2s/step - crf_loss: 1.2499 - accuracy: 0.9724 - val_crf_loss_val: 4.4419 - val_val_accuracy: 0.9374\n",
            "Epoch 00006: early stopping\n",
            "CPU times: user 2h 42min 25s, sys: 13min 32s, total: 2h 55min 57s\n",
            "Wall time: 1h 32min 1s\n"
          ],
          "name": "stdout"
        }
      ]
    },
    {
      "cell_type": "code",
      "metadata": {
        "id": "h0n063P5cV2s"
      },
      "source": [
        "#model.summary()"
      ],
      "execution_count": null,
      "outputs": []
    },
    {
      "cell_type": "code",
      "metadata": {
        "id": "rgmORYhp-Vyk"
      },
      "source": [
        "model.save_weights(dir_output)"
      ],
      "execution_count": null,
      "outputs": []
    },
    {
      "cell_type": "markdown",
      "metadata": {
        "id": "b_cFFINFS8q2"
      },
      "source": [
        "**Output** = viterbi_sequence, inputs(the output of the previous\n",
        "layer), sequence_lengths (mask), self.transitions (crf transmission\n",
        "parameters)"
      ]
    },
    {
      "cell_type": "markdown",
      "metadata": {
        "id": "r3MW7xse7hJs"
      },
      "source": [
        "# LEARNING CURVES"
      ]
    },
    {
      "cell_type": "code",
      "metadata": {
        "id": "vMEPQvHlku3K"
      },
      "source": [
        "#history.history"
      ],
      "execution_count": null,
      "outputs": []
    },
    {
      "cell_type": "code",
      "metadata": {
        "colab": {
          "base_uri": "https://localhost:8080/"
        },
        "id": "X3FwoVu0K6-U",
        "outputId": "9057a406-afa5-427d-bae8-d8dbd086cf73"
      },
      "source": [
        "history.epoch"
      ],
      "execution_count": null,
      "outputs": [
        {
          "output_type": "execute_result",
          "data": {
            "text/plain": [
              "[0, 1, 2, 3, 4, 5]"
            ]
          },
          "metadata": {
            "tags": []
          },
          "execution_count": 58
        }
      ]
    },
    {
      "cell_type": "code",
      "metadata": {
        "id": "T1Vxj0pLK9uX"
      },
      "source": [
        "epochs = len(history.epoch)\n",
        "epochs = range(0,epochs)"
      ],
      "execution_count": null,
      "outputs": []
    },
    {
      "cell_type": "code",
      "metadata": {
        "id": "HOVDfCfNkbO3",
        "colab": {
          "base_uri": "https://localhost:8080/",
          "height": 350
        },
        "outputId": "23a3d4b2-efd5-4120-87f4-51613a3df786"
      },
      "source": [
        "plt.rcParams[\"figure.figsize\"] = [8,5]\n",
        "loss_train = history.history[\"crf_loss\"]\n",
        "loss_val = history.history[\"val_crf_loss_val\"]\n",
        "plt.plot(epochs, loss_train, 'g', label='Training loss')\n",
        "plt.plot(epochs, loss_val, 'b', label='Validation loss')\n",
        "plt.xticks(np.arange(0, len(epochs)))\n",
        "plt.title('Training and Validation loss')\n",
        "plt.xlabel('Epochs')\n",
        "plt.ylabel('Loss')\n",
        "plt.legend()\n",
        "plt.show()"
      ],
      "execution_count": null,
      "outputs": [
        {
          "output_type": "display_data",
          "data": {
            "image/png": "[encoded data removed]",
            "text/plain": [
              "<Figure size 576x360 with 1 Axes>"
            ]
          },
          "metadata": {
            "tags": []
          }
        }
      ]
    },
    {
      "cell_type": "code",
      "metadata": {
        "id": "ekQcq6_CsAXI",
        "colab": {
          "base_uri": "https://localhost:8080/"
        },
        "outputId": "42da7aa5-b61b-46da-d0f3-5fa9890eb422"
      },
      "source": [
        "plt.rcParams[\"figure.figsize\"] = [8,5]\n",
        "loss_train = history.history[\"accuracy\"]\n",
        "loss_val = history.history[\"val_val_accuracy\"]\n",
        "plt.plot(epochs, loss_train, 'g', label='Training accuracy')\n",
        "plt.plot(epochs, loss_val, 'b', label='Validation accuracy')\n",
        "plt.xticks(np.arange(1, len(epochs)+1))\n",
        "plt.title('Training and Validation accuracy')\n",
        "plt.xlabel('Epochs')\n",
        "plt.ylabel('Accuracy')\n",
        "plt.legend()\n",
        "plt.show()"
      ],
      "execution_count": null,
      "outputs": [
        {
          "output_type": "display_data",
          "data": {
            "image/png": "[encoded data removed]",
            "text/plain": [
              "<Figure size 576x360 with 1 Axes>"
            ]
          },
          "metadata": {
            "tags": []
          }
        }
      ]
    },
    {
      "cell_type": "markdown",
      "metadata": {
        "id": "c7KEF-UBsd6K"
      },
      "source": [
        "# PREDICTION AND EVALUATION"
      ]
    },
    {
      "cell_type": "code",
      "metadata": {
        "id": "OEKS4QxqLYzh"
      },
      "source": [
        "#model = build_model(max_seq_len, RMSprop())"
      ],
      "execution_count": null,
      "outputs": []
    },
    {
      "cell_type": "code",
      "metadata": {
        "colab": {
          "base_uri": "https://localhost:8080/"
        },
        "id": "J9lpxNF7Lbn1",
        "outputId": "57bae127-dc74-4135-ae12-2489b7180b09"
      },
      "source": [
        "dir_output"
      ],
      "execution_count": null,
      "outputs": [
        {
          "output_type": "execute_result",
          "data": {
            "application/vnd.google.colaboratory.intrinsic+json": {
              "type": "string"
            },
            "text/plain": [
              "'/content/drive/MyDrive/BIO-NER-project/ft-bi-lstm-crf.h5'"
            ]
          },
          "metadata": {
            "tags": []
          },
          "execution_count": 63
        }
      ]
    },
    {
      "cell_type": "code",
      "metadata": {
        "id": "tBd2hXcHucfE"
      },
      "source": [
        "#model.variables"
      ],
      "execution_count": null,
      "outputs": []
    },
    {
      "cell_type": "code",
      "metadata": {
        "id": "xJxstPvhc1ll"
      },
      "source": [
        "# This saves me\n",
        "model.built = True "
      ],
      "execution_count": null,
      "outputs": []
    },
    {
      "cell_type": "code",
      "metadata": {
        "id": "l1HOQdnoLau0"
      },
      "source": [
        "model.load_weights(\"/content/drive/MyDrive/BIO-NER-project/ft-bi-lstm-crf.h5\")"
      ],
      "execution_count": null,
      "outputs": []
    },
    {
      "cell_type": "code",
      "metadata": {
        "id": "Al_Vl3-H6MQG"
      },
      "source": [
        "X_test = X_test[:120*BATCH_SIZE]\n",
        "y_test = y_test[:120*BATCH_SIZE]"
      ],
      "execution_count": null,
      "outputs": []
    },
    {
      "cell_type": "code",
      "metadata": {
        "id": "UCbVhVwxEUbh",
        "colab": {
          "base_uri": "https://localhost:8080/"
        },
        "outputId": "254fa948-74f7-40d2-d14c-148d343573e9"
      },
      "source": [
        "%%time\n",
        "y_pred = model.predict(X_test)[0]"
      ],
      "execution_count": null,
      "outputs": [
        {
          "output_type": "stream",
          "text": [
            "CPU times: user 1min 17s, sys: 7.46 s, total: 1min 25s\n",
            "Wall time: 44.7 s\n"
          ],
          "name": "stdout"
        }
      ]
    },
    {
      "cell_type": "code",
      "metadata": {
        "id": "T0UzSI2DWIs2"
      },
      "source": [
        "y_hat, y_true = ignoring_padding(y_pred, y_test)"
      ],
      "execution_count": null,
      "outputs": []
    },
    {
      "cell_type": "markdown",
      "metadata": {
        "id": "3enF2eUZfnCc"
      },
      "source": [
        "# REPORT"
      ]
    },
    {
      "cell_type": "code",
      "metadata": {
        "id": "xz5hy9GGTEc6"
      },
      "source": [
        "from seqeval.metrics import classification_report"
      ],
      "execution_count": null,
      "outputs": []
    },
    {
      "cell_type": "code",
      "metadata": {
        "id": "Eqr5KO-aTRuE",
        "colab": {
          "base_uri": "https://localhost:8080/"
        },
        "outputId": "1aecbb76-4171-47ec-9e89-bb8b50214cf8"
      },
      "source": [
        "print('\\033[1m' + \"Classification report for #1 model without LR optimization: \")\n",
        "print('\\033[0m')\n",
        "print(classification_report(y_true, y_hat))"
      ],
      "execution_count": null,
      "outputs": [
        {
          "output_type": "stream",
          "text": [
            "\u001b[1mClassification report for #1 model without LR optimization: \n",
            "\u001b[0m\n",
            "              precision    recall  f1-score   support\n",
            "\n",
            "         DNA       0.70      0.73      0.71      1047\n",
            "         RNA       0.68      0.74      0.71       117\n",
            "   cell_line       0.42      0.73      0.53       477\n",
            "   cell_type       0.80      0.66      0.72      1889\n",
            "     protein       0.67      0.78      0.72      4988\n",
            "\n",
            "   micro avg       0.67      0.74      0.71      8518\n",
            "   macro avg       0.65      0.72      0.68      8518\n",
            "weighted avg       0.69      0.74      0.71      8518\n",
            "\n"
          ],
          "name": "stdout"
        }
      ]
    },
    {
      "cell_type": "code",
      "metadata": {
        "id": "5Udgg_QTs8Yc",
        "colab": {
          "base_uri": "https://localhost:8080/"
        },
        "outputId": "9d62e8ac-333a-4db2-8453-965cb3066f61"
      },
      "source": [
        "print(\"F1-score(relaxed): {:0.3}\".format(f1_score(y_true, y_hat, average = \"weighted\")))"
      ],
      "execution_count": null,
      "outputs": [
        {
          "output_type": "stream",
          "text": [
            "F1-score(relaxed): 0.709\n"
          ],
          "name": "stdout"
        }
      ]
    },
    {
      "cell_type": "code",
      "metadata": {
        "colab": {
          "base_uri": "https://localhost:8080/"
        },
        "id": "kIlEOvm2LkU6",
        "outputId": "7414442d-4f82-47e7-da77-a05649a17d3e"
      },
      "source": [
        "from seqeval.scheme import IOB2\n",
        "print('\\033[1m' + \"Classification report for #1 model without LR optimization (exact match): \")\n",
        "print('\\033[0m')\n",
        "print(classification_report(y_true, y_hat, scheme=IOB2, mode=\"strict\"))"
      ],
      "execution_count": null,
      "outputs": [
        {
          "output_type": "stream",
          "text": [
            "\u001b[1mClassification report for #1 model without LR optimization (exact match): \n",
            "\u001b[0m\n",
            "              precision    recall  f1-score   support\n",
            "\n",
            "         DNA       0.70      0.73      0.71      1047\n",
            "         RNA       0.68      0.74      0.71       117\n",
            "   cell_line       0.42      0.73      0.53       477\n",
            "   cell_type       0.80      0.66      0.72      1889\n",
            "     protein       0.67      0.78      0.72      4988\n",
            "\n",
            "   micro avg       0.67      0.74      0.71      8518\n",
            "   macro avg       0.65      0.72      0.68      8518\n",
            "weighted avg       0.69      0.74      0.71      8518\n",
            "\n"
          ],
          "name": "stdout"
        }
      ]
    },
    {
      "cell_type": "code",
      "metadata": {
        "colab": {
          "base_uri": "https://localhost:8080/"
        },
        "id": "M1uWnOKOWyMQ",
        "outputId": "499db216-f18f-46c9-e309-7d61d3bb3967"
      },
      "source": [
        "print(\"F1-score: {:0.3}\".format(f1_score(y_true, y_hat, average = \"weighted\", scheme=IOB2, mode=\"strict\")))"
      ],
      "execution_count": null,
      "outputs": [
        {
          "output_type": "stream",
          "text": [
            "F1-score: 0.709\n"
          ],
          "name": "stdout"
        }
      ]
    },
    {
      "cell_type": "markdown",
      "metadata": {
        "id": "5n0Il7GWW-g2"
      },
      "source": [
        "# COMPARE RESULTS"
      ]
    },
    {
      "cell_type": "code",
      "metadata": {
        "id": "Tg4mimjj1_8L"
      },
      "source": [
        "i = 18  #prendi il chunck di frasi da 390 a 390+32\n",
        "p = model.predict(X_test[i:i+BATCH_SIZE])[0][0]\n",
        "#p = np.argmax(p, axis=-1)"
      ],
      "execution_count": null,
      "outputs": []
    },
    {
      "cell_type": "code",
      "metadata": {
        "id": "UHPGQQNPXXin"
      },
      "source": [
        "# From tensor to array\n",
        "X_true1 = tf.make_tensor_proto(X_test)\n",
        "X_true1 = tf.make_ndarray(X_true1)"
      ],
      "execution_count": null,
      "outputs": []
    },
    {
      "cell_type": "code",
      "metadata": {
        "id": "K6XvvQGd1pmL",
        "colab": {
          "base_uri": "https://localhost:8080/"
        },
        "outputId": "3d1eeb1b-dda3-4c71-9f0b-f86708ce492e"
      },
      "source": [
        "print(\"{:15} {:5}: ({})\".format(\"Word\", \"Pred\", \"True\"))\n",
        "print(\"=\"*45)\n",
        "for w, true, pred in zip(X_true1[i], y_true[i], p):\n",
        "    if w != 0:\n",
        "      print(\"{:15}:{:15} ({})\".format(idx2word[w], idx2tag[pred], true))"
      ],
      "execution_count": null,
      "outputs": [
        {
          "output_type": "stream",
          "text": [
            "Word            Pred : (True)\n",
            "=============================================\n",
            "However        :O               (O)\n",
            ",              :O               (O)\n",
            "there          :O               (O)\n",
            "was            :O               (O)\n",
            "a              :O               (O)\n",
            "significantly  :O               (O)\n",
            "positive       :O               (O)\n",
            "association    :O               (O)\n",
            "between        :O               (O)\n",
            "tumor          :O               (B-protein)\n",
            "beta           :O               (I-protein)\n",
            "[UNK]          :B-protein       (I-protein)\n",
            "expression     :O               (O)\n",
            "and            :O               (O)\n",
            "the            :O               (O)\n",
            "degree         :O               (O)\n",
            "of             :O               (O)\n",
            "lymphocytic    :O               (O)\n",
            "infiltration   :O               (O)\n",
            "in             :O               (O)\n",
            "the            :O               (O)\n",
            "tumor          :O               (O)\n",
            "tissue         :O               (O)\n",
            ".              :O               (O)\n"
          ],
          "name": "stdout"
        }
      ]
    }
  ]
}
