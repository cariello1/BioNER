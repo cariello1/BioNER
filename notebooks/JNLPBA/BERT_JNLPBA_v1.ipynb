{
  "nbformat": 4,
  "nbformat_minor": 0,
  "metadata": {
    "colab": {
      "name": "BERT JNLPBA.ipynb",
      "provenance": [],
      "collapsed_sections": [
        "4G7siinF-tb4",
        "gceSg2ZovKo9",
        "15m4NySQwLAY",
        "XNtjETLOk9lQ",
        "v687PMlk_bVs",
        "WHHZpXrCCTd6",
        "fTcFbuccTJzJ",
        "7H0frkj1REQ7"
      ],
      "toc_visible": true
    },
    "kernelspec": {
      "display_name": "Python 3",
      "name": "python3"
    },
    "accelerator": "GPU",
    "widgets": {
      "application/vnd.jupyter.widget-state+json": {
        "af4dd2b9e9ca4d57986c5cee5e551f6c": {
          "model_module": "@jupyter-widgets/controls",
          "model_name": "HBoxModel",
          "state": {
            "_view_name": "HBoxView",
            "_dom_classes": [],
            "_model_name": "HBoxModel",
            "_view_module": "@jupyter-widgets/controls",
            "_model_module_version": "1.5.0",
            "_view_count": null,
            "_view_module_version": "1.5.0",
            "box_style": "",
            "layout": "IPY_MODEL_87a4e92928d94d5ab867464287e1fb87",
            "_model_module": "@jupyter-widgets/controls",
            "children": [
              "IPY_MODEL_f7f9c68a51d64ae7a16f8ed0cab99613",
              "IPY_MODEL_6ae1e3f9223349778fe9b5932414b8fe"
            ]
          }
        },
        "87a4e92928d94d5ab867464287e1fb87": {
          "model_module": "@jupyter-widgets/base",
          "model_name": "LayoutModel",
          "state": {
            "_view_name": "LayoutView",
            "grid_template_rows": null,
            "right": null,
            "justify_content": null,
            "_view_module": "@jupyter-widgets/base",
            "overflow": null,
            "_model_module_version": "1.2.0",
            "_view_count": null,
            "flex_flow": null,
            "width": null,
            "min_width": null,
            "border": null,
            "align_items": null,
            "bottom": null,
            "_model_module": "@jupyter-widgets/base",
            "top": null,
            "grid_column": null,
            "overflow_y": null,
            "overflow_x": null,
            "grid_auto_flow": null,
            "grid_area": null,
            "grid_template_columns": null,
            "flex": null,
            "_model_name": "LayoutModel",
            "justify_items": null,
            "grid_row": null,
            "max_height": null,
            "align_content": null,
            "visibility": null,
            "align_self": null,
            "height": null,
            "min_height": null,
            "padding": null,
            "grid_auto_rows": null,
            "grid_gap": null,
            "max_width": null,
            "order": null,
            "_view_module_version": "1.2.0",
            "grid_template_areas": null,
            "object_position": null,
            "object_fit": null,
            "grid_auto_columns": null,
            "margin": null,
            "display": null,
            "left": null
          }
        },
        "f7f9c68a51d64ae7a16f8ed0cab99613": {
          "model_module": "@jupyter-widgets/controls",
          "model_name": "FloatProgressModel",
          "state": {
            "_view_name": "ProgressView",
            "style": "IPY_MODEL_55c99f9dc1d145d1afb52066c2c7a40a",
            "_dom_classes": [],
            "description": "Downloading: 100%",
            "_model_name": "FloatProgressModel",
            "bar_style": "success",
            "max": 625,
            "_view_module": "@jupyter-widgets/controls",
            "_model_module_version": "1.5.0",
            "value": 625,
            "_view_count": null,
            "_view_module_version": "1.5.0",
            "orientation": "horizontal",
            "min": 0,
            "description_tooltip": null,
            "_model_module": "@jupyter-widgets/controls",
            "layout": "IPY_MODEL_01b53f804cd04be58cd5eb6b05da2a7a"
          }
        },
        "6ae1e3f9223349778fe9b5932414b8fe": {
          "model_module": "@jupyter-widgets/controls",
          "model_name": "HTMLModel",
          "state": {
            "_view_name": "HTMLView",
            "style": "IPY_MODEL_35cd513d48f04879af2e9f9a1b14f332",
            "_dom_classes": [],
            "description": "",
            "_model_name": "HTMLModel",
            "placeholder": "​",
            "_view_module": "@jupyter-widgets/controls",
            "_model_module_version": "1.5.0",
            "value": " 625/625 [01:50&lt;00:00, 5.63B/s]",
            "_view_count": null,
            "_view_module_version": "1.5.0",
            "description_tooltip": null,
            "_model_module": "@jupyter-widgets/controls",
            "layout": "IPY_MODEL_0e4fd335eb84411cabf1ebe57c711ec2"
          }
        },
        "55c99f9dc1d145d1afb52066c2c7a40a": {
          "model_module": "@jupyter-widgets/controls",
          "model_name": "ProgressStyleModel",
          "state": {
            "_view_name": "StyleView",
            "_model_name": "ProgressStyleModel",
            "description_width": "initial",
            "_view_module": "@jupyter-widgets/base",
            "_model_module_version": "1.5.0",
            "_view_count": null,
            "_view_module_version": "1.2.0",
            "bar_color": null,
            "_model_module": "@jupyter-widgets/controls"
          }
        },
        "01b53f804cd04be58cd5eb6b05da2a7a": {
          "model_module": "@jupyter-widgets/base",
          "model_name": "LayoutModel",
          "state": {
            "_view_name": "LayoutView",
            "grid_template_rows": null,
            "right": null,
            "justify_content": null,
            "_view_module": "@jupyter-widgets/base",
            "overflow": null,
            "_model_module_version": "1.2.0",
            "_view_count": null,
            "flex_flow": null,
            "width": null,
            "min_width": null,
            "border": null,
            "align_items": null,
            "bottom": null,
            "_model_module": "@jupyter-widgets/base",
            "top": null,
            "grid_column": null,
            "overflow_y": null,
            "overflow_x": null,
            "grid_auto_flow": null,
            "grid_area": null,
            "grid_template_columns": null,
            "flex": null,
            "_model_name": "LayoutModel",
            "justify_items": null,
            "grid_row": null,
            "max_height": null,
            "align_content": null,
            "visibility": null,
            "align_self": null,
            "height": null,
            "min_height": null,
            "padding": null,
            "grid_auto_rows": null,
            "grid_gap": null,
            "max_width": null,
            "order": null,
            "_view_module_version": "1.2.0",
            "grid_template_areas": null,
            "object_position": null,
            "object_fit": null,
            "grid_auto_columns": null,
            "margin": null,
            "display": null,
            "left": null
          }
        },
        "35cd513d48f04879af2e9f9a1b14f332": {
          "model_module": "@jupyter-widgets/controls",
          "model_name": "DescriptionStyleModel",
          "state": {
            "_view_name": "StyleView",
            "_model_name": "DescriptionStyleModel",
            "description_width": "",
            "_view_module": "@jupyter-widgets/base",
            "_model_module_version": "1.5.0",
            "_view_count": null,
            "_view_module_version": "1.2.0",
            "_model_module": "@jupyter-widgets/controls"
          }
        },
        "0e4fd335eb84411cabf1ebe57c711ec2": {
          "model_module": "@jupyter-widgets/base",
          "model_name": "LayoutModel",
          "state": {
            "_view_name": "LayoutView",
            "grid_template_rows": null,
            "right": null,
            "justify_content": null,
            "_view_module": "@jupyter-widgets/base",
            "overflow": null,
            "_model_module_version": "1.2.0",
            "_view_count": null,
            "flex_flow": null,
            "width": null,
            "min_width": null,
            "border": null,
            "align_items": null,
            "bottom": null,
            "_model_module": "@jupyter-widgets/base",
            "top": null,
            "grid_column": null,
            "overflow_y": null,
            "overflow_x": null,
            "grid_auto_flow": null,
            "grid_area": null,
            "grid_template_columns": null,
            "flex": null,
            "_model_name": "LayoutModel",
            "justify_items": null,
            "grid_row": null,
            "max_height": null,
            "align_content": null,
            "visibility": null,
            "align_self": null,
            "height": null,
            "min_height": null,
            "padding": null,
            "grid_auto_rows": null,
            "grid_gap": null,
            "max_width": null,
            "order": null,
            "_view_module_version": "1.2.0",
            "grid_template_areas": null,
            "object_position": null,
            "object_fit": null,
            "grid_auto_columns": null,
            "margin": null,
            "display": null,
            "left": null
          }
        },
        "991e5890419b4ea3b4594b84d424fe73": {
          "model_module": "@jupyter-widgets/controls",
          "model_name": "HBoxModel",
          "state": {
            "_view_name": "HBoxView",
            "_dom_classes": [],
            "_model_name": "HBoxModel",
            "_view_module": "@jupyter-widgets/controls",
            "_model_module_version": "1.5.0",
            "_view_count": null,
            "_view_module_version": "1.5.0",
            "box_style": "",
            "layout": "IPY_MODEL_c4291bf8863f4e71ab825dd4a727edd3",
            "_model_module": "@jupyter-widgets/controls",
            "children": [
              "IPY_MODEL_e3935fb4da1b4c2eb9c6169cd1b1b88a",
              "IPY_MODEL_27bbe794d08f4c8897428c7e58ec38d4"
            ]
          }
        },
        "c4291bf8863f4e71ab825dd4a727edd3": {
          "model_module": "@jupyter-widgets/base",
          "model_name": "LayoutModel",
          "state": {
            "_view_name": "LayoutView",
            "grid_template_rows": null,
            "right": null,
            "justify_content": null,
            "_view_module": "@jupyter-widgets/base",
            "overflow": null,
            "_model_module_version": "1.2.0",
            "_view_count": null,
            "flex_flow": null,
            "width": null,
            "min_width": null,
            "border": null,
            "align_items": null,
            "bottom": null,
            "_model_module": "@jupyter-widgets/base",
            "top": null,
            "grid_column": null,
            "overflow_y": null,
            "overflow_x": null,
            "grid_auto_flow": null,
            "grid_area": null,
            "grid_template_columns": null,
            "flex": null,
            "_model_name": "LayoutModel",
            "justify_items": null,
            "grid_row": null,
            "max_height": null,
            "align_content": null,
            "visibility": null,
            "align_self": null,
            "height": null,
            "min_height": null,
            "padding": null,
            "grid_auto_rows": null,
            "grid_gap": null,
            "max_width": null,
            "order": null,
            "_view_module_version": "1.2.0",
            "grid_template_areas": null,
            "object_position": null,
            "object_fit": null,
            "grid_auto_columns": null,
            "margin": null,
            "display": null,
            "left": null
          }
        },
        "e3935fb4da1b4c2eb9c6169cd1b1b88a": {
          "model_module": "@jupyter-widgets/controls",
          "model_name": "FloatProgressModel",
          "state": {
            "_view_name": "ProgressView",
            "style": "IPY_MODEL_3727a1b6dcf249afa15269a7c4ebf5cd",
            "_dom_classes": [],
            "description": "Downloading: 100%",
            "_model_name": "FloatProgressModel",
            "bar_style": "success",
            "max": 1338740706,
            "_view_module": "@jupyter-widgets/controls",
            "_model_module_version": "1.5.0",
            "value": 1338740706,
            "_view_count": null,
            "_view_module_version": "1.5.0",
            "orientation": "horizontal",
            "min": 0,
            "description_tooltip": null,
            "_model_module": "@jupyter-widgets/controls",
            "layout": "IPY_MODEL_fc4c8bcdc72f40d19f73c43cd4657fbb"
          }
        },
        "27bbe794d08f4c8897428c7e58ec38d4": {
          "model_module": "@jupyter-widgets/controls",
          "model_name": "HTMLModel",
          "state": {
            "_view_name": "HTMLView",
            "style": "IPY_MODEL_77242acb91b44d008f6be00e726eca76",
            "_dom_classes": [],
            "description": "",
            "_model_name": "HTMLModel",
            "placeholder": "​",
            "_view_module": "@jupyter-widgets/controls",
            "_model_module_version": "1.5.0",
            "value": " 1.34G/1.34G [01:39&lt;00:00, 13.5MB/s]",
            "_view_count": null,
            "_view_module_version": "1.5.0",
            "description_tooltip": null,
            "_model_module": "@jupyter-widgets/controls",
            "layout": "IPY_MODEL_0dca2ab001144e23a7c6f8cdd9edd222"
          }
        },
        "3727a1b6dcf249afa15269a7c4ebf5cd": {
          "model_module": "@jupyter-widgets/controls",
          "model_name": "ProgressStyleModel",
          "state": {
            "_view_name": "StyleView",
            "_model_name": "ProgressStyleModel",
            "description_width": "initial",
            "_view_module": "@jupyter-widgets/base",
            "_model_module_version": "1.5.0",
            "_view_count": null,
            "_view_module_version": "1.2.0",
            "bar_color": null,
            "_model_module": "@jupyter-widgets/controls"
          }
        },
        "fc4c8bcdc72f40d19f73c43cd4657fbb": {
          "model_module": "@jupyter-widgets/base",
          "model_name": "LayoutModel",
          "state": {
            "_view_name": "LayoutView",
            "grid_template_rows": null,
            "right": null,
            "justify_content": null,
            "_view_module": "@jupyter-widgets/base",
            "overflow": null,
            "_model_module_version": "1.2.0",
            "_view_count": null,
            "flex_flow": null,
            "width": null,
            "min_width": null,
            "border": null,
            "align_items": null,
            "bottom": null,
            "_model_module": "@jupyter-widgets/base",
            "top": null,
            "grid_column": null,
            "overflow_y": null,
            "overflow_x": null,
            "grid_auto_flow": null,
            "grid_area": null,
            "grid_template_columns": null,
            "flex": null,
            "_model_name": "LayoutModel",
            "justify_items": null,
            "grid_row": null,
            "max_height": null,
            "align_content": null,
            "visibility": null,
            "align_self": null,
            "height": null,
            "min_height": null,
            "padding": null,
            "grid_auto_rows": null,
            "grid_gap": null,
            "max_width": null,
            "order": null,
            "_view_module_version": "1.2.0",
            "grid_template_areas": null,
            "object_position": null,
            "object_fit": null,
            "grid_auto_columns": null,
            "margin": null,
            "display": null,
            "left": null
          }
        },
        "77242acb91b44d008f6be00e726eca76": {
          "model_module": "@jupyter-widgets/controls",
          "model_name": "DescriptionStyleModel",
          "state": {
            "_view_name": "StyleView",
            "_model_name": "DescriptionStyleModel",
            "description_width": "",
            "_view_module": "@jupyter-widgets/base",
            "_model_module_version": "1.5.0",
            "_view_count": null,
            "_view_module_version": "1.2.0",
            "_model_module": "@jupyter-widgets/controls"
          }
        },
        "0dca2ab001144e23a7c6f8cdd9edd222": {
          "model_module": "@jupyter-widgets/base",
          "model_name": "LayoutModel",
          "state": {
            "_view_name": "LayoutView",
            "grid_template_rows": null,
            "right": null,
            "justify_content": null,
            "_view_module": "@jupyter-widgets/base",
            "overflow": null,
            "_model_module_version": "1.2.0",
            "_view_count": null,
            "flex_flow": null,
            "width": null,
            "min_width": null,
            "border": null,
            "align_items": null,
            "bottom": null,
            "_model_module": "@jupyter-widgets/base",
            "top": null,
            "grid_column": null,
            "overflow_y": null,
            "overflow_x": null,
            "grid_auto_flow": null,
            "grid_area": null,
            "grid_template_columns": null,
            "flex": null,
            "_model_name": "LayoutModel",
            "justify_items": null,
            "grid_row": null,
            "max_height": null,
            "align_content": null,
            "visibility": null,
            "align_self": null,
            "height": null,
            "min_height": null,
            "padding": null,
            "grid_auto_rows": null,
            "grid_gap": null,
            "max_width": null,
            "order": null,
            "_view_module_version": "1.2.0",
            "grid_template_areas": null,
            "object_position": null,
            "object_fit": null,
            "grid_auto_columns": null,
            "margin": null,
            "display": null,
            "left": null
          }
        }
      }
    }
  },
  "cells": [
    {
      "cell_type": "markdown",
      "metadata": {
        "id": "2MKGX0l3-DRP"
      },
      "source": [
        "Tutorial by [Depends on the definition\n",
        "](https://www.depends-on-the-definition.com/named-entity-recognition-with-bert/)"
      ]
    },
    {
      "cell_type": "markdown",
      "metadata": {
        "id": "kamKfN3t-n0p"
      },
      "source": [
        "A new paradigm in natural language processing (NLP) is to select a pre-trained model and then “fine-tuning” the model with new data from your specific task.\n",
        "\n",
        "BERT is a powerful general-purpose language model trained on “masked language modeling” that can be leveraged for the text-based machine learning tasks."
      ]
    },
    {
      "cell_type": "code",
      "metadata": {
        "id": "u-PDtCP0ACn0",
        "colab": {
          "base_uri": "https://localhost:8080/"
        },
        "outputId": "23a9e3a2-928a-44eb-f0b3-4efe28396457"
      },
      "source": [
        "from google.colab import drive\n",
        "drive.mount(\"/content/drive\")"
      ],
      "execution_count": null,
      "outputs": [
        {
          "output_type": "stream",
          "text": [
            "Drive already mounted at /content/drive; to attempt to forcibly remount, call drive.mount(\"/content/drive\", force_remount=True).\n"
          ],
          "name": "stdout"
        }
      ]
    },
    {
      "cell_type": "code",
      "metadata": {
        "colab": {
          "base_uri": "https://localhost:8080/"
        },
        "id": "IdSEsZqpRmB9",
        "outputId": "915c8ebc-50f0-4417-e552-80683eb5e5ee"
      },
      "source": [
        "from google.colab import drive\n",
        "drive.mount('/content/drive')"
      ],
      "execution_count": null,
      "outputs": [
        {
          "output_type": "stream",
          "text": [
            "Drive already mounted at /content/drive; to attempt to forcibly remount, call drive.mount(\"/content/drive\", force_remount=True).\n"
          ],
          "name": "stdout"
        }
      ]
    },
    {
      "cell_type": "code",
      "metadata": {
        "id": "D3XIfGPdHfUl"
      },
      "source": [
        "%%capture\n",
        "#!pip3 install awscli awsebcli botocore==1.18.18 --upgrade"
      ],
      "execution_count": null,
      "outputs": []
    },
    {
      "cell_type": "code",
      "metadata": {
        "id": "YrwSR70yP_W5"
      },
      "source": [
        "import tensorflow as tf"
      ],
      "execution_count": null,
      "outputs": []
    },
    {
      "cell_type": "code",
      "metadata": {
        "id": "I3KPywoQQDtO",
        "colab": {
          "base_uri": "https://localhost:8080/",
          "height": 35
        },
        "outputId": "3ae5beb6-a093-467d-c1ee-701d0be35fd3"
      },
      "source": [
        "tf.__version__"
      ],
      "execution_count": null,
      "outputs": [
        {
          "output_type": "execute_result",
          "data": {
            "application/vnd.google.colaboratory.intrinsic+json": {
              "type": "string"
            },
            "text/plain": [
              "'2.4.1'"
            ]
          },
          "metadata": {
            "tags": []
          },
          "execution_count": 5
        }
      ]
    },
    {
      "cell_type": "code",
      "metadata": {
        "id": "7AWQqBlPKWMT",
        "colab": {
          "base_uri": "https://localhost:8080/",
          "height": 87
        },
        "outputId": "7f057aee-e866-4d2f-9c47-644d336727f3"
      },
      "source": [
        "\"\"\"# Set the seed value all over the place to make this reproducible.\n",
        "import random\n",
        "import numpy as np\n",
        "import torch\n",
        "\n",
        "seed_val = 2353\n",
        "\n",
        "random.seed(seed_val)\n",
        "np.random.seed(seed_val)\n",
        "torch.manual_seed(seed_val)\n",
        "torch.cuda.manual_seed_all(seed_val)\"\"\""
      ],
      "execution_count": null,
      "outputs": [
        {
          "output_type": "execute_result",
          "data": {
            "application/vnd.google.colaboratory.intrinsic+json": {
              "type": "string"
            },
            "text/plain": [
              "'# Set the seed value all over the place to make this reproducible.\\nimport random\\nimport numpy as np\\nimport torch\\n\\nseed_val = 2353\\n\\nrandom.seed(seed_val)\\nnp.random.seed(seed_val)\\ntorch.manual_seed(seed_val)\\ntorch.cuda.manual_seed_all(seed_val)'"
            ]
          },
          "metadata": {
            "tags": []
          },
          "execution_count": 6
        }
      ]
    },
    {
      "cell_type": "code",
      "metadata": {
        "colab": {
          "base_uri": "https://localhost:8080/"
        },
        "id": "mJcWWSTLEvYT",
        "outputId": "eec08c5b-86de-4528-efb9-6b0af68ba915"
      },
      "source": [
        "# The token can be used to access the repository\n",
        "!git clone https://github.com/cariello1/BIO-NER-.git"
      ],
      "execution_count": null,
      "outputs": [
        {
          "output_type": "stream",
          "text": [
            "fatal: destination path 'BIO-NER-' already exists and is not an empty directory.\n"
          ],
          "name": "stdout"
        }
      ]
    },
    {
      "cell_type": "code",
      "metadata": {
        "colab": {
          "base_uri": "https://localhost:8080/"
        },
        "id": "ADTC_021I8oR",
        "outputId": "6fc0e909-55df-4db0-ed4f-9d9ce7d693cf"
      },
      "source": [
        "%cd /content/BIO-NER-"
      ],
      "execution_count": null,
      "outputs": [
        {
          "output_type": "stream",
          "text": [
            "/content/BIO-NER-\n"
          ],
          "name": "stdout"
        }
      ]
    },
    {
      "cell_type": "code",
      "metadata": {
        "id": "YmkCmLVnmKu9"
      },
      "source": [
        "from preprocessing_1 import PreprocessingDocsNN\n",
        "from preprocessing_1 import read_data"
      ],
      "execution_count": null,
      "outputs": []
    },
    {
      "cell_type": "markdown",
      "metadata": {
        "id": "4G7siinF-tb4"
      },
      "source": [
        "# TRANSFORMERS"
      ]
    },
    {
      "cell_type": "code",
      "metadata": {
        "id": "ZOZIome830Ql"
      },
      "source": [
        "%%capture\n",
        "!pip3 install transformers==2.6.0"
      ],
      "execution_count": null,
      "outputs": []
    },
    {
      "cell_type": "code",
      "metadata": {
        "id": "rvPW_aspQRaQ",
        "colab": {
          "base_uri": "https://localhost:8080/",
          "height": 53
        },
        "outputId": "0f4096b2-a183-455c-8789-8336f352c18b"
      },
      "source": [
        "\"\"\"!git clone https://github.com/huggingface/transformers.git\n",
        "!cd transformers\n",
        "!pip install -e .\"\"\""
      ],
      "execution_count": null,
      "outputs": [
        {
          "output_type": "execute_result",
          "data": {
            "application/vnd.google.colaboratory.intrinsic+json": {
              "type": "string"
            },
            "text/plain": [
              "'!git clone https://github.com/huggingface/transformers.git\\n!cd transformers\\n!pip install -e .'"
            ]
          },
          "metadata": {
            "tags": []
          },
          "execution_count": 2
        }
      ]
    },
    {
      "cell_type": "markdown",
      "metadata": {
        "id": "bec-uDBVmKfv"
      },
      "source": [
        "# PREPROCESSING"
      ]
    },
    {
      "cell_type": "code",
      "metadata": {
        "id": "RU7s0Jt5mUe9"
      },
      "source": [
        "import numpy as np\n",
        "import codecs\n",
        "import seaborn as sns\n",
        "sns.set_style(\"whitegrid\")\n",
        "from matplotlib import pyplot as plt\n",
        "from tqdm import tqdm\n",
        "import tensorflow"
      ],
      "execution_count": null,
      "outputs": []
    },
    {
      "cell_type": "code",
      "metadata": {
        "id": "v8mEjQ4GCD8R"
      },
      "source": [
        "# For reproducibility\n",
        "seed = 768\n",
        "tf.random.set_seed(seed)"
      ],
      "execution_count": null,
      "outputs": []
    },
    {
      "cell_type": "code",
      "metadata": {
        "id": "sD0EvY5wPu2s"
      },
      "source": [
        "# Original data in IOB format\n",
        "file1 = \"/content/drive/MyDrive/Data_Bio-NER/JNLPBA/original-data/train/Genia4ERtask1.iob2\"\n",
        "file2 = \"/content/drive/MyDrive/Data_Bio-NER/JNLPBA/original-data/test/Genia4EReval1.iob2\""
      ],
      "execution_count": null,
      "outputs": []
    },
    {
      "cell_type": "code",
      "metadata": {
        "colab": {
          "base_uri": "https://localhost:8080/"
        },
        "id": "SsFajR5BmbV6",
        "outputId": "1625a57c-ab20-4c7a-860b-cfbb34319363"
      },
      "source": [
        "input_train = read_data(file1)\n",
        "input_test = read_data(file2)"
      ],
      "execution_count": null,
      "outputs": [
        {
          "output_type": "stream",
          "text": [
            "Total number of sentences: 18546 \n",
            "Total number of sentences: 3856 \n"
          ],
          "name": "stdout"
        }
      ]
    },
    {
      "cell_type": "code",
      "metadata": {
        "id": "vGYtXWLMmwQL"
      },
      "source": [
        "docs_train = PreprocessingDocsNN(input_train)\n",
        "docs_test = PreprocessingDocsNN(input_test)"
      ],
      "execution_count": null,
      "outputs": []
    },
    {
      "cell_type": "code",
      "metadata": {
        "colab": {
          "base_uri": "https://localhost:8080/"
        },
        "id": "CJ4objI4mo3v",
        "outputId": "1293fc24-a8ea-453e-d064-c4032414743e"
      },
      "source": [
        "# First sentence of dataset with both words and labels\n",
        "print('This is what a sentence looks like:{}'.format(input_train[0]))"
      ],
      "execution_count": null,
      "outputs": [
        {
          "output_type": "stream",
          "text": [
            "This is what a sentence looks like:[('IL-2', 'B-DNA'), ('gene', 'I-DNA'), ('expression', 'O'), ('and', 'O'), ('NF-kappa', 'B-protein'), ('B', 'I-protein'), ('activation', 'O'), ('through', 'O'), ('CD28', 'B-protein'), ('requires', 'O'), ('reactive', 'O'), ('oxygen', 'O'), ('production', 'O'), ('by', 'O'), ('5-lipoxygenase', 'B-protein'), ('.', 'O')]\n"
          ],
          "name": "stdout"
        }
      ]
    },
    {
      "cell_type": "code",
      "metadata": {
        "colab": {
          "base_uri": "https://localhost:8080/"
        },
        "id": "MP-tJG-5o3eb",
        "outputId": "83273a9c-e53d-47e9-fa81-6730c596d2b3"
      },
      "source": [
        "print(\"\\033[1m\"+\"Statistics for the train set:\"+'\\033[0m')\n",
        "print(\"Number of sentences: {}\".format(len(docs_train.sentences)))\n",
        "print(\"Number of tokens: {}\".format(len(docs_train.tokens)))\n",
        "print(\"Size of vocabulary: {}\".format(len(docs_train.vocabulary)))\n",
        "print('Tagset:', ' '.join(docs_train.tagset))\n",
        "print(\"Number of Tags {}\".format(len(docs_train.tagset)))"
      ],
      "execution_count": null,
      "outputs": [
        {
          "output_type": "stream",
          "text": [
            "\u001b[1mStatistics for the train set:\u001b[0m\n",
            "Number of sentences: 18546\n",
            "Number of tokens: 492551\n",
            "Size of vocabulary: 22056\n",
            "Tagset: B-cell_type I-RNA I-protein I-DNA I-cell_line B-protein O B-RNA B-DNA I-cell_type B-cell_line\n",
            "Number of Tags 11\n"
          ],
          "name": "stdout"
        }
      ]
    },
    {
      "cell_type": "markdown",
      "metadata": {
        "id": "gceSg2ZovKo9"
      },
      "source": [
        "# DATA VISUALIZATION"
      ]
    },
    {
      "cell_type": "code",
      "metadata": {
        "id": "-EIJbHjyvfJN"
      },
      "source": [
        "sentences_len = np.array([len(s) for s in docs_train.sentences]) #list with len for each sents"
      ],
      "execution_count": null,
      "outputs": []
    },
    {
      "cell_type": "code",
      "metadata": {
        "id": "5ZUm_XmDwBNX"
      },
      "source": [
        "sen_mean = np.round(sentences_len.mean()).astype(int) "
      ],
      "execution_count": null,
      "outputs": []
    },
    {
      "cell_type": "code",
      "metadata": {
        "id": "RA9rY9C8SvJr"
      },
      "source": [
        "max_seq_len = 50 #timesteps"
      ],
      "execution_count": null,
      "outputs": []
    },
    {
      "cell_type": "code",
      "metadata": {
        "colab": {
          "base_uri": "https://localhost:8080/"
        },
        "id": "jEjrX0jsvMmD",
        "outputId": "8571841a-5b0b-4c98-f602-f9ed319f3227"
      },
      "source": [
        "sns.distplot(sentences_len, hist=True, kde=True, color=\"b\", label=\"sentences length\")\n",
        "plt.axvline(x=sen_mean, color=\"k\", linestyle=\"--\", label=\"max len\")\n",
        "plt.title(\"Token per sentence\")\n",
        "plt.legend()\n",
        "plt.show()"
      ],
      "execution_count": null,
      "outputs": [
        {
          "output_type": "stream",
          "text": [
            "/usr/local/lib/python3.7/dist-packages/seaborn/distributions.py:2557: FutureWarning: `distplot` is a deprecated function and will be removed in a future version. Please adapt your code to use either `displot` (a figure-level function with similar flexibility) or `histplot` (an axes-level function for histograms).\n",
            "  warnings.warn(msg, FutureWarning)\n"
          ],
          "name": "stderr"
        },
        {
          "output_type": "display_data",
          "data": {
            "image/png": "[encoded data removed]",
            "text/plain": [
              "<Figure size 432x288 with 1 Axes>"
            ]
          },
          "metadata": {
            "tags": []
          }
        }
      ]
    },
    {
      "cell_type": "code",
      "metadata": {
        "colab": {
          "base_uri": "https://localhost:8080/"
        },
        "id": "YgnyVTDDg15H",
        "outputId": "66febdc7-0b01-4f11-9d5b-8f1c83fa3a4e"
      },
      "source": [
        "sent_less_than_msl = [s for s in docs_train.sentences if len(s) <= 50]\n",
        "perc_sent = round(len(sent_less_than_msl) / len(docs_train.sentences) * 100)\n",
        "print(\"The\", perc_sent,\"%\", \"of sentences has less or equal than 50 tokens.\")"
      ],
      "execution_count": null,
      "outputs": [
        {
          "output_type": "stream",
          "text": [
            "The 96 % of sentences has less or equal than 50 tokens.\n"
          ],
          "name": "stdout"
        }
      ]
    },
    {
      "cell_type": "markdown",
      "metadata": {
        "id": "15m4NySQwLAY"
      },
      "source": [
        "# PREPROCESSING FOR DP TRAINING"
      ]
    },
    {
      "cell_type": "code",
      "metadata": {
        "id": "m4gz8_EGse_t"
      },
      "source": [
        "# Vocabulary Key:Tag -> Value:ID_tag & Vocabulary Key:ID_tag -> Value:Tag\n",
        "tag2idx, idx2tag = docs_train.from_labels_2_idx()"
      ],
      "execution_count": null,
      "outputs": []
    },
    {
      "cell_type": "code",
      "metadata": {
        "id": "vafAzwIhACR1"
      },
      "source": [
        "# Padding and encoding the target variable\n",
        "y_train = docs_train.padded_and_encoded_labels(tag2idx, max_seq_len)\n",
        "y_test = docs_test.padded_and_encoded_labels(tag2idx, max_seq_len)"
      ],
      "execution_count": null,
      "outputs": []
    },
    {
      "cell_type": "code",
      "metadata": {
        "id": "2yhcoAYKAFAC"
      },
      "source": [
        "# Decoding one-hot vectors\n",
        "y_train = np.argmax(y_train, axis = -1)\n",
        "y_test = np.argmax(y_test, axis = -1)"
      ],
      "execution_count": null,
      "outputs": []
    },
    {
      "cell_type": "code",
      "metadata": {
        "colab": {
          "base_uri": "https://localhost:8080/"
        },
        "id": "w1lroqzbctA-",
        "outputId": "5cc9f3ee-50db-45bb-ff20-222ec04024f2"
      },
      "source": [
        "y_test[0]"
      ],
      "execution_count": null,
      "outputs": [
        {
          "output_type": "execute_result",
          "data": {
            "text/plain": [
              "array([7, 7, 6, 3, 7, 1, 7, 7, 7, 7, 7, 7, 7, 0, 0, 0, 0, 0, 0, 0, 0, 0,\n",
              "       0, 0, 0, 0, 0, 0, 0, 0, 0, 0, 0, 0, 0, 0, 0, 0, 0, 0, 0, 0, 0, 0,\n",
              "       0, 0, 0, 0, 0, 0])"
            ]
          },
          "metadata": {
            "tags": []
          },
          "execution_count": 27
        }
      ]
    },
    {
      "cell_type": "code",
      "metadata": {
        "id": "PD4_2kc_tQgo",
        "colab": {
          "base_uri": "https://localhost:8080/"
        },
        "outputId": "b9df898e-06f5-487e-9b4e-b9453116b929"
      },
      "source": [
        "tag2idx"
      ],
      "execution_count": null,
      "outputs": [
        {
          "output_type": "execute_result",
          "data": {
            "text/plain": [
              "{'B-DNA': 9,\n",
              " 'B-RNA': 8,\n",
              " 'B-cell_line': 11,\n",
              " 'B-cell_type': 1,\n",
              " 'B-protein': 6,\n",
              " 'I-DNA': 4,\n",
              " 'I-RNA': 2,\n",
              " 'I-cell_line': 5,\n",
              " 'I-cell_type': 10,\n",
              " 'I-protein': 3,\n",
              " 'O': 7,\n",
              " 'PAD': 0}"
            ]
          },
          "metadata": {
            "tags": []
          },
          "execution_count": 28
        }
      ]
    },
    {
      "cell_type": "code",
      "metadata": {
        "id": "qfLG23zEtlVE",
        "colab": {
          "base_uri": "https://localhost:8080/"
        },
        "outputId": "b6ad523e-eb18-4379-91e9-b95c78f176f0"
      },
      "source": [
        "idx2tag"
      ],
      "execution_count": null,
      "outputs": [
        {
          "output_type": "execute_result",
          "data": {
            "text/plain": [
              "{0: 'PAD',\n",
              " 1: 'B-cell_type',\n",
              " 2: 'I-RNA',\n",
              " 3: 'I-protein',\n",
              " 4: 'I-DNA',\n",
              " 5: 'I-cell_line',\n",
              " 6: 'B-protein',\n",
              " 7: 'O',\n",
              " 8: 'B-RNA',\n",
              " 9: 'B-DNA',\n",
              " 10: 'I-cell_type',\n",
              " 11: 'B-cell_line'}"
            ]
          },
          "metadata": {
            "tags": []
          },
          "execution_count": 29
        }
      ]
    },
    {
      "cell_type": "markdown",
      "metadata": {
        "id": "XNtjETLOk9lQ"
      },
      "source": [
        "# PREPARING DATA FOR BERT"
      ]
    },
    {
      "cell_type": "markdown",
      "metadata": {
        "id": "4POFwMDXt2mX"
      },
      "source": [
        "Before we can start *fine-tuning* the model, we have to prepare the data set for the use with pytorch and BERT."
      ]
    },
    {
      "cell_type": "code",
      "metadata": {
        "id": "Le86P0tIlILO",
        "colab": {
          "base_uri": "https://localhost:8080/"
        },
        "outputId": "b79ce434-177f-4f29-8a5c-3d30fdb9212a"
      },
      "source": [
        "import torch\n",
        "from torch.utils.data import TensorDataset, DataLoader, RandomSampler, SequentialSampler\n",
        "from transformers import BertTokenizer, BertConfig\n",
        "\n",
        "from keras.preprocessing.sequence import pad_sequences\n",
        "from sklearn.model_selection import train_test_split\n",
        "\n",
        "torch.__version__"
      ],
      "execution_count": null,
      "outputs": [
        {
          "output_type": "execute_result",
          "data": {
            "application/vnd.google.colaboratory.intrinsic+json": {
              "type": "string"
            },
            "text/plain": [
              "'1.8.0+cu101'"
            ]
          },
          "metadata": {
            "tags": []
          },
          "execution_count": 30
        }
      ]
    },
    {
      "cell_type": "markdown",
      "metadata": {
        "id": "d1U-liNplWg-"
      },
      "source": [
        "Here we fix some configurations. We will limit our sequence length to 75 tokens and we will use a batch size of 32 as suggested by the Bert paper. Note, that Bert supports sequences of up to 512 tokens."
      ]
    },
    {
      "cell_type": "code",
      "metadata": {
        "id": "ixNxmYRQlI4L"
      },
      "source": [
        "bs = 32"
      ],
      "execution_count": null,
      "outputs": []
    },
    {
      "cell_type": "code",
      "metadata": {
        "id": "0SkcYtr9ljpN",
        "colab": {
          "base_uri": "https://localhost:8080/"
        },
        "outputId": "2d539ad2-a73e-46ef-a2d8-e5a7eabba69e"
      },
      "source": [
        "print(torch.cuda.device_count()) "
      ],
      "execution_count": null,
      "outputs": [
        {
          "output_type": "stream",
          "text": [
            "1\n"
          ],
          "name": "stdout"
        }
      ]
    },
    {
      "cell_type": "code",
      "metadata": {
        "id": "ZUSNUapQuID_",
        "colab": {
          "base_uri": "https://localhost:8080/"
        },
        "outputId": "319a93ad-252c-4734-e4f2-b8f4eb829ecb"
      },
      "source": [
        "torch.cuda.get_device_name(0)"
      ],
      "execution_count": null,
      "outputs": [
        {
          "output_type": "execute_result",
          "data": {
            "application/vnd.google.colaboratory.intrinsic+json": {
              "type": "string"
            },
            "text/plain": [
              "'Tesla K80'"
            ]
          },
          "metadata": {
            "tags": []
          },
          "execution_count": 33
        }
      ]
    },
    {
      "cell_type": "code",
      "metadata": {
        "id": "2uGt0VsTlI98"
      },
      "source": [
        "device = torch.device(\"cuda\" if torch.cuda.is_available() else \"cpu\")\n",
        "n_gpu = torch.cuda.device_count()"
      ],
      "execution_count": null,
      "outputs": []
    },
    {
      "cell_type": "code",
      "metadata": {
        "id": "hhynmW7guOh-",
        "colab": {
          "base_uri": "https://localhost:8080/"
        },
        "outputId": "060064d9-2571-49a4-9129-c1059eae5066"
      },
      "source": [
        "device"
      ],
      "execution_count": null,
      "outputs": [
        {
          "output_type": "execute_result",
          "data": {
            "text/plain": [
              "device(type='cuda')"
            ]
          },
          "metadata": {
            "tags": []
          },
          "execution_count": 35
        }
      ]
    },
    {
      "cell_type": "code",
      "metadata": {
        "id": "PHSzIaYOlJGy"
      },
      "source": [
        "tokenizer = BertTokenizer.from_pretrained('bert-large-cased', do_lower_case=False)"
      ],
      "execution_count": null,
      "outputs": []
    },
    {
      "cell_type": "markdown",
      "metadata": {
        "id": "OYzW04gsmLHj"
      },
      "source": [
        "Since the BERT tokenizer is based on wordpiece tokenizer it will split tokens in subword tokens. For example ‘dexamethasone’ will be split in five tokens: ‘de’, ‘##xa’, ‘##met’, ‘##has’, ‘##one’. \n",
        "We have to deal with the issue of splitting token-level labels to related subtokens."
      ]
    },
    {
      "cell_type": "code",
      "metadata": {
        "colab": {
          "base_uri": "https://localhost:8080/"
        },
        "id": "5GxE0F3iCbT7",
        "outputId": "72b719e9-b658-45d4-c583-29a70d5e09f0"
      },
      "source": [
        "docs_train.data[0]"
      ],
      "execution_count": null,
      "outputs": [
        {
          "output_type": "execute_result",
          "data": {
            "text/plain": [
              "[('IL-2', 'B-DNA'),\n",
              " ('gene', 'I-DNA'),\n",
              " ('expression', 'O'),\n",
              " ('and', 'O'),\n",
              " ('NF-kappa', 'B-protein'),\n",
              " ('B', 'I-protein'),\n",
              " ('activation', 'O'),\n",
              " ('through', 'O'),\n",
              " ('CD28', 'B-protein'),\n",
              " ('requires', 'O'),\n",
              " ('reactive', 'O'),\n",
              " ('oxygen', 'O'),\n",
              " ('production', 'O'),\n",
              " ('by', 'O'),\n",
              " ('5-lipoxygenase', 'B-protein'),\n",
              " ('.', 'O')]"
            ]
          },
          "metadata": {
            "tags": []
          },
          "execution_count": 37
        }
      ]
    },
    {
      "cell_type": "code",
      "metadata": {
        "colab": {
          "base_uri": "https://localhost:8080/"
        },
        "id": "d2n8bUyng45K",
        "outputId": "c9230fe7-890e-4b26-b026-403ebcd130a0"
      },
      "source": [
        "docs_train.sentences[0]"
      ],
      "execution_count": null,
      "outputs": [
        {
          "output_type": "execute_result",
          "data": {
            "text/plain": [
              "['IL-2',\n",
              " 'gene',\n",
              " 'expression',\n",
              " 'and',\n",
              " 'NF-kappa',\n",
              " 'B',\n",
              " 'activation',\n",
              " 'through',\n",
              " 'CD28',\n",
              " 'requires',\n",
              " 'reactive',\n",
              " 'oxygen',\n",
              " 'production',\n",
              " 'by',\n",
              " '5-lipoxygenase',\n",
              " '.']"
            ]
          },
          "metadata": {
            "tags": []
          },
          "execution_count": 38
        }
      ]
    },
    {
      "cell_type": "code",
      "metadata": {
        "id": "qv6LecFdsxFY"
      },
      "source": [
        "tokenized_sentence = []\n",
        "labels = []\n",
        "\n",
        "for s in docs_train.data:\n",
        "  tokens = []\n",
        "  lab = []\n",
        "  for word, label in s:\n",
        "    tokenized_word = tokenizer.tokenize(word) #BERT tokenizer\n",
        "    n_subwords = len(tokenized_word)\n",
        "\n",
        "    # Add the tokenized word to the final tokenized word list\n",
        "    tokens.extend(tokenized_word)\n",
        "\n",
        "    # Add the same label to the new list of labels `n_subwords` times\n",
        "    lab.extend([label] * n_subwords)\n",
        "  tokenized_sentence.append(tokens)\n",
        "  labels.append(lab)"
      ],
      "execution_count": null,
      "outputs": []
    },
    {
      "cell_type": "code",
      "metadata": {
        "id": "4BmBLqNQ2RMZ"
      },
      "source": [
        "tokenized_sentence_test = []\n",
        "labels_test = []\n",
        "\n",
        "for s in docs_test.data:\n",
        "  tokens = []\n",
        "  lab = []\n",
        "  for word, label in s:\n",
        "    tokenized_word = tokenizer.tokenize(word) #BERT tokenizer\n",
        "    n_subwords = len(tokenized_word)\n",
        "\n",
        "    # Add the tokenized word to the final tokenized word list\n",
        "    tokens.extend(tokenized_word)\n",
        "\n",
        "    # Add the same label to the new list of labels `n_subwords` times\n",
        "    lab.extend([label] * n_subwords)\n",
        "  tokenized_sentence_test.append(tokens)\n",
        "  labels_test.append(lab)"
      ],
      "execution_count": null,
      "outputs": []
    },
    {
      "cell_type": "code",
      "metadata": {
        "colab": {
          "base_uri": "https://localhost:8080/"
        },
        "id": "hefKxmiwRzrd",
        "outputId": "d7b104b0-18cb-496f-fb4b-0bae91ce719b"
      },
      "source": [
        "tokenized_sentence[0]"
      ],
      "execution_count": null,
      "outputs": [
        {
          "output_type": "execute_result",
          "data": {
            "text/plain": [
              "['IL',\n",
              " '-',\n",
              " '2',\n",
              " 'gene',\n",
              " 'expression',\n",
              " 'and',\n",
              " 'N',\n",
              " '##F',\n",
              " '-',\n",
              " 'ka',\n",
              " '##ppa',\n",
              " 'B',\n",
              " 'activation',\n",
              " 'through',\n",
              " 'CD',\n",
              " '##28',\n",
              " 'requires',\n",
              " 'reactive',\n",
              " 'oxygen',\n",
              " 'production',\n",
              " 'by',\n",
              " '5',\n",
              " '-',\n",
              " 'lip',\n",
              " '##ox',\n",
              " '##y',\n",
              " '##gen',\n",
              " '##ase',\n",
              " '.']"
            ]
          },
          "metadata": {
            "tags": []
          },
          "execution_count": 41
        }
      ]
    },
    {
      "cell_type": "markdown",
      "metadata": {
        "id": "QWrvP-b5upOI"
      },
      "source": [
        "PADDING\n",
        "\n",
        "Next, we cut and pad the token and label sequences to our desired length."
      ]
    },
    {
      "cell_type": "code",
      "metadata": {
        "id": "y2fo79hvu-sN"
      },
      "source": [
        "input_ids = pad_sequences([tokenizer.convert_tokens_to_ids(txt) for txt in tokenized_sentence],\n",
        "                          maxlen=max_seq_len, dtype=\"long\", value=0.0,\n",
        "                          truncating=\"post\", padding=\"post\")"
      ],
      "execution_count": null,
      "outputs": []
    },
    {
      "cell_type": "code",
      "metadata": {
        "id": "hKP15G3uwsg9",
        "colab": {
          "base_uri": "https://localhost:8080/"
        },
        "outputId": "98aa042c-eb04-491e-e2f6-ca9550dd7f8f"
      },
      "source": [
        "input_ids[0]"
      ],
      "execution_count": null,
      "outputs": [
        {
          "output_type": "execute_result",
          "data": {
            "text/plain": [
              "array([15393,   118,   123,  5565,  2838,  1105,   151,  2271,   118,\n",
              "       24181, 13059,   139, 14915,  1194,  2891, 24606,  5315, 26844,\n",
              "        7621,  1707,  1118,   126,   118,  4764, 10649,  1183,  4915,\n",
              "        6530,   119,     0,     0,     0,     0,     0,     0,     0,\n",
              "           0,     0,     0,     0,     0,     0,     0,     0,     0,\n",
              "           0,     0,     0,     0,     0])"
            ]
          },
          "metadata": {
            "tags": []
          },
          "execution_count": 43
        }
      ]
    },
    {
      "cell_type": "code",
      "metadata": {
        "id": "cOzY6UfA2lqA"
      },
      "source": [
        "input_ids_test = pad_sequences([tokenizer.convert_tokens_to_ids(txt) for txt in tokenized_sentence_test],\n",
        "                          maxlen=max_seq_len, dtype=\"long\", value=0.0,\n",
        "                          truncating=\"post\", padding=\"post\")"
      ],
      "execution_count": null,
      "outputs": []
    },
    {
      "cell_type": "code",
      "metadata": {
        "id": "qIXfWVig-YbU"
      },
      "source": [
        "# Converting sublabels\n",
        "tags = [[tag2idx.get(l) for l in lab] for lab in labels]"
      ],
      "execution_count": null,
      "outputs": []
    },
    {
      "cell_type": "code",
      "metadata": {
        "id": "fdnJcALd20xo"
      },
      "source": [
        "tags_test = [[tag2idx.get(l) for l in lab] for lab in labels_test]"
      ],
      "execution_count": null,
      "outputs": []
    },
    {
      "cell_type": "markdown",
      "metadata": {
        "id": "Z-Bic46mHG9T"
      },
      "source": [
        "PADDING LABELS"
      ]
    },
    {
      "cell_type": "code",
      "metadata": {
        "id": "uuB8xlazuwOn"
      },
      "source": [
        "tags = pad_sequences(tags,\n",
        "                     maxlen=max_seq_len, value=tag2idx[\"PAD\"], padding=\"post\",\n",
        "                     dtype=\"long\", truncating=\"post\")"
      ],
      "execution_count": null,
      "outputs": []
    },
    {
      "cell_type": "code",
      "metadata": {
        "id": "IfAHlZmg292x"
      },
      "source": [
        "tags_test = pad_sequences(tags_test,\n",
        "                     maxlen=max_seq_len, value=tag2idx[\"PAD\"], padding=\"post\",\n",
        "                     dtype=\"long\", truncating=\"post\")"
      ],
      "execution_count": null,
      "outputs": []
    },
    {
      "cell_type": "code",
      "metadata": {
        "id": "Y6Qoq_QL54oz",
        "colab": {
          "base_uri": "https://localhost:8080/"
        },
        "outputId": "6dbb2584-2135-44b5-c64b-456d987851b6"
      },
      "source": [
        "tags[0]"
      ],
      "execution_count": null,
      "outputs": [
        {
          "output_type": "execute_result",
          "data": {
            "text/plain": [
              "array([9, 9, 9, 4, 7, 7, 6, 6, 6, 6, 6, 3, 7, 7, 6, 6, 7, 7, 7, 7, 7, 6,\n",
              "       6, 6, 6, 6, 6, 6, 7, 0, 0, 0, 0, 0, 0, 0, 0, 0, 0, 0, 0, 0, 0, 0,\n",
              "       0, 0, 0, 0, 0, 0])"
            ]
          },
          "metadata": {
            "tags": []
          },
          "execution_count": 49
        }
      ]
    },
    {
      "cell_type": "markdown",
      "metadata": {
        "id": "1PZdDJMQ-veR"
      },
      "source": [
        "The mask tensor allows the model to ignore the padded elements in the sequences."
      ]
    },
    {
      "cell_type": "code",
      "metadata": {
        "id": "Li9u3YNyuwVd"
      },
      "source": [
        "attention_masks = [[float(i != 0.0) for i in ii] for ii in input_ids]"
      ],
      "execution_count": null,
      "outputs": []
    },
    {
      "cell_type": "code",
      "metadata": {
        "id": "a8RFj6E83Hjp"
      },
      "source": [
        "attention_masks_test = [[float(i != 0.0) for i in ii] for ii in input_ids_test]"
      ],
      "execution_count": null,
      "outputs": []
    },
    {
      "cell_type": "code",
      "metadata": {
        "id": "Ti0TT3ITHRwn"
      },
      "source": [
        "#attention_masks[0]"
      ],
      "execution_count": null,
      "outputs": []
    },
    {
      "cell_type": "markdown",
      "metadata": {
        "id": "v687PMlk_bVs"
      },
      "source": [
        "# SPLITTING TRAIN AND VALIDATION SET"
      ]
    },
    {
      "cell_type": "code",
      "metadata": {
        "id": "I3PpvCjAuwTP"
      },
      "source": [
        "tr_inputs, val_inputs, tr_tags, val_tags = train_test_split(input_ids, tags,\n",
        "                                                            random_state=2018, test_size=0.1)\n",
        "tr_masks, val_masks, _, _ = train_test_split(attention_masks, input_ids,\n",
        "                                             random_state=2018, test_size=0.1)"
      ],
      "execution_count": null,
      "outputs": []
    },
    {
      "cell_type": "code",
      "metadata": {
        "id": "VHlVB3DWbUSg",
        "colab": {
          "base_uri": "https://localhost:8080/"
        },
        "outputId": "3f77c3f1-41c2-46cb-b315-58f9b2175b76"
      },
      "source": [
        "tr_inputs[0]"
      ],
      "execution_count": null,
      "outputs": [
        {
          "output_type": "execute_result",
          "data": {
            "text/plain": [
              "array([ 1188,  3606, 11363, 19540,  1104,  3908, 18091,   140,  1161,\n",
              "        1477,   116,  1194,  1664,   118, 10323,   118,  5400,  1181,\n",
              "        1105, 27453,  1477,   116,   118,  3510,  1895,   140,  1161,\n",
              "        1477,   116,  6412,  1104,  1103, 13441, 10936,   119,     0,\n",
              "           0,     0,     0,     0,     0,     0,     0,     0,     0,\n",
              "           0,     0,     0,     0,     0])"
            ]
          },
          "metadata": {
            "tags": []
          },
          "execution_count": 54
        }
      ]
    },
    {
      "cell_type": "markdown",
      "metadata": {
        "id": "yVTcaY4K_X4f"
      },
      "source": [
        "Since we’re operating in pytorch, we have to convert the dataset to torch tensors."
      ]
    },
    {
      "cell_type": "code",
      "metadata": {
        "id": "7XpuJvxTuwRS"
      },
      "source": [
        "# Make tensors\n",
        "tr_inputs = torch.tensor(tr_inputs)\n",
        "val_inputs = torch.tensor(val_inputs)\n",
        "tr_tags = torch.tensor(tr_tags)\n",
        "val_tags = torch.tensor(val_tags)\n",
        "tr_masks = torch.tensor(tr_masks)\n",
        "val_masks = torch.tensor(val_masks)"
      ],
      "execution_count": null,
      "outputs": []
    },
    {
      "cell_type": "code",
      "metadata": {
        "id": "8o__Z1Z53VPa"
      },
      "source": [
        "# Make tensors\n",
        "test_input =  torch.tensor(input_ids_test)\n",
        "test_masks = torch.tensor(attention_masks_test)"
      ],
      "execution_count": null,
      "outputs": []
    },
    {
      "cell_type": "code",
      "metadata": {
        "id": "t7Vjj-lczpJQ"
      },
      "source": [
        "test_data = TensorDataset(test_input, test_masks)\n",
        "test_sampler = SequentialSampler(test_data)\n",
        "test_dataloader = DataLoader(test_data, sampler=test_sampler, batch_size=bs)"
      ],
      "execution_count": null,
      "outputs": []
    },
    {
      "cell_type": "code",
      "metadata": {
        "id": "tZAooL53_lM1"
      },
      "source": [
        "train_data = TensorDataset(tr_inputs, tr_masks, tr_tags)\n",
        "train_sampler = RandomSampler(train_data)\n",
        "train_dataloader = DataLoader(train_data, sampler=train_sampler, batch_size=bs)\n",
        "\n",
        "valid_data = TensorDataset(val_inputs, val_masks, val_tags)\n",
        "valid_sampler = SequentialSampler(valid_data)\n",
        "valid_dataloader = DataLoader(valid_data, sampler=valid_sampler, batch_size=bs)"
      ],
      "execution_count": null,
      "outputs": []
    },
    {
      "cell_type": "code",
      "metadata": {
        "id": "5l2xtUv9_lqa",
        "colab": {
          "base_uri": "https://localhost:8080/"
        },
        "outputId": "f31482e7-e571-4a84-c4ad-5712f43281ab"
      },
      "source": [
        "train_dataloader.dataset.tensors[0]"
      ],
      "execution_count": null,
      "outputs": [
        {
          "output_type": "execute_result",
          "data": {
            "text/plain": [
              "tensor([[ 1188,  3606, 11363,  ...,     0,     0,     0],\n",
              "        [  140, 15499,  2604,  ...,     0,     0,     0],\n",
              "        [ 1109, 16143,  1116,  ...,  5565, 17110,  1116],\n",
              "        ...,\n",
              "        [ 1457,  4060,  6856,  ...,     0,     0,     0],\n",
              "        [ 1650,  7577,   117,  ...,     0,     0,     0],\n",
              "        [  138,  7300,  1193,  ...,  2271,   118, 24181]])"
            ]
          },
          "metadata": {
            "tags": []
          },
          "execution_count": 59
        }
      ]
    },
    {
      "cell_type": "markdown",
      "metadata": {
        "id": "9469iGER1ddD"
      },
      "source": [
        ""
      ]
    },
    {
      "cell_type": "markdown",
      "metadata": {
        "id": "WHHZpXrCCTd6"
      },
      "source": [
        "# MODEL FINE-TUNING"
      ]
    },
    {
      "cell_type": "markdown",
      "metadata": {
        "id": "QubnLtzF_6_N"
      },
      "source": [
        "The transformer package provides a BertForTokenClassification class for token-level predictions. BertForTokenClassification is a fine-tuning model that wraps BertModel and adds a token-level classifier on top of the BertModel. The token-level classifier is a linear layer that takes as input the last hidden state of the sequence. We load the pre-trained bert-base-cased model and provide the number of possible labels.\n",
        "\n"
      ]
    },
    {
      "cell_type": "code",
      "metadata": {
        "colab": {
          "base_uri": "https://localhost:8080/"
        },
        "id": "9zg9ydFdIcHp",
        "outputId": "743026ab-da64-4106-884b-aeb082447c84"
      },
      "source": [
        "!pip install adamp --upgrade"
      ],
      "execution_count": null,
      "outputs": [
        {
          "output_type": "stream",
          "text": [
            "Requirement already up-to-date: adamp in /usr/local/lib/python3.7/dist-packages (0.3.0)\n"
          ],
          "name": "stdout"
        }
      ]
    },
    {
      "cell_type": "code",
      "metadata": {
        "id": "I3-jxJ3w_lw7",
        "colab": {
          "base_uri": "https://localhost:8080/",
          "height": 35
        },
        "outputId": "9373d426-4375-4ab8-876b-ad787956a6b7"
      },
      "source": [
        "import transformers\n",
        "from transformers import BertForTokenClassification, AdamW\n",
        "\n",
        "transformers.__version__"
      ],
      "execution_count": null,
      "outputs": [
        {
          "output_type": "execute_result",
          "data": {
            "application/vnd.google.colaboratory.intrinsic+json": {
              "type": "string"
            },
            "text/plain": [
              "'2.6.0'"
            ]
          },
          "metadata": {
            "tags": []
          },
          "execution_count": 61
        }
      ]
    },
    {
      "cell_type": "code",
      "metadata": {
        "id": "OKJrrc9I_9Y4",
        "colab": {
          "base_uri": "https://localhost:8080/",
          "height": 116,
          "referenced_widgets": [
            "af4dd2b9e9ca4d57986c5cee5e551f6c",
            "87a4e92928d94d5ab867464287e1fb87",
            "f7f9c68a51d64ae7a16f8ed0cab99613",
            "6ae1e3f9223349778fe9b5932414b8fe",
            "55c99f9dc1d145d1afb52066c2c7a40a",
            "01b53f804cd04be58cd5eb6b05da2a7a",
            "35cd513d48f04879af2e9f9a1b14f332",
            "0e4fd335eb84411cabf1ebe57c711ec2",
            "991e5890419b4ea3b4594b84d424fe73",
            "c4291bf8863f4e71ab825dd4a727edd3",
            "e3935fb4da1b4c2eb9c6169cd1b1b88a",
            "27bbe794d08f4c8897428c7e58ec38d4",
            "3727a1b6dcf249afa15269a7c4ebf5cd",
            "fc4c8bcdc72f40d19f73c43cd4657fbb",
            "77242acb91b44d008f6be00e726eca76",
            "0dca2ab001144e23a7c6f8cdd9edd222"
          ]
        },
        "outputId": "77584c7c-7622-4a2d-ee29-a9ee67109033"
      },
      "source": [
        "# Load pretrained BertForTokenClassification model\n",
        "model = BertForTokenClassification.from_pretrained(\n",
        "    \"bert-large-cased\",\n",
        "    num_labels=len(tag2idx),\n",
        "    output_attentions = False,\n",
        "    output_hidden_states = False,\n",
        "    force_download = True\n",
        "\n",
        ")"
      ],
      "execution_count": null,
      "outputs": [
        {
          "output_type": "display_data",
          "data": {
            "application/vnd.jupyter.widget-view+json": {
              "model_id": "af4dd2b9e9ca4d57986c5cee5e551f6c",
              "version_minor": 0,
              "version_major": 2
            },
            "text/plain": [
              "HBox(children=(FloatProgress(value=0.0, description='Downloading', max=625.0, style=ProgressStyle(description_…"
            ]
          },
          "metadata": {
            "tags": []
          }
        },
        {
          "output_type": "stream",
          "text": [
            "\n"
          ],
          "name": "stdout"
        },
        {
          "output_type": "display_data",
          "data": {
            "application/vnd.jupyter.widget-view+json": {
              "model_id": "991e5890419b4ea3b4594b84d424fe73",
              "version_minor": 0,
              "version_major": 2
            },
            "text/plain": [
              "HBox(children=(FloatProgress(value=0.0, description='Downloading', max=1338740706.0, style=ProgressStyle(descr…"
            ]
          },
          "metadata": {
            "tags": []
          }
        },
        {
          "output_type": "stream",
          "text": [
            "\n"
          ],
          "name": "stdout"
        }
      ]
    },
    {
      "cell_type": "code",
      "metadata": {
        "id": "OFm5vdN8uqIU"
      },
      "source": [
        "%%capture\n",
        "model.cuda()"
      ],
      "execution_count": null,
      "outputs": []
    },
    {
      "cell_type": "code",
      "metadata": {
        "id": "Dm219cAG_9d0"
      },
      "source": [
        "FULL_FINETUNING = True\n",
        "if FULL_FINETUNING:\n",
        "    param_optimizer = list(model.named_parameters())\n",
        "    no_decay = ['bias', 'gamma', 'beta']\n",
        "    optimizer_grouped_parameters = [\n",
        "        {'params': [p for n, p in param_optimizer if not any(nd in n for nd in no_decay)],\n",
        "         'weight_decay_rate': 0.01},\n",
        "        {'params': [p for n, p in param_optimizer if any(nd in n for nd in no_decay)],\n",
        "         'weight_decay_rate': 0.0}\n",
        "    ]\n",
        "else:\n",
        "    param_optimizer = list(model.classifier.named_parameters())\n",
        "    optimizer_grouped_parameters = [{\"params\": [p for n, p in param_optimizer]}]\n",
        "\n",
        "optimizer = AdamW(\n",
        "    optimizer_grouped_parameters, \n",
        "    lr=5e-5,\n",
        "    #eps=1e-8\n",
        ")"
      ],
      "execution_count": null,
      "outputs": []
    },
    {
      "cell_type": "markdown",
      "metadata": {
        "id": "Dwqy_vzuAa1i"
      },
      "source": [
        "We also add a scheduler to linearly reduce the learning rate throughout the epochs.\n"
      ]
    },
    {
      "cell_type": "code",
      "metadata": {
        "id": "iiAnNrOA_9iY"
      },
      "source": [
        "from transformers import get_linear_schedule_with_warmup\n",
        "\n",
        "epochs = 3\n",
        "max_grad_norm = 1.0\n",
        "\n",
        "# Total number of training steps is number of batches * number of epochs\n",
        "total_steps = len(train_dataloader) * epochs\n",
        "\n",
        "# Create the learning rate scheduler\n",
        "scheduler = get_linear_schedule_with_warmup(\n",
        "    optimizer,\n",
        "    num_warmup_steps=0,\n",
        "    num_training_steps=total_steps  e\n",
        ")"
      ],
      "execution_count": null,
      "outputs": []
    },
    {
      "cell_type": "markdown",
      "metadata": {
        "id": "CgQt1SA-ChOa"
      },
      "source": [
        "# TRAINING"
      ]
    },
    {
      "cell_type": "code",
      "metadata": {
        "id": "Il9ys4snAoyA"
      },
      "source": [
        "%%capture\n",
        "!pip3 install seqeval"
      ],
      "execution_count": null,
      "outputs": []
    },
    {
      "cell_type": "code",
      "metadata": {
        "id": "rXjRzI-G_9k2"
      },
      "source": [
        "from seqeval.metrics import f1_score, accuracy_score\n",
        "from tqdm import tqdm, trange"
      ],
      "execution_count": null,
      "outputs": []
    },
    {
      "cell_type": "code",
      "metadata": {
        "id": "i1_on2DAqK68"
      },
      "source": [
        "output_dir = \"/content/drive/MyDrive/BIO-NER-project\""
      ],
      "execution_count": null,
      "outputs": []
    },
    {
      "cell_type": "code",
      "metadata": {
        "id": "qlHExvyW9Y69"
      },
      "source": [
        "import os"
      ],
      "execution_count": null,
      "outputs": []
    },
    {
      "cell_type": "code",
      "metadata": {
        "id": "g4QfRyud_9gu",
        "colab": {
          "base_uri": "https://localhost:8080/"
        },
        "outputId": "49ff7ed6-9531-4109-b479-4f5a398d64e2"
      },
      "source": [
        "## Store the average loss after each epoch so we can plot them.\n",
        "loss_values, validation_loss_values = [], []\n",
        "valid_f1_prev = 0\n",
        "for epoch in trange(epochs):\n",
        "    # ========================================\n",
        "    #               Training\n",
        "    # ========================================\n",
        "    # Perform one full pass over the training set.\n",
        "\n",
        "    # Put the model into training mode.\n",
        "    model.train()\n",
        "    # Reset the total loss for this epoch.\n",
        "    total_loss = 0\n",
        "\n",
        "    # Training loop\n",
        "    for step, batch in enumerate(train_dataloader):\n",
        "        # add batch to gpu\n",
        "        batch = tuple(t.to(device) for t in batch)\n",
        "        b_input_ids, b_input_mask, b_labels = batch\n",
        "        # Always clear any previously calculated gradients before performing a backward pass.\n",
        "        model.zero_grad()\n",
        "        # forward pass\n",
        "        # This will return the loss (rather than the model output)\n",
        "        # because we have provided the `labels`.\n",
        "        outputs = model(b_input_ids, token_type_ids=None,\n",
        "                        attention_mask=b_input_mask, labels=b_labels)\n",
        "        # get the loss\n",
        "        loss = outputs[0]\n",
        "        # Perform a backward pass to calculate the gradients.\n",
        "        loss.backward()\n",
        "        # track train loss\n",
        "        total_loss += loss.item()\n",
        "        # Clip the norm of the gradient\n",
        "        # This is to help prevent the \"exploding gradients\" problem.\n",
        "        torch.nn.utils.clip_grad_norm_(parameters=model.parameters(), max_norm=max_grad_norm)\n",
        "        # update parameters\n",
        "        optimizer.step()\n",
        "        # Update the learning rate.\n",
        "        scheduler.step()\n",
        "\n",
        "\n",
        "    # Calculate the average loss over the training data.\n",
        "    avg_train_loss = total_loss / len(train_dataloader)\n",
        "    print(\"Average train loss: {}\".format(avg_train_loss))\n",
        "\n",
        "    # Store the loss value for plotting the learning curve.\n",
        "    loss_values.append(avg_train_loss)\n",
        "\n",
        "\n",
        "    # ========================================\n",
        "    #               Validation\n",
        "    # ========================================\n",
        "    # After the completion of each training epoch, measure our performance on\n",
        "    # our validation set.\n",
        "\n",
        "    # Put the model into evaluation mode\n",
        "    model.eval()\n",
        "    # Reset the validation loss for this epoch.\n",
        "    eval_loss, eval_accuracy = 0, 0\n",
        "    nb_eval_steps, nb_eval_examples = 0, 0\n",
        "    predictions , true_labels = [], []\n",
        "    for batch in valid_dataloader:\n",
        "        batch = tuple(t.to(device) for t in batch)\n",
        "        b_input_ids, b_input_mask, b_labels = batch\n",
        "\n",
        "        # Telling the model not to compute or store gradients,\n",
        "        # saving memory and speeding up validation\n",
        "        with torch.no_grad():\n",
        "            # Forward pass, calculate logit predictions.\n",
        "            # This will return the logits rather than the loss because we have not provided labels.\n",
        "            outputs = model(b_input_ids, token_type_ids=None,\n",
        "                            attention_mask=b_input_mask, labels=b_labels)\n",
        "        # Move logits and labels to CPU\n",
        "        logits = outputs[1].detach().cpu().numpy()\n",
        "        label_ids = b_labels.to('cpu').numpy()\n",
        "\n",
        "        # Calculate the accuracy for this batch of test sentences.\n",
        "        eval_loss += outputs[0].mean().item()\n",
        "        predictions.extend([list(p) for p in np.argmax(logits, axis=2)])\n",
        "        true_labels.extend(label_ids)\n",
        "\n",
        "    \n",
        "\n",
        "    eval_loss = eval_loss / len(valid_dataloader)\n",
        "    validation_loss_values.append(eval_loss)\n",
        "    print(\"Validation loss: {}\".format(eval_loss))\n",
        "    pred_tags = [[idx2tag[p_i] for p_i,l_i in zip(p, l) if idx2tag[l_i] != \"PAD\"] for p,l in zip(predictions, true_labels)]\n",
        "    valid_tags = [[idx2tag[l_i] for l_i in s if idx2tag[l_i] != \"PAD\"] for s in true_labels ]\n",
        "    valid_acc = accuracy_score(pred_tags, valid_tags)\n",
        "    valid_f1 = f1_score(pred_tags, valid_tags)\n",
        "\n",
        "    print(\"Validation Accuracy: {}\".format(valid_acc))\n",
        "    print(\"Validation F1-Score: {}\".format(valid_f1))\n",
        "    print()\n",
        "\n",
        "    # Save model with best F1 \n",
        "    if valid_f1 > valid_f1_prev:\n",
        "        # model_to_save = model.module if hasattr(model, 'module') else model  # Only save the model it-self\n",
        "        torch.save({'epoch': epoch, 'model_state': model.state_dict(), 'valid_acc': valid_acc,\n",
        "    'valid_f1': valid_f1, 'max_seq_length': max_seq_len},  # Save a checkpoint\n",
        "            os.path.join(output_dir, 'ner_bert_checkpoint.pt'))\n",
        "        valid_f1_prev = valid_f1\n"
      ],
      "execution_count": null,
      "outputs": [
        {
          "output_type": "stream",
          "text": [
            "\r  0%|          | 0/3 [00:00<?, ?it/s]/usr/local/lib/python3.7/dist-packages/transformers/optimization.py:155: UserWarning: This overload of add_ is deprecated:\n",
            "\tadd_(Number alpha, Tensor other)\n",
            "Consider using one of the following signatures instead:\n",
            "\tadd_(Tensor other, *, Number alpha) (Triggered internally at  /pytorch/torch/csrc/utils/python_arg_parser.cpp:1005.)\n",
            "  exp_avg.mul_(beta1).add_(1.0 - beta1, grad)\n"
          ],
          "name": "stderr"
        },
        {
          "output_type": "stream",
          "text": [
            "Average train loss: 0.393123296970837\n",
            "Validation loss: 0.24564907160298577\n",
            "Validation Accuracy: 0.9183214577736246\n",
            "Validation F1-Score: 0.8179249091643116\n",
            "\n"
          ],
          "name": "stdout"
        },
        {
          "output_type": "stream",
          "text": [
            "\r 33%|███▎      | 1/3 [17:21<34:43, 1041.88s/it]"
          ],
          "name": "stderr"
        },
        {
          "output_type": "stream",
          "text": [
            "Average train loss: 0.20007313418262762\n",
            "Validation loss: 0.21977443787558326\n",
            "Validation Accuracy: 0.9263228594790328\n",
            "Validation F1-Score: 0.8424508391678672\n",
            "\n"
          ],
          "name": "stdout"
        },
        {
          "output_type": "stream",
          "text": [
            "\r 67%|██████▋   | 2/3 [34:43<17:21, 1041.68s/it]"
          ],
          "name": "stderr"
        },
        {
          "output_type": "stream",
          "text": [
            "Average train loss: 0.13482766960287232\n",
            "Validation loss: 0.23094510749496264\n",
            "Validation Accuracy: 0.9296373087256161\n",
            "Validation F1-Score: 0.8497042211156044\n",
            "\n"
          ],
          "name": "stdout"
        },
        {
          "output_type": "stream",
          "text": [
            "100%|██████████| 3/3 [52:06<00:00, 1042.23s/it]\n"
          ],
          "name": "stderr"
        }
      ]
    },
    {
      "cell_type": "markdown",
      "metadata": {
        "id": "WLNEf_NYhb5S"
      },
      "source": [
        "# EVAL VISUALIZATION ON VALIDATION SET"
      ]
    },
    {
      "cell_type": "code",
      "metadata": {
        "id": "NJnJsXmy_9b-",
        "colab": {
          "base_uri": "https://localhost:8080/",
          "height": 301
        },
        "outputId": "b80cb84b-182c-4177-ecba-690407b9dc99"
      },
      "source": [
        "import matplotlib.pyplot as plt\n",
        "%matplotlib inline\n",
        "\n",
        "import seaborn as sns\n",
        "\n",
        "# Use plot styling from seaborn.\n",
        "sns.set(style='whitegrid')\n",
        "\n",
        "# Plot the learning curve.\n",
        "plt.plot(loss_values, 'b-o', label=\"training loss\")\n",
        "plt.plot(validation_loss_values, 'r-o', label=\"validation loss\")\n",
        "\n",
        "# Label the plot.\n",
        "plt.title(\"Learning curve\")\n",
        "plt.xlabel(\"Epoch\")\n",
        "plt.ylabel(\"Loss\")\n",
        "plt.legend()\n",
        "\n",
        "plt.show()\n"
      ],
      "execution_count": null,
      "outputs": [
        {
          "output_type": "display_data",
          "data": {
            "image/png": "[encoded data removed]",
            "text/plain": [
              "<Figure size 432x288 with 1 Axes>"
            ]
          },
          "metadata": {
            "tags": []
          }
        }
      ]
    },
    {
      "cell_type": "code",
      "metadata": {
        "id": "7ZEsXHEqjalS",
        "colab": {
          "base_uri": "https://localhost:8080/"
        },
        "outputId": "5f177673-a89d-454a-90e5-9e101d886bb4"
      },
      "source": [
        "from seqeval.metrics import classification_report\n",
        "\n",
        "print(classification_report(pred_tags, valid_tags))"
      ],
      "execution_count": null,
      "outputs": [
        {
          "output_type": "stream",
          "text": [
            "              precision    recall  f1-score   support\n",
            "\n",
            "         DNA       0.84      0.76      0.80      2651\n",
            "         RNA       0.82      0.83      0.83       283\n",
            "   cell_line       0.76      0.72      0.74      1087\n",
            "   cell_type       0.79      0.78      0.78      1435\n",
            "     protein       0.90      0.87      0.89      9845\n",
            "\n",
            "   micro avg       0.87      0.83      0.85     15301\n",
            "   macro avg       0.82      0.79      0.81     15301\n",
            "weighted avg       0.87      0.83      0.85     15301\n",
            "\n"
          ],
          "name": "stdout"
        }
      ]
    },
    {
      "cell_type": "markdown",
      "metadata": {
        "id": "eiDMVDGKW1Zb"
      },
      "source": [
        "# PREDICTION ON INDIPENDENT TEST SET"
      ]
    },
    {
      "cell_type": "code",
      "metadata": {
        "id": "EbyyoS8THNV6"
      },
      "source": [
        "X_test = docs_test.sentences"
      ],
      "execution_count": null,
      "outputs": []
    },
    {
      "cell_type": "code",
      "metadata": {
        "id": "dzrW1oVczcgp"
      },
      "source": [
        "input_ids_test1 = torch.tensor(input_ids_test).cuda()"
      ],
      "execution_count": null,
      "outputs": []
    },
    {
      "cell_type": "code",
      "metadata": {
        "colab": {
          "base_uri": "https://localhost:8080/"
        },
        "id": "poAPOslrAYB6",
        "outputId": "778e8f13-583b-460d-ab46-919251993d5c"
      },
      "source": [
        "input_ids_test1"
      ],
      "execution_count": null,
      "outputs": [
        {
          "output_type": "execute_result",
          "data": {
            "text/plain": [
              "tensor([[ 7421,  1104,   176,  ...,     0,     0,     0],\n",
              "        [ 1109,  2025,  7160,  ..., 14794,  5796,   119],\n",
              "        [ 1130,  1103,   181,  ...,  1107,  1103,  1269],\n",
              "        ...,\n",
              "        [ 7715,  4272,  3438,  ...,     0,     0,     0],\n",
              "        [18732, 15517,  2162,  ...,     0,     0,     0],\n",
              "        [ 1135,  1110, 14255,  ...,  3052,   117, 12641]], device='cuda:0')"
            ]
          },
          "metadata": {
            "tags": []
          },
          "execution_count": 75
        }
      ]
    },
    {
      "cell_type": "code",
      "metadata": {
        "colab": {
          "base_uri": "https://localhost:8080/"
        },
        "id": "Ke4wohS_SgbV",
        "outputId": "f9d04624-f7a1-4c89-8d64-84ba7b8a06d2"
      },
      "source": [
        "# Load model checkpoint\n",
        "checkpoint = torch.load(output_dir+'/ner_bert_checkpoint.pt', map_location='cpu')\n",
        "\n",
        "epoch = checkpoint['epoch']\n",
        "valid_acc_prev = checkpoint['valid_acc']\n",
        "valid_f1_prev = checkpoint['valid_f1']\n",
        "\n",
        "model = BertForTokenClassification.from_pretrained(\"bert-large-cased\", state_dict=checkpoint['model_state'], num_labels=len(tag2idx))\n",
        "model.to(device)\n",
        "print('Loaded the pretrained BERT model, epoch:',checkpoint['epoch'],'valid acc:', round(checkpoint['valid_acc'], 3), 'valid f1:', round(checkpoint['valid_f1'], 3))\n"
      ],
      "execution_count": null,
      "outputs": [
        {
          "output_type": "stream",
          "text": [
            "Loaded the pretrained BERT model, epoch: 2 valid acc: 0.93 valid f1: 0.85\n"
          ],
          "name": "stdout"
        }
      ]
    },
    {
      "cell_type": "code",
      "metadata": {
        "id": "zLWWoSjtc8ok"
      },
      "source": [
        "predictions = []\n",
        "\n",
        "with torch.no_grad():\n",
        "  for batch in test_dataloader:\n",
        "    batch = tuple(t.to(device) for t in batch)\n",
        "    b_input_ids, b_input_mask = batch\n",
        "    outputs = model(b_input_ids, attention_mask=b_input_mask)\n",
        "    _, predicted = torch.max(outputs[0], -1)\n",
        "    predictions.extend(predicted.tolist())"
      ],
      "execution_count": null,
      "outputs": []
    },
    {
      "cell_type": "code",
      "metadata": {
        "id": "UaG4VLM3Cu0A"
      },
      "source": [
        "converted = []\n",
        "for sent in input_ids_test1:\n",
        "  sent1 = tokenizer.convert_ids_to_tokens(sent.to('cpu'))\n",
        "  converted.append(sent1)"
      ],
      "execution_count": null,
      "outputs": []
    },
    {
      "cell_type": "code",
      "metadata": {
        "id": "q6dHyr7HqbYK",
        "colab": {
          "base_uri": "https://localhost:8080/"
        },
        "outputId": "f951e58c-2c2d-46b9-d6b2-ccee20a487ad"
      },
      "source": [
        "converted[0]"
      ],
      "execution_count": null,
      "outputs": [
        {
          "output_type": "execute_result",
          "data": {
            "text/plain": [
              "['Number',\n",
              " 'of',\n",
              " 'g',\n",
              " '##lu',\n",
              " '##co',\n",
              " '##cor',\n",
              " '##tic',\n",
              " '##oid',\n",
              " 'receptors',\n",
              " 'in',\n",
              " 'l',\n",
              " '##ymph',\n",
              " '##ocytes',\n",
              " 'and',\n",
              " 'their',\n",
              " 'sensitivity',\n",
              " 'to',\n",
              " 'hormone',\n",
              " 'action',\n",
              " '.',\n",
              " '[PAD]',\n",
              " '[PAD]',\n",
              " '[PAD]',\n",
              " '[PAD]',\n",
              " '[PAD]',\n",
              " '[PAD]',\n",
              " '[PAD]',\n",
              " '[PAD]',\n",
              " '[PAD]',\n",
              " '[PAD]',\n",
              " '[PAD]',\n",
              " '[PAD]',\n",
              " '[PAD]',\n",
              " '[PAD]',\n",
              " '[PAD]',\n",
              " '[PAD]',\n",
              " '[PAD]',\n",
              " '[PAD]',\n",
              " '[PAD]',\n",
              " '[PAD]',\n",
              " '[PAD]',\n",
              " '[PAD]',\n",
              " '[PAD]',\n",
              " '[PAD]',\n",
              " '[PAD]',\n",
              " '[PAD]',\n",
              " '[PAD]',\n",
              " '[PAD]',\n",
              " '[PAD]',\n",
              " '[PAD]']"
            ]
          },
          "metadata": {
            "tags": []
          },
          "execution_count": 79
        }
      ]
    },
    {
      "cell_type": "markdown",
      "metadata": {
        "id": "fTcFbuccTJzJ"
      },
      "source": [
        "# POST-PROCESSING"
      ]
    },
    {
      "cell_type": "code",
      "metadata": {
        "id": "myB8eP4xjbKg"
      },
      "source": [
        "# Take track of original tokenization appending original indices in a list\n",
        "\n",
        "list_tok_to_orig = []\n",
        "list_all_tok = []\n",
        "list_orig_to_tok = []\n",
        "for s in docs_test.sentences:\n",
        "  tok_to_orig_index = []\n",
        "  orig_to_tok_index = []\n",
        "  all_doc_tokens = []\n",
        "  for (i, token) in enumerate(s):\n",
        "    orig_to_tok_index.append(len(all_doc_tokens))\n",
        "    sub_tokens = tokenizer.tokenize(token)\n",
        "    for sub_token in sub_tokens:\n",
        "      tok_to_orig_index.append(i)\n",
        "      all_doc_tokens.append(sub_token)\n",
        "  list_tok_to_orig.append(tok_to_orig_index)\n",
        "  list_all_tok.append(all_doc_tokens)\n",
        "  list_orig_to_tok.append(orig_to_tok_index)"
      ],
      "execution_count": null,
      "outputs": []
    },
    {
      "cell_type": "code",
      "metadata": {
        "id": "mBQOkYQDFQhV",
        "colab": {
          "base_uri": "https://localhost:8080/"
        },
        "outputId": "f398a534-434b-4a82-d4d9-cf1cfae96fe7"
      },
      "source": [
        "for i, token, l in zip(list_tok_to_orig[0], list_all_tok[0], predictions[0]):\n",
        "  print(i, token, l)"
      ],
      "execution_count": null,
      "outputs": [
        {
          "output_type": "stream",
          "text": [
            "0 Number 7\n",
            "1 of 7\n",
            "2 g 6\n",
            "2 ##lu 6\n",
            "2 ##co 6\n",
            "2 ##cor 6\n",
            "2 ##tic 6\n",
            "2 ##oid 6\n",
            "3 receptors 3\n",
            "4 in 7\n",
            "5 l 1\n",
            "5 ##ymph 1\n",
            "5 ##ocytes 1\n",
            "6 and 7\n",
            "7 their 7\n",
            "8 sensitivity 7\n",
            "9 to 7\n",
            "10 hormone 7\n",
            "11 action 7\n",
            "12 . 7\n"
          ],
          "name": "stdout"
        }
      ]
    },
    {
      "cell_type": "code",
      "metadata": {
        "id": "WGfVKZcv_PLC"
      },
      "source": [
        "# Detokenization : Restore the original token sequences\n",
        "\n",
        "original_test_sentence, y_hat, y_true = [], [], []\n",
        "for sent, i, lidx, lidtrue in zip(list_all_tok, list_tok_to_orig, predictions, tags_test):\n",
        "  position = None\n",
        "  new_tokens, new_labels_hat, new_labels_true = [], [], []\n",
        "  for token, j, label_idx, label_idx_true in zip(sent, i, lidx, lidtrue):\n",
        "    if position == j:\n",
        "      new_tokens[-1] = new_tokens[-1] + token\n",
        "    else:\n",
        "      new_labels_hat.append(idx2tag[label_idx])\n",
        "      new_labels_true.append(idx2tag[label_idx_true])\n",
        "      new_tokens.append(token)\n",
        "      position = j\n",
        "  original_test_sentence.append(new_tokens)\n",
        "  original_test_sentence = [[item.replace(\"##\", \"\") for item in s] for s in original_test_sentence]\n",
        "  y_hat.append(new_labels_hat)\n",
        "  y_true.append(new_labels_true)"
      ],
      "execution_count": null,
      "outputs": []
    },
    {
      "cell_type": "code",
      "metadata": {
        "colab": {
          "base_uri": "https://localhost:8080/"
        },
        "id": "7uH--SO7jwzQ",
        "outputId": "3bdff2da-df69-4df5-8244-9665c818b23f"
      },
      "source": [
        "y_hat[0]"
      ],
      "execution_count": null,
      "outputs": [
        {
          "output_type": "execute_result",
          "data": {
            "text/plain": [
              "['O',\n",
              " 'O',\n",
              " 'B-protein',\n",
              " 'I-protein',\n",
              " 'O',\n",
              " 'B-cell_type',\n",
              " 'O',\n",
              " 'O',\n",
              " 'O',\n",
              " 'O',\n",
              " 'O',\n",
              " 'O',\n",
              " 'O']"
            ]
          },
          "metadata": {
            "tags": []
          },
          "execution_count": 83
        }
      ]
    },
    {
      "cell_type": "code",
      "metadata": {
        "colab": {
          "base_uri": "https://localhost:8080/"
        },
        "id": "5hjaxMihjyov",
        "outputId": "772a4764-0d30-48ac-e370-ad20e33ea016"
      },
      "source": [
        "y_true[0]"
      ],
      "execution_count": null,
      "outputs": [
        {
          "output_type": "execute_result",
          "data": {
            "text/plain": [
              "['O',\n",
              " 'O',\n",
              " 'B-protein',\n",
              " 'I-protein',\n",
              " 'O',\n",
              " 'B-cell_type',\n",
              " 'O',\n",
              " 'O',\n",
              " 'O',\n",
              " 'O',\n",
              " 'O',\n",
              " 'O',\n",
              " 'O']"
            ]
          },
          "metadata": {
            "tags": []
          },
          "execution_count": 84
        }
      ]
    },
    {
      "cell_type": "code",
      "metadata": {
        "id": "N0BDrXZeD0pr",
        "colab": {
          "base_uri": "https://localhost:8080/"
        },
        "outputId": "4957997b-76bb-407e-acaa-5b8d555dd382"
      },
      "source": [
        "original_test_sentence[0]"
      ],
      "execution_count": null,
      "outputs": [
        {
          "output_type": "execute_result",
          "data": {
            "text/plain": [
              "['Number',\n",
              " 'of',\n",
              " 'glucocorticoid',\n",
              " 'receptors',\n",
              " 'in',\n",
              " 'lymphocytes',\n",
              " 'and',\n",
              " 'their',\n",
              " 'sensitivity',\n",
              " 'to',\n",
              " 'hormone',\n",
              " 'action',\n",
              " '.']"
            ]
          },
          "metadata": {
            "tags": []
          },
          "execution_count": 85
        }
      ]
    },
    {
      "cell_type": "markdown",
      "metadata": {
        "id": "K0CkS5yrShET"
      },
      "source": [
        "# EVAL ON TEST SET"
      ]
    },
    {
      "cell_type": "code",
      "metadata": {
        "id": "hHw9oxEuSkHT",
        "colab": {
          "base_uri": "https://localhost:8080/"
        },
        "outputId": "596dba06-02b7-44b7-9b4c-7156ac1ac29a"
      },
      "source": [
        "print('\\033[1m' + \"Classification report for BERT: \")\n",
        "print('\\033[0m')\n",
        "print(classification_report(y_true, y_hat))"
      ],
      "execution_count": null,
      "outputs": [
        {
          "output_type": "stream",
          "text": [
            "\u001b[1mClassification report for BERT: \n",
            "\u001b[0m\n",
            "              precision    recall  f1-score   support\n",
            "\n",
            "         DNA       0.66      0.74      0.70       972\n",
            "         RNA       0.63      0.73      0.68       106\n",
            "   cell_line       0.51      0.70      0.59       429\n",
            "   cell_type       0.72      0.69      0.71      1734\n",
            "     protein       0.66      0.81      0.73      4665\n",
            "\n",
            "   micro avg       0.66      0.77      0.71      7906\n",
            "   macro avg       0.63      0.74      0.68      7906\n",
            "weighted avg       0.66      0.77      0.71      7906\n",
            "\n"
          ],
          "name": "stdout"
        }
      ]
    },
    {
      "cell_type": "code",
      "metadata": {
        "colab": {
          "base_uri": "https://localhost:8080/"
        },
        "id": "zTo7LuKwSiiz",
        "outputId": "14de04b4-7002-4983-fd17-213bed992701"
      },
      "source": [
        "print(\"F1-score(relaxed): {:0.3}\".format(f1_score(y_true, y_hat, average = \"weighted\")))"
      ],
      "execution_count": null,
      "outputs": [
        {
          "output_type": "stream",
          "text": [
            "F1-score(relaxed): 0.712\n"
          ],
          "name": "stdout"
        }
      ]
    },
    {
      "cell_type": "code",
      "metadata": {
        "colab": {
          "base_uri": "https://localhost:8080/"
        },
        "id": "5qoRJf9UAVTM",
        "outputId": "9bd8b155-3e91-493e-e99b-be407855d2dc"
      },
      "source": [
        "from seqeval.scheme import IOB2\n",
        "print('\\033[1m' + \"Classification report for BERT: \")\n",
        "print('\\033[0m')\n",
        "print(classification_report(y_true, y_hat,scheme=IOB2, mode=\"strict\"))"
      ],
      "execution_count": null,
      "outputs": [
        {
          "output_type": "stream",
          "text": [
            "\u001b[1mClassification report for BERT: \n",
            "\u001b[0m\n",
            "              precision    recall  f1-score   support\n",
            "\n",
            "         DNA       0.70      0.74      0.72       972\n",
            "         RNA       0.69      0.73      0.71       106\n",
            "   cell_line       0.55      0.70      0.61       429\n",
            "   cell_type       0.75      0.69      0.72      1734\n",
            "     protein       0.67      0.81      0.74      4665\n",
            "\n",
            "   micro avg       0.68      0.77      0.72      7906\n",
            "   macro avg       0.67      0.73      0.70      7906\n",
            "weighted avg       0.69      0.77      0.72      7906\n",
            "\n"
          ],
          "name": "stdout"
        }
      ]
    },
    {
      "cell_type": "code",
      "metadata": {
        "colab": {
          "base_uri": "https://localhost:8080/"
        },
        "id": "j-s-sA71Smua",
        "outputId": "93660d62-18d9-4951-9f68-83238d436f69"
      },
      "source": [
        "from seqeval.scheme import IOB2\n",
        "print(\"F1-score: {:0.3}\".format(f1_score(y_true, y_hat, average = \"weighted\", scheme=IOB2, mode=\"strict\")))"
      ],
      "execution_count": null,
      "outputs": [
        {
          "output_type": "stream",
          "text": [
            "F1-score: 0.723\n"
          ],
          "name": "stdout"
        }
      ]
    },
    {
      "cell_type": "markdown",
      "metadata": {
        "id": "7H0frkj1REQ7"
      },
      "source": [
        "# COMPARE RESULTS"
      ]
    },
    {
      "cell_type": "code",
      "metadata": {
        "id": "nPxGnE_4RGoY",
        "colab": {
          "base_uri": "https://localhost:8080/"
        },
        "outputId": "0eae0847-7ff3-4144-abad-1d2cc4434867"
      },
      "source": [
        "i = 18\n",
        "print(\"{:15} {:5}: ({})\".format(\"Word\", \"True\", \"Pred\"))\n",
        "print(\"=\"*45)\n",
        "for w, true, pred in zip(original_test_sentence[i], y_true[i], y_hat[i]):\n",
        "  print(\"{:15}:{:15} ({})\".format(w, true, pred))"
      ],
      "execution_count": null,
      "outputs": [
        {
          "output_type": "stream",
          "text": [
            "Word            True : (Pred)\n",
            "=============================================\n",
            "However        :O               (O)\n",
            ",              :O               (O)\n",
            "there          :O               (O)\n",
            "was            :O               (O)\n",
            "a              :O               (O)\n",
            "significantly  :O               (O)\n",
            "positive       :O               (O)\n",
            "association    :O               (O)\n",
            "between        :O               (O)\n",
            "tumor          :B-protein       (B-protein)\n",
            "beta           :I-protein       (I-protein)\n",
            "2-M            :I-protein       (I-protein)\n",
            "expression     :O               (O)\n",
            "and            :O               (O)\n",
            "the            :O               (O)\n",
            "degree         :O               (O)\n",
            "of             :O               (O)\n",
            "lymphocytic    :O               (O)\n",
            "infiltration   :O               (O)\n",
            "in             :O               (O)\n",
            "the            :O               (O)\n",
            "tumor          :O               (O)\n",
            "tissue         :O               (O)\n",
            ".              :O               (O)\n"
          ],
          "name": "stdout"
        }
      ]
    },
    {
      "cell_type": "markdown",
      "metadata": {
        "id": "ue52s6NCjefZ"
      },
      "source": [
        "#  LR OPTIMIZATION"
      ]
    },
    {
      "cell_type": "code",
      "metadata": {
        "id": "G_tQs2WLkMiC"
      },
      "source": [
        "%%capture\n",
        "!pip install torch-lr-finder"
      ],
      "execution_count": null,
      "outputs": []
    },
    {
      "cell_type": "code",
      "metadata": {
        "id": "v8ECLkN-jii2"
      },
      "source": [
        "from torch_lr_finder import LRFinder"
      ],
      "execution_count": null,
      "outputs": []
    },
    {
      "cell_type": "code",
      "metadata": {
        "colab": {
          "base_uri": "https://localhost:8080/",
          "height": 53
        },
        "id": "7mos_MbxnXbu",
        "outputId": "6ed26141-5c1a-46bb-91ae-b8e797dc929c"
      },
      "source": [
        "\"\"\"train_data = TensorDataset(tr_inputs, tr_tags)\n",
        "train_dataloader = DataLoader(train_data, batch_size=bs)\"\"\""
      ],
      "execution_count": null,
      "outputs": [
        {
          "output_type": "execute_result",
          "data": {
            "application/vnd.google.colaboratory.intrinsic+json": {
              "type": "string"
            },
            "text/plain": [
              "'train_data = TensorDataset(tr_inputs, tr_tags)\\ntrain_dataloader = DataLoader(train_data, batch_size=bs)'"
            ]
          },
          "metadata": {
            "tags": []
          },
          "execution_count": 93
        }
      ]
    },
    {
      "cell_type": "code",
      "metadata": {
        "colab": {
          "base_uri": "https://localhost:8080/"
        },
        "id": "p0e_37uk_9vQ",
        "outputId": "9e7b8da1-3e8f-4840-f4d5-6a0269ad8b2f"
      },
      "source": [
        "model.parameters()"
      ],
      "execution_count": null,
      "outputs": [
        {
          "output_type": "execute_result",
          "data": {
            "text/plain": [
              "<generator object Module.parameters at 0x7f3efa59d2d0>"
            ]
          },
          "metadata": {
            "tags": []
          },
          "execution_count": 94
        }
      ]
    },
    {
      "cell_type": "code",
      "metadata": {
        "colab": {
          "base_uri": "https://localhost:8080/"
        },
        "id": "7Ghoo8YiA0BH",
        "outputId": "1d33b12d-fe29-4a0d-a4cf-3497213626b8"
      },
      "source": [
        "train_dataloader"
      ],
      "execution_count": null,
      "outputs": [
        {
          "output_type": "execute_result",
          "data": {
            "text/plain": [
              "<torch.utils.data.dataloader.DataLoader at 0x7f3effc69910>"
            ]
          },
          "metadata": {
            "tags": []
          },
          "execution_count": 95
        }
      ]
    },
    {
      "cell_type": "code",
      "metadata": {
        "id": "J7nDTmhQBdQR"
      },
      "source": [
        "import torch.nn as nn\n",
        "class LossWrapper(nn.Module):\n",
        "    def __init__(self, loss_fn):\n",
        "        super().__init__()\n",
        "        self.loss_fn = loss_fn\n",
        "\n",
        "    def forward(self, outputs, labels):\n",
        "        logits = outputs[1]  # logits only\n",
        "        return self.loss_fn(logits, labels.view(-1))"
      ],
      "execution_count": null,
      "outputs": []
    },
    {
      "cell_type": "code",
      "metadata": {
        "colab": {
          "base_uri": "https://localhost:8080/",
          "height": 157
        },
        "id": "8Q5ys2cdkpmT",
        "outputId": "d26cd813-9e9c-4c76-edbb-64926f032334"
      },
      "source": [
        "\"\"\"# Then, just replace the original criterion with this wrapper\n",
        "#criterion = nn.CrossEntropyLoss()\n",
        "#optimizer = optim.Adam(model.parameters(), lr=1e-7, weight_decay=1e-2)\n",
        "optimizer2 = torch.optim.Adam(model.parameters(), lr=1e-7, weight_decay=1e-2)\n",
        "criterion = LossWrapper(nn.CrossEntropyLoss())\n",
        "lr_finder = LRFinder(model, optimizer2, criterion, device=\"cpu\")\n",
        "lr_finder.range_test(train_dataloader, end_lr=100, num_iter=100)\n",
        "lr_finder.plot() # to inspect the loss-learning rate graph\n",
        "lr_finder.reset() # to reset the model and optimizer to their initial state\"\"\""
      ],
      "execution_count": null,
      "outputs": [
        {
          "output_type": "execute_result",
          "data": {
            "application/vnd.google.colaboratory.intrinsic+json": {
              "type": "string"
            },
            "text/plain": [
              "'# Then, just replace the original criterion with this wrapper\\n#criterion = nn.CrossEntropyLoss()\\n#optimizer = optim.Adam(model.parameters(), lr=1e-7, weight_decay=1e-2)\\noptimizer2 = torch.optim.Adam(model.parameters(), lr=1e-7, weight_decay=1e-2)\\ncriterion = LossWrapper(nn.CrossEntropyLoss())\\nlr_finder = LRFinder(model, optimizer2, criterion, device=\"cpu\")\\nlr_finder.range_test(train_dataloader, end_lr=100, num_iter=100)\\nlr_finder.plot() # to inspect the loss-learning rate graph\\nlr_finder.reset() # to reset the model and optimizer to their initial state'"
            ]
          },
          "metadata": {
            "tags": []
          },
          "execution_count": 97
        }
      ]
    },
    {
      "cell_type": "markdown",
      "metadata": {
        "id": "b-J-2u7HStaY"
      },
      "source": [
        "# REPORT2"
      ]
    },
    {
      "cell_type": "code",
      "metadata": {
        "id": "aqOnrrK4rrOA",
        "colab": {
          "base_uri": "https://localhost:8080/"
        },
        "outputId": "103ccffb-1ff7-4361-a79a-299123d4e531"
      },
      "source": [
        "print('\\033[1m' + \"Classification report for #2 model with LR optimization: \")\n",
        "print('\\033[0m')\n",
        "print(classification_report(y_true, y_hat))"
      ],
      "execution_count": null,
      "outputs": [
        {
          "output_type": "stream",
          "text": [
            "\u001b[1mClassification report for #2 model with LR optimization: \n",
            "\u001b[0m\n",
            "              precision    recall  f1-score   support\n",
            "\n",
            "         DNA       0.66      0.74      0.70       972\n",
            "         RNA       0.63      0.73      0.68       106\n",
            "   cell_line       0.51      0.70      0.59       429\n",
            "   cell_type       0.72      0.69      0.71      1734\n",
            "     protein       0.66      0.81      0.73      4665\n",
            "\n",
            "   micro avg       0.66      0.77      0.71      7906\n",
            "   macro avg       0.63      0.74      0.68      7906\n",
            "weighted avg       0.66      0.77      0.71      7906\n",
            "\n"
          ],
          "name": "stdout"
        }
      ]
    },
    {
      "cell_type": "code",
      "metadata": {
        "id": "YOKLi9dASwqC",
        "colab": {
          "base_uri": "https://localhost:8080/"
        },
        "outputId": "82bcaaff-be3e-4c01-e9eb-feae4f31420f"
      },
      "source": [
        "print(\"F1-score(relaxed): {:0.3}\".format(f1_score(y_true, y_hat, average = \"weighted\")))"
      ],
      "execution_count": null,
      "outputs": [
        {
          "output_type": "stream",
          "text": [
            "F1-score(relaxed): 0.712\n"
          ],
          "name": "stdout"
        }
      ]
    },
    {
      "cell_type": "code",
      "metadata": {
        "colab": {
          "base_uri": "https://localhost:8080/"
        },
        "id": "On1EHTUdIxVp",
        "outputId": "0c63e51c-15e6-4ff6-bd86-a712986dfe7a"
      },
      "source": [
        "print('\\033[1m' + \"Classification report for #1 model without LR optimization (exact match): \")\n",
        "print('\\033[0m')\n",
        "print(classification_report(y_true, y_hat, scheme=IOB2, mode=\"strict\"))"
      ],
      "execution_count": null,
      "outputs": [
        {
          "output_type": "stream",
          "text": [
            "\u001b[1mClassification report for #1 model without LR optimization (exact match): \n",
            "\u001b[0m\n",
            "              precision    recall  f1-score   support\n",
            "\n",
            "         DNA       0.70      0.74      0.72       972\n",
            "         RNA       0.69      0.73      0.71       106\n",
            "   cell_line       0.55      0.70      0.61       429\n",
            "   cell_type       0.75      0.69      0.72      1734\n",
            "     protein       0.67      0.81      0.74      4665\n",
            "\n",
            "   micro avg       0.68      0.77      0.72      7906\n",
            "   macro avg       0.67      0.73      0.70      7906\n",
            "weighted avg       0.69      0.77      0.72      7906\n",
            "\n"
          ],
          "name": "stdout"
        }
      ]
    },
    {
      "cell_type": "code",
      "metadata": {
        "id": "L3EMnps_S0r1",
        "colab": {
          "base_uri": "https://localhost:8080/"
        },
        "outputId": "d6527407-e2f4-4010-92fb-23b221f99d70"
      },
      "source": [
        "print(\"F1-score: {:0.3}\".format(f1_score(y_true, y_hat, average = \"weighted\", scheme=IOB2, mode=\"strict\")))"
      ],
      "execution_count": null,
      "outputs": [
        {
          "output_type": "stream",
          "text": [
            "F1-score: 0.723\n"
          ],
          "name": "stdout"
        }
      ]
    },
    {
      "cell_type": "code",
      "metadata": {
        "id": "knra4M2_sCir",
        "colab": {
          "base_uri": "https://localhost:8080/"
        },
        "outputId": "081f0f59-5f8d-43a9-9a01-76f44156f502"
      },
      "source": [
        "import sys\n",
        "\n",
        "print('Saving classification report on file...')\n",
        "\n",
        "original_stdout = sys.stdout \n",
        "\n",
        "with open('/content/drive/MyDrive/output.txt', 'a') as f:\n",
        "  sys.stdout = f # Change the standard output to the file we created.\n",
        "  print('\\033[1m' + \"Classification report BERT model for JNLPBA dataset: \")\n",
        "  print('\\033[0m')\n",
        "  print(classification_report(y_true, y_hat))\n",
        "  sys.stdout = original_stdout # Reset the standard output to its original value\n",
        "print(\"Done.\")"
      ],
      "execution_count": null,
      "outputs": [
        {
          "output_type": "stream",
          "text": [
            "Saving classification report on file...\n",
            "Done.\n"
          ],
          "name": "stdout"
        }
      ]
    }
  ]
}